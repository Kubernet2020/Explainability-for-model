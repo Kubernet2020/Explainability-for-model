{
  "nbformat": 4,
  "nbformat_minor": 0,
  "metadata": {
    "colab": {
      "name": "get_model_state().ipynb",
      "provenance": [],
      "collapsed_sections": []
    },
    "kernelspec": {
      "name": "python3",
      "display_name": "Python 3"
    }
  },
  "cells": [
    {
      "cell_type": "code",
      "metadata": {
        "id": "rU-vMIejlDzy",
        "outputId": "738472ed-48d4-4b3f-dd62-ae9ae8dd9738",
        "colab": {
          "base_uri": "https://localhost:8080/"
        }
      },
      "source": [
        "!pip install nbdt\n",
        "!pip install pretrainedmodels"
      ],
      "execution_count": null,
      "outputs": [
        {
          "output_type": "stream",
          "text": [
            "Collecting nbdt\n",
            "\u001b[?25l  Downloading https://files.pythonhosted.org/packages/d9/3a/75fb13e538bb75df5bb4802a7296311e88923eec0c1f76e9da5e2887f6b9/nbdt-0.0.4.tar.gz (119kB)\n",
            "\u001b[K     |████████████████████████████████| 122kB 2.8MB/s \n",
            "\u001b[?25hCollecting pytorchcv\n",
            "\u001b[?25l  Downloading https://files.pythonhosted.org/packages/93/be/0bcd80dfc0d64e75ceb67836385402fece3c3b964c349172a21358813b25/pytorchcv-0.0.58-py2.py3-none-any.whl (435kB)\n",
            "\u001b[K     |████████████████████████████████| 440kB 8.5MB/s \n",
            "\u001b[?25hRequirement already satisfied: torch in /usr/local/lib/python3.6/dist-packages (from nbdt) (1.7.0+cu101)\n",
            "Requirement already satisfied: torchvision in /usr/local/lib/python3.6/dist-packages (from nbdt) (0.8.1+cu101)\n",
            "Requirement already satisfied: nltk in /usr/local/lib/python3.6/dist-packages (from nbdt) (3.2.5)\n",
            "Requirement already satisfied: scikit-learn in /usr/local/lib/python3.6/dist-packages (from nbdt) (0.22.2.post1)\n",
            "Requirement already satisfied: networkx in /usr/local/lib/python3.6/dist-packages (from nbdt) (2.5)\n",
            "Requirement already satisfied: numpy in /usr/local/lib/python3.6/dist-packages (from pytorchcv->nbdt) (1.18.5)\n",
            "Requirement already satisfied: requests in /usr/local/lib/python3.6/dist-packages (from pytorchcv->nbdt) (2.23.0)\n",
            "Requirement already satisfied: future in /usr/local/lib/python3.6/dist-packages (from torch->nbdt) (0.16.0)\n",
            "Requirement already satisfied: typing-extensions in /usr/local/lib/python3.6/dist-packages (from torch->nbdt) (3.7.4.3)\n",
            "Requirement already satisfied: dataclasses in /usr/local/lib/python3.6/dist-packages (from torch->nbdt) (0.7)\n",
            "Requirement already satisfied: pillow>=4.1.1 in /usr/local/lib/python3.6/dist-packages (from torchvision->nbdt) (7.0.0)\n",
            "Requirement already satisfied: six in /usr/local/lib/python3.6/dist-packages (from nltk->nbdt) (1.15.0)\n",
            "Requirement already satisfied: joblib>=0.11 in /usr/local/lib/python3.6/dist-packages (from scikit-learn->nbdt) (0.17.0)\n",
            "Requirement already satisfied: scipy>=0.17.0 in /usr/local/lib/python3.6/dist-packages (from scikit-learn->nbdt) (1.4.1)\n",
            "Requirement already satisfied: decorator>=4.3.0 in /usr/local/lib/python3.6/dist-packages (from networkx->nbdt) (4.4.2)\n",
            "Requirement already satisfied: urllib3!=1.25.0,!=1.25.1,<1.26,>=1.21.1 in /usr/local/lib/python3.6/dist-packages (from requests->pytorchcv->nbdt) (1.24.3)\n",
            "Requirement already satisfied: idna<3,>=2.5 in /usr/local/lib/python3.6/dist-packages (from requests->pytorchcv->nbdt) (2.10)\n",
            "Requirement already satisfied: certifi>=2017.4.17 in /usr/local/lib/python3.6/dist-packages (from requests->pytorchcv->nbdt) (2020.6.20)\n",
            "Requirement already satisfied: chardet<4,>=3.0.2 in /usr/local/lib/python3.6/dist-packages (from requests->pytorchcv->nbdt) (3.0.4)\n",
            "Building wheels for collected packages: nbdt\n",
            "  Building wheel for nbdt (setup.py) ... \u001b[?25l\u001b[?25hdone\n",
            "  Created wheel for nbdt: filename=nbdt-0.0.4-cp36-none-any.whl size=132323 sha256=d6ca93e530ac3299dd99d0cae7e245ea3a0309514ea1ca7ee3f420403802ee9a\n",
            "  Stored in directory: /root/.cache/pip/wheels/24/42/99/f41adfed4f1250366d8add49449d06ca7583043684e3a3f4bd\n",
            "Successfully built nbdt\n",
            "Installing collected packages: pytorchcv, nbdt\n",
            "Successfully installed nbdt-0.0.4 pytorchcv-0.0.58\n",
            "Collecting pretrainedmodels\n",
            "\u001b[?25l  Downloading https://files.pythonhosted.org/packages/84/0e/be6a0e58447ac16c938799d49bfb5fb7a80ac35e137547fc6cee2c08c4cf/pretrainedmodels-0.7.4.tar.gz (58kB)\n",
            "\u001b[K     |████████████████████████████████| 61kB 1.8MB/s \n",
            "\u001b[?25hRequirement already satisfied: torch in /usr/local/lib/python3.6/dist-packages (from pretrainedmodels) (1.7.0+cu101)\n",
            "Requirement already satisfied: torchvision in /usr/local/lib/python3.6/dist-packages (from pretrainedmodels) (0.8.1+cu101)\n",
            "Collecting munch\n",
            "  Downloading https://files.pythonhosted.org/packages/cc/ab/85d8da5c9a45e072301beb37ad7f833cd344e04c817d97e0cc75681d248f/munch-2.5.0-py2.py3-none-any.whl\n",
            "Requirement already satisfied: tqdm in /usr/local/lib/python3.6/dist-packages (from pretrainedmodels) (4.41.1)\n",
            "Requirement already satisfied: typing-extensions in /usr/local/lib/python3.6/dist-packages (from torch->pretrainedmodels) (3.7.4.3)\n",
            "Requirement already satisfied: dataclasses in /usr/local/lib/python3.6/dist-packages (from torch->pretrainedmodels) (0.7)\n",
            "Requirement already satisfied: future in /usr/local/lib/python3.6/dist-packages (from torch->pretrainedmodels) (0.16.0)\n",
            "Requirement already satisfied: numpy in /usr/local/lib/python3.6/dist-packages (from torch->pretrainedmodels) (1.18.5)\n",
            "Requirement already satisfied: pillow>=4.1.1 in /usr/local/lib/python3.6/dist-packages (from torchvision->pretrainedmodels) (7.0.0)\n",
            "Requirement already satisfied: six in /usr/local/lib/python3.6/dist-packages (from munch->pretrainedmodels) (1.15.0)\n",
            "Building wheels for collected packages: pretrainedmodels\n",
            "  Building wheel for pretrainedmodels (setup.py) ... \u001b[?25l\u001b[?25hdone\n",
            "  Created wheel for pretrainedmodels: filename=pretrainedmodels-0.7.4-cp36-none-any.whl size=60964 sha256=c243c80d23c7d54afe909705bd7ae9320622cfd8d45815758a1d2c01fac14241\n",
            "  Stored in directory: /root/.cache/pip/wheels/69/df/63/62583c096289713f22db605aa2334de5b591d59861a02c2ecd\n",
            "Successfully built pretrainedmodels\n",
            "Installing collected packages: munch, pretrainedmodels\n",
            "Successfully installed munch-2.5.0 pretrainedmodels-0.7.4\n"
          ],
          "name": "stdout"
        }
      ]
    },
    {
      "cell_type": "code",
      "metadata": {
        "id": "wDwAq65aIKfo"
      },
      "source": [
        "import torch.nn as nn\n",
        "from nbdt.model import SoftNBDT\n",
        "from nbdt.loss import SoftTreeSupLoss\n",
        "from nbdt.hierarchy import generate_hierarchy\n",
        "import pretrainedmodels\n",
        "#model = pretrainedmodels.__dict__['fbresnet152'](num_classes=1000, pretrained='imagenet')"
      ],
      "execution_count": null,
      "outputs": []
    },
    {
      "cell_type": "code",
      "metadata": {
        "id": "HmDDNj-0lAgl"
      },
      "source": [
        "# with open('./modelstate.txt', 'w') as fw:\n",
        "#   fw.write(str(model.state_dict()))"
      ],
      "execution_count": null,
      "outputs": []
    },
    {
      "cell_type": "code",
      "metadata": {
        "id": "Y6SxwefZn6kZ"
      },
      "source": [
        "from nbdt.models import wrn28_10_cifar10\n",
        "model1 = wrn28_10_cifar10(pretrained=True)\n",
        "with open('./modelstate1.txt', 'w') as fw:\n",
        "  fw.write(str(model1.state_dict()))"
      ],
      "execution_count": null,
      "outputs": []
    },
    {
      "cell_type": "code",
      "metadata": {
        "id": "LOll_ONrKNrf"
      },
      "source": [
        "from pytorchcv.models.wrn_cifar import wrn28_10_cifar10\n",
        "model1 = wrn28_10_cifar10()\n",
        "with open('./modelstate1.txt', 'w') as fw:\n",
        "  fw.write(str(model1.state_dict()))"
      ],
      "execution_count": null,
      "outputs": []
    },
    {
      "cell_type": "code",
      "metadata": {
        "id": "9TT_rJf5pRZP"
      },
      "source": [
        "fc = model1.state_dict()['output.weight'].squeeze()"
      ],
      "execution_count": null,
      "outputs": []
    },
    {
      "cell_type": "code",
      "metadata": {
        "id": "cGxTMNnXIpFH",
        "outputId": "1bc69279-0728-4f33-f5e0-036669741edc",
        "colab": {
          "base_uri": "https://localhost:8080/"
        }
      },
      "source": [
        "print(fc)"
      ],
      "execution_count": null,
      "outputs": [
        {
          "output_type": "stream",
          "text": [
            "tensor([[-4.5172e-06, -1.6231e-12, -8.9549e-07,  ..., -9.2804e-02,\n",
            "          1.4848e-04, -3.6705e-09],\n",
            "        [-3.3804e-06, -1.4153e-12, -3.8851e-07,  ...,  4.6094e-01,\n",
            "         -8.4855e-03, -1.8358e-09],\n",
            "        [-9.5666e-07, -1.2534e-11,  8.6697e-07,  ..., -1.8066e-01,\n",
            "          2.2463e-02,  1.4544e-08],\n",
            "        ...,\n",
            "        [ 2.9268e-05,  8.1077e-12,  3.4450e-08,  ..., -6.6081e-02,\n",
            "         -4.9023e-02, -1.4758e-09],\n",
            "        [-3.7178e-06,  1.3741e-10,  8.5237e-07,  ..., -6.5411e-02,\n",
            "         -5.9429e-03,  2.8330e-10],\n",
            "        [-6.1274e-06, -2.3807e-11,  6.3820e-07,  ..., -1.3238e-01,\n",
            "         -6.8461e-04,  1.6061e-09]])\n"
          ],
          "name": "stdout"
        }
      ]
    },
    {
      "cell_type": "code",
      "metadata": {
        "id": "Oe0WR66ftd_f"
      },
      "source": [
        "fc = fc.detach()"
      ],
      "execution_count": null,
      "outputs": []
    },
    {
      "cell_type": "code",
      "metadata": {
        "id": "E-zrhALoIfRt",
        "outputId": "30d4f40f-5659-4de3-e3dd-d6960cb69c3d",
        "colab": {
          "base_uri": "https://localhost:8080/"
        }
      },
      "source": [
        "print(fc)"
      ],
      "execution_count": null,
      "outputs": [
        {
          "output_type": "stream",
          "text": [
            "tensor([[-4.5172e-06, -1.6231e-12, -8.9549e-07,  ..., -9.2804e-02,\n",
            "          1.4848e-04, -3.6705e-09],\n",
            "        [-3.3804e-06, -1.4153e-12, -3.8851e-07,  ...,  4.6094e-01,\n",
            "         -8.4855e-03, -1.8358e-09],\n",
            "        [-9.5666e-07, -1.2534e-11,  8.6697e-07,  ..., -1.8066e-01,\n",
            "          2.2463e-02,  1.4544e-08],\n",
            "        ...,\n",
            "        [ 2.9268e-05,  8.1077e-12,  3.4450e-08,  ..., -6.6081e-02,\n",
            "         -4.9023e-02, -1.4758e-09],\n",
            "        [-3.7178e-06,  1.3741e-10,  8.5237e-07,  ..., -6.5411e-02,\n",
            "         -5.9429e-03,  2.8330e-10],\n",
            "        [-6.1274e-06, -2.3807e-11,  6.3820e-07,  ..., -1.3238e-01,\n",
            "         -6.8461e-04,  1.6061e-09]])\n"
          ],
          "name": "stdout"
        }
      ]
    },
    {
      "cell_type": "code",
      "metadata": {
        "id": "14PfXF3WuGrY"
      },
      "source": [
        "from sklearn.cluster import AgglomerativeClustering"
      ],
      "execution_count": null,
      "outputs": []
    },
    {
      "cell_type": "code",
      "metadata": {
        "id": "cWG_4txDF_-5"
      },
      "source": [
        "clustering = AgglomerativeClustering(\n",
        "        linkage='ward',\n",
        "        n_clusters=2,\n",
        "        affinity='euclidean',\n",
        "    ).fit(fc)"
      ],
      "execution_count": null,
      "outputs": []
    },
    {
      "cell_type": "code",
      "metadata": {
        "id": "dkVTVT96GhYc",
        "outputId": "48e4676a-2801-4a15-fde5-5ea40995c770",
        "colab": {
          "base_uri": "https://localhost:8080/"
        }
      },
      "source": [
        "clustering.children_"
      ],
      "execution_count": null,
      "outputs": [
        {
          "output_type": "execute_result",
          "data": {
            "text/plain": [
              "array([[ 3,  5],\n",
              "       [ 1,  9],\n",
              "       [ 0,  8],\n",
              "       [ 4,  7],\n",
              "       [ 2,  6],\n",
              "       [10, 14],\n",
              "       [13, 15],\n",
              "       [11, 12],\n",
              "       [16, 17]])"
            ]
          },
          "metadata": {
            "tags": []
          },
          "execution_count": 127
        }
      ]
    },
    {
      "cell_type": "code",
      "metadata": {
        "id": "Qrh_uYTIGi5-"
      },
      "source": [
        ""
      ],
      "execution_count": null,
      "outputs": []
    }
  ]
}