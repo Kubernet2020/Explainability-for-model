{
  "nbformat": 4,
  "nbformat_minor": 0,
  "metadata": {
    "colab": {
      "name": "cnn_model-balanced.ipynb",
      "provenance": []
    },
    "kernelspec": {
      "name": "python3",
      "display_name": "Python 3"
    }
  },
  "cells": [
    {
      "cell_type": "code",
      "metadata": {
        "id": "ymPfIBg_MVLz"
      },
      "source": [
        "import os\n",
        "from os.path import join\n",
        "import glob\n",
        "import pandas as pd\n",
        "import numpy as np\n",
        "import time\n",
        "import seaborn as sns\n",
        "import matplotlib.pyplot as plt\n",
        "%load_ext autoreload"
      ],
      "execution_count": 2,
      "outputs": []
    },
    {
      "cell_type": "code",
      "metadata": {
        "id": "D-VMXUywMZCI"
      },
      "source": [
        "def display_all(df):\n",
        "    with pd.option_context(\"display.max_rows\", 100, \"display.max_columns\", 100): \n",
        "        print(df)"
      ],
      "execution_count": 1,
      "outputs": []
    },
    {
      "cell_type": "code",
      "metadata": {
        "id": "0n3Sztq0MbwY"
      },
      "source": [
        "\n",
        "def make_value2index(attacks):\n",
        "    #make dictionary\n",
        "    attacks = sorted(attacks)\n",
        "    d = {}\n",
        "    counter=0\n",
        "    for attack in attacks:\n",
        "        d[attack] = counter\n",
        "        counter+=1\n",
        "    return d"
      ],
      "execution_count": 3,
      "outputs": []
    },
    {
      "cell_type": "code",
      "metadata": {
        "id": "tj3m5L03MdoR"
      },
      "source": [
        "\n",
        "# chganges label from string to integer/index\n",
        "def encode_label(Y_str):\n",
        "    labels_d = make_value2index(np.unique(Y_str))\n",
        "    Y = [labels_d[y_str] for y_str  in Y_str]\n",
        "    Y = np.array(Y)\n",
        "    return np.array(Y)"
      ],
      "execution_count": 4,
      "outputs": []
    },
    {
      "cell_type": "code",
      "metadata": {
        "colab": {
          "base_uri": "https://localhost:8080/"
        },
        "id": "BPNWeV2_MgKo",
        "outputId": "1f2c5550-703d-419f-b8b6-6acc3cb949f6"
      },
      "source": [
        "from google.colab import drive\n",
        "import os\n",
        "drive.mount('/content/drive')\n",
        "os.chdir(\"/content/drive/My Drive/Colab Notebooks/NetworkAnomalyDetectionML/\")"
      ],
      "execution_count": 5,
      "outputs": [
        {
          "output_type": "stream",
          "text": [
            "Mounted at /content/drive\n"
          ],
          "name": "stdout"
        }
      ]
    },
    {
      "cell_type": "code",
      "metadata": {
        "id": "uoNS2kbVMk2H"
      },
      "source": [
        "# All columns\n",
        "col_names = np.array(['Source Port', 'Destination Port',\n",
        "                      'Protocol', 'Flow Duration', 'Total Fwd Packets', 'Total Backward Packets', 'Total Length of Fwd Packets',\n",
        "                      'Total Length of Bwd Packets', 'Fwd Packet Length Max', 'Fwd Packet Length Min', 'Fwd Packet Length Mean',\n",
        "                      'Fwd Packet Length Std', 'Bwd Packet Length Max', 'Bwd Packet Length Min', 'Bwd Packet Length Mean', 'Bwd Packet Length Std',\n",
        "                      'Flow Bytes/s', 'Flow Packets/s', 'Flow IAT Mean', 'Flow IAT Std', 'Flow IAT Max', 'Flow IAT Min', 'Fwd IAT Total',\n",
        "                      'Fwd IAT Mean', 'Fwd IAT Std', 'Fwd IAT Max', 'Fwd IAT Min', 'Bwd IAT Total', 'Bwd IAT Mean', 'Bwd IAT Std', 'Bwd IAT Max',\n",
        "                      'Bwd IAT Min', 'Fwd PSH Flags', 'Fwd URG Flags', 'Fwd Header Length', 'Bwd Header Length',\n",
        "                      'Fwd Packets/s', 'Bwd Packets/s', 'Min Packet Length', 'Max Packet Length', 'Packet Length Mean', 'Packet Length Std',\n",
        "                      'Packet Length Variance', 'FIN Flag Count', 'SYN Flag Count', 'RST Flag Count', 'PSH Flag Count', 'ACK Flag Count',\n",
        "                      'URG Flag Count', 'CWE Flag Count', 'ECE Flag Count', 'Down/Up Ratio', 'Average Packet Size', 'Avg Fwd Segment Size',\n",
        "                      'Avg Bwd Segment Size','Subflow Fwd Packets', 'Subflow Fwd Bytes',\n",
        "                      'Subflow Bwd Packets', 'Subflow Bwd Bytes', 'Init_Win_bytes_forward', 'Init_Win_bytes_backward',\n",
        "                      'act_data_pkt_fwd', 'min_seg_size_forward', 'Active Mean', 'Active Std', 'Active Max', 'Active Min', 'Idle Mean',\n",
        "                      'Idle Std', 'Idle Max', 'Idle Min', 'Label'])"
      ],
      "execution_count": 6,
      "outputs": []
    },
    {
      "cell_type": "code",
      "metadata": {
        "colab": {
          "base_uri": "https://localhost:8080/"
        },
        "id": "zaMIGtTJMqQu",
        "outputId": "1aa776a0-993e-4c67-d2d3-2d0a226f8126"
      },
      "source": [
        "col_names.shape"
      ],
      "execution_count": 7,
      "outputs": [
        {
          "output_type": "execute_result",
          "data": {
            "text/plain": [
              "(72,)"
            ]
          },
          "metadata": {
            "tags": []
          },
          "execution_count": 7
        }
      ]
    },
    {
      "cell_type": "code",
      "metadata": {
        "id": "8Ac65Qv0Mq7a"
      },
      "source": [
        "df_train = pd.read_csv('./train_set.csv',names=col_names, skiprows=1)\n",
        "df_train = df_train.replace([-np.inf, np.inf], np.nan)\n",
        "df_train = df_train.dropna()"
      ],
      "execution_count": 19,
      "outputs": []
    },
    {
      "cell_type": "code",
      "metadata": {
        "colab": {
          "base_uri": "https://localhost:8080/"
        },
        "id": "W7sBBNKNMtyR",
        "outputId": "84c86c88-6ecd-4b3b-e2e8-dd78f42ee3e9"
      },
      "source": [
        "print(df_train.shape)"
      ],
      "execution_count": 20,
      "outputs": [
        {
          "output_type": "stream",
          "text": [
            "(556464, 72)\n"
          ],
          "name": "stdout"
        }
      ]
    },
    {
      "cell_type": "code",
      "metadata": {
        "colab": {
          "base_uri": "https://localhost:8080/"
        },
        "id": "WQlkHZS7Mwnw",
        "outputId": "fdef7cdb-ed97-4c10-f099-fa86a42ee85f"
      },
      "source": [
        "df_train['Label'].value_counts()"
      ],
      "execution_count": 21,
      "outputs": [
        {
          "output_type": "execute_result",
          "data": {
            "text/plain": [
              "BENIGN                        278186\n",
              "DoS Hulk                      115062\n",
              "PortScan                       79403\n",
              "DDoS                           64013\n",
              "DoS GoldenEye                   5146\n",
              "FTP-Patator                     3968\n",
              "SSH-Patator                     2948\n",
              "DoS slowloris                   2898\n",
              "DoS Slowhttptest                2749\n",
              "Bot                              979\n",
              "Web Attack  Brute Force         753\n",
              "Web Attack  XSS                 326\n",
              "Infiltration                      18\n",
              "Web Attack  Sql Injection        10\n",
              "Heartbleed                         5\n",
              "Name: Label, dtype: int64"
            ]
          },
          "metadata": {
            "tags": []
          },
          "execution_count": 21
        }
      ]
    },
    {
      "cell_type": "code",
      "metadata": {
        "colab": {
          "base_uri": "https://localhost:8080/"
        },
        "id": "kB0-06uQMz3j",
        "outputId": "0b7ee3d7-2b20-497c-ee88-5e1f1b2aaa9d"
      },
      "source": [
        "df_test = pd.read_csv('./test_set.csv',names=col_names, skiprows=1)  \n",
        "print('Test set size: ', df_test.shape)\n",
        "df_test = df_test.replace([-np.inf, np.inf], np.nan)\n",
        "df_test= df_test.dropna()\n",
        "\n",
        "df_val = pd.read_csv('./crossval_set.csv',names=col_names, skiprows=1)  \n",
        "df_val = df_val.replace([-np.inf, np.inf], np.nan)\n",
        "df_val = df_val.dropna()\n",
        "print('Validation set size: ', df_val.shape)"
      ],
      "execution_count": 22,
      "outputs": [
        {
          "output_type": "stream",
          "text": [
            "Test set size:  (278338, 72)\n",
            "Validation set size:  (278208, 72)\n"
          ],
          "name": "stdout"
        }
      ]
    },
    {
      "cell_type": "code",
      "metadata": {
        "id": "QxXs6M4AM6JG"
      },
      "source": [
        "df_label = df_train['Label']\n",
        "data = df_train.drop(columns=['Label'])\n",
        "X_train = data.values\n",
        "y_train = encode_label(df_label.values)"
      ],
      "execution_count": 23,
      "outputs": []
    },
    {
      "cell_type": "code",
      "metadata": {
        "id": "gnuyimyAM7b1"
      },
      "source": [
        "from sklearn.preprocessing import MinMaxScaler"
      ],
      "execution_count": 24,
      "outputs": []
    },
    {
      "cell_type": "code",
      "metadata": {
        "colab": {
          "base_uri": "https://localhost:8080/"
        },
        "id": "H5WShTgrM8nD",
        "outputId": "23e4f04b-e94e-4f7a-859c-54693539fd8a"
      },
      "source": [
        "scaler = MinMaxScaler()\n",
        "X_train = scaler.fit_transform(X_train)\n",
        "X_train"
      ],
      "execution_count": 25,
      "outputs": [
        {
          "output_type": "execute_result",
          "data": {
            "text/plain": [
              "array([[0.        , 0.01218679, 0.02201756, ..., 0.        , 0.6925    ,\n",
              "        0.6925    ],\n",
              "       [0.00261666, 0.00100996, 0.        , ..., 0.        , 0.        ,\n",
              "        0.        ],\n",
              "       [0.        , 0.        , 0.        , ..., 0.        , 0.        ,\n",
              "        0.        ],\n",
              "       ...,\n",
              "       [0.        , 0.00925792, 0.01911093, ..., 0.        , 0.82      ,\n",
              "        0.82      ],\n",
              "       [0.00261666, 0.00100996, 0.        , ..., 0.        , 0.        ,\n",
              "        0.        ],\n",
              "       [0.        , 0.00260905, 0.0031095 , ..., 0.        , 0.        ,\n",
              "        0.        ]])"
            ]
          },
          "metadata": {
            "tags": []
          },
          "execution_count": 25
        }
      ]
    },
    {
      "cell_type": "code",
      "metadata": {
        "id": "-bdZyn3VOhpx"
      },
      "source": [
        "df_label = df_test['Label']\n",
        "data = df_test.drop(columns=['Label'])\n",
        "X_test = data.values\n",
        "y_test = encode_label(df_label.values)"
      ],
      "execution_count": 26,
      "outputs": []
    },
    {
      "cell_type": "code",
      "metadata": {
        "colab": {
          "base_uri": "https://localhost:8080/"
        },
        "id": "3TiRsoITOjpa",
        "outputId": "3df61265-8eb5-4db1-dce6-d382f2ebab71"
      },
      "source": [
        "\n",
        "scaler = MinMaxScaler()\n",
        "X_test = scaler.fit_transform(X_test)\n",
        "X_test"
      ],
      "execution_count": 27,
      "outputs": [
        {
          "output_type": "execute_result",
          "data": {
            "text/plain": [
              "array([[0.00000000e+00, 0.00000000e+00, 0.00000000e+00, ...,\n",
              "        0.00000000e+00, 0.00000000e+00, 0.00000000e+00],\n",
              "       [0.00000000e+00, 2.97173782e-02, 3.33556525e-02, ...,\n",
              "        0.00000000e+00, 1.33333333e-01, 1.33333333e-01],\n",
              "       [2.32445521e-02, 8.08177992e-03, 0.00000000e+00, ...,\n",
              "        0.00000000e+00, 5.57552225e-01, 5.57552225e-01],\n",
              "       ...,\n",
              "       [9.68523002e-04, 3.36740830e-04, 0.00000000e+00, ...,\n",
              "        0.00000000e+00, 0.00000000e+00, 0.00000000e+00],\n",
              "       [0.00000000e+00, 9.65323712e-03, 2.27123352e-02, ...,\n",
              "        0.00000000e+00, 6.90833333e-01, 6.90833333e-01],\n",
              "       [0.00000000e+00, 0.00000000e+00, 0.00000000e+00, ...,\n",
              "        0.00000000e+00, 0.00000000e+00, 0.00000000e+00]])"
            ]
          },
          "metadata": {
            "tags": []
          },
          "execution_count": 27
        }
      ]
    },
    {
      "cell_type": "code",
      "metadata": {
        "id": "Gk7xQVBqOmkS"
      },
      "source": [
        "df_label = df_val['Label']\n",
        "data = df_val.drop(columns=['Label'])\n",
        "X_val = data.values\n",
        "y_val = encode_label(df_label.values)"
      ],
      "execution_count": 28,
      "outputs": []
    },
    {
      "cell_type": "code",
      "metadata": {
        "colab": {
          "base_uri": "https://localhost:8080/"
        },
        "id": "8Ht5Al8KOof1",
        "outputId": "0975a549-aa20-4da8-8445-7bf5267238f7"
      },
      "source": [
        "scaler = MinMaxScaler()\n",
        "X_val = scaler.fit_transform(X_val)\n",
        "X_val"
      ],
      "execution_count": 29,
      "outputs": [
        {
          "output_type": "execute_result",
          "data": {
            "text/plain": [
              "array([[0.0188862 , 0.00761064, 0.        , ..., 0.        , 0.        ,\n",
              "        0.        ],\n",
              "       [0.00290557, 0.00117087, 0.        , ..., 0.        , 0.06068153,\n",
              "        0.06068153],\n",
              "       [0.02324455, 0.00936694, 0.        , ..., 0.        , 0.57472972,\n",
              "        0.57472972],\n",
              "       ...,\n",
              "       [0.02663438, 0.01073295, 0.        , ..., 0.        , 0.        ,\n",
              "        0.        ],\n",
              "       [0.00290557, 0.00117087, 0.        , ..., 0.        , 0.        ,\n",
              "        0.        ],\n",
              "       [0.01694915, 0.00683006, 0.        , ..., 0.        , 0.        ,\n",
              "        0.        ]])"
            ]
          },
          "metadata": {
            "tags": []
          },
          "execution_count": 29
        }
      ]
    },
    {
      "cell_type": "code",
      "metadata": {
        "id": "APdnAtXVOq36"
      },
      "source": [
        "from tensorflow.keras.utils import to_categorical"
      ],
      "execution_count": 30,
      "outputs": []
    },
    {
      "cell_type": "code",
      "metadata": {
        "id": "BQEZvleNOs2l"
      },
      "source": [
        "y_train = to_categorical(y_train, 15)\n",
        "y_test = to_categorical(y_test, 15)\n",
        "y_val = to_categorical(y_val, 15)"
      ],
      "execution_count": 31,
      "outputs": []
    },
    {
      "cell_type": "code",
      "metadata": {
        "id": "BNapHjjBOunn"
      },
      "source": [
        "import tensorflow as tf\n",
        "from tensorflow.keras.models import Sequential\n",
        "from tensorflow.keras.layers import Conv1D, BatchNormalization, Flatten, Dense, Activation,Dropout\n",
        "from tensorflow.keras.constraints import max_norm"
      ],
      "execution_count": 32,
      "outputs": []
    },
    {
      "cell_type": "code",
      "metadata": {
        "colab": {
          "base_uri": "https://localhost:8080/"
        },
        "id": "LXDUhypfOwH-",
        "outputId": "814546b6-a105-4c57-baa4-864a1c7c5f05"
      },
      "source": [
        "#hyper-params\n",
        "batch_size = 1024 # increasing batch size with more gpu added\n",
        "input_dim = X_train.shape[1]\n",
        "num_class = 15                   # 15 intrusion classes, including benign traffic class\n",
        "num_epochs = 30\n",
        "learning_rates = 1e-3\n",
        "regularizations = 1e-3\n",
        "optim = tf.keras.optimizers.Adam(lr=learning_rates, beta_1=0.9, beta_2=0.999, epsilon=1e-8)\n",
        "\n",
        "print(input_dim)\n",
        "print(num_class)"
      ],
      "execution_count": 33,
      "outputs": [
        {
          "output_type": "stream",
          "text": [
            "71\n",
            "15\n"
          ],
          "name": "stdout"
        }
      ]
    },
    {
      "cell_type": "code",
      "metadata": {
        "colab": {
          "base_uri": "https://localhost:8080/"
        },
        "id": "o8r9pZyWOyVb",
        "outputId": "1e4781cf-6c43-4d69-db2b-12e88f490098"
      },
      "source": [
        "X_train_r = np.zeros((len(X_train), input_dim, 1))\n",
        "X_train_r[:, :, 0] = X_train[:, :input_dim]\n",
        "print(X_train_r.shape)"
      ],
      "execution_count": 34,
      "outputs": [
        {
          "output_type": "stream",
          "text": [
            "(556464, 71, 1)\n"
          ],
          "name": "stdout"
        }
      ]
    },
    {
      "cell_type": "code",
      "metadata": {
        "colab": {
          "base_uri": "https://localhost:8080/"
        },
        "id": "viafi8iXO02K",
        "outputId": "ac65c446-cfb7-4592-d30f-2d86975aae03"
      },
      "source": [
        "X_test_r = np.zeros((len(X_test), input_dim, 1))\n",
        "X_test_r[:, :, 0] = X_test[:, :input_dim]\n",
        "print(X_test_r.shape)"
      ],
      "execution_count": 35,
      "outputs": [
        {
          "output_type": "stream",
          "text": [
            "(278192, 71, 1)\n"
          ],
          "name": "stdout"
        }
      ]
    },
    {
      "cell_type": "code",
      "metadata": {
        "colab": {
          "base_uri": "https://localhost:8080/"
        },
        "id": "4IQB8uziO1Vj",
        "outputId": "f188fbad-1ec8-4d0c-9204-eb9c72a08048"
      },
      "source": [
        "X_val_r = np.zeros((len(X_val), input_dim, 1))\n",
        "X_val_r[:, :, 0] = X_val[:, :input_dim]\n",
        "print(X_val_r.shape)"
      ],
      "execution_count": 36,
      "outputs": [
        {
          "output_type": "stream",
          "text": [
            "(278208, 71, 1)\n"
          ],
          "name": "stdout"
        }
      ]
    },
    {
      "cell_type": "code",
      "metadata": {
        "colab": {
          "base_uri": "https://localhost:8080/"
        },
        "id": "17_v8WK-O5ld",
        "outputId": "b944934c-4dd8-4f4e-8923-106a12f8d0ae"
      },
      "source": [
        "model = Sequential()\n",
        "\n",
        "# input layer\n",
        "model.add(Conv1D(filters=64, kernel_size=3, padding='same', input_shape=(71,1)))\n",
        "model.add(BatchNormalization(axis=1))\n",
        "model.add(Activation('relu'))\n",
        "\n",
        "\n",
        "model.add(Conv1D(filters=128, kernel_size=3))\n",
        "model.add(BatchNormalization(axis=1))\n",
        "model.add(Activation('relu'))\n",
        "\n",
        "model.add(Flatten())\n",
        "#model.add(Dense(100, activation='relu'))\n",
        "model.add(Dense(20, activation='relu'))\n",
        "model.add(Dense(num_class))\n",
        "model.add(Activation('softmax'))\n",
        "\n",
        "\n",
        "model.summary()"
      ],
      "execution_count": 37,
      "outputs": [
        {
          "output_type": "stream",
          "text": [
            "Model: \"sequential\"\n",
            "_________________________________________________________________\n",
            "Layer (type)                 Output Shape              Param #   \n",
            "=================================================================\n",
            "conv1d (Conv1D)              (None, 71, 64)            256       \n",
            "_________________________________________________________________\n",
            "batch_normalization (BatchNo (None, 71, 64)            284       \n",
            "_________________________________________________________________\n",
            "activation (Activation)      (None, 71, 64)            0         \n",
            "_________________________________________________________________\n",
            "conv1d_1 (Conv1D)            (None, 69, 128)           24704     \n",
            "_________________________________________________________________\n",
            "batch_normalization_1 (Batch (None, 69, 128)           276       \n",
            "_________________________________________________________________\n",
            "activation_1 (Activation)    (None, 69, 128)           0         \n",
            "_________________________________________________________________\n",
            "flatten (Flatten)            (None, 8832)              0         \n",
            "_________________________________________________________________\n",
            "dense (Dense)                (None, 20)                176660    \n",
            "_________________________________________________________________\n",
            "dense_1 (Dense)              (None, 15)                315       \n",
            "_________________________________________________________________\n",
            "activation_2 (Activation)    (None, 15)                0         \n",
            "=================================================================\n",
            "Total params: 202,495\n",
            "Trainable params: 202,215\n",
            "Non-trainable params: 280\n",
            "_________________________________________________________________\n"
          ],
          "name": "stdout"
        }
      ]
    },
    {
      "cell_type": "code",
      "metadata": {
        "id": "vIi3qJZ2O7sW"
      },
      "source": [
        "model.compile(loss='categorical_crossentropy', optimizer=optim, metrics=['accuracy'])"
      ],
      "execution_count": 38,
      "outputs": []
    },
    {
      "cell_type": "code",
      "metadata": {
        "colab": {
          "base_uri": "https://localhost:8080/"
        },
        "id": "598POauoO9fI",
        "outputId": "02613067-dd25-4dfc-c040-bd3b38c58e0e"
      },
      "source": [
        "model.fit(X_train_r, y_train, epochs=num_epochs, batch_size=batch_size, validation_data=(X_val_r, y_val), verbose=1)"
      ],
      "execution_count": 39,
      "outputs": [
        {
          "output_type": "stream",
          "text": [
            "Epoch 1/30\n",
            "544/544 [==============================] - 396s 726ms/step - loss: 0.3850 - accuracy: 0.8857 - val_loss: 0.1940 - val_accuracy: 0.9343\n",
            "Epoch 2/30\n",
            "544/544 [==============================] - 398s 731ms/step - loss: 0.1054 - accuracy: 0.9649 - val_loss: 0.0934 - val_accuracy: 0.9677\n",
            "Epoch 3/30\n",
            "544/544 [==============================] - 396s 728ms/step - loss: 0.0915 - accuracy: 0.9679 - val_loss: 0.0801 - val_accuracy: 0.9727\n",
            "Epoch 4/30\n",
            "544/544 [==============================] - 396s 728ms/step - loss: 0.0757 - accuracy: 0.9744 - val_loss: 0.0630 - val_accuracy: 0.9784\n",
            "Epoch 5/30\n",
            "544/544 [==============================] - 397s 730ms/step - loss: 0.0653 - accuracy: 0.9779 - val_loss: 0.0578 - val_accuracy: 0.9806\n",
            "Epoch 6/30\n",
            "544/544 [==============================] - 398s 731ms/step - loss: 0.0607 - accuracy: 0.9797 - val_loss: 0.0597 - val_accuracy: 0.9792\n",
            "Epoch 7/30\n",
            "544/544 [==============================] - 396s 729ms/step - loss: 0.0579 - accuracy: 0.9804 - val_loss: 0.0531 - val_accuracy: 0.9819\n",
            "Epoch 8/30\n",
            "544/544 [==============================] - 399s 733ms/step - loss: 0.0554 - accuracy: 0.9812 - val_loss: 0.0509 - val_accuracy: 0.9821\n",
            "Epoch 9/30\n",
            "544/544 [==============================] - 398s 732ms/step - loss: 0.0549 - accuracy: 0.9814 - val_loss: 0.0499 - val_accuracy: 0.9833\n",
            "Epoch 10/30\n",
            "544/544 [==============================] - 396s 728ms/step - loss: 0.0522 - accuracy: 0.9822 - val_loss: 0.0502 - val_accuracy: 0.9817\n",
            "Epoch 11/30\n",
            "544/544 [==============================] - 397s 730ms/step - loss: 0.0500 - accuracy: 0.9830 - val_loss: 0.0513 - val_accuracy: 0.9824\n",
            "Epoch 12/30\n",
            "544/544 [==============================] - 396s 728ms/step - loss: 0.0487 - accuracy: 0.9833 - val_loss: 0.0484 - val_accuracy: 0.9835\n",
            "Epoch 13/30\n",
            "544/544 [==============================] - 395s 726ms/step - loss: 0.0478 - accuracy: 0.9834 - val_loss: 0.0499 - val_accuracy: 0.9830\n",
            "Epoch 14/30\n",
            "544/544 [==============================] - 398s 731ms/step - loss: 0.0453 - accuracy: 0.9842 - val_loss: 0.0460 - val_accuracy: 0.9837\n",
            "Epoch 15/30\n",
            "544/544 [==============================] - 396s 728ms/step - loss: 0.0410 - accuracy: 0.9860 - val_loss: 0.0432 - val_accuracy: 0.9842\n",
            "Epoch 16/30\n",
            "544/544 [==============================] - 395s 727ms/step - loss: 0.0343 - accuracy: 0.9889 - val_loss: 0.0520 - val_accuracy: 0.9828\n",
            "Epoch 17/30\n",
            "544/544 [==============================] - 398s 731ms/step - loss: 0.0350 - accuracy: 0.9888 - val_loss: 0.0540 - val_accuracy: 0.9857\n",
            "Epoch 18/30\n",
            "544/544 [==============================] - 397s 730ms/step - loss: 0.0308 - accuracy: 0.9904 - val_loss: 0.0420 - val_accuracy: 0.9827\n",
            "Epoch 19/30\n",
            "544/544 [==============================] - 396s 727ms/step - loss: 0.0296 - accuracy: 0.9909 - val_loss: 0.0313 - val_accuracy: 0.9903\n",
            "Epoch 20/30\n",
            "544/544 [==============================] - 397s 730ms/step - loss: 0.0292 - accuracy: 0.9913 - val_loss: 0.0396 - val_accuracy: 0.9833\n",
            "Epoch 21/30\n",
            "544/544 [==============================] - 394s 724ms/step - loss: 0.0274 - accuracy: 0.9917 - val_loss: 0.0348 - val_accuracy: 0.9863\n",
            "Epoch 22/30\n",
            "544/544 [==============================] - 391s 719ms/step - loss: 0.0273 - accuracy: 0.9920 - val_loss: 0.0494 - val_accuracy: 0.9802\n",
            "Epoch 23/30\n",
            "544/544 [==============================] - 394s 723ms/step - loss: 0.0337 - accuracy: 0.9891 - val_loss: 0.0436 - val_accuracy: 0.9850\n",
            "Epoch 24/30\n",
            "544/544 [==============================] - 394s 725ms/step - loss: 0.0249 - accuracy: 0.9924 - val_loss: 0.0410 - val_accuracy: 0.9861\n",
            "Epoch 25/30\n",
            "544/544 [==============================] - 393s 722ms/step - loss: 0.0236 - accuracy: 0.9931 - val_loss: 0.0597 - val_accuracy: 0.9847\n",
            "Epoch 26/30\n",
            "544/544 [==============================] - 394s 724ms/step - loss: 0.0238 - accuracy: 0.9928 - val_loss: 0.0421 - val_accuracy: 0.9867\n",
            "Epoch 27/30\n",
            "544/544 [==============================] - 393s 723ms/step - loss: 0.0249 - accuracy: 0.9926 - val_loss: 0.0270 - val_accuracy: 0.9925\n",
            "Epoch 28/30\n",
            "544/544 [==============================] - 395s 725ms/step - loss: 0.0232 - accuracy: 0.9934 - val_loss: 0.0440 - val_accuracy: 0.9859\n",
            "Epoch 29/30\n",
            "544/544 [==============================] - 396s 728ms/step - loss: 0.0224 - accuracy: 0.9935 - val_loss: 0.0340 - val_accuracy: 0.9859\n",
            "Epoch 30/30\n",
            "544/544 [==============================] - 398s 732ms/step - loss: 0.0220 - accuracy: 0.9937 - val_loss: 0.0289 - val_accuracy: 0.9876\n"
          ],
          "name": "stdout"
        },
        {
          "output_type": "execute_result",
          "data": {
            "text/plain": [
              "<tensorflow.python.keras.callbacks.History at 0x7f3507a3b4d0>"
            ]
          },
          "metadata": {
            "tags": []
          },
          "execution_count": 39
        }
      ]
    },
    {
      "cell_type": "code",
      "metadata": {
        "id": "NlNLfXFDO-xd"
      },
      "source": [
        "accuracy = model.evaluate(X_test_r, y_test, batch_size=batch_size, verbose=0)"
      ],
      "execution_count": 40,
      "outputs": []
    },
    {
      "cell_type": "code",
      "metadata": {
        "id": "5UcOooozPBX1"
      },
      "source": [
        "model.save('./cicids2017cnn.h5')"
      ],
      "execution_count": 41,
      "outputs": []
    },
    {
      "cell_type": "code",
      "metadata": {
        "colab": {
          "base_uri": "https://localhost:8080/"
        },
        "id": "qhmvnifIPG59",
        "outputId": "09d0d88a-0405-44cf-8046-0a37c42c07c4"
      },
      "source": [
        "weights_list = model.get_weights()\n",
        "i = 0\n",
        "for item in weights_list:\n",
        "    i=i+1\n",
        "    print(\"Layer \" + str(i))\n",
        "    if (i == 15):\n",
        "        fc = item.squeeze()\n",
        "\n",
        "print(fc)"
      ],
      "execution_count": 42,
      "outputs": [
        {
          "output_type": "stream",
          "text": [
            "Layer 1\n",
            "Layer 2\n",
            "Layer 3\n",
            "Layer 4\n",
            "Layer 5\n",
            "Layer 6\n",
            "Layer 7\n",
            "Layer 8\n",
            "Layer 9\n",
            "Layer 10\n",
            "Layer 11\n",
            "Layer 12\n",
            "Layer 13\n",
            "Layer 14\n",
            "Layer 15\n",
            "Layer 16\n",
            "[[-3.49025190e-01  2.58190304e-01  1.14115849e-01  1.21773337e-03\n",
            "  -1.02339022e-01 -1.87414959e-01  2.15336904e-01 -9.92359146e-02\n",
            "   3.86462122e-01 -1.13670908e-01  1.53055087e-01 -1.02035664e-01\n",
            "  -1.72357976e-01  1.82847723e-01  3.12387139e-01]\n",
            " [-6.47033602e-02  2.46246830e-02 -2.83273160e-01 -3.69765639e-01\n",
            "  -3.17917645e-01 -9.19328332e-02 -3.39699417e-01  1.90721713e-02\n",
            "  -9.49534923e-02  6.46063611e-02 -3.26794952e-01  3.69666010e-01\n",
            "  -2.42836043e-01 -2.56030262e-01  3.29432875e-01]\n",
            " [ 2.13969499e-01 -4.54774424e-02 -3.26026708e-01 -1.58795863e-01\n",
            "   6.74697608e-02  7.98517317e-02  4.33548875e-02  3.59223895e-02\n",
            "   3.52827519e-01  2.93886125e-01  3.43185365e-01  8.16893652e-02\n",
            "  -1.16575144e-01  7.62326494e-02  3.12474631e-02]\n",
            " [-3.86507303e-01 -1.24521054e-01 -6.27443910e-01 -9.27245378e-01\n",
            "  -7.55071163e-01  2.13509053e-01  1.60530791e-01 -1.96201041e-01\n",
            "  -8.57168198e-01 -8.98860693e-01  8.40491652e-01  3.90218198e-01\n",
            "   6.13971939e-03 -1.48563758e-02  2.87617557e-02]\n",
            " [ 3.82054538e-01  4.71075445e-01  3.96512657e-01 -2.75578141e-01\n",
            "  -8.27020943e-01 -1.69104755e-01 -1.53503835e-01 -3.23547274e-01\n",
            "  -3.45165581e-01 -4.70378101e-02  2.55287200e-01  4.32370484e-01\n",
            "   7.09990412e-02  8.43564644e-02  1.01088904e-01]\n",
            " [-3.02232325e-01 -3.08904052e-01 -1.52447581e-01 -9.22220722e-02\n",
            "   3.10293674e-01  4.16059531e-02  5.91495000e-02 -4.44168523e-02\n",
            "   3.12395364e-01 -8.89796093e-02 -7.19167054e-01  1.74380451e-01\n",
            "   3.28928679e-01  1.29759431e-01  2.21338198e-01]\n",
            " [ 1.71862274e-01 -6.17856681e-02  4.83055145e-01 -6.06922209e-01\n",
            "   2.96984196e-01 -5.40431589e-04 -4.62777048e-01 -3.29721928e-01\n",
            "  -7.68987648e-03 -2.13565186e-01  9.97344926e-02 -5.78437030e-01\n",
            "  -4.28416915e-02 -3.24082613e-01  3.24482992e-02]\n",
            " [-1.31060109e-01 -8.71881068e-01  5.61794221e-01 -1.88174844e-01\n",
            "  -3.86377960e-01 -6.21385932e-01 -4.04669315e-01 -2.15813875e-01\n",
            "   5.51186144e-01 -2.82238632e-01 -2.02290326e-01 -8.81158859e-02\n",
            "  -3.45710635e-01 -2.44925246e-02 -3.19415443e-02]\n",
            " [-1.29880741e-01  1.05068326e-01  2.32158959e-01 -3.50379586e-01\n",
            "  -1.79808006e-01 -3.33365113e-01 -1.59427762e-01 -2.71717519e-01\n",
            "   7.44473189e-02 -2.19642162e-01  3.38390142e-01 -3.94727379e-01\n",
            "   3.72721225e-01  6.82791248e-02  1.54482424e-01]\n",
            " [ 3.94730598e-01 -3.94446164e-01 -4.01592642e-01  4.24903750e-01\n",
            "   3.31739336e-01 -9.04974416e-02 -2.40902111e-01  4.95911902e-03\n",
            "  -2.99353063e-01 -1.22577317e-01  2.41795242e-01  1.83618292e-01\n",
            "  -3.00385505e-02  1.36306182e-01 -4.02222835e-02]\n",
            " [-1.15559198e-01 -3.27143937e-01  5.80265373e-02  5.20599075e-02\n",
            "  -3.80452991e-01  4.66797538e-02  1.27007827e-01 -3.25317979e-01\n",
            "   3.17258507e-01 -1.21403739e-01 -1.20194227e-01 -3.89750689e-01\n",
            "   2.11253852e-01 -4.71863560e-02  2.52829820e-01]\n",
            " [-9.57168117e-02  2.48321444e-01 -3.13797891e-01 -3.07541221e-01\n",
            "  -6.81416467e-02 -1.53580114e-01  1.41950130e-01 -2.52158403e-01\n",
            "   2.87295669e-01 -7.48514459e-02  1.71088845e-01  3.08418274e-01\n",
            "  -1.64188594e-01  2.59206861e-01  1.37709692e-01]\n",
            " [ 1.31963745e-01 -2.70635188e-01  1.05068535e-01 -3.00605893e-01\n",
            "   1.25484809e-01 -2.75460571e-01  1.27794400e-01  2.53144413e-01\n",
            "  -5.49009703e-02 -2.78007448e-01  3.93596321e-01  3.24713320e-01\n",
            "   9.65707749e-02 -4.87262756e-02  3.55871052e-01]\n",
            " [ 4.38770384e-01 -8.01296979e-02  3.30345258e-02 -1.91964712e-02\n",
            "  -5.27760446e-01  2.40831688e-01  2.76917573e-02  6.27444565e-01\n",
            "  -8.87054801e-02  4.23865356e-02 -4.47700083e-01  2.15976372e-01\n",
            "   7.21655507e-03 -1.74215406e-01 -4.83156070e-02]\n",
            " [-3.42118412e-01  1.89763326e-02 -1.48555607e-01  1.86459064e-01\n",
            "  -4.61113527e-02  1.29237860e-01 -8.74615312e-02  3.82305056e-01\n",
            "  -4.18433487e-01  3.53573225e-02  2.85787612e-01 -1.60084739e-01\n",
            "  -3.98945034e-01  3.92895430e-01  6.36324137e-02]\n",
            " [ 2.71708250e-01  4.01558876e-01 -4.67069715e-01  1.04897045e-01\n",
            "   3.38399857e-01 -3.98099460e-02  2.48321518e-01 -1.18699956e+00\n",
            "  -1.14151075e-01  5.71982384e-01  2.43045077e-01 -4.84144002e-01\n",
            "  -5.28414994e-02 -7.84638450e-02 -1.24689236e-01]\n",
            " [-5.30185223e-01 -3.12308758e-01 -5.86060435e-02  3.82336169e-01\n",
            "   3.98242593e-01  9.78191569e-02  2.29204148e-01 -1.45479095e+00\n",
            "  -5.63862547e-02 -2.07711294e-01  4.47595507e-01 -1.00204551e+00\n",
            "  -1.89378604e-01  2.48212397e-01  2.92430017e-02]\n",
            " [-3.08104306e-01 -3.03241573e-02 -2.50132143e-01 -1.88576132e-01\n",
            "  -1.52500704e-01 -1.34195328e-01  1.46372780e-01  8.07029232e-02\n",
            "   3.18819672e-01  3.99313748e-01 -1.42651528e-01 -2.81623453e-01\n",
            "   3.12758595e-01  2.56896056e-02 -2.54232407e-01]\n",
            " [-4.21682954e-01 -3.62044334e-01  6.99016824e-02 -3.20311449e-02\n",
            "   2.85873711e-01  2.22804591e-01  2.55989313e-01 -2.09331965e+00\n",
            "  -6.30996644e-01 -7.11862683e-01  4.08334106e-01 -3.78368539e-03\n",
            "  -2.33228758e-01 -1.03506140e-01 -4.38262910e-01]\n",
            " [ 3.64500612e-01 -2.00502366e-01 -4.47392285e-01  9.30861235e-02\n",
            "   1.63819231e-02 -3.00633013e-01  4.82582003e-01 -1.37448192e-01\n",
            "  -1.08402841e-01 -3.35410535e-02  3.10015023e-01 -1.00515056e+00\n",
            "   2.38829657e-01  1.58276051e-01  2.49627173e-01]]\n"
          ],
          "name": "stdout"
        }
      ]
    },
    {
      "cell_type": "code",
      "metadata": {
        "id": "LSd8mpJ_PLBq"
      },
      "source": [
        "from sklearn.metrics import accuracy_score\n",
        "from sklearn.metrics import precision_score\n",
        "from sklearn.metrics import recall_score\n",
        "from sklearn.metrics import f1_score\n",
        "from sklearn.metrics import cohen_kappa_score\n",
        "from sklearn.metrics import roc_auc_score\n",
        "from sklearn.metrics import confusion_matrix"
      ],
      "execution_count": 43,
      "outputs": []
    },
    {
      "cell_type": "code",
      "metadata": {
        "id": "oNNWyq1SPMgl"
      },
      "source": [
        "df_label = df_test['Label']\n",
        "ytest = encode_label(df_label.values)\n"
      ],
      "execution_count": 44,
      "outputs": []
    },
    {
      "cell_type": "code",
      "metadata": {
        "colab": {
          "base_uri": "https://localhost:8080/"
        },
        "id": "urexMcARPOAT",
        "outputId": "fa21f19e-b04d-41b4-bef3-fc1198c5b385"
      },
      "source": [
        "\n",
        "# predict probabilities for test set\n",
        "yhat_probs = model.predict(X_test_r, verbose=0)\n",
        "\n",
        "# predict crisp classes for test set\n",
        "yhat_classes = model.predict_classes(X_test_r, verbose=0)\n",
        "\n",
        "# reduce to 1d array\n",
        "yhat_probs = yhat_probs[:, 0]\n",
        "#yhat_classes = yhat_classes[:, 0]"
      ],
      "execution_count": 45,
      "outputs": [
        {
          "output_type": "stream",
          "text": [
            "/usr/local/lib/python3.7/dist-packages/tensorflow/python/keras/engine/sequential.py:450: UserWarning: `model.predict_classes()` is deprecated and will be removed after 2021-01-01. Please use instead:* `np.argmax(model.predict(x), axis=-1)`,   if your model does multi-class classification   (e.g. if it uses a `softmax` last-layer activation).* `(model.predict(x) > 0.5).astype(\"int32\")`,   if your model does binary classification   (e.g. if it uses a `sigmoid` last-layer activation).\n",
            "  warnings.warn('`model.predict_classes()` is deprecated and '\n"
          ],
          "name": "stderr"
        }
      ]
    },
    {
      "cell_type": "code",
      "metadata": {
        "colab": {
          "base_uri": "https://localhost:8080/"
        },
        "id": "sfCwP070PQcR",
        "outputId": "90af8041-d2e3-47e4-f93b-6c8e33ce1da8"
      },
      "source": [
        "accuracy = accuracy_score(ytest, yhat_classes)\n",
        "print('Accuracy: %f' % accuracy)"
      ],
      "execution_count": 46,
      "outputs": [
        {
          "output_type": "stream",
          "text": [
            "Accuracy: 0.994011\n"
          ],
          "name": "stdout"
        }
      ]
    },
    {
      "cell_type": "code",
      "metadata": {
        "colab": {
          "base_uri": "https://localhost:8080/"
        },
        "id": "7J2HjPL1PRvO",
        "outputId": "0aef88cd-bace-487c-8264-ae5010a0ea7f"
      },
      "source": [
        "precision = precision_score(ytest, yhat_classes, labels=[1,2], average='micro')\n",
        "# labels is a list of all possible class labels\n",
        "print('Precision: %f' % precision)"
      ],
      "execution_count": 47,
      "outputs": [
        {
          "output_type": "stream",
          "text": [
            "Precision: 0.993992\n"
          ],
          "name": "stdout"
        }
      ]
    },
    {
      "cell_type": "code",
      "metadata": {
        "colab": {
          "base_uri": "https://localhost:8080/"
        },
        "id": "NVMcihZqPTXg",
        "outputId": "c9564e57-a5ab-447a-a101-5e5ff30c735d"
      },
      "source": [
        "recall = recall_score(ytest, yhat_classes, average='weighted')\n",
        "print('Recall: %f' % recall)"
      ],
      "execution_count": 48,
      "outputs": [
        {
          "output_type": "stream",
          "text": [
            "Recall: 0.994011\n"
          ],
          "name": "stdout"
        }
      ]
    },
    {
      "cell_type": "code",
      "metadata": {
        "colab": {
          "base_uri": "https://localhost:8080/"
        },
        "id": "fHONNXH1PU7q",
        "outputId": "662dc61d-83ef-4d6b-f112-1faf86a7f6d0"
      },
      "source": [
        "f1 = f1_score(ytest, yhat_classes, average='weighted')\n",
        "print('F1 score: %f' % f1)"
      ],
      "execution_count": 49,
      "outputs": [
        {
          "output_type": "stream",
          "text": [
            "F1 score: 0.993871\n"
          ],
          "name": "stdout"
        }
      ]
    },
    {
      "cell_type": "code",
      "metadata": {
        "colab": {
          "base_uri": "https://localhost:8080/"
        },
        "id": "OM9gjQf4PW-c",
        "outputId": "e0fc2ae7-5a33-47c1-d43e-3c6331b07253"
      },
      "source": [
        "kappa = cohen_kappa_score(ytest, yhat_classes)\n",
        "print('Cohens kappa: %f' % kappa)\n",
        "\n",
        "# confusion matrix\n",
        "matrix = confusion_matrix(ytest, yhat_classes)\n",
        "print(matrix)"
      ],
      "execution_count": 50,
      "outputs": [
        {
          "output_type": "stream",
          "text": [
            "Cohens kappa: 0.991116\n",
            "[[138121    146     34      6    567     39      2     10      0      2\n",
            "      68     67      1      0      1]\n",
            " [    58    429      0      0      0      0      0      0      0      0\n",
            "       0      0      0      0      0]\n",
            " [     7      0  31996      0      0      2      0      0      0      0\n",
            "       0      0      0      0      0]\n",
            " [   105      0      0   2388     23      2      0      0      0      0\n",
            "       5      0      0     50      0]\n",
            " [   125      0      1      0  57403      0      0      0      0      0\n",
            "       2      0      0      0      0]\n",
            " [    11      0      0      0      1   1356      3      0      0      0\n",
            "       0      0      3      0      0]\n",
            " [     6      0      0      0      0     15   1427      0      0      0\n",
            "       0      0      1      0      0]\n",
            " [    28      0      0      0      0      0      0   1954      0      0\n",
            "       0      0      1      0      0]\n",
            " [     0      0      0      0      0      0      0      0      2      0\n",
            "       0      0      0      0      0]\n",
            " [     4      0      0      0      0      0      0      0      0      5\n",
            "       0      0      0      0      0]\n",
            " [     7      0     15      0     15      0      0      0      0      0\n",
            "   39660      0      0      0      0]\n",
            " [     7      0      0      0      2      0      0      1      0      0\n",
            "       0   1464      0      0      0]\n",
            " [    41      0      0      0      0      0      0      0      0      0\n",
            "       0     14    321      0      0]\n",
            " [     4      0      0      0      0      0      0      0      0      0\n",
            "       0      1      0      0      0]\n",
            " [     9      0      0      1      0      0      0      0      0      0\n",
            "       0      0    153      0      0]]\n"
          ],
          "name": "stdout"
        }
      ]
    }
  ]
}