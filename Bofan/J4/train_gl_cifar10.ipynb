{
  "nbformat": 4,
  "nbformat_minor": 0,
  "metadata": {
    "colab": {
      "name": "train_gl_cifar10.ipynb",
      "provenance": [],
      "machine_shape": "hm"
    },
    "kernelspec": {
      "name": "python3",
      "display_name": "Python 3"
    },
    "accelerator": "GPU"
  },
  "cells": [
    {
      "cell_type": "code",
      "metadata": {
        "colab": {
          "base_uri": "https://localhost:8080/"
        },
        "id": "WoC2DIYngBi9",
        "outputId": "b0be7144-737a-476d-a8ed-4503fcd70ede"
      },
      "source": [
        "!git clone https://github.com/osmr/imgclsmob.git"
      ],
      "execution_count": 10,
      "outputs": [
        {
          "output_type": "stream",
          "text": [
            "Cloning into 'imgclsmob'...\n",
            "remote: Enumerating objects: 26765, done.\u001b[K\n",
            "remote: Total 26765 (delta 0), reused 0 (delta 0), pack-reused 26765\u001b[K\n",
            "Receiving objects: 100% (26765/26765), 12.34 MiB | 3.00 MiB/s, done.\n",
            "Resolving deltas: 100% (22697/22697), done.\n"
          ],
          "name": "stdout"
        }
      ]
    },
    {
      "cell_type": "code",
      "metadata": {
        "id": "digzl8S0qS8d"
      },
      "source": [
        "import os\n",
        "os.chdir(\"imgclsmob/\")"
      ],
      "execution_count": 11,
      "outputs": []
    },
    {
      "cell_type": "code",
      "metadata": {
        "colab": {
          "base_uri": "https://localhost:8080/"
        },
        "id": "OAY7wI6zqNVE",
        "outputId": "8b24a1e4-0f42-4892-851c-0d686c43a590"
      },
      "source": [
        "!pip install -r requirements.txt"
      ],
      "execution_count": 12,
      "outputs": [
        {
          "output_type": "stream",
          "text": [
            "Collecting git+https://github.com/awslabs/keras-apache-mxnet.git (from -r requirements.txt (line 8))\n",
            "  Cloning https://github.com/awslabs/keras-apache-mxnet.git to /tmp/pip-req-build-kw5mtm0z\n",
            "  Running command git clone -q https://github.com/awslabs/keras-apache-mxnet.git /tmp/pip-req-build-kw5mtm0z\n",
            "Requirement already satisfied (use --upgrade to upgrade): keras-mxnet==2.2.4.3 from git+https://github.com/awslabs/keras-apache-mxnet.git in /usr/local/lib/python3.6/dist-packages (from -r requirements.txt (line 8))\n",
            "Collecting git+https://github.com/tensorpack/tensorpack.git (from -r requirements.txt (line 11))\n",
            "  Cloning https://github.com/tensorpack/tensorpack.git to /tmp/pip-req-build-rgg01h2d\n",
            "  Running command git clone -q https://github.com/tensorpack/tensorpack.git /tmp/pip-req-build-rgg01h2d\n",
            "Requirement already satisfied (use --upgrade to upgrade): tensorpack==0.10.1 from git+https://github.com/tensorpack/tensorpack.git in /usr/local/lib/python3.6/dist-packages (from -r requirements.txt (line 11))\n",
            "Requirement already satisfied: numpy in /usr/local/lib/python3.6/dist-packages (from -r requirements.txt (line 1)) (1.19.4)\n",
            "Requirement already satisfied: requests in /usr/local/lib/python3.6/dist-packages (from -r requirements.txt (line 2)) (2.23.0)\n",
            "Requirement already satisfied: mxnet>=1.2.1 in /usr/local/lib/python3.6/dist-packages (from -r requirements.txt (line 3)) (1.7.0.post1)\n",
            "Requirement already satisfied: torch>=0.4.0 in /usr/local/lib/python3.6/dist-packages (from -r requirements.txt (line 4)) (1.7.0+cu101)\n",
            "Requirement already satisfied: torchvision>=0.2.1 in /usr/local/lib/python3.6/dist-packages (from -r requirements.txt (line 5)) (0.8.1+cu101)\n",
            "Requirement already satisfied: chainer>=5.0.0b4 in /usr/local/lib/python3.6/dist-packages (from -r requirements.txt (line 6)) (7.4.0)\n",
            "Requirement already satisfied: chainercv>=0.10.0 in /usr/local/lib/python3.6/dist-packages (from -r requirements.txt (line 7)) (0.13.1)\n",
            "Requirement already satisfied: tensorflow-gpu in /usr/local/lib/python3.6/dist-packages (from -r requirements.txt (line 9)) (2.4.0)\n",
            "Requirement already satisfied: tensorflow_addons in /usr/local/lib/python3.6/dist-packages (from -r requirements.txt (line 10)) (0.8.3)\n",
            "Requirement already satisfied: opencv-python in /usr/local/lib/python3.6/dist-packages (from -r requirements.txt (line 12)) (4.1.2.30)\n",
            "Requirement already satisfied: pandas in /usr/local/lib/python3.6/dist-packages (from -r requirements.txt (line 13)) (1.1.5)\n",
            "Requirement already satisfied: Pillow in /usr/local/lib/python3.6/dist-packages (from -r requirements.txt (line 14)) (7.0.0)\n",
            "Requirement already satisfied: imgaug in /usr/local/lib/python3.6/dist-packages (from -r requirements.txt (line 15)) (0.2.9)\n",
            "Requirement already satisfied: scipy in /usr/local/lib/python3.6/dist-packages (from -r requirements.txt (line 16)) (1.4.1)\n",
            "Requirement already satisfied: tqdm in /usr/local/lib/python3.6/dist-packages (from -r requirements.txt (line 17)) (4.41.1)\n",
            "Requirement already satisfied: Cython in /usr/local/lib/python3.6/dist-packages (from -r requirements.txt (line 18)) (0.29.21)\n",
            "Requirement already satisfied: six>=1.9.0 in /usr/local/lib/python3.6/dist-packages (from keras-mxnet==2.2.4.3->-r requirements.txt (line 8)) (1.15.0)\n",
            "Requirement already satisfied: pyyaml in /usr/local/lib/python3.6/dist-packages (from keras-mxnet==2.2.4.3->-r requirements.txt (line 8)) (3.13)\n",
            "Requirement already satisfied: h5py in /usr/local/lib/python3.6/dist-packages (from keras-mxnet==2.2.4.3->-r requirements.txt (line 8)) (2.10.0)\n",
            "Requirement already satisfied: keras_applications>=1.0.6 in /usr/local/lib/python3.6/dist-packages (from keras-mxnet==2.2.4.3->-r requirements.txt (line 8)) (1.0.8)\n",
            "Requirement already satisfied: keras_preprocessing>=1.0.5 in /usr/local/lib/python3.6/dist-packages (from keras-mxnet==2.2.4.3->-r requirements.txt (line 8)) (1.1.2)\n",
            "Requirement already satisfied: termcolor>=1.1 in /usr/local/lib/python3.6/dist-packages (from tensorpack==0.10.1->-r requirements.txt (line 11)) (1.1.0)\n",
            "Requirement already satisfied: tabulate>=0.7.7 in /usr/local/lib/python3.6/dist-packages (from tensorpack==0.10.1->-r requirements.txt (line 11)) (0.8.7)\n",
            "Requirement already satisfied: msgpack>=0.5.2 in /usr/local/lib/python3.6/dist-packages (from tensorpack==0.10.1->-r requirements.txt (line 11)) (1.0.1)\n",
            "Requirement already satisfied: msgpack-numpy>=0.4.4.2 in /usr/local/lib/python3.6/dist-packages (from tensorpack==0.10.1->-r requirements.txt (line 11)) (0.4.7.1)\n",
            "Requirement already satisfied: pyzmq>=16 in /usr/local/lib/python3.6/dist-packages (from tensorpack==0.10.1->-r requirements.txt (line 11)) (20.0.0)\n",
            "Requirement already satisfied: psutil>=5 in /usr/local/lib/python3.6/dist-packages (from tensorpack==0.10.1->-r requirements.txt (line 11)) (5.4.8)\n",
            "Requirement already satisfied: urllib3!=1.25.0,!=1.25.1,<1.26,>=1.21.1 in /usr/local/lib/python3.6/dist-packages (from requests->-r requirements.txt (line 2)) (1.24.3)\n",
            "Requirement already satisfied: idna<3,>=2.5 in /usr/local/lib/python3.6/dist-packages (from requests->-r requirements.txt (line 2)) (2.10)\n",
            "Requirement already satisfied: chardet<4,>=3.0.2 in /usr/local/lib/python3.6/dist-packages (from requests->-r requirements.txt (line 2)) (3.0.4)\n",
            "Requirement already satisfied: certifi>=2017.4.17 in /usr/local/lib/python3.6/dist-packages (from requests->-r requirements.txt (line 2)) (2020.12.5)\n",
            "Requirement already satisfied: graphviz<0.9.0,>=0.8.1 in /usr/local/lib/python3.6/dist-packages (from mxnet>=1.2.1->-r requirements.txt (line 3)) (0.8.4)\n",
            "Requirement already satisfied: typing-extensions in /usr/local/lib/python3.6/dist-packages (from torch>=0.4.0->-r requirements.txt (line 4)) (3.7.4.3)\n",
            "Requirement already satisfied: future in /usr/local/lib/python3.6/dist-packages (from torch>=0.4.0->-r requirements.txt (line 4)) (0.16.0)\n",
            "Requirement already satisfied: dataclasses in /usr/local/lib/python3.6/dist-packages (from torch>=0.4.0->-r requirements.txt (line 4)) (0.8)\n",
            "Requirement already satisfied: filelock in /usr/local/lib/python3.6/dist-packages (from chainer>=5.0.0b4->-r requirements.txt (line 6)) (3.0.12)\n",
            "Requirement already satisfied: protobuf>=3.0.0 in /usr/local/lib/python3.6/dist-packages (from chainer>=5.0.0b4->-r requirements.txt (line 6)) (3.12.4)\n",
            "Requirement already satisfied: setuptools in /usr/local/lib/python3.6/dist-packages (from chainer>=5.0.0b4->-r requirements.txt (line 6)) (51.0.0)\n",
            "Requirement already satisfied: absl-py~=0.10 in /usr/local/lib/python3.6/dist-packages (from tensorflow-gpu->-r requirements.txt (line 9)) (0.10.0)\n",
            "Requirement already satisfied: opt-einsum~=3.3.0 in /usr/local/lib/python3.6/dist-packages (from tensorflow-gpu->-r requirements.txt (line 9)) (3.3.0)\n",
            "Requirement already satisfied: grpcio~=1.32.0 in /usr/local/lib/python3.6/dist-packages (from tensorflow-gpu->-r requirements.txt (line 9)) (1.32.0)\n",
            "Requirement already satisfied: google-pasta~=0.2 in /usr/local/lib/python3.6/dist-packages (from tensorflow-gpu->-r requirements.txt (line 9)) (0.2.0)\n",
            "Requirement already satisfied: wrapt~=1.12.1 in /usr/local/lib/python3.6/dist-packages (from tensorflow-gpu->-r requirements.txt (line 9)) (1.12.1)\n",
            "Requirement already satisfied: gast==0.3.3 in /usr/local/lib/python3.6/dist-packages (from tensorflow-gpu->-r requirements.txt (line 9)) (0.3.3)\n",
            "Requirement already satisfied: tensorboard~=2.4 in /usr/local/lib/python3.6/dist-packages (from tensorflow-gpu->-r requirements.txt (line 9)) (2.4.0)\n",
            "Requirement already satisfied: flatbuffers~=1.12.0 in /usr/local/lib/python3.6/dist-packages (from tensorflow-gpu->-r requirements.txt (line 9)) (1.12)\n",
            "Requirement already satisfied: astunparse~=1.6.3 in /usr/local/lib/python3.6/dist-packages (from tensorflow-gpu->-r requirements.txt (line 9)) (1.6.3)\n",
            "Requirement already satisfied: wheel~=0.35 in /usr/local/lib/python3.6/dist-packages (from tensorflow-gpu->-r requirements.txt (line 9)) (0.36.2)\n",
            "Requirement already satisfied: tensorflow-estimator<2.5.0,>=2.4.0rc0 in /usr/local/lib/python3.6/dist-packages (from tensorflow-gpu->-r requirements.txt (line 9)) (2.4.0)\n",
            "Requirement already satisfied: typeguard in /usr/local/lib/python3.6/dist-packages (from tensorflow_addons->-r requirements.txt (line 10)) (2.7.1)\n",
            "Requirement already satisfied: python-dateutil>=2.7.3 in /usr/local/lib/python3.6/dist-packages (from pandas->-r requirements.txt (line 13)) (2.8.1)\n",
            "Requirement already satisfied: pytz>=2017.2 in /usr/local/lib/python3.6/dist-packages (from pandas->-r requirements.txt (line 13)) (2018.9)\n",
            "Requirement already satisfied: Shapely in /usr/local/lib/python3.6/dist-packages (from imgaug->-r requirements.txt (line 15)) (1.7.1)\n",
            "Requirement already satisfied: matplotlib in /usr/local/lib/python3.6/dist-packages (from imgaug->-r requirements.txt (line 15)) (3.2.2)\n",
            "Requirement already satisfied: scikit-image>=0.11.0 in /usr/local/lib/python3.6/dist-packages (from imgaug->-r requirements.txt (line 15)) (0.16.2)\n",
            "Requirement already satisfied: imageio in /usr/local/lib/python3.6/dist-packages (from imgaug->-r requirements.txt (line 15)) (2.4.1)\n",
            "Requirement already satisfied: werkzeug>=0.11.15 in /usr/local/lib/python3.6/dist-packages (from tensorboard~=2.4->tensorflow-gpu->-r requirements.txt (line 9)) (1.0.1)\n",
            "Requirement already satisfied: tensorboard-plugin-wit>=1.6.0 in /usr/local/lib/python3.6/dist-packages (from tensorboard~=2.4->tensorflow-gpu->-r requirements.txt (line 9)) (1.7.0)\n",
            "Requirement already satisfied: google-auth-oauthlib<0.5,>=0.4.1 in /usr/local/lib/python3.6/dist-packages (from tensorboard~=2.4->tensorflow-gpu->-r requirements.txt (line 9)) (0.4.2)\n",
            "Requirement already satisfied: google-auth<2,>=1.6.3 in /usr/local/lib/python3.6/dist-packages (from tensorboard~=2.4->tensorflow-gpu->-r requirements.txt (line 9)) (1.17.2)\n",
            "Requirement already satisfied: markdown>=2.6.8 in /usr/local/lib/python3.6/dist-packages (from tensorboard~=2.4->tensorflow-gpu->-r requirements.txt (line 9)) (3.3.3)\n",
            "Requirement already satisfied: pyparsing!=2.0.4,!=2.1.2,!=2.1.6,>=2.0.1 in /usr/local/lib/python3.6/dist-packages (from matplotlib->imgaug->-r requirements.txt (line 15)) (2.4.7)\n",
            "Requirement already satisfied: cycler>=0.10 in /usr/local/lib/python3.6/dist-packages (from matplotlib->imgaug->-r requirements.txt (line 15)) (0.10.0)\n",
            "Requirement already satisfied: kiwisolver>=1.0.1 in /usr/local/lib/python3.6/dist-packages (from matplotlib->imgaug->-r requirements.txt (line 15)) (1.3.1)\n",
            "Requirement already satisfied: networkx>=2.0 in /usr/local/lib/python3.6/dist-packages (from scikit-image>=0.11.0->imgaug->-r requirements.txt (line 15)) (2.5)\n",
            "Requirement already satisfied: PyWavelets>=0.4.0 in /usr/local/lib/python3.6/dist-packages (from scikit-image>=0.11.0->imgaug->-r requirements.txt (line 15)) (1.1.1)\n",
            "Requirement already satisfied: requests-oauthlib>=0.7.0 in /usr/local/lib/python3.6/dist-packages (from google-auth-oauthlib<0.5,>=0.4.1->tensorboard~=2.4->tensorflow-gpu->-r requirements.txt (line 9)) (1.3.0)\n",
            "Requirement already satisfied: cachetools<5.0,>=2.0.0 in /usr/local/lib/python3.6/dist-packages (from google-auth<2,>=1.6.3->tensorboard~=2.4->tensorflow-gpu->-r requirements.txt (line 9)) (4.2.0)\n",
            "Requirement already satisfied: pyasn1-modules>=0.2.1 in /usr/local/lib/python3.6/dist-packages (from google-auth<2,>=1.6.3->tensorboard~=2.4->tensorflow-gpu->-r requirements.txt (line 9)) (0.2.8)\n",
            "Requirement already satisfied: rsa<5,>=3.1.4; python_version >= \"3\" in /usr/local/lib/python3.6/dist-packages (from google-auth<2,>=1.6.3->tensorboard~=2.4->tensorflow-gpu->-r requirements.txt (line 9)) (4.6)\n",
            "Requirement already satisfied: importlib-metadata; python_version < \"3.8\" in /usr/local/lib/python3.6/dist-packages (from markdown>=2.6.8->tensorboard~=2.4->tensorflow-gpu->-r requirements.txt (line 9)) (3.3.0)\n",
            "Requirement already satisfied: decorator>=4.3.0 in /usr/local/lib/python3.6/dist-packages (from networkx>=2.0->scikit-image>=0.11.0->imgaug->-r requirements.txt (line 15)) (4.4.2)\n",
            "Requirement already satisfied: oauthlib>=3.0.0 in /usr/local/lib/python3.6/dist-packages (from requests-oauthlib>=0.7.0->google-auth-oauthlib<0.5,>=0.4.1->tensorboard~=2.4->tensorflow-gpu->-r requirements.txt (line 9)) (3.1.0)\n",
            "Requirement already satisfied: pyasn1<0.5.0,>=0.4.6 in /usr/local/lib/python3.6/dist-packages (from pyasn1-modules>=0.2.1->google-auth<2,>=1.6.3->tensorboard~=2.4->tensorflow-gpu->-r requirements.txt (line 9)) (0.4.8)\n",
            "Requirement already satisfied: zipp>=0.5 in /usr/local/lib/python3.6/dist-packages (from importlib-metadata; python_version < \"3.8\"->markdown>=2.6.8->tensorboard~=2.4->tensorflow-gpu->-r requirements.txt (line 9)) (3.4.0)\n",
            "Building wheels for collected packages: keras-mxnet, tensorpack\n",
            "  Building wheel for keras-mxnet (setup.py) ... \u001b[?25l\u001b[?25hdone\n",
            "  Created wheel for keras-mxnet: filename=keras_mxnet-2.2.4.3-cp36-none-any.whl size=373947 sha256=821c0051ed4d92a96f3a6a5525e645931059d97b84554f1312b8e9ee846a9d06\n",
            "  Stored in directory: /tmp/pip-ephem-wheel-cache-u_r0jiih/wheels/82/3b/b4/037a853f2acd890abaca3f75079b0a53c531a281c01cda9f57\n",
            "  Building wheel for tensorpack (setup.py) ... \u001b[?25l\u001b[?25hdone\n",
            "  Created wheel for tensorpack: filename=tensorpack-0.10.1-py2.py3-none-any.whl size=296333 sha256=28f0c419eca141307a100ed5da3f7e62f82612ae45ea94236da3c0af0562755c\n",
            "  Stored in directory: /tmp/pip-ephem-wheel-cache-u_r0jiih/wheels/d1/88/84/9f91acd55f34d585f7d6742cb13925a6051f82f6075aa6a0a9\n",
            "Successfully built keras-mxnet tensorpack\n"
          ],
          "name": "stdout"
        }
      ]
    },
    {
      "cell_type": "code",
      "metadata": {
        "colab": {
          "base_uri": "https://localhost:8080/"
        },
        "id": "bGg22A5jgIve",
        "outputId": "19d487bb-96ea-4df8-cab5-93d980f8ad50"
      },
      "source": [
        "!ls"
      ],
      "execution_count": 13,
      "outputs": [
        {
          "output_type": "stream",
          "text": [
            "chainer_\t   eval_ke.py\tkeras_\t       requirements.txt    train_gl.py\n",
            "common\t\t   eval_pt.py\tLICENSE        sotabench.py\t   train_ke.py\n",
            "convert_models.py  eval_tf2.py\tload_model.py  tensorflow_\t   train_pt.py\n",
            "deploy\t\t   eval_tf.py\tother\t       tensorflow2\t   train_tf2.py\n",
            "eval_ch.py\t   examples\tprep_model.py  tests\t\t   train_tf.py\n",
            "eval_gl_det.py\t   gluon\tpytorch        train_ch.py\n",
            "eval_gl.py\t   __init__.py\tREADME.md      train_gl_mealv2.py\n"
          ],
          "name": "stdout"
        }
      ]
    },
    {
      "cell_type": "code",
      "metadata": {
        "colab": {
          "base_uri": "https://localhost:8080/"
        },
        "id": "daviU4XSgLiR",
        "outputId": "7ffea531-23da-458e-84ab-d9089356d5e7"
      },
      "source": [
        "!find . -name \"*cifar*\""
      ],
      "execution_count": 8,
      "outputs": [
        {
          "output_type": "stream",
          "text": [
            "./imgclsmob/pytorch/datasets/cifar10_cls_dataset.py\n",
            "./imgclsmob/pytorch/datasets/cifar100_cls_dataset.py\n",
            "./imgclsmob/pytorch/pytorchcv/models/nin_cifar.py\n",
            "./imgclsmob/pytorch/pytorchcv/models/pyramidnet_cifar.py\n",
            "./imgclsmob/pytorch/pytorchcv/models/msdnet_cifar10.py\n",
            "./imgclsmob/pytorch/pytorchcv/models/sepreresnet_cifar.py\n",
            "./imgclsmob/pytorch/pytorchcv/models/densenet_cifar.py\n",
            "./imgclsmob/pytorch/pytorchcv/models/diapreresnet_cifar.py\n",
            "./imgclsmob/pytorch/pytorchcv/models/wrn1bit_cifar.py\n",
            "./imgclsmob/pytorch/pytorchcv/models/fractalnet_cifar.py\n",
            "./imgclsmob/pytorch/pytorchcv/models/resdropresnet_cifar.py\n",
            "./imgclsmob/pytorch/pytorchcv/models/preresnet_cifar.py\n",
            "./imgclsmob/pytorch/pytorchcv/models/seresnet_cifar.py\n",
            "./imgclsmob/pytorch/pytorchcv/models/shakeshakeresnet_cifar.py\n",
            "./imgclsmob/pytorch/pytorchcv/models/diaresnet_cifar.py\n",
            "./imgclsmob/pytorch/pytorchcv/models/resnext_cifar.py\n",
            "./imgclsmob/pytorch/pytorchcv/models/xdensenet_cifar.py\n",
            "./imgclsmob/pytorch/pytorchcv/models/wrn_cifar.py\n",
            "./imgclsmob/pytorch/pytorchcv/models/shakedropresnet_cifar.py\n",
            "./imgclsmob/pytorch/pytorchcv/models/rir_cifar.py\n",
            "./imgclsmob/pytorch/pytorchcv/models/resnet_cifar.py\n",
            "./imgclsmob/pytorch/pytorchcv/models/ror_cifar.py\n",
            "./imgclsmob/chainer_/datasets/cifar10_cls_dataset.py\n",
            "./imgclsmob/chainer_/datasets/cifar100_cls_dataset.py\n",
            "./imgclsmob/chainer_/chainercv2/models/nin_cifar.py\n",
            "./imgclsmob/chainer_/chainercv2/models/pyramidnet_cifar.py\n",
            "./imgclsmob/chainer_/chainercv2/models/sepreresnet_cifar.py\n",
            "./imgclsmob/chainer_/chainercv2/models/densenet_cifar.py\n",
            "./imgclsmob/chainer_/chainercv2/models/diapreresnet_cifar.py\n",
            "./imgclsmob/chainer_/chainercv2/models/wrn1bit_cifar.py\n",
            "./imgclsmob/chainer_/chainercv2/models/resdropresnet_cifar.py\n",
            "./imgclsmob/chainer_/chainercv2/models/preresnet_cifar.py\n",
            "./imgclsmob/chainer_/chainercv2/models/seresnet_cifar.py\n",
            "./imgclsmob/chainer_/chainercv2/models/shakeshakeresnet_cifar.py\n",
            "./imgclsmob/chainer_/chainercv2/models/diaresnet_cifar.py\n",
            "./imgclsmob/chainer_/chainercv2/models/resnext_cifar.py\n",
            "./imgclsmob/chainer_/chainercv2/models/xdensenet_cifar.py\n",
            "./imgclsmob/chainer_/chainercv2/models/wrn_cifar.py\n",
            "./imgclsmob/chainer_/chainercv2/models/shakedropresnet_cifar.py\n",
            "./imgclsmob/chainer_/chainercv2/models/rir_cifar.py\n",
            "./imgclsmob/chainer_/chainercv2/models/resnet_cifar.py\n",
            "./imgclsmob/chainer_/chainercv2/models/ror_cifar.py\n",
            "./imgclsmob/gluon/gluoncv2/models/nin_cifar.py\n",
            "./imgclsmob/gluon/gluoncv2/models/pyramidnet_cifar.py\n",
            "./imgclsmob/gluon/gluoncv2/models/sepreresnet_cifar.py\n",
            "./imgclsmob/gluon/gluoncv2/models/densenet_cifar.py\n",
            "./imgclsmob/gluon/gluoncv2/models/diapreresnet_cifar.py\n",
            "./imgclsmob/gluon/gluoncv2/models/wrn1bit_cifar.py\n",
            "./imgclsmob/gluon/gluoncv2/models/fractalnet_cifar.py\n",
            "./imgclsmob/gluon/gluoncv2/models/resdropresnet_cifar.py\n",
            "./imgclsmob/gluon/gluoncv2/models/preresnet_cifar.py\n",
            "./imgclsmob/gluon/gluoncv2/models/seresnet_cifar.py\n",
            "./imgclsmob/gluon/gluoncv2/models/shakeshakeresnet_cifar.py\n",
            "./imgclsmob/gluon/gluoncv2/models/diaresnet_cifar.py\n",
            "./imgclsmob/gluon/gluoncv2/models/resnext_cifar.py\n",
            "./imgclsmob/gluon/gluoncv2/models/xdensenet_cifar.py\n",
            "./imgclsmob/gluon/gluoncv2/models/wrn_cifar.py\n",
            "./imgclsmob/gluon/gluoncv2/models/shakedropresnet_cifar.py\n",
            "./imgclsmob/gluon/gluoncv2/models/rir_cifar.py\n",
            "./imgclsmob/gluon/gluoncv2/models/octresnet_cifar.py\n",
            "./imgclsmob/gluon/gluoncv2/models/resnet_cifar.py\n",
            "./imgclsmob/gluon/gluoncv2/models/ror_cifar.py\n",
            "./imgclsmob/gluon/datasets/cifar10_cls_dataset.py\n",
            "./imgclsmob/gluon/datasets/cifar100_cls_dataset.py\n",
            "./imgclsmob/tensorflow2/tf2cv/models/pyramidnet_cifar.py\n",
            "./imgclsmob/tensorflow2/tf2cv/models/sepreresnet_cifar.py\n",
            "./imgclsmob/tensorflow2/tf2cv/models/densenet_cifar.py\n",
            "./imgclsmob/tensorflow2/tf2cv/models/preresnet_cifar.py\n",
            "./imgclsmob/tensorflow2/tf2cv/models/seresnet_cifar.py\n",
            "./imgclsmob/tensorflow2/tf2cv/models/resnext_cifar.py\n",
            "./imgclsmob/tensorflow2/tf2cv/models/wrn_cifar.py\n",
            "./imgclsmob/tensorflow2/tf2cv/models/resnet_cifar.py\n",
            "./imgclsmob/tensorflow2/datasets/cifar10_cls_dataset.py\n",
            "./imgclsmob/tensorflow2/datasets/cifar100_cls_dataset.py\n",
            "./imgclsmob/other/pytorch/cifar1.py\n",
            "./imgclsmob/other/chainer_/train_ch_cifar.py\n",
            "./imgclsmob/other/chainer_/cifar1.py\n",
            "./imgclsmob/other/train_gl_cifar-.py\n",
            "./imgclsmob/other/eval_pt_cifar-.py\n",
            "./imgclsmob/other/train_pt_cifar-.py\n",
            "./imgclsmob/other/eval_ch_cifar-.py\n"
          ],
          "name": "stdout"
        }
      ]
    },
    {
      "cell_type": "code",
      "metadata": {
        "colab": {
          "base_uri": "https://localhost:8080/"
        },
        "id": "yzOUpNBdnRB5",
        "outputId": "17180be5-ded1-492b-abfe-b609e8c6b90c"
      },
      "source": [
        "!pip install mxnet-cu101 mxnet-cu100"
      ],
      "execution_count": 22,
      "outputs": [
        {
          "output_type": "stream",
          "text": [
            "Requirement already satisfied: mxnet-cu101 in /usr/local/lib/python3.6/dist-packages (1.7.0)\n",
            "Collecting mxnet-cu100\n",
            "  Using cached https://files.pythonhosted.org/packages/cf/49/2876c87397592fdb2cca87928d538c9969adb7d271927ef36cb69d62fc63/mxnet_cu100-1.7.0-py2.py3-none-manylinux2014_x86_64.whl\n",
            "Requirement already satisfied: numpy<2.0.0,>1.16.0 in /usr/local/lib/python3.6/dist-packages (from mxnet-cu101) (1.19.4)\n",
            "Requirement already satisfied: graphviz<0.9.0,>=0.8.1 in /usr/local/lib/python3.6/dist-packages (from mxnet-cu101) (0.8.4)\n",
            "Requirement already satisfied: requests<3,>=2.20.0 in /usr/local/lib/python3.6/dist-packages (from mxnet-cu101) (2.23.0)\n",
            "Requirement already satisfied: chardet<4,>=3.0.2 in /usr/local/lib/python3.6/dist-packages (from requests<3,>=2.20.0->mxnet-cu101) (3.0.4)\n",
            "Requirement already satisfied: urllib3!=1.25.0,!=1.25.1,<1.26,>=1.21.1 in /usr/local/lib/python3.6/dist-packages (from requests<3,>=2.20.0->mxnet-cu101) (1.24.3)\n",
            "Requirement already satisfied: idna<3,>=2.5 in /usr/local/lib/python3.6/dist-packages (from requests<3,>=2.20.0->mxnet-cu101) (2.10)\n",
            "Requirement already satisfied: certifi>=2017.4.17 in /usr/local/lib/python3.6/dist-packages (from requests<3,>=2.20.0->mxnet-cu101) (2020.12.5)\n",
            "Installing collected packages: mxnet-cu100\n",
            "Successfully installed mxnet-cu100-1.7.0\n"
          ],
          "name": "stdout"
        }
      ]
    },
    {
      "cell_type": "code",
      "metadata": {
        "id": "R9shfTwSkhfR"
      },
      "source": [
        "!cp other/train_gl_cifar-.py ."
      ],
      "execution_count": 20,
      "outputs": []
    },
    {
      "cell_type": "code",
      "metadata": {
        "colab": {
          "base_uri": "https://localhost:8080/"
        },
        "id": "j_mhOd6YklKl",
        "outputId": "7100a7e5-7268-4d61-d1e9-6a974bf5c554"
      },
      "source": [
        "!python3 train_gl_cifar-.py --num-gpus=0 --model=wrn28_10_cifar10 --save-dir=../imgclsmob_data/wrn28_10_cifar10_a/ --batch-size=100 --batch-size-scale=1 -j=12 --num-epochs=500 --lr=0.2 --lr-mode=cosine --wd=0.0001 --warmup-epochs=5 --warmup-mode=cosine --save-interval=20 --log-interval=400 --attempt=1 --start-epoch=1 --mixup --mixup-epoch-tail=10"
      ],
      "execution_count": 24,
      "outputs": [
        {
          "output_type": "stream",
          "text": [
            "INFO:root:--------------------------------\n",
            "INFO:root:Script command line:\n",
            "train_gl_cifar-.py --num-gpus=0 --model=wrn28_10_cifar10 --save-dir=../imgclsmob_data/wrn28_10_cifar10_a/ --batch-size=100 --batch-size-scale=1 -j=12 --num-epochs=500 --lr=0.2 --lr-mode=cosine --wd=0.0001 --warmup-epochs=5 --warmup-mode=cosine --save-interval=20 --log-interval=400 --attempt=1 --start-epoch=1 --mixup --mixup-epoch-tail=10\n",
            "INFO:root:Script arguments:\n",
            "Namespace(attempt=1, batch_size=100, batch_size_scale=1, beta_wd_mult=1.0, bias_wd_mult=1.0, data_dir='../imgclsmob_data/cifar10', dataset='CIFAR10', dtype='float32', gamma_wd_mult=1.0, grad_clip=None, in_channels=3, label_smoothing=False, log_interval=400, log_packages='mxnet', log_pip_packages='mxnet-cu100', logging_file_name='train.log', lr=0.2, lr_decay=0.1, lr_decay_epoch='40,60', lr_decay_period=0, lr_mode='cosine', mixup=True, mixup_epoch_tail=10, model='wrn28_10_cifar10', momentum=0.9, net_root='~/.mxnet/models', not_hybridize=False, num_classes=10, num_epochs=500, num_gpus=0, num_workers=12, optimizer_name='nag', poly_power=2, resume='', resume_state='', save_dir='../imgclsmob_data/wrn28_10_cifar10_a/', save_interval=20, seed=2764, start_epoch=1, target_lr=1e-08, tune_layers='', use_pretrained=False, warmup_epochs=5, warmup_lr=1e-08, warmup_mode='cosine', wd=0.0001, work_dir='../imgclsmob_data')\n",
            "INFO:root:Env_stats:\n",
            "{\n",
            "    \"mxnet\": \"1.7.0\",\n",
            "    \"mxnet-cu100\": \"Name: mxnet-cu100\\nVersion: 1.7.0\\nSummary: MXNet is an ultra-scalable deep learning framework. This version uses CUDA-10.0.\\nHome-page: https://github.com/apache/incubator-mxnet\\nAuthor: None\\nAuthor-email: None\\nLicense: Apache 2.0\\nLocation: /usr/local/lib/python3.6/dist-packages\\nRequires: graphviz, numpy, requests\\nRequired-by:\",\n",
            "    \"python\": \"3.6.9\",\n",
            "    \"pwd\": \"/content/imgclsmob/imgclsmob/common\",\n",
            "    \"git\": \"commit b1bf06a777a2a178353cd9a3006067eed1703916\\nAuthor: Oleg Semery <osemery@gmail.com>\\nDate:   Sat Jan 2 22:30:56 2021 +0300\\n\\n    Upd info about several models\",\n",
            "    \"platform\": \"Linux-4.19.112+-x86_64-with-Ubuntu-18.04-bionic\"\n",
            "}\n",
            "Traceback (most recent call last):\n",
            "  File \"train_gl_cifar-.py\", line 670, in <module>\n",
            "    main()\n",
            "  File \"train_gl_cifar-.py\", line 592, in main\n",
            "    batch_fn = get_batch_fn(use_imgrec=ds_metainfo.use_imgrec)\n",
            "TypeError: get_batch_fn() got an unexpected keyword argument 'use_imgrec'\n"
          ],
          "name": "stdout"
        }
      ]
    },
    {
      "cell_type": "code",
      "metadata": {
        "id": "Z09pVC9O5g4M"
      },
      "source": [
        ""
      ],
      "execution_count": null,
      "outputs": []
    }
  ]
}