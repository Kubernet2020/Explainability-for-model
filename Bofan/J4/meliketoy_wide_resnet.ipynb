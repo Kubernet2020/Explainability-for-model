{
  "nbformat": 4,
  "nbformat_minor": 0,
  "metadata": {
    "colab": {
      "name": "meliketoy/wide-resnet.ipynb",
      "provenance": []
    },
    "kernelspec": {
      "name": "python3",
      "display_name": "Python 3"
    }
  },
  "cells": [
    {
      "cell_type": "code",
      "metadata": {
        "colab": {
          "base_uri": "https://localhost:8080/"
        },
        "id": "oSEsdT161_Bo",
        "outputId": "b3c14a78-4a35-48ba-e888-17418ea4218d"
      },
      "source": [
        "!git clone https://github.com/meliketoy/wide-resnet.pytorch.git"
      ],
      "execution_count": 1,
      "outputs": [
        {
          "output_type": "stream",
          "text": [
            "Cloning into 'wide-resnet.pytorch'...\n",
            "remote: Enumerating objects: 124, done.\u001b[K\n",
            "remote: Total 124 (delta 0), reused 0 (delta 0), pack-reused 124\u001b[K\n",
            "Receiving objects: 100% (124/124), 671.01 KiB | 10.82 MiB/s, done.\n",
            "Resolving deltas: 100% (66/66), done.\n"
          ],
          "name": "stdout"
        }
      ]
    },
    {
      "cell_type": "code",
      "metadata": {
        "colab": {
          "base_uri": "https://localhost:8080/"
        },
        "id": "LI0ypGrw2c9F",
        "outputId": "76f83cf1-8b30-4c7a-f93d-e24f6c2bc144"
      },
      "source": [
        "!ls"
      ],
      "execution_count": 3,
      "outputs": [
        {
          "output_type": "stream",
          "text": [
            "sample_data  wide-resnet.pytorch\n"
          ],
          "name": "stdout"
        }
      ]
    },
    {
      "cell_type": "code",
      "metadata": {
        "id": "f4KTFr-72gHC"
      },
      "source": [
        "import os\n",
        "os.chdir(\"wide-resnet.pytorch/\")"
      ],
      "execution_count": 4,
      "outputs": []
    },
    {
      "cell_type": "code",
      "metadata": {
        "colab": {
          "base_uri": "https://localhost:8080/"
        },
        "id": "zTKwhJfa2k4n",
        "outputId": "e49c1b41-6884-49ff-a3a6-3dfeaa9922a8"
      },
      "source": [
        "!python main.py --lr 0.1  --net_type wide-resnet --depth 28 --widen_factor 10 --dropout 0.3 --dataset cifar10"
      ],
      "execution_count": null,
      "outputs": [
        {
          "output_type": "stream",
          "text": [
            "\n",
            "[Phase 1] : Data Preparation\n",
            "| Preparing CIFAR-10 dataset...\n",
            "| Downloading https://www.cs.toronto.edu/~kriz/cifar-10-python.tar.gz to ./data/cifar-10-python.tar.gz\n",
            "170500096it [00:02, 71378759.95it/s]                   \n",
            "Extracting ./data/cifar-10-python.tar.gz to ./data\n",
            "\n",
            "[Phase 2] : Model setup\n",
            "| Building net type [wide-resnet]...\n",
            "| Wide-Resnet 28x10\n",
            "\n",
            "[Phase 3] : Training model\n",
            "| Training Epochs = 200\n",
            "| Initial Learning Rate = 0.1\n",
            "| Optimizer = SGD\n",
            "\n",
            "=> Training Epoch #1, LR=0.1000\n",
            "| Epoch [  1/200] Iter[  7/391]\t\tLoss: 2.3866 Acc@1: 14.286%"
          ],
          "name": "stdout"
        }
      ]
    },
    {
      "cell_type": "code",
      "metadata": {
        "id": "WSIKAxE72y-U"
      },
      "source": [
        ""
      ],
      "execution_count": null,
      "outputs": []
    }
  ]
}