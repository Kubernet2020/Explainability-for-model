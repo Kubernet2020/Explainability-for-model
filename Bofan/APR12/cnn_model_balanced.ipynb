{
  "nbformat": 4,
  "nbformat_minor": 0,
  "metadata": {
    "colab": {
      "name": "cnn_model-balanced.ipynb",
      "provenance": []
    },
    "kernelspec": {
      "display_name": "Python 3",
      "name": "python3"
    }
  },
  "cells": [
    {
      "cell_type": "code",
      "metadata": {
        "id": "ymPfIBg_MVLz"
      },
      "source": [
        "import os\n",
        "from os.path import join\n",
        "import glob\n",
        "import pandas as pd\n",
        "import numpy as np\n",
        "import time\n",
        "import seaborn as sns\n",
        "import matplotlib.pyplot as plt\n",
        "%load_ext autoreload"
      ],
      "execution_count": 1,
      "outputs": []
    },
    {
      "cell_type": "code",
      "metadata": {
        "id": "D-VMXUywMZCI"
      },
      "source": [
        "def display_all(df):\n",
        "    with pd.option_context(\"display.max_rows\", 100, \"display.max_columns\", 100): \n",
        "        print(df)"
      ],
      "execution_count": 2,
      "outputs": []
    },
    {
      "cell_type": "code",
      "metadata": {
        "id": "0n3Sztq0MbwY"
      },
      "source": [
        "\n",
        "def make_value2index(attacks):\n",
        "    #make dictionary\n",
        "    attacks = sorted(attacks)\n",
        "    d = {}\n",
        "    counter=0\n",
        "    for attack in attacks:\n",
        "        d[attack] = counter\n",
        "        counter+=1\n",
        "    return d"
      ],
      "execution_count": 3,
      "outputs": []
    },
    {
      "cell_type": "code",
      "metadata": {
        "id": "tj3m5L03MdoR"
      },
      "source": [
        "\n",
        "# chganges label from string to integer/index\n",
        "def encode_label(Y_str):\n",
        "    labels_d = make_value2index(np.unique(Y_str))\n",
        "    Y = [labels_d[y_str] for y_str  in Y_str]\n",
        "    Y = np.array(Y)\n",
        "    return np.array(Y)"
      ],
      "execution_count": 4,
      "outputs": []
    },
    {
      "cell_type": "code",
      "metadata": {
        "colab": {
          "base_uri": "https://localhost:8080/"
        },
        "id": "BPNWeV2_MgKo",
        "outputId": "8f915aeb-aa27-49aa-93c1-852d1b662a3a"
      },
      "source": [
        "from google.colab import drive\n",
        "import os\n",
        "drive.mount('/content/drive')\n",
        "os.chdir(\"/content/drive/My Drive/Colab Notebooks/NetworkAnomalyDetectionML/\")"
      ],
      "execution_count": 5,
      "outputs": [
        {
          "output_type": "stream",
          "text": [
            "Mounted at /content/drive\n"
          ],
          "name": "stdout"
        }
      ]
    },
    {
      "cell_type": "code",
      "metadata": {
        "id": "uoNS2kbVMk2H"
      },
      "source": [
        "# All columns\n",
        "col_names = np.array(['Source Port', 'Destination Port',\n",
        "                      'Protocol', 'Flow Duration', 'Total Fwd Packets', 'Total Backward Packets', 'Total Length of Fwd Packets',\n",
        "                      'Total Length of Bwd Packets', 'Fwd Packet Length Max', 'Fwd Packet Length Min', 'Fwd Packet Length Mean',\n",
        "                      'Fwd Packet Length Std', 'Bwd Packet Length Max', 'Bwd Packet Length Min', 'Bwd Packet Length Mean', 'Bwd Packet Length Std',\n",
        "                      'Flow Bytes/s', 'Flow Packets/s', 'Flow IAT Mean', 'Flow IAT Std', 'Flow IAT Max', 'Flow IAT Min', 'Fwd IAT Total',\n",
        "                      'Fwd IAT Mean', 'Fwd IAT Std', 'Fwd IAT Max', 'Fwd IAT Min', 'Bwd IAT Total', 'Bwd IAT Mean', 'Bwd IAT Std', 'Bwd IAT Max',\n",
        "                      'Bwd IAT Min', 'Fwd PSH Flags', 'Fwd URG Flags', 'Fwd Header Length', 'Bwd Header Length',\n",
        "                      'Fwd Packets/s', 'Bwd Packets/s', 'Min Packet Length', 'Max Packet Length', 'Packet Length Mean', 'Packet Length Std',\n",
        "                      'Packet Length Variance', 'FIN Flag Count', 'SYN Flag Count', 'RST Flag Count', 'PSH Flag Count', 'ACK Flag Count',\n",
        "                      'URG Flag Count', 'CWE Flag Count', 'ECE Flag Count', 'Down/Up Ratio', 'Average Packet Size', 'Avg Fwd Segment Size',\n",
        "                      'Avg Bwd Segment Size','Subflow Fwd Packets', 'Subflow Fwd Bytes',\n",
        "                      'Subflow Bwd Packets', 'Subflow Bwd Bytes', 'Init_Win_bytes_forward', 'Init_Win_bytes_backward',\n",
        "                      'act_data_pkt_fwd', 'min_seg_size_forward', 'Active Mean', 'Active Std', 'Active Max', 'Active Min', 'Idle Mean',\n",
        "                      'Idle Std', 'Idle Max', 'Idle Min', 'Label'])"
      ],
      "execution_count": 6,
      "outputs": []
    },
    {
      "cell_type": "code",
      "metadata": {
        "id": "iB1Gdo3lOnn0"
      },
      "source": [
        "start = 11\n",
        "col_names = col_names[start:]"
      ],
      "execution_count": 7,
      "outputs": []
    },
    {
      "cell_type": "code",
      "metadata": {
        "colab": {
          "base_uri": "https://localhost:8080/"
        },
        "id": "zaMIGtTJMqQu",
        "outputId": "00282705-856b-4009-a490-fbb0e692becb"
      },
      "source": [
        "col_names.shape"
      ],
      "execution_count": 8,
      "outputs": [
        {
          "output_type": "execute_result",
          "data": {
            "text/plain": [
              "(61,)"
            ]
          },
          "metadata": {
            "tags": []
          },
          "execution_count": 8
        }
      ]
    },
    {
      "cell_type": "code",
      "metadata": {
        "id": "8Ac65Qv0Mq7a"
      },
      "source": [
        "df_train = pd.read_csv('./train_set.csv',names=col_names, skiprows=1)\n",
        "df_train = df_train.replace([-np.inf, np.inf], np.nan)\n",
        "df_train = df_train.dropna()"
      ],
      "execution_count": 9,
      "outputs": []
    },
    {
      "cell_type": "code",
      "metadata": {
        "colab": {
          "base_uri": "https://localhost:8080/"
        },
        "id": "W7sBBNKNMtyR",
        "outputId": "d200f599-029a-415c-8763-6a881e22318c"
      },
      "source": [
        "print(df_train.shape)"
      ],
      "execution_count": 10,
      "outputs": [
        {
          "output_type": "stream",
          "text": [
            "(556690, 61)\n"
          ],
          "name": "stdout"
        }
      ]
    },
    {
      "cell_type": "code",
      "metadata": {
        "colab": {
          "base_uri": "https://localhost:8080/"
        },
        "id": "WQlkHZS7Mwnw",
        "outputId": "7003462f-e710-452e-b3f7-72a4e4859f7a"
      },
      "source": [
        "df_train['Label'].value_counts()"
      ],
      "execution_count": 11,
      "outputs": [
        {
          "output_type": "execute_result",
          "data": {
            "text/plain": [
              "BENIGN                        278345\n",
              "DoS Hulk                      115062\n",
              "PortScan                       79465\n",
              "DDoS                           64013\n",
              "DoS GoldenEye                   5146\n",
              "FTP-Patator                     3969\n",
              "SSH-Patator                     2948\n",
              "DoS slowloris                   2898\n",
              "DoS Slowhttptest                2749\n",
              "Bot                              983\n",
              "Web Attack  Brute Force         753\n",
              "Web Attack  XSS                 326\n",
              "Infiltration                      18\n",
              "Web Attack  Sql Injection        10\n",
              "Heartbleed                         5\n",
              "Name: Label, dtype: int64"
            ]
          },
          "metadata": {
            "tags": []
          },
          "execution_count": 11
        }
      ]
    },
    {
      "cell_type": "code",
      "metadata": {
        "colab": {
          "base_uri": "https://localhost:8080/"
        },
        "id": "kB0-06uQMz3j",
        "outputId": "bb99fd54-128e-4a5a-eda8-d891a0a1b5b6"
      },
      "source": [
        "df_test = pd.read_csv('./test_set.csv',names=col_names, skiprows=1)  \n",
        "print('Test set size: ', df_test.shape)\n",
        "df_test = df_test.replace([-np.inf, np.inf], np.nan)\n",
        "df_test= df_test.dropna()\n",
        "\n",
        "df_val = pd.read_csv('./crossval_set.csv',names=col_names, skiprows=1)  \n",
        "df_val = df_val.replace([-np.inf, np.inf], np.nan)\n",
        "df_val = df_val.dropna()\n",
        "print('Validation set size: ', df_val.shape)"
      ],
      "execution_count": 12,
      "outputs": [
        {
          "output_type": "stream",
          "text": [
            "Test set size:  (278338, 61)\n",
            "Validation set size:  (278338, 61)\n"
          ],
          "name": "stdout"
        }
      ]
    },
    {
      "cell_type": "code",
      "metadata": {
        "id": "QxXs6M4AM6JG"
      },
      "source": [
        "df_label = df_train['Label']\n",
        "data = df_train.drop(columns=['Label'])\n",
        "X_train = data.values\n",
        "y_train = encode_label(df_label.values)"
      ],
      "execution_count": 13,
      "outputs": []
    },
    {
      "cell_type": "code",
      "metadata": {
        "id": "gnuyimyAM7b1"
      },
      "source": [
        "from sklearn.preprocessing import MinMaxScaler"
      ],
      "execution_count": 14,
      "outputs": []
    },
    {
      "cell_type": "code",
      "metadata": {
        "colab": {
          "base_uri": "https://localhost:8080/"
        },
        "id": "H5WShTgrM8nD",
        "outputId": "880e422c-7928-44ec-cea9-77d25921c5ef"
      },
      "source": [
        "scaler = MinMaxScaler()\n",
        "X_train = scaler.fit_transform(X_train)\n",
        "X_train"
      ],
      "execution_count": 15,
      "outputs": [
        {
          "output_type": "execute_result",
          "data": {
            "text/plain": [
              "array([[6.92500003e-01, 1.49999984e-07, 6.92500000e-01, ...,\n",
              "        0.00000000e+00, 6.92500000e-01, 6.92500000e-01],\n",
              "       [4.58333330e-07, 5.58333273e-07, 0.00000000e+00, ...,\n",
              "        0.00000000e+00, 0.00000000e+00, 0.00000000e+00],\n",
              "       [9.17666659e-05, 7.09166590e-06, 0.00000000e+00, ...,\n",
              "        0.00000000e+00, 0.00000000e+00, 0.00000000e+00],\n",
              "       ...,\n",
              "       [8.20000001e-01, 1.33333319e-07, 8.20833333e-01, ...,\n",
              "        0.00000000e+00, 8.20000000e-01, 8.20000000e-01],\n",
              "       [7.66666660e-07, 8.66666573e-07, 0.00000000e+00, ...,\n",
              "        0.00000000e+00, 0.00000000e+00, 0.00000000e+00],\n",
              "       [4.16666663e-08, 1.41666651e-07, 3.33333333e-08, ...,\n",
              "        0.00000000e+00, 0.00000000e+00, 0.00000000e+00]])"
            ]
          },
          "metadata": {
            "tags": []
          },
          "execution_count": 15
        }
      ]
    },
    {
      "cell_type": "code",
      "metadata": {
        "id": "-bdZyn3VOhpx"
      },
      "source": [
        "df_label = df_test['Label']\n",
        "data = df_test.drop(columns=['Label'])\n",
        "X_test = data.values\n",
        "y_test = encode_label(df_label.values)"
      ],
      "execution_count": 16,
      "outputs": []
    },
    {
      "cell_type": "code",
      "metadata": {
        "colab": {
          "base_uri": "https://localhost:8080/"
        },
        "id": "3TiRsoITOjpa",
        "outputId": "a99aa297-4cee-491f-99c8-6863bf99731b"
      },
      "source": [
        "\n",
        "scaler = MinMaxScaler()\n",
        "X_test = scaler.fit_transform(X_test)\n",
        "X_test"
      ],
      "execution_count": 17,
      "outputs": [
        {
          "output_type": "execute_result",
          "data": {
            "text/plain": [
              "array([[3.15166664e-05, 3.18823495e-05, 3.15083333e-05, ...,\n",
              "        0.00000000e+00, 0.00000000e+00, 0.00000000e+00],\n",
              "       [1.33333341e-01, 1.26050406e-07, 1.37500000e-01, ...,\n",
              "        0.00000000e+00, 1.33333333e-01, 1.33333333e-01],\n",
              "       [5.57552229e-01, 7.82646973e-04, 5.58332600e-01, ...,\n",
              "        0.00000000e+00, 5.57552225e-01, 5.57552225e-01],\n",
              "       ...,\n",
              "       [5.83333328e-08, 1.59663848e-07, 0.00000000e+00, ...,\n",
              "        0.00000000e+00, 0.00000000e+00, 0.00000000e+00],\n",
              "       [6.90833336e-01, 1.17647046e-07, 6.90833333e-01, ...,\n",
              "        0.00000000e+00, 6.90833333e-01, 6.90833333e-01],\n",
              "       [5.99999995e-07, 7.05882276e-07, 0.00000000e+00, ...,\n",
              "        0.00000000e+00, 0.00000000e+00, 0.00000000e+00]])"
            ]
          },
          "metadata": {
            "tags": []
          },
          "execution_count": 17
        }
      ]
    },
    {
      "cell_type": "code",
      "metadata": {
        "id": "Gk7xQVBqOmkS"
      },
      "source": [
        "df_label = df_val['Label']\n",
        "data = df_val.drop(columns=['Label'])\n",
        "X_val = data.values\n",
        "y_val = encode_label(df_label.values)"
      ],
      "execution_count": 18,
      "outputs": []
    },
    {
      "cell_type": "code",
      "metadata": {
        "colab": {
          "base_uri": "https://localhost:8080/"
        },
        "id": "8Ht5Al8KOof1",
        "outputId": "f8e2a3d2-b990-4e7c-962b-502d0c485f9d"
      },
      "source": [
        "scaler = MinMaxScaler()\n",
        "X_val = scaler.fit_transform(X_val)\n",
        "X_val"
      ],
      "execution_count": 19,
      "outputs": [
        {
          "output_type": "execute_result",
          "data": {
            "text/plain": [
              "array([[2.57266665e-04, 4.91666618e-07, 4.00000000e-07, ...,\n",
              "        0.00000000e+00, 0.00000000e+00, 0.00000000e+00],\n",
              "       [6.06815412e-02, 2.03333313e-06, 6.06877333e-02, ...,\n",
              "        0.00000000e+00, 6.06815333e-02, 6.06815333e-02],\n",
              "       [5.74729720e-01, 1.99166647e-04, 5.75011500e-01, ...,\n",
              "        0.00000000e+00, 5.74729717e-01, 5.74729717e-01],\n",
              "       ...,\n",
              "       [3.93333330e-06, 4.02499960e-06, 0.00000000e+00, ...,\n",
              "        0.00000000e+00, 0.00000000e+00, 0.00000000e+00],\n",
              "       [2.39374998e-04, 2.39466643e-04, 2.39366667e-04, ...,\n",
              "        0.00000000e+00, 0.00000000e+00, 0.00000000e+00],\n",
              "       [1.86666665e-06, 5.08333283e-07, 4.08333333e-07, ...,\n",
              "        0.00000000e+00, 0.00000000e+00, 0.00000000e+00]])"
            ]
          },
          "metadata": {
            "tags": []
          },
          "execution_count": 19
        }
      ]
    },
    {
      "cell_type": "code",
      "metadata": {
        "id": "APdnAtXVOq36"
      },
      "source": [
        "from tensorflow.keras.utils import to_categorical"
      ],
      "execution_count": 20,
      "outputs": []
    },
    {
      "cell_type": "code",
      "metadata": {
        "id": "BQEZvleNOs2l"
      },
      "source": [
        "y_train = to_categorical(y_train, 15)\n",
        "y_test = to_categorical(y_test, 15)\n",
        "y_val = to_categorical(y_val, 15)"
      ],
      "execution_count": 21,
      "outputs": []
    },
    {
      "cell_type": "code",
      "metadata": {
        "id": "BNapHjjBOunn"
      },
      "source": [
        "import tensorflow as tf\n",
        "from tensorflow.keras.models import Sequential\n",
        "from tensorflow.keras.layers import Conv1D, BatchNormalization, Flatten, Dense, Activation,Dropout\n",
        "from tensorflow.keras.constraints import max_norm"
      ],
      "execution_count": 22,
      "outputs": []
    },
    {
      "cell_type": "code",
      "metadata": {
        "colab": {
          "base_uri": "https://localhost:8080/"
        },
        "id": "LXDUhypfOwH-",
        "outputId": "746d1a8f-9a58-439f-9157-ae443c5d771b"
      },
      "source": [
        "#hyper-params\n",
        "batch_size = 1024 # increasing batch size with more gpu added\n",
        "input_dim = X_train.shape[1]\n",
        "num_class = 15                   # 15 intrusion classes, including benign traffic class\n",
        "num_epochs = 3\n",
        "learning_rates = 1e-3\n",
        "regularizations = 1e-3\n",
        "optim = tf.keras.optimizers.Adam(lr=learning_rates, beta_1=0.9, beta_2=0.999, epsilon=1e-8)\n",
        "\n",
        "print(input_dim)\n",
        "print(num_class)"
      ],
      "execution_count": 23,
      "outputs": [
        {
          "output_type": "stream",
          "text": [
            "60\n",
            "15\n"
          ],
          "name": "stdout"
        }
      ]
    },
    {
      "cell_type": "code",
      "metadata": {
        "colab": {
          "base_uri": "https://localhost:8080/"
        },
        "id": "o8r9pZyWOyVb",
        "outputId": "a3135540-822a-4b5b-9691-5f9f7ba43f48"
      },
      "source": [
        "X_train_r = np.zeros((len(X_train), input_dim, 1))\n",
        "X_train_r[:, :, 0] = X_train[:, :input_dim]\n",
        "print(X_train_r.shape)"
      ],
      "execution_count": 24,
      "outputs": [
        {
          "output_type": "stream",
          "text": [
            "(556690, 60, 1)\n"
          ],
          "name": "stdout"
        }
      ]
    },
    {
      "cell_type": "code",
      "metadata": {
        "colab": {
          "base_uri": "https://localhost:8080/"
        },
        "id": "viafi8iXO02K",
        "outputId": "4a750da2-18ae-41f4-ae7a-b3c261bc6599"
      },
      "source": [
        "X_test_r = np.zeros((len(X_test), input_dim, 1))\n",
        "X_test_r[:, :, 0] = X_test[:, :input_dim]\n",
        "print(X_test_r.shape)"
      ],
      "execution_count": 25,
      "outputs": [
        {
          "output_type": "stream",
          "text": [
            "(278338, 60, 1)\n"
          ],
          "name": "stdout"
        }
      ]
    },
    {
      "cell_type": "code",
      "metadata": {
        "colab": {
          "base_uri": "https://localhost:8080/"
        },
        "id": "4IQB8uziO1Vj",
        "outputId": "ca997d45-46a1-4188-e86b-71fcc172f6fd"
      },
      "source": [
        "X_val_r = np.zeros((len(X_val), input_dim, 1))\n",
        "X_val_r[:, :, 0] = X_val[:, :input_dim]\n",
        "print(X_val_r.shape)"
      ],
      "execution_count": 26,
      "outputs": [
        {
          "output_type": "stream",
          "text": [
            "(278338, 60, 1)\n"
          ],
          "name": "stdout"
        }
      ]
    },
    {
      "cell_type": "code",
      "metadata": {
        "colab": {
          "base_uri": "https://localhost:8080/"
        },
        "id": "17_v8WK-O5ld",
        "outputId": "8a4d0c2d-2ba9-4b92-beb1-647b0724794d"
      },
      "source": [
        "model = Sequential()\n",
        "\n",
        "# input layer\n",
        "model.add(Conv1D(filters=64, kernel_size=3, padding='same', input_shape=(71-start,1)))\n",
        "model.add(BatchNormalization(axis=1))\n",
        "model.add(Activation('relu'))\n",
        "\n",
        "\n",
        "model.add(Conv1D(filters=128, kernel_size=3))\n",
        "model.add(BatchNormalization(axis=1))\n",
        "model.add(Activation('relu'))\n",
        "\n",
        "model.add(Flatten())\n",
        "#model.add(Dense(100, activation='relu'))\n",
        "model.add(Dense(20, activation='relu'))\n",
        "model.add(Dense(num_class))\n",
        "model.add(Activation('softmax'))\n",
        "\n",
        "\n",
        "model.summary()"
      ],
      "execution_count": 27,
      "outputs": [
        {
          "output_type": "stream",
          "text": [
            "Model: \"sequential\"\n",
            "_________________________________________________________________\n",
            "Layer (type)                 Output Shape              Param #   \n",
            "=================================================================\n",
            "conv1d (Conv1D)              (None, 60, 64)            256       \n",
            "_________________________________________________________________\n",
            "batch_normalization (BatchNo (None, 60, 64)            240       \n",
            "_________________________________________________________________\n",
            "activation (Activation)      (None, 60, 64)            0         \n",
            "_________________________________________________________________\n",
            "conv1d_1 (Conv1D)            (None, 58, 128)           24704     \n",
            "_________________________________________________________________\n",
            "batch_normalization_1 (Batch (None, 58, 128)           232       \n",
            "_________________________________________________________________\n",
            "activation_1 (Activation)    (None, 58, 128)           0         \n",
            "_________________________________________________________________\n",
            "flatten (Flatten)            (None, 7424)              0         \n",
            "_________________________________________________________________\n",
            "dense (Dense)                (None, 20)                148500    \n",
            "_________________________________________________________________\n",
            "dense_1 (Dense)              (None, 15)                315       \n",
            "_________________________________________________________________\n",
            "activation_2 (Activation)    (None, 15)                0         \n",
            "=================================================================\n",
            "Total params: 174,247\n",
            "Trainable params: 174,011\n",
            "Non-trainable params: 236\n",
            "_________________________________________________________________\n"
          ],
          "name": "stdout"
        }
      ]
    },
    {
      "cell_type": "code",
      "metadata": {
        "id": "vIi3qJZ2O7sW"
      },
      "source": [
        "model.compile(loss='categorical_crossentropy', optimizer=optim, metrics=['accuracy'])"
      ],
      "execution_count": 28,
      "outputs": []
    },
    {
      "cell_type": "code",
      "metadata": {
        "colab": {
          "base_uri": "https://localhost:8080/"
        },
        "id": "598POauoO9fI",
        "outputId": "5d7f092b-c952-423c-b11c-330023ae762e"
      },
      "source": [
        "model.fit(X_train_r, y_train, epochs=num_epochs, batch_size=batch_size, validation_data=(X_val_r, y_val), verbose=1)"
      ],
      "execution_count": 29,
      "outputs": [
        {
          "output_type": "stream",
          "text": [
            "Epoch 1/3\n",
            "544/544 [==============================] - 388s 711ms/step - loss: 0.7315 - accuracy: 0.7648 - val_loss: 0.2360 - val_accuracy: 0.9140\n",
            "Epoch 2/3\n",
            "544/544 [==============================] - 386s 709ms/step - loss: 0.1270 - accuracy: 0.9588 - val_loss: 0.1047 - val_accuracy: 0.9678\n",
            "Epoch 3/3\n",
            "544/544 [==============================] - 389s 716ms/step - loss: 0.0958 - accuracy: 0.9687 - val_loss: 0.0822 - val_accuracy: 0.9745\n"
          ],
          "name": "stdout"
        },
        {
          "output_type": "execute_result",
          "data": {
            "text/plain": [
              "<tensorflow.python.keras.callbacks.History at 0x7f2d3f42cb90>"
            ]
          },
          "metadata": {
            "tags": []
          },
          "execution_count": 29
        }
      ]
    },
    {
      "cell_type": "code",
      "metadata": {
        "id": "NlNLfXFDO-xd"
      },
      "source": [
        "accuracy = model.evaluate(X_test_r, y_test, batch_size=batch_size, verbose=0)"
      ],
      "execution_count": 30,
      "outputs": []
    },
    {
      "cell_type": "code",
      "metadata": {
        "id": "5UcOooozPBX1"
      },
      "source": [
        "model.save('./cicids2017cnn.h5')"
      ],
      "execution_count": 31,
      "outputs": []
    },
    {
      "cell_type": "code",
      "metadata": {
        "id": "qhmvnifIPG59",
        "colab": {
          "base_uri": "https://localhost:8080/"
        },
        "outputId": "b5e5e218-3bf8-4933-da6b-be8918889306"
      },
      "source": [
        "weights_list = model.get_weights()\n",
        "i = 0\n",
        "for item in weights_list:\n",
        "    i=i+1\n",
        "    print(\"Layer \" + str(i))\n",
        "    if (i == 15):\n",
        "        fc = item.squeeze()\n",
        "\n",
        "print(fc)"
      ],
      "execution_count": 32,
      "outputs": [
        {
          "output_type": "stream",
          "text": [
            "Layer 1\n",
            "Layer 2\n",
            "Layer 3\n",
            "Layer 4\n",
            "Layer 5\n",
            "Layer 6\n",
            "Layer 7\n",
            "Layer 8\n",
            "Layer 9\n",
            "Layer 10\n",
            "Layer 11\n",
            "Layer 12\n",
            "Layer 13\n",
            "Layer 14\n",
            "Layer 15\n",
            "Layer 16\n",
            "[[-1.68125615e-01 -3.20429981e-01 -1.44134417e-01  2.69826412e-01\n",
            "   3.82113785e-01 -5.97994566e-01 -8.91191661e-02  3.74762535e-01\n",
            "   7.08100647e-02 -3.76121253e-01 -9.57596526e-02  3.23393315e-01\n",
            "  -8.05765092e-02 -7.50905350e-02 -8.37573037e-02]\n",
            " [ 1.86685875e-01 -1.91963002e-01 -2.52047241e-01  2.24342331e-01\n",
            "  -3.70688550e-02  1.35466978e-01  2.52895504e-01 -3.89544927e-02\n",
            "  -2.12894738e-01 -1.28927767e-01 -2.65423119e-01 -1.31036863e-01\n",
            "   2.29641363e-01 -7.13735372e-02  1.76639214e-01]\n",
            " [ 6.32681549e-02  3.02115023e-01 -4.36747260e-02  2.34494835e-01\n",
            "  -1.19117022e-01  3.87737870e-01  3.31916869e-01  1.40284136e-01\n",
            "  -3.02585602e-01  3.05571169e-01  2.63624996e-01  3.71345490e-01\n",
            "  -4.38185260e-02  2.99706347e-02  2.74805993e-01]\n",
            " [ 7.76343793e-02 -7.38935098e-02 -4.34885085e-01  3.37858737e-01\n",
            "   7.02532604e-02 -3.90608758e-01 -2.28581324e-01 -4.53517765e-01\n",
            "  -3.03704262e-01 -2.76282161e-01 -2.56705433e-01  2.38516375e-01\n",
            "   1.80959821e-01 -3.12049575e-02 -7.99143985e-02]\n",
            " [-1.83989510e-01  3.20656210e-01  2.54912674e-01 -3.80654067e-01\n",
            "   2.54835319e-02 -1.51753724e-02  2.41103053e-01  2.56594509e-01\n",
            "   7.20736235e-02  2.10658833e-01 -3.67875159e-01 -7.21868500e-02\n",
            "   2.42772326e-01 -1.62125453e-01  2.48422503e-01]\n",
            " [ 8.28532968e-03  2.75176406e-01  7.20504895e-02  2.07795069e-01\n",
            "   1.05751775e-01  3.03914428e-01 -7.64166936e-02 -1.14789277e-01\n",
            "   1.23420089e-01  2.03790084e-01 -9.17101502e-02  1.12417132e-01\n",
            "  -1.93301827e-01 -9.91067663e-02 -2.10062504e-01]\n",
            " [ 4.67907377e-02  4.37982865e-02  2.16083787e-02  2.55788118e-01\n",
            "   5.49222603e-02 -2.69420713e-01  7.97986053e-03 -2.46339992e-01\n",
            "   1.62198737e-01  1.85404912e-01  1.85679793e-01  1.69706494e-01\n",
            "   2.77600497e-01  5.00345044e-03 -4.17143345e-01]\n",
            " [ 9.48389992e-02  2.71827757e-01  2.71994203e-01 -4.02055711e-01\n",
            "  -3.18018317e-01  3.94654185e-01  1.39673546e-01 -2.77553558e-01\n",
            "   1.37911662e-01 -1.76180974e-01 -3.47958684e-01 -2.59317309e-01\n",
            "   5.42688929e-02 -3.84532958e-01  3.06393653e-01]\n",
            " [ 8.02185908e-02  9.05821100e-02 -8.56815353e-02 -4.66369539e-01\n",
            "  -4.48600978e-01  2.37340569e-01  6.65766448e-02 -1.82914466e-01\n",
            "  -4.04996216e-01  8.99571702e-02  2.82539427e-01 -3.34684610e-01\n",
            "  -2.26425692e-01 -7.20684677e-02 -3.07643980e-01]\n",
            " [-1.70849800e-01 -1.79920539e-01  1.28303068e-02 -1.66274905e-01\n",
            "  -4.73564751e-02 -1.80669025e-01 -1.74017608e-01  3.55144590e-01\n",
            "   1.82999283e-01  1.85878068e-01 -1.82924196e-01 -3.04929018e-01\n",
            "  -3.12434286e-01  2.24749073e-01  2.29970068e-01]\n",
            " [-3.43977332e-01  1.40121132e-01  3.30962539e-02  3.68546844e-01\n",
            "   2.58866008e-02  2.70125866e-01  1.35594711e-01  1.69424966e-01\n",
            "   2.00492993e-01  3.65404338e-01  1.20143957e-01 -7.33354241e-02\n",
            "   2.34137252e-01  1.90517455e-01 -3.19457352e-01]\n",
            " [ 1.98828742e-01  5.98632060e-02  3.05923790e-01  3.58238727e-01\n",
            "  -3.02284211e-01 -1.46498382e-01 -1.98222417e-02  2.13311374e-01\n",
            "   1.69231176e-01 -2.21853107e-01  3.10829818e-01 -1.87482059e-01\n",
            "  -4.15166169e-01  2.48243120e-02 -1.08309746e-01]\n",
            " [-3.29617202e-01 -3.82699281e-01 -3.44126940e-01 -3.57104450e-01\n",
            "  -1.56598106e-01 -4.08122480e-01 -1.58908471e-01  3.25159460e-01\n",
            "  -7.61364922e-02 -3.15738678e-01  2.50495404e-01 -6.88711852e-02\n",
            "   2.01944456e-01  3.89257595e-02  2.65886039e-01]\n",
            " [-1.26144156e-01 -3.45000923e-01  3.66566390e-01 -3.66297066e-01\n",
            "  -2.16530427e-01  7.94616193e-02  8.73855948e-02 -4.08822596e-01\n",
            "   2.36273915e-01  1.68759540e-01 -7.04538003e-02 -2.52861679e-01\n",
            "  -3.27835292e-01  4.72455136e-02  2.41733849e-01]\n",
            " [-3.67908478e-01  2.27578402e-01  2.08587632e-01  5.10995053e-02\n",
            "  -2.73294836e-01  7.99937025e-02  3.75046104e-01  2.86285877e-01\n",
            "   2.31437504e-01 -5.02725951e-02 -3.52665871e-01 -3.55930552e-02\n",
            "  -3.77639234e-01  3.19218308e-01  9.97838005e-02]\n",
            " [-1.05571352e-01  2.28062734e-01  3.36551428e-01 -4.88160998e-01\n",
            "   4.01310861e-01  4.65273291e-01  8.19416493e-02 -2.53196359e-01\n",
            "  -2.42989421e-01  2.20079511e-01  3.89741153e-01  1.39090270e-01\n",
            "  -3.51137787e-01 -2.01207459e-01  3.97549421e-02]\n",
            " [ 1.78533718e-01 -2.80400276e-01  4.86608148e-01 -1.18968472e-01\n",
            "   3.40467125e-01  2.78926969e-01  8.29800069e-02  5.56379497e-01\n",
            "  -1.47657432e-02  3.10341716e-01 -9.30764228e-02 -1.94107875e-01\n",
            "  -9.29630324e-02 -3.65918845e-01  4.05765604e-06]\n",
            " [ 2.32484080e-02  1.04728594e-01  5.65836057e-02 -3.59885573e-01\n",
            "  -4.07301486e-01  2.85868466e-01 -3.97522777e-01  1.47513123e-02\n",
            "  -2.84995317e-01 -2.12490074e-02  2.26163685e-01 -2.96504963e-02\n",
            "   2.54670590e-01 -3.01184446e-01 -1.25749270e-02]\n",
            " [ 8.32440853e-02  2.42926583e-01  3.16399872e-01 -3.49032313e-01\n",
            "  -2.99404323e-01 -3.73684466e-01 -6.68197870e-01 -4.99689639e-01\n",
            "   1.93618640e-01  1.39047243e-02 -2.70472616e-01  2.29180902e-02\n",
            "  -1.03555359e-01 -2.01452047e-01 -4.17415649e-02]\n",
            " [-2.84034908e-01  3.37486900e-02  3.77495855e-01 -4.94994931e-02\n",
            "  -2.44285494e-01 -1.34664223e-01  3.60010177e-01  1.86399326e-01\n",
            "  -6.59020767e-02  2.04344794e-01 -1.12761825e-01 -2.00449228e-01\n",
            "   3.58761102e-01 -6.49855062e-02  1.16809256e-01]]\n"
          ],
          "name": "stdout"
        }
      ]
    },
    {
      "cell_type": "code",
      "metadata": {
        "id": "LSd8mpJ_PLBq"
      },
      "source": [
        "from sklearn.metrics import accuracy_score\n",
        "from sklearn.metrics import precision_score\n",
        "from sklearn.metrics import recall_score\n",
        "from sklearn.metrics import f1_score\n",
        "from sklearn.metrics import cohen_kappa_score\n",
        "from sklearn.metrics import roc_auc_score\n",
        "from sklearn.metrics import confusion_matrix"
      ],
      "execution_count": 33,
      "outputs": []
    },
    {
      "cell_type": "code",
      "metadata": {
        "id": "oNNWyq1SPMgl"
      },
      "source": [
        "df_label = df_test['Label']\n",
        "ytest = encode_label(df_label.values)\n"
      ],
      "execution_count": 34,
      "outputs": []
    },
    {
      "cell_type": "code",
      "metadata": {
        "id": "urexMcARPOAT",
        "colab": {
          "base_uri": "https://localhost:8080/"
        },
        "outputId": "6c797bf5-b877-4cd3-b544-9da4ef2d4515"
      },
      "source": [
        "\n",
        "# predict probabilities for test set\n",
        "yhat_probs = model.predict(X_test_r, verbose=0)\n",
        "\n",
        "# predict crisp classes for test set\n",
        "yhat_classes = model.predict_classes(X_test_r, verbose=0)\n",
        "\n",
        "# reduce to 1d array\n",
        "yhat_probs = yhat_probs[:, 0]\n",
        "#yhat_classes = yhat_classes[:, 0]"
      ],
      "execution_count": 35,
      "outputs": [
        {
          "output_type": "stream",
          "text": [
            "/usr/local/lib/python3.7/dist-packages/tensorflow/python/keras/engine/sequential.py:450: UserWarning: `model.predict_classes()` is deprecated and will be removed after 2021-01-01. Please use instead:* `np.argmax(model.predict(x), axis=-1)`,   if your model does multi-class classification   (e.g. if it uses a `softmax` last-layer activation).* `(model.predict(x) > 0.5).astype(\"int32\")`,   if your model does binary classification   (e.g. if it uses a `sigmoid` last-layer activation).\n",
            "  warnings.warn('`model.predict_classes()` is deprecated and '\n"
          ],
          "name": "stderr"
        }
      ]
    },
    {
      "cell_type": "code",
      "metadata": {
        "id": "sfCwP070PQcR",
        "colab": {
          "base_uri": "https://localhost:8080/"
        },
        "outputId": "86379d5c-e331-441f-b84e-0f2ccd8f2bac"
      },
      "source": [
        "accuracy = accuracy_score(ytest, yhat_classes)\n",
        "print('Accuracy: %f' % accuracy)"
      ],
      "execution_count": 36,
      "outputs": [
        {
          "output_type": "stream",
          "text": [
            "Accuracy: 0.970593\n"
          ],
          "name": "stdout"
        }
      ]
    },
    {
      "cell_type": "code",
      "metadata": {
        "id": "7J2HjPL1PRvO",
        "colab": {
          "base_uri": "https://localhost:8080/"
        },
        "outputId": "43390c67-686c-43b8-8abb-12c1686745be"
      },
      "source": [
        "precision = precision_score(ytest, yhat_classes, labels=[1,2], average='micro')\n",
        "# labels is a list of all possible class labels\n",
        "print('Precision: %f' % precision)"
      ],
      "execution_count": 37,
      "outputs": [
        {
          "output_type": "stream",
          "text": [
            "Precision: 0.971445\n"
          ],
          "name": "stdout"
        }
      ]
    },
    {
      "cell_type": "code",
      "metadata": {
        "id": "NVMcihZqPTXg",
        "colab": {
          "base_uri": "https://localhost:8080/"
        },
        "outputId": "9eced4ac-14d9-4958-e2bb-0b346056c2dd"
      },
      "source": [
        "recall = recall_score(ytest, yhat_classes, average='weighted')\n",
        "print('Recall: %f' % recall)"
      ],
      "execution_count": 38,
      "outputs": [
        {
          "output_type": "stream",
          "text": [
            "Recall: 0.970593\n"
          ],
          "name": "stdout"
        }
      ]
    },
    {
      "cell_type": "code",
      "metadata": {
        "id": "fHONNXH1PU7q",
        "colab": {
          "base_uri": "https://localhost:8080/"
        },
        "outputId": "c38f6b4d-5a60-4653-9099-3f91769c2c16"
      },
      "source": [
        "f1 = f1_score(ytest, yhat_classes, average='weighted')\n",
        "print('F1 score: %f' % f1)"
      ],
      "execution_count": 39,
      "outputs": [
        {
          "output_type": "stream",
          "text": [
            "F1 score: 0.969177\n"
          ],
          "name": "stdout"
        }
      ]
    },
    {
      "cell_type": "code",
      "metadata": {
        "id": "OM9gjQf4PW-c",
        "colab": {
          "base_uri": "https://localhost:8080/"
        },
        "outputId": "de7a7201-bfa8-4682-c7d5-0a99b7a84b0d"
      },
      "source": [
        "kappa = cohen_kappa_score(ytest, yhat_classes)\n",
        "print('Cohens kappa: %f' % kappa)\n",
        "\n",
        "# confusion matrix\n",
        "matrix = confusion_matrix(ytest, yhat_classes)\n",
        "print(matrix)"
      ],
      "execution_count": 40,
      "outputs": [
        {
          "output_type": "stream",
          "text": [
            "Cohens kappa: 0.956599\n",
            "[[133290    186    755     70   2419     60     33    323      0      0\n",
            "    2026      7      0      0      0]\n",
            " [   204    287      0      0      0      0      0      0      0      0\n",
            "       0      0      0      0      0]\n",
            " [    42      0  31862      2    100      0      0      0      0      0\n",
            "       0      0      0      0      0]\n",
            " [    83      0      0   2487      0      0      3      0      0      0\n",
            "       0      0      0      0      0]\n",
            " [   149      0      1     15  57334      0      0      9      0      0\n",
            "       0     23      0      0      0]\n",
            " [    63      0      0      2      0   1245     64      0      0      0\n",
            "       0      0      0      0      0]\n",
            " [    49      0      0      2      0     27   1302     69      0      0\n",
            "       0      0      0      0      0]\n",
            " [     5      0      0      0      3      0      3   1973      0      0\n",
            "       0      0      0      0      0]\n",
            " [     1      0      0      0      0      0      0      0      0      0\n",
            "       0      1      0      0      0]\n",
            " [     8      1      0      0      0      0      0      0      0      0\n",
            "       0      0      0      0      0]\n",
            " [    43      0      2      6     23      0      0      0      0      0\n",
            "   39658      0      0      0      0]\n",
            " [   752      0      0      0      1      0      1      0      0      0\n",
            "       5    715      0      0      0]\n",
            " [   363      0      0     13      0      0      0      0      0      0\n",
            "       0      0      0      0      0]\n",
            " [     5      0      0      0      0      0      0      0      0      0\n",
            "       0      0      0      0      0]\n",
            " [   162      0      0      1      0      0      0      0      0      0\n",
            "       0      0      0      0      0]]\n"
          ],
          "name": "stdout"
        }
      ]
    },
    {
      "cell_type": "code",
      "metadata": {
        "id": "KsEyduhlVJX4",
        "colab": {
          "base_uri": "https://localhost:8080/"
        },
        "outputId": "ac9389c7-1bb7-4804-805d-fb772be5d454"
      },
      "source": [
        "!pip install shap"
      ],
      "execution_count": 41,
      "outputs": [
        {
          "output_type": "stream",
          "text": [
            "Collecting shap\n",
            "\u001b[?25l  Downloading https://files.pythonhosted.org/packages/b9/f4/c5b95cddae15be80f8e58b25edceca105aa83c0b8c86a1edad24a6af80d3/shap-0.39.0.tar.gz (356kB)\n",
            "\r\u001b[K     |█                               | 10kB 11.7MB/s eta 0:00:01\r\u001b[K     |█▉                              | 20kB 12.9MB/s eta 0:00:01\r\u001b[K     |██▊                             | 30kB 6.6MB/s eta 0:00:01\r\u001b[K     |███▊                            | 40kB 5.6MB/s eta 0:00:01\r\u001b[K     |████▋                           | 51kB 4.6MB/s eta 0:00:01\r\u001b[K     |█████▌                          | 61kB 5.4MB/s eta 0:00:01\r\u001b[K     |██████▍                         | 71kB 5.1MB/s eta 0:00:01\r\u001b[K     |███████▍                        | 81kB 5.0MB/s eta 0:00:01\r\u001b[K     |████████▎                       | 92kB 5.1MB/s eta 0:00:01\r\u001b[K     |█████████▏                      | 102kB 4.5MB/s eta 0:00:01\r\u001b[K     |██████████▏                     | 112kB 4.5MB/s eta 0:00:01\r\u001b[K     |███████████                     | 122kB 4.5MB/s eta 0:00:01\r\u001b[K     |████████████                    | 133kB 4.5MB/s eta 0:00:01\r\u001b[K     |████████████▉                   | 143kB 4.5MB/s eta 0:00:01\r\u001b[K     |█████████████▉                  | 153kB 4.5MB/s eta 0:00:01\r\u001b[K     |██████████████▊                 | 163kB 4.5MB/s eta 0:00:01\r\u001b[K     |███████████████▋                | 174kB 4.5MB/s eta 0:00:01\r\u001b[K     |████████████████▋               | 184kB 4.5MB/s eta 0:00:01\r\u001b[K     |█████████████████▌              | 194kB 4.5MB/s eta 0:00:01\r\u001b[K     |██████████████████▍             | 204kB 4.5MB/s eta 0:00:01\r\u001b[K     |███████████████████▎            | 215kB 4.5MB/s eta 0:00:01\r\u001b[K     |████████████████████▎           | 225kB 4.5MB/s eta 0:00:01\r\u001b[K     |█████████████████████▏          | 235kB 4.5MB/s eta 0:00:01\r\u001b[K     |██████████████████████          | 245kB 4.5MB/s eta 0:00:01\r\u001b[K     |███████████████████████         | 256kB 4.5MB/s eta 0:00:01\r\u001b[K     |████████████████████████        | 266kB 4.5MB/s eta 0:00:01\r\u001b[K     |████████████████████████▉       | 276kB 4.5MB/s eta 0:00:01\r\u001b[K     |█████████████████████████▊      | 286kB 4.5MB/s eta 0:00:01\r\u001b[K     |██████████████████████████▊     | 296kB 4.5MB/s eta 0:00:01\r\u001b[K     |███████████████████████████▋    | 307kB 4.5MB/s eta 0:00:01\r\u001b[K     |████████████████████████████▌   | 317kB 4.5MB/s eta 0:00:01\r\u001b[K     |█████████████████████████████▍  | 327kB 4.5MB/s eta 0:00:01\r\u001b[K     |██████████████████████████████▍ | 337kB 4.5MB/s eta 0:00:01\r\u001b[K     |███████████████████████████████▎| 348kB 4.5MB/s eta 0:00:01\r\u001b[K     |████████████████████████████████| 358kB 4.5MB/s \n",
            "\u001b[?25hRequirement already satisfied: numpy in /usr/local/lib/python3.7/dist-packages (from shap) (1.19.5)\n",
            "Requirement already satisfied: scipy in /usr/local/lib/python3.7/dist-packages (from shap) (1.4.1)\n",
            "Requirement already satisfied: scikit-learn in /usr/local/lib/python3.7/dist-packages (from shap) (0.22.2.post1)\n",
            "Requirement already satisfied: pandas in /usr/local/lib/python3.7/dist-packages (from shap) (1.1.5)\n",
            "Requirement already satisfied: tqdm>4.25.0 in /usr/local/lib/python3.7/dist-packages (from shap) (4.41.1)\n",
            "Collecting slicer==0.0.7\n",
            "  Downloading https://files.pythonhosted.org/packages/78/c2/b3f55dfdb8af9812fdb9baf70cacf3b9e82e505b2bd4324d588888b81202/slicer-0.0.7-py3-none-any.whl\n",
            "Requirement already satisfied: numba in /usr/local/lib/python3.7/dist-packages (from shap) (0.51.2)\n",
            "Requirement already satisfied: cloudpickle in /usr/local/lib/python3.7/dist-packages (from shap) (1.3.0)\n",
            "Requirement already satisfied: joblib>=0.11 in /usr/local/lib/python3.7/dist-packages (from scikit-learn->shap) (1.0.1)\n",
            "Requirement already satisfied: pytz>=2017.2 in /usr/local/lib/python3.7/dist-packages (from pandas->shap) (2018.9)\n",
            "Requirement already satisfied: python-dateutil>=2.7.3 in /usr/local/lib/python3.7/dist-packages (from pandas->shap) (2.8.1)\n",
            "Requirement already satisfied: setuptools in /usr/local/lib/python3.7/dist-packages (from numba->shap) (54.2.0)\n",
            "Requirement already satisfied: llvmlite<0.35,>=0.34.0.dev0 in /usr/local/lib/python3.7/dist-packages (from numba->shap) (0.34.0)\n",
            "Requirement already satisfied: six>=1.5 in /usr/local/lib/python3.7/dist-packages (from python-dateutil>=2.7.3->pandas->shap) (1.15.0)\n",
            "Building wheels for collected packages: shap\n",
            "  Building wheel for shap (setup.py) ... \u001b[?25l\u001b[?25hdone\n",
            "  Created wheel for shap: filename=shap-0.39.0-cp37-cp37m-linux_x86_64.whl size=491618 sha256=77360f5b78f976ad272959a1b328e97cbd0ca9f37c520152d8b6d3b8d7582aa7\n",
            "  Stored in directory: /root/.cache/pip/wheels/15/27/f5/a8ab9da52fd159aae6477b5ede6eaaec69fd130fa0fa59f283\n",
            "Successfully built shap\n",
            "Installing collected packages: slicer, shap\n",
            "Successfully installed shap-0.39.0 slicer-0.0.7\n"
          ],
          "name": "stdout"
        }
      ]
    },
    {
      "cell_type": "code",
      "metadata": {
        "id": "_FlzVnSYc10x"
      },
      "source": [
        "import shap"
      ],
      "execution_count": 42,
      "outputs": []
    },
    {
      "cell_type": "code",
      "metadata": {
        "id": "wXimTQ42qZ0i",
        "colab": {
          "base_uri": "https://localhost:8080/"
        },
        "outputId": "d70e1b98-f5b7-40d2-981a-6bf42b612a8a"
      },
      "source": [
        "X_train_r.shape"
      ],
      "execution_count": 43,
      "outputs": [
        {
          "output_type": "execute_result",
          "data": {
            "text/plain": [
              "(556690, 60, 1)"
            ]
          },
          "metadata": {
            "tags": []
          },
          "execution_count": 43
        }
      ]
    },
    {
      "cell_type": "code",
      "metadata": {
        "id": "P6z9lIDS3Gap"
      },
      "source": [
        ""
      ],
      "execution_count": 43,
      "outputs": []
    },
    {
      "cell_type": "code",
      "metadata": {
        "id": "A2F3V0YT9X-d"
      },
      "source": [
        "import shap"
      ],
      "execution_count": 44,
      "outputs": []
    },
    {
      "cell_type": "code",
      "metadata": {
        "colab": {
          "base_uri": "https://localhost:8080/"
        },
        "id": "URHCZ8pHYB6l",
        "outputId": "adbeec7b-f469-4ec1-bd11-ef5ce343c5f4"
      },
      "source": [
        "X_train_r.shape"
      ],
      "execution_count": 46,
      "outputs": [
        {
          "output_type": "execute_result",
          "data": {
            "text/plain": [
              "(556690, 60, 1)"
            ]
          },
          "metadata": {
            "tags": []
          },
          "execution_count": 46
        }
      ]
    },
    {
      "cell_type": "code",
      "metadata": {
        "colab": {
          "base_uri": "https://localhost:8080/",
          "height": 633
        },
        "id": "qV0ITo-WVKOk",
        "outputId": "db66a6ef-e580-4ad1-f891-7838d8fb1570"
      },
      "source": [
        "background =X_train_r[np.random.choice(X_train_r.shape[0], 100, replace=False)]\n",
        "\n",
        "# explain predictions of the model on four images\n",
        "e = shap.DeepExplainer(model, background)\n",
        "\n",
        "shap_values = e.shap_values(X_test_r[1:5])"
      ],
      "execution_count": 45,
      "outputs": [
        {
          "output_type": "stream",
          "text": [
            "keras is no longer supported, please use tf.keras instead.\n",
            "Your TensorFlow version is newer than 2.4.0 and so graph support has been removed in eager mode. See PR #1483 for discussion.\n",
            "`tf.keras.backend.set_learning_phase` is deprecated and will be removed after 2020-10-11. To update it, simply pass a True/False value to the `training` argument of the `__call__` method of your layer or model.\n"
          ],
          "name": "stderr"
        },
        {
          "output_type": "error",
          "ename": "StagingError",
          "evalue": "ignored",
          "traceback": [
            "\u001b[0;31m---------------------------------------------------------------------------\u001b[0m",
            "\u001b[0;31mStagingError\u001b[0m                              Traceback (most recent call last)",
            "\u001b[0;32m<ipython-input-45-9ef67bb10ace>\u001b[0m in \u001b[0;36m<module>\u001b[0;34m()\u001b[0m\n\u001b[1;32m      4\u001b[0m \u001b[0me\u001b[0m \u001b[0;34m=\u001b[0m \u001b[0mshap\u001b[0m\u001b[0;34m.\u001b[0m\u001b[0mDeepExplainer\u001b[0m\u001b[0;34m(\u001b[0m\u001b[0mmodel\u001b[0m\u001b[0;34m,\u001b[0m \u001b[0mbackground\u001b[0m\u001b[0;34m)\u001b[0m\u001b[0;34m\u001b[0m\u001b[0;34m\u001b[0m\u001b[0m\n\u001b[1;32m      5\u001b[0m \u001b[0;34m\u001b[0m\u001b[0m\n\u001b[0;32m----> 6\u001b[0;31m \u001b[0mshap_values\u001b[0m \u001b[0;34m=\u001b[0m \u001b[0me\u001b[0m\u001b[0;34m.\u001b[0m\u001b[0mshap_values\u001b[0m\u001b[0;34m(\u001b[0m\u001b[0mX_test_r\u001b[0m\u001b[0;34m[\u001b[0m\u001b[0;36m1\u001b[0m\u001b[0;34m:\u001b[0m\u001b[0;36m5\u001b[0m\u001b[0;34m]\u001b[0m\u001b[0;34m)\u001b[0m\u001b[0;34m\u001b[0m\u001b[0;34m\u001b[0m\u001b[0m\n\u001b[0m",
            "\u001b[0;32m/usr/local/lib/python3.7/dist-packages/shap/explainers/_deep/__init__.py\u001b[0m in \u001b[0;36mshap_values\u001b[0;34m(self, X, ranked_outputs, output_rank_order, check_additivity)\u001b[0m\n\u001b[1;32m    122\u001b[0m             \u001b[0mwere\u001b[0m \u001b[0mchosen\u001b[0m \u001b[0;32mas\u001b[0m \u001b[0;34m\"top\"\u001b[0m\u001b[0;34m.\u001b[0m\u001b[0;34m\u001b[0m\u001b[0;34m\u001b[0m\u001b[0m\n\u001b[1;32m    123\u001b[0m         \"\"\"\n\u001b[0;32m--> 124\u001b[0;31m         \u001b[0;32mreturn\u001b[0m \u001b[0mself\u001b[0m\u001b[0;34m.\u001b[0m\u001b[0mexplainer\u001b[0m\u001b[0;34m.\u001b[0m\u001b[0mshap_values\u001b[0m\u001b[0;34m(\u001b[0m\u001b[0mX\u001b[0m\u001b[0;34m,\u001b[0m \u001b[0mranked_outputs\u001b[0m\u001b[0;34m,\u001b[0m \u001b[0moutput_rank_order\u001b[0m\u001b[0;34m,\u001b[0m \u001b[0mcheck_additivity\u001b[0m\u001b[0;34m=\u001b[0m\u001b[0mcheck_additivity\u001b[0m\u001b[0;34m)\u001b[0m\u001b[0;34m\u001b[0m\u001b[0;34m\u001b[0m\u001b[0m\n\u001b[0m",
            "\u001b[0;32m/usr/local/lib/python3.7/dist-packages/shap/explainers/_deep/deep_tf.py\u001b[0m in \u001b[0;36mshap_values\u001b[0;34m(self, X, ranked_outputs, output_rank_order, check_additivity)\u001b[0m\n\u001b[1;32m    306\u001b[0m                 \u001b[0;31m# run attribution computation graph\u001b[0m\u001b[0;34m\u001b[0m\u001b[0;34m\u001b[0m\u001b[0;34m\u001b[0m\u001b[0m\n\u001b[1;32m    307\u001b[0m                 \u001b[0mfeature_ind\u001b[0m \u001b[0;34m=\u001b[0m \u001b[0mmodel_output_ranks\u001b[0m\u001b[0;34m[\u001b[0m\u001b[0mj\u001b[0m\u001b[0;34m,\u001b[0m\u001b[0mi\u001b[0m\u001b[0;34m]\u001b[0m\u001b[0;34m\u001b[0m\u001b[0;34m\u001b[0m\u001b[0m\n\u001b[0;32m--> 308\u001b[0;31m                 \u001b[0msample_phis\u001b[0m \u001b[0;34m=\u001b[0m \u001b[0mself\u001b[0m\u001b[0;34m.\u001b[0m\u001b[0mrun\u001b[0m\u001b[0;34m(\u001b[0m\u001b[0mself\u001b[0m\u001b[0;34m.\u001b[0m\u001b[0mphi_symbolic\u001b[0m\u001b[0;34m(\u001b[0m\u001b[0mfeature_ind\u001b[0m\u001b[0;34m)\u001b[0m\u001b[0;34m,\u001b[0m \u001b[0mself\u001b[0m\u001b[0;34m.\u001b[0m\u001b[0mmodel_inputs\u001b[0m\u001b[0;34m,\u001b[0m \u001b[0mjoint_input\u001b[0m\u001b[0;34m)\u001b[0m\u001b[0;34m\u001b[0m\u001b[0;34m\u001b[0m\u001b[0m\n\u001b[0m\u001b[1;32m    309\u001b[0m \u001b[0;34m\u001b[0m\u001b[0m\n\u001b[1;32m    310\u001b[0m                 \u001b[0;31m# assign the attributions to the right part of the output arrays\u001b[0m\u001b[0;34m\u001b[0m\u001b[0;34m\u001b[0m\u001b[0;34m\u001b[0m\u001b[0m\n",
            "\u001b[0;32m/usr/local/lib/python3.7/dist-packages/shap/explainers/_deep/deep_tf.py\u001b[0m in \u001b[0;36mrun\u001b[0;34m(self, out, model_inputs, X)\u001b[0m\n\u001b[1;32m    363\u001b[0m \u001b[0;34m\u001b[0m\u001b[0m\n\u001b[1;32m    364\u001b[0m                 \u001b[0;32mreturn\u001b[0m \u001b[0mfinal_out\u001b[0m\u001b[0;34m\u001b[0m\u001b[0;34m\u001b[0m\u001b[0m\n\u001b[0;32m--> 365\u001b[0;31m             \u001b[0;32mreturn\u001b[0m \u001b[0mself\u001b[0m\u001b[0;34m.\u001b[0m\u001b[0mexecute_with_overridden_gradients\u001b[0m\u001b[0;34m(\u001b[0m\u001b[0manon\u001b[0m\u001b[0;34m)\u001b[0m\u001b[0;34m\u001b[0m\u001b[0;34m\u001b[0m\u001b[0m\n\u001b[0m\u001b[1;32m    366\u001b[0m \u001b[0;34m\u001b[0m\u001b[0m\n\u001b[1;32m    367\u001b[0m     \u001b[0;32mdef\u001b[0m \u001b[0mcustom_grad\u001b[0m\u001b[0;34m(\u001b[0m\u001b[0mself\u001b[0m\u001b[0;34m,\u001b[0m \u001b[0mop\u001b[0m\u001b[0;34m,\u001b[0m \u001b[0;34m*\u001b[0m\u001b[0mgrads\u001b[0m\u001b[0;34m)\u001b[0m\u001b[0;34m:\u001b[0m\u001b[0;34m\u001b[0m\u001b[0;34m\u001b[0m\u001b[0m\n",
            "\u001b[0;32m/usr/local/lib/python3.7/dist-packages/shap/explainers/_deep/deep_tf.py\u001b[0m in \u001b[0;36mexecute_with_overridden_gradients\u001b[0;34m(self, f)\u001b[0m\n\u001b[1;32m    399\u001b[0m         \u001b[0;31m# define the computation graph for the attribution values using a custom gradient-like computation\u001b[0m\u001b[0;34m\u001b[0m\u001b[0;34m\u001b[0m\u001b[0;34m\u001b[0m\u001b[0m\n\u001b[1;32m    400\u001b[0m         \u001b[0;32mtry\u001b[0m\u001b[0;34m:\u001b[0m\u001b[0;34m\u001b[0m\u001b[0;34m\u001b[0m\u001b[0m\n\u001b[0;32m--> 401\u001b[0;31m             \u001b[0mout\u001b[0m \u001b[0;34m=\u001b[0m \u001b[0mf\u001b[0m\u001b[0;34m(\u001b[0m\u001b[0;34m)\u001b[0m\u001b[0;34m\u001b[0m\u001b[0;34m\u001b[0m\u001b[0m\n\u001b[0m\u001b[1;32m    402\u001b[0m         \u001b[0;32mfinally\u001b[0m\u001b[0;34m:\u001b[0m\u001b[0;34m\u001b[0m\u001b[0;34m\u001b[0m\u001b[0m\n\u001b[1;32m    403\u001b[0m             \u001b[0;31m# reinstate the backpropagatable check\u001b[0m\u001b[0;34m\u001b[0m\u001b[0;34m\u001b[0m\u001b[0;34m\u001b[0m\u001b[0m\n",
            "\u001b[0;32m/usr/local/lib/python3.7/dist-packages/shap/explainers/_deep/deep_tf.py\u001b[0m in \u001b[0;36manon\u001b[0;34m()\u001b[0m\n\u001b[1;32m    359\u001b[0m                     \u001b[0mv\u001b[0m \u001b[0;34m=\u001b[0m \u001b[0mtf\u001b[0m\u001b[0;34m.\u001b[0m\u001b[0mconstant\u001b[0m\u001b[0;34m(\u001b[0m\u001b[0mdata\u001b[0m\u001b[0;34m,\u001b[0m \u001b[0mdtype\u001b[0m\u001b[0;34m=\u001b[0m\u001b[0mself\u001b[0m\u001b[0;34m.\u001b[0m\u001b[0mmodel_inputs\u001b[0m\u001b[0;34m[\u001b[0m\u001b[0mi\u001b[0m\u001b[0;34m]\u001b[0m\u001b[0;34m.\u001b[0m\u001b[0mdtype\u001b[0m\u001b[0;34m)\u001b[0m\u001b[0;34m\u001b[0m\u001b[0;34m\u001b[0m\u001b[0m\n\u001b[1;32m    360\u001b[0m                     \u001b[0minputs\u001b[0m\u001b[0;34m.\u001b[0m\u001b[0mappend\u001b[0m\u001b[0;34m(\u001b[0m\u001b[0mv\u001b[0m\u001b[0;34m)\u001b[0m\u001b[0;34m\u001b[0m\u001b[0;34m\u001b[0m\u001b[0m\n\u001b[0;32m--> 361\u001b[0;31m                 \u001b[0mfinal_out\u001b[0m \u001b[0;34m=\u001b[0m \u001b[0mout\u001b[0m\u001b[0;34m(\u001b[0m\u001b[0minputs\u001b[0m\u001b[0;34m)\u001b[0m\u001b[0;34m\u001b[0m\u001b[0;34m\u001b[0m\u001b[0m\n\u001b[0m\u001b[1;32m    362\u001b[0m                 \u001b[0mtf_execute\u001b[0m\u001b[0;34m.\u001b[0m\u001b[0mrecord_gradient\u001b[0m \u001b[0;34m=\u001b[0m \u001b[0mtf_backprop\u001b[0m\u001b[0;34m.\u001b[0m\u001b[0m_record_gradient\u001b[0m\u001b[0;34m\u001b[0m\u001b[0;34m\u001b[0m\u001b[0m\n\u001b[1;32m    363\u001b[0m \u001b[0;34m\u001b[0m\u001b[0m\n",
            "\u001b[0;32m/usr/local/lib/python3.7/dist-packages/tensorflow/python/eager/def_function.py\u001b[0m in \u001b[0;36m__call__\u001b[0;34m(self, *args, **kwds)\u001b[0m\n\u001b[1;32m    826\u001b[0m     \u001b[0mtracing_count\u001b[0m \u001b[0;34m=\u001b[0m \u001b[0mself\u001b[0m\u001b[0;34m.\u001b[0m\u001b[0mexperimental_get_tracing_count\u001b[0m\u001b[0;34m(\u001b[0m\u001b[0;34m)\u001b[0m\u001b[0;34m\u001b[0m\u001b[0;34m\u001b[0m\u001b[0m\n\u001b[1;32m    827\u001b[0m     \u001b[0;32mwith\u001b[0m \u001b[0mtrace\u001b[0m\u001b[0;34m.\u001b[0m\u001b[0mTrace\u001b[0m\u001b[0;34m(\u001b[0m\u001b[0mself\u001b[0m\u001b[0;34m.\u001b[0m\u001b[0m_name\u001b[0m\u001b[0;34m)\u001b[0m \u001b[0;32mas\u001b[0m \u001b[0mtm\u001b[0m\u001b[0;34m:\u001b[0m\u001b[0;34m\u001b[0m\u001b[0;34m\u001b[0m\u001b[0m\n\u001b[0;32m--> 828\u001b[0;31m       \u001b[0mresult\u001b[0m \u001b[0;34m=\u001b[0m \u001b[0mself\u001b[0m\u001b[0;34m.\u001b[0m\u001b[0m_call\u001b[0m\u001b[0;34m(\u001b[0m\u001b[0;34m*\u001b[0m\u001b[0margs\u001b[0m\u001b[0;34m,\u001b[0m \u001b[0;34m**\u001b[0m\u001b[0mkwds\u001b[0m\u001b[0;34m)\u001b[0m\u001b[0;34m\u001b[0m\u001b[0;34m\u001b[0m\u001b[0m\n\u001b[0m\u001b[1;32m    829\u001b[0m       \u001b[0mcompiler\u001b[0m \u001b[0;34m=\u001b[0m \u001b[0;34m\"xla\"\u001b[0m \u001b[0;32mif\u001b[0m \u001b[0mself\u001b[0m\u001b[0;34m.\u001b[0m\u001b[0m_experimental_compile\u001b[0m \u001b[0;32melse\u001b[0m \u001b[0;34m\"nonXla\"\u001b[0m\u001b[0;34m\u001b[0m\u001b[0;34m\u001b[0m\u001b[0m\n\u001b[1;32m    830\u001b[0m       \u001b[0mnew_tracing_count\u001b[0m \u001b[0;34m=\u001b[0m \u001b[0mself\u001b[0m\u001b[0;34m.\u001b[0m\u001b[0mexperimental_get_tracing_count\u001b[0m\u001b[0;34m(\u001b[0m\u001b[0;34m)\u001b[0m\u001b[0;34m\u001b[0m\u001b[0;34m\u001b[0m\u001b[0m\n",
            "\u001b[0;32m/usr/local/lib/python3.7/dist-packages/tensorflow/python/eager/def_function.py\u001b[0m in \u001b[0;36m_call\u001b[0;34m(self, *args, **kwds)\u001b[0m\n\u001b[1;32m    869\u001b[0m       \u001b[0;31m# This is the first call of __call__, so we have to initialize.\u001b[0m\u001b[0;34m\u001b[0m\u001b[0;34m\u001b[0m\u001b[0;34m\u001b[0m\u001b[0m\n\u001b[1;32m    870\u001b[0m       \u001b[0minitializers\u001b[0m \u001b[0;34m=\u001b[0m \u001b[0;34m[\u001b[0m\u001b[0;34m]\u001b[0m\u001b[0;34m\u001b[0m\u001b[0;34m\u001b[0m\u001b[0m\n\u001b[0;32m--> 871\u001b[0;31m       \u001b[0mself\u001b[0m\u001b[0;34m.\u001b[0m\u001b[0m_initialize\u001b[0m\u001b[0;34m(\u001b[0m\u001b[0margs\u001b[0m\u001b[0;34m,\u001b[0m \u001b[0mkwds\u001b[0m\u001b[0;34m,\u001b[0m \u001b[0madd_initializers_to\u001b[0m\u001b[0;34m=\u001b[0m\u001b[0minitializers\u001b[0m\u001b[0;34m)\u001b[0m\u001b[0;34m\u001b[0m\u001b[0;34m\u001b[0m\u001b[0m\n\u001b[0m\u001b[1;32m    872\u001b[0m     \u001b[0;32mfinally\u001b[0m\u001b[0;34m:\u001b[0m\u001b[0;34m\u001b[0m\u001b[0;34m\u001b[0m\u001b[0m\n\u001b[1;32m    873\u001b[0m       \u001b[0;31m# At this point we know that the initialization is complete (or less\u001b[0m\u001b[0;34m\u001b[0m\u001b[0;34m\u001b[0m\u001b[0;34m\u001b[0m\u001b[0m\n",
            "\u001b[0;32m/usr/local/lib/python3.7/dist-packages/tensorflow/python/eager/def_function.py\u001b[0m in \u001b[0;36m_initialize\u001b[0;34m(self, args, kwds, add_initializers_to)\u001b[0m\n\u001b[1;32m    724\u001b[0m     self._concrete_stateful_fn = (\n\u001b[1;32m    725\u001b[0m         self._stateful_fn._get_concrete_function_internal_garbage_collected(  # pylint: disable=protected-access\n\u001b[0;32m--> 726\u001b[0;31m             *args, **kwds))\n\u001b[0m\u001b[1;32m    727\u001b[0m \u001b[0;34m\u001b[0m\u001b[0m\n\u001b[1;32m    728\u001b[0m     \u001b[0;32mdef\u001b[0m \u001b[0minvalid_creator_scope\u001b[0m\u001b[0;34m(\u001b[0m\u001b[0;34m*\u001b[0m\u001b[0munused_args\u001b[0m\u001b[0;34m,\u001b[0m \u001b[0;34m**\u001b[0m\u001b[0munused_kwds\u001b[0m\u001b[0;34m)\u001b[0m\u001b[0;34m:\u001b[0m\u001b[0;34m\u001b[0m\u001b[0;34m\u001b[0m\u001b[0m\n",
            "\u001b[0;32m/usr/local/lib/python3.7/dist-packages/tensorflow/python/eager/function.py\u001b[0m in \u001b[0;36m_get_concrete_function_internal_garbage_collected\u001b[0;34m(self, *args, **kwargs)\u001b[0m\n\u001b[1;32m   2967\u001b[0m       \u001b[0margs\u001b[0m\u001b[0;34m,\u001b[0m \u001b[0mkwargs\u001b[0m \u001b[0;34m=\u001b[0m \u001b[0;32mNone\u001b[0m\u001b[0;34m,\u001b[0m \u001b[0;32mNone\u001b[0m\u001b[0;34m\u001b[0m\u001b[0;34m\u001b[0m\u001b[0m\n\u001b[1;32m   2968\u001b[0m     \u001b[0;32mwith\u001b[0m \u001b[0mself\u001b[0m\u001b[0;34m.\u001b[0m\u001b[0m_lock\u001b[0m\u001b[0;34m:\u001b[0m\u001b[0;34m\u001b[0m\u001b[0;34m\u001b[0m\u001b[0m\n\u001b[0;32m-> 2969\u001b[0;31m       \u001b[0mgraph_function\u001b[0m\u001b[0;34m,\u001b[0m \u001b[0m_\u001b[0m \u001b[0;34m=\u001b[0m \u001b[0mself\u001b[0m\u001b[0;34m.\u001b[0m\u001b[0m_maybe_define_function\u001b[0m\u001b[0;34m(\u001b[0m\u001b[0margs\u001b[0m\u001b[0;34m,\u001b[0m \u001b[0mkwargs\u001b[0m\u001b[0;34m)\u001b[0m\u001b[0;34m\u001b[0m\u001b[0;34m\u001b[0m\u001b[0m\n\u001b[0m\u001b[1;32m   2970\u001b[0m     \u001b[0;32mreturn\u001b[0m \u001b[0mgraph_function\u001b[0m\u001b[0;34m\u001b[0m\u001b[0;34m\u001b[0m\u001b[0m\n\u001b[1;32m   2971\u001b[0m \u001b[0;34m\u001b[0m\u001b[0m\n",
            "\u001b[0;32m/usr/local/lib/python3.7/dist-packages/tensorflow/python/eager/function.py\u001b[0m in \u001b[0;36m_maybe_define_function\u001b[0;34m(self, args, kwargs)\u001b[0m\n\u001b[1;32m   3359\u001b[0m \u001b[0;34m\u001b[0m\u001b[0m\n\u001b[1;32m   3360\u001b[0m           \u001b[0mself\u001b[0m\u001b[0;34m.\u001b[0m\u001b[0m_function_cache\u001b[0m\u001b[0;34m.\u001b[0m\u001b[0mmissed\u001b[0m\u001b[0;34m.\u001b[0m\u001b[0madd\u001b[0m\u001b[0;34m(\u001b[0m\u001b[0mcall_context_key\u001b[0m\u001b[0;34m)\u001b[0m\u001b[0;34m\u001b[0m\u001b[0;34m\u001b[0m\u001b[0m\n\u001b[0;32m-> 3361\u001b[0;31m           \u001b[0mgraph_function\u001b[0m \u001b[0;34m=\u001b[0m \u001b[0mself\u001b[0m\u001b[0;34m.\u001b[0m\u001b[0m_create_graph_function\u001b[0m\u001b[0;34m(\u001b[0m\u001b[0margs\u001b[0m\u001b[0;34m,\u001b[0m \u001b[0mkwargs\u001b[0m\u001b[0;34m)\u001b[0m\u001b[0;34m\u001b[0m\u001b[0;34m\u001b[0m\u001b[0m\n\u001b[0m\u001b[1;32m   3362\u001b[0m           \u001b[0mself\u001b[0m\u001b[0;34m.\u001b[0m\u001b[0m_function_cache\u001b[0m\u001b[0;34m.\u001b[0m\u001b[0mprimary\u001b[0m\u001b[0;34m[\u001b[0m\u001b[0mcache_key\u001b[0m\u001b[0;34m]\u001b[0m \u001b[0;34m=\u001b[0m \u001b[0mgraph_function\u001b[0m\u001b[0;34m\u001b[0m\u001b[0;34m\u001b[0m\u001b[0m\n\u001b[1;32m   3363\u001b[0m \u001b[0;34m\u001b[0m\u001b[0m\n",
            "\u001b[0;32m/usr/local/lib/python3.7/dist-packages/tensorflow/python/eager/function.py\u001b[0m in \u001b[0;36m_create_graph_function\u001b[0;34m(self, args, kwargs, override_flat_arg_shapes)\u001b[0m\n\u001b[1;32m   3204\u001b[0m             \u001b[0marg_names\u001b[0m\u001b[0;34m=\u001b[0m\u001b[0marg_names\u001b[0m\u001b[0;34m,\u001b[0m\u001b[0;34m\u001b[0m\u001b[0;34m\u001b[0m\u001b[0m\n\u001b[1;32m   3205\u001b[0m             \u001b[0moverride_flat_arg_shapes\u001b[0m\u001b[0;34m=\u001b[0m\u001b[0moverride_flat_arg_shapes\u001b[0m\u001b[0;34m,\u001b[0m\u001b[0;34m\u001b[0m\u001b[0;34m\u001b[0m\u001b[0m\n\u001b[0;32m-> 3206\u001b[0;31m             capture_by_value=self._capture_by_value),\n\u001b[0m\u001b[1;32m   3207\u001b[0m         \u001b[0mself\u001b[0m\u001b[0;34m.\u001b[0m\u001b[0m_function_attributes\u001b[0m\u001b[0;34m,\u001b[0m\u001b[0;34m\u001b[0m\u001b[0;34m\u001b[0m\u001b[0m\n\u001b[1;32m   3208\u001b[0m         \u001b[0mfunction_spec\u001b[0m\u001b[0;34m=\u001b[0m\u001b[0mself\u001b[0m\u001b[0;34m.\u001b[0m\u001b[0mfunction_spec\u001b[0m\u001b[0;34m,\u001b[0m\u001b[0;34m\u001b[0m\u001b[0;34m\u001b[0m\u001b[0m\n",
            "\u001b[0;32m/usr/local/lib/python3.7/dist-packages/tensorflow/python/framework/func_graph.py\u001b[0m in \u001b[0;36mfunc_graph_from_py_func\u001b[0;34m(name, python_func, args, kwargs, signature, func_graph, autograph, autograph_options, add_control_dependencies, arg_names, op_return_value, collections, capture_by_value, override_flat_arg_shapes)\u001b[0m\n\u001b[1;32m    988\u001b[0m         \u001b[0m_\u001b[0m\u001b[0;34m,\u001b[0m \u001b[0moriginal_func\u001b[0m \u001b[0;34m=\u001b[0m \u001b[0mtf_decorator\u001b[0m\u001b[0;34m.\u001b[0m\u001b[0munwrap\u001b[0m\u001b[0;34m(\u001b[0m\u001b[0mpython_func\u001b[0m\u001b[0;34m)\u001b[0m\u001b[0;34m\u001b[0m\u001b[0;34m\u001b[0m\u001b[0m\n\u001b[1;32m    989\u001b[0m \u001b[0;34m\u001b[0m\u001b[0m\n\u001b[0;32m--> 990\u001b[0;31m       \u001b[0mfunc_outputs\u001b[0m \u001b[0;34m=\u001b[0m \u001b[0mpython_func\u001b[0m\u001b[0;34m(\u001b[0m\u001b[0;34m*\u001b[0m\u001b[0mfunc_args\u001b[0m\u001b[0;34m,\u001b[0m \u001b[0;34m**\u001b[0m\u001b[0mfunc_kwargs\u001b[0m\u001b[0;34m)\u001b[0m\u001b[0;34m\u001b[0m\u001b[0;34m\u001b[0m\u001b[0m\n\u001b[0m\u001b[1;32m    991\u001b[0m \u001b[0;34m\u001b[0m\u001b[0m\n\u001b[1;32m    992\u001b[0m       \u001b[0;31m# invariant: `func_outputs` contains only Tensors, CompositeTensors,\u001b[0m\u001b[0;34m\u001b[0m\u001b[0;34m\u001b[0m\u001b[0;34m\u001b[0m\u001b[0m\n",
            "\u001b[0;32m/usr/local/lib/python3.7/dist-packages/tensorflow/python/eager/def_function.py\u001b[0m in \u001b[0;36mwrapped_fn\u001b[0;34m(*args, **kwds)\u001b[0m\n\u001b[1;32m    632\u001b[0m             \u001b[0mxla_context\u001b[0m\u001b[0;34m.\u001b[0m\u001b[0mExit\u001b[0m\u001b[0;34m(\u001b[0m\u001b[0;34m)\u001b[0m\u001b[0;34m\u001b[0m\u001b[0;34m\u001b[0m\u001b[0m\n\u001b[1;32m    633\u001b[0m         \u001b[0;32melse\u001b[0m\u001b[0;34m:\u001b[0m\u001b[0;34m\u001b[0m\u001b[0;34m\u001b[0m\u001b[0m\n\u001b[0;32m--> 634\u001b[0;31m           \u001b[0mout\u001b[0m \u001b[0;34m=\u001b[0m \u001b[0mweak_wrapped_fn\u001b[0m\u001b[0;34m(\u001b[0m\u001b[0;34m)\u001b[0m\u001b[0;34m.\u001b[0m\u001b[0m__wrapped__\u001b[0m\u001b[0;34m(\u001b[0m\u001b[0;34m*\u001b[0m\u001b[0margs\u001b[0m\u001b[0;34m,\u001b[0m \u001b[0;34m**\u001b[0m\u001b[0mkwds\u001b[0m\u001b[0;34m)\u001b[0m\u001b[0;34m\u001b[0m\u001b[0;34m\u001b[0m\u001b[0m\n\u001b[0m\u001b[1;32m    635\u001b[0m         \u001b[0;32mreturn\u001b[0m \u001b[0mout\u001b[0m\u001b[0;34m\u001b[0m\u001b[0;34m\u001b[0m\u001b[0m\n\u001b[1;32m    636\u001b[0m \u001b[0;34m\u001b[0m\u001b[0m\n",
            "\u001b[0;32m/usr/local/lib/python3.7/dist-packages/tensorflow/python/framework/func_graph.py\u001b[0m in \u001b[0;36mwrapper\u001b[0;34m(*args, **kwargs)\u001b[0m\n\u001b[1;32m    975\u001b[0m           \u001b[0;32mexcept\u001b[0m \u001b[0mException\u001b[0m \u001b[0;32mas\u001b[0m \u001b[0me\u001b[0m\u001b[0;34m:\u001b[0m  \u001b[0;31m# pylint:disable=broad-except\u001b[0m\u001b[0;34m\u001b[0m\u001b[0;34m\u001b[0m\u001b[0m\n\u001b[1;32m    976\u001b[0m             \u001b[0;32mif\u001b[0m \u001b[0mhasattr\u001b[0m\u001b[0;34m(\u001b[0m\u001b[0me\u001b[0m\u001b[0;34m,\u001b[0m \u001b[0;34m\"ag_error_metadata\"\u001b[0m\u001b[0;34m)\u001b[0m\u001b[0;34m:\u001b[0m\u001b[0;34m\u001b[0m\u001b[0;34m\u001b[0m\u001b[0m\n\u001b[0;32m--> 977\u001b[0;31m               \u001b[0;32mraise\u001b[0m \u001b[0me\u001b[0m\u001b[0;34m.\u001b[0m\u001b[0mag_error_metadata\u001b[0m\u001b[0;34m.\u001b[0m\u001b[0mto_exception\u001b[0m\u001b[0;34m(\u001b[0m\u001b[0me\u001b[0m\u001b[0;34m)\u001b[0m\u001b[0;34m\u001b[0m\u001b[0;34m\u001b[0m\u001b[0m\n\u001b[0m\u001b[1;32m    978\u001b[0m             \u001b[0;32melse\u001b[0m\u001b[0;34m:\u001b[0m\u001b[0;34m\u001b[0m\u001b[0;34m\u001b[0m\u001b[0m\n\u001b[1;32m    979\u001b[0m               \u001b[0;32mraise\u001b[0m\u001b[0;34m\u001b[0m\u001b[0;34m\u001b[0m\u001b[0m\n",
            "\u001b[0;31mStagingError\u001b[0m: in user code:\n\n    /usr/local/lib/python3.7/dist-packages/shap/explainers/_deep/deep_tf.py:248 grad_graph  *\n        x_grad = tape.gradient(out, shap_rAnD)\n    /usr/local/lib/python3.7/dist-packages/tensorflow/python/eager/backprop.py:1086 gradient  **\n        unconnected_gradients=unconnected_gradients)\n    /usr/local/lib/python3.7/dist-packages/tensorflow/python/eager/imperative_grad.py:77 imperative_grad\n        compat.as_str(unconnected_gradients.value))\n    /usr/local/lib/python3.7/dist-packages/tensorflow/python/eager/backprop.py:151 _gradient_function\n        grad_fn = ops._gradient_registry.lookup(op_name)  # pylint: disable=protected-access\n    /usr/local/lib/python3.7/dist-packages/tensorflow/python/framework/registry.py:99 lookup\n        \"%s registry has no entry for: %s\" % (self._name, name))\n\n    LookupError: gradient registry has no entry for: shap_AddV2\n"
          ]
        }
      ]
    }
  ]
}