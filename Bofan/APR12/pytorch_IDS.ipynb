{
  "nbformat": 4,
  "nbformat_minor": 0,
  "metadata": {
    "colab": {
      "name": "pytorch_IDS.ipynb",
      "provenance": [],
      "collapsed_sections": [],
      "machine_shape": "hm"
    },
    "kernelspec": {
      "display_name": "Python 3",
      "name": "python3"
    }
  },
  "cells": [
    {
      "cell_type": "code",
      "metadata": {
        "colab": {
          "base_uri": "https://localhost:8080/"
        },
        "id": "p5WNyHfKvnhR",
        "outputId": "219a577f-00c3-4b76-8017-626a0c71430b"
      },
      "source": [
        "from google.colab import drive\n",
        "drive.mount('/gdrive')"
      ],
      "execution_count": 1,
      "outputs": [
        {
          "output_type": "stream",
          "text": [
            "Mounted at /gdrive\n"
          ],
          "name": "stdout"
        }
      ]
    },
    {
      "cell_type": "code",
      "metadata": {
        "id": "AHO54IXuvuho"
      },
      "source": [
        "IDS2017URL = \"/gdrive/MyDrive/IDS2017/IDS2017.csv\""
      ],
      "execution_count": 2,
      "outputs": []
    },
    {
      "cell_type": "code",
      "metadata": {
        "id": "cm0QQ9MAv7RT"
      },
      "source": [
        "import torch\n",
        "import pandas as pd\n",
        "import tensorflow as tf\n",
        "import numpy as np\n",
        "import torch.nn as nn\n",
        "import random\n",
        "\n",
        "from numpy import vstack\n",
        "from numpy import argmax\n",
        "from pandas import read_csv\n",
        "from sklearn.preprocessing import LabelEncoder\n",
        "from sklearn.metrics import accuracy_score\n",
        "from torch import Tensor\n",
        "from torch.utils.data import Dataset\n",
        "from torch.utils.data import DataLoader\n",
        "from torch.utils.data import random_split\n",
        "from torch.nn import Linear\n",
        "from torch.nn import ReLU\n",
        "from torch.nn import Softmax\n",
        "from torch.nn import Module\n",
        "from torch.optim import SGD\n",
        "from torch.optim import Adam\n",
        "from torch.nn import CrossEntropyLoss\n",
        "from torch.nn.init import kaiming_uniform_\n",
        "from torch.nn.init import xavier_uniform_\n",
        "from torchvision import transforms"
      ],
      "execution_count": 3,
      "outputs": []
    },
    {
      "cell_type": "code",
      "metadata": {
        "id": "rR_LNLx-j2j0"
      },
      "source": [
        "def setup_seed(seed):\n",
        "     torch.manual_seed(seed)\n",
        "     torch.cuda.manual_seed_all(seed)\n",
        "     np.random.seed(seed)\n",
        "     random.seed(seed)\n",
        "     torch.backends.cudnn.deterministic = True\n",
        "\n",
        "setup_seed(19)"
      ],
      "execution_count": 4,
      "outputs": []
    },
    {
      "cell_type": "code",
      "metadata": {
        "id": "Tk-xiEYxkMuD"
      },
      "source": [
        "def balance_data(X,y,seed):\n",
        "  np.random.seed(seed)\n",
        "  unique,counts = np.unique(y,return_counts=True)\n",
        "  #unique\n",
        "  #array([ 0,  1,  2,  3,  4,  5,  6,  7,  8,  9, 10, 11, 12])\n",
        "  #counts\n",
        "  #array([2357511,    1956,   41834,   10293,  230124,    5499,    5796, 7935,      11,      36,  158804,    5897,    2180])\n",
        "  mean_samples_per_class = int(round(np.mean(counts)))\n",
        "  N,D = X.shape\n",
        "  new_X = np.empty((0,D))\n",
        "  new_y = np.empty((0),dtype=int)\n",
        "  for i,c in enumerate(unique):\n",
        "      temp_x = X[y==c]\n",
        "      indices = np.random.choice(temp_x.shape[0],mean_samples_per_class) # gets `mean_samples_per_class` indices of class `c`\n",
        "      new_X = np.concatenate((new_X,temp_x[indices]),axis=0) # now we put new data into new_X \n",
        "      temp_y = np.ones(mean_samples_per_class,dtype=int)*c\n",
        "      new_y = np.concatenate((new_y,temp_y),axis=0)\n",
        "      indices = np.arange(new_y.shape[0])\n",
        "      np.random.shuffle(indices)\n",
        "      new_X =  new_X[indices,:]\n",
        "      new_y = new_y[indices]\n",
        "  return (new_X, new_y)"
      ],
      "execution_count": 5,
      "outputs": []
    },
    {
      "cell_type": "code",
      "metadata": {
        "id": "9l2BPkI9u-O6"
      },
      "source": [
        "class IDSDataset(Dataset):\n",
        "\n",
        "    def __init__(self, IDS2017URL, tranform=True):\n",
        "      df = pd.read_csv(IDS2017URL)\n",
        "      df.loc[df['Label'].isin([ 'Web Attack - Sql Injection','Web Attack - XSS', 'Web Attack - Brute Force']), 'Label'] = 'Web Attack'\n",
        "      df = df[['Fwd Packet Length Mean', 'Fwd Packet Length Std', 'Flow IAT Max', 'Bwd Packet Length Std', 'Fwd Packet Length Max', 'Flow Bytes/s', 'Total Length of Bwd Packets', 'Fwd Packet Length Mean', 'Flow Duration', 'Flow IAT Min', 'Total Length of Fwd Packets', 'Flow IAT Mean', 'Total Backward Packets', 'Bwd Packet Length Max', 'Flow Packets/s', 'Flow IAT Std', 'Fwd IAT Total', 'Bwd Packet Length Min', 'Fwd Packet Length Min', 'Label']]\n",
        "      \n",
        "      #df = df[~df['Label'].isin(['Heartbleed', 'Web Attack - Sql Injection', 'Infiltration', 'Web Attack - XSS', 'Web Attack - Brute Force'])]\n",
        "      df = df.replace([-np.inf, np.inf], np.nan)\n",
        "      df = df.dropna()\n",
        "      #df.drop(df.columns[[37,39,61,62,63,64,65,66]],axis=1,inplace=True)\n",
        "      self.X = df.iloc[:, :-1].apply(lambda x: (x-np.mean(x))/np.std(x)).values\n",
        "      self.y = df.values[:, -1]\n",
        "      \n",
        "      le = LabelEncoder()\n",
        "      le.fit([\"BENIGN\", \"DoS Hulk\", \"PortScan\", \"DDoS\", \"DoS GoldenEye\",\"FTP-Patator\",\"SSH-Patator\",\"DoS slowloris\",\"DoS Slowhttptest\",\"Web Attack\",\"Bot\",\"Infiltration\",\"Heartbleed\"])\n",
        "      self.y = le.transform(self.y)\n",
        "      self.X, self.y = balance_data(self.X, self.y, seed=2)\n",
        "      self.X = self.X.astype('float32')\n",
        "      print(self.y)\n",
        "\n",
        "\n",
        "    def __len__(self):\n",
        "      return len(self.X)\n",
        "    \n",
        "    def __getitem__(self, idx):\n",
        "      return [self.X[idx], self.y[idx]]\n",
        " \n",
        "    # get indexes for train and test rows\n",
        "    def get_splits(self, n_test=0.33):\n",
        "        # determine sizes\n",
        "        test_size = round(n_test * len(self.X))\n",
        "        train_size = len(self.X) - test_size\n",
        "        # calculate the split\n",
        "        return random_split(self, [train_size, test_size])\n",
        "\n",
        "class MLP(Module):\n",
        "    # define model elements\n",
        "    def __init__(self, n_inputs):\n",
        "        super(MLP, self).__init__()\n",
        "        # input to first hidden layer\n",
        "        self.hidden1 = Linear(n_inputs, 20)\n",
        "        kaiming_uniform_(self.hidden1.weight, nonlinearity='relu')\n",
        "        self.act1 = ReLU()\n",
        "        # second hidden layer\n",
        "        self.hidden2 = Linear(20, 20)\n",
        "        kaiming_uniform_(self.hidden2.weight, nonlinearity='relu')\n",
        "        self.act2 = ReLU()\n",
        "        # third hidden layer and output\n",
        "        self.hidden3 = Linear(20, 13)\n",
        "        xavier_uniform_(self.hidden3.weight)\n",
        "        self.act3 = Softmax(dim=1)\n",
        "\n",
        "    def forward(self, X):\n",
        "        # input to first hidden layer\n",
        "        X = self.hidden1(X)\n",
        "        X = self.act1(X)\n",
        "\n",
        "        # second hidden layer\n",
        "        X = self.hidden2(X)\n",
        "        X = self.act2(X)\n",
        "\n",
        "        # output layer\n",
        "        X = self.hidden3(X)\n",
        "        X = self.act3(X)\n",
        "\n",
        "        return X\n",
        " \n",
        "def prepare_data(path):\n",
        "    # load the dataset\n",
        "    dataset = IDSDataset(path)\n",
        "    # calculate split\n",
        "    train, test = dataset.get_splits()\n",
        "    # prepare data loaders\n",
        "    train_dl = DataLoader(train, batch_size=10000, shuffle=True)\n",
        "    test_dl = DataLoader(test, batch_size=10000, shuffle=False)\n",
        "    return train_dl, test_dl\n",
        "\n",
        "def train_model(train_dl, model):\n",
        "    # define the optimization\n",
        "    criterion = CrossEntropyLoss()\n",
        "    optimizer = Adam(model.parameters(), lr=0.001)\n",
        "    # enumerate epochs\n",
        "    for epoch in range(4):\n",
        "        # enumerate mini batches\n",
        "        print(model.state_dict())\n",
        "        for i, (inputs, targets) in enumerate(train_dl):\n",
        "            # clear the gradients\n",
        "            optimizer.zero_grad()\n",
        "            #torch.autograd.set_detect_anomaly(True)\n",
        "            # compute the model output\n",
        "            #print(inputs)\n",
        "            #print(\"******************\")\n",
        "            yhat = model(inputs)\n",
        "            #print(yhat)\n",
        "            # calculate loss\n",
        "            loss = criterion(yhat, targets)\n",
        "            # credit assignment\n",
        "            loss.backward()\n",
        "            # update model weights\n",
        "            optimizer.step()\n",
        "            if i % 10 == 0:\n",
        "                print('Train Epoch: {} [{}/{} ({:.0f}%)]\\tLoss: {:.6f}'.format(\n",
        "                epoch, i * len(inputs), len(train_dl.dataset),\n",
        "                100. * i / len(train_dl), loss.item()))\n",
        "            # print('[%d, %5d] loss: %.3f' %(epoch + 1, i + 1, loss.item()))\n",
        "            # running_loss = 0.0\n",
        "\n",
        "def evaluate_model(test_dl, model):\n",
        "    predictions, actuals = list(), list()\n",
        "    for i, (inputs, targets) in enumerate(test_dl):\n",
        "        # evaluate the model on the test set\n",
        "        yhat = model(inputs)\n",
        "        # retrieve numpy array\n",
        "        yhat = yhat.detach().numpy()\n",
        "        actual = targets.numpy()\n",
        "        # convert to class labels\n",
        "        yhat = argmax(yhat, axis=1)\n",
        "        # reshape for stacking\n",
        "        actual = actual.reshape((len(actual), 1))\n",
        "        yhat = yhat.reshape((len(yhat), 1))\n",
        "        # store\n",
        "        predictions.append(yhat)\n",
        "        actuals.append(actual)\n",
        "    predictions, actuals = vstack(predictions), vstack(actuals)\n",
        "    # calculate accuracy\n",
        "    acc = accuracy_score(actuals, predictions)\n",
        "    return acc\n",
        "\n",
        "def predict(row, model):\n",
        "    # convert row to data\n",
        "    row = Tensor([row])\n",
        "    # make prediction\n",
        "    yhat = model(row)\n",
        "    # retrieve numpy array\n",
        "    yhat = yhat.detach().numpy()\n",
        "    return yhat"
      ],
      "execution_count": 6,
      "outputs": []
    },
    {
      "cell_type": "code",
      "metadata": {
        "id": "dm54QeooU6a_"
      },
      "source": [
        "# class IDSDataset(Dataset):\n",
        "\n",
        "#     def __init__(self, IDS2017URL, tranform=True):\n",
        "#       df = pd.read_csv(IDS2017URL)\n",
        "#       df = df[~df['Label'].isin(['Heartbleed', 'Web Attack - Sql Injection', 'Infiltration', 'Web Attack - XSS', 'Web Attack - Brute Force'])]\n",
        "#       df = df.replace([-np.inf, np.inf], np.nan)\n",
        "#       df = df.dropna()\n",
        "#       df = pd.concat([df.iloc[:,0:37], df[:,38:],df.iloc[:, -2:]], axis=1)\n",
        "#       self.X = df.iloc[:, :-2].apply(lambda x: (x-np.mean(x))/np.std(x)+0.00001).values\n",
        "#       self.y = df.values[:, -2]\n",
        "#       self.X = self.X.astype('float32')\n",
        "#       self.y = LabelEncoder().fit_transform(self.y)\n",
        "\n",
        "#     def __len__(self):\n",
        "#       return len(self.X)\n",
        "    \n",
        "#     def __getitem__(self, idx):\n",
        "#       return [self.X[idx], self.y[idx]]\n",
        " \n",
        "#     # get indexes for train and test rows\n",
        "#     def get_splits(self, n_test=0.33):\n",
        "#         # determine sizes\n",
        "#         test_size = round(n_test * len(self.X))\n",
        "#         train_size = len(self.X) - test_size\n",
        "#         # calculate the split\n",
        "#         return random_split(self, [train_size, test_size])\n",
        "\n",
        "# class MLP(Module):\n",
        "#     # define model elements\n",
        "#     def __init__(self, n_inputs):\n",
        "#         super(MLP, self).__init__()\n",
        "#         # input to first hidden layer\n",
        "#         self.hidden1 = Linear(n_inputs, 76)\n",
        "#         #kaiming_uniform_(self.hidden1.weight, nonlinearity='relu')\n",
        "#         self.act1 = ReLU()\n",
        "#         # second hidden layer\n",
        "#         self.hidden2 = Linear(76, 76)\n",
        "#         #kaiming_uniform_(self.hidden2.weight, nonlinearity='relu')\n",
        "#         self.act2 = ReLU()\n",
        "#         # third hidden layer and output\n",
        "#         self.hidden3 = Linear(76, 10)\n",
        "#         #xavier_uniform_(self.hidden3.weight)\n",
        "#         self.act3 = Softmax(dim=1)\n",
        "\n",
        "#     def forward(self, X):\n",
        "#         # input to first hidden layer\n",
        "#         X = self.hidden1(X)\n",
        "#         X = self.act1(X)\n",
        "#         print(X)\n",
        "#         # second hidden layer\n",
        "#         X = self.hidden2(X)\n",
        "#         X = self.act2(X)\n",
        "#         print(X)\n",
        "#         # output layer\n",
        "#         X = self.hidden3(X)\n",
        "#         X = self.act3(X)\n",
        "#         print(X)\n",
        "#         return X\n",
        " \n",
        "# def prepare_data(path):\n",
        "#     # load the dataset\n",
        "#     dataset = IDSDataset(path)\n",
        "#     # calculate split\n",
        "#     train, test = dataset.get_splits()\n",
        "#     # prepare data loaders\n",
        "#     train_dl = DataLoader(train, batch_size=1000, shuffle=True)\n",
        "#     test_dl = DataLoader(test, batch_size=1000, shuffle=False)\n",
        "#     return train_dl, test_dl\n",
        "\n",
        "# def train_model(train_dl, model):\n",
        "#     # define the optimization\n",
        "#     criterion = CrossEntropyLoss()\n",
        "#     optimizer = Adam(model.parameters(), lr=0.0001)\n",
        "#     # enumerate epochs\n",
        "#     for epoch in range(10):\n",
        "#         # enumerate mini batches\n",
        "#         print(model.state_dict())\n",
        "#         for i, (inputs, targets) in enumerate(train_dl):\n",
        "#             # clear the gradients\n",
        "#             optimizer.zero_grad()\n",
        "#             #torch.autograd.set_detect_anomaly(True)\n",
        "#             # compute the model output\n",
        "#             #print(inputs)\n",
        "#             #print(\"******************\")\n",
        "#             yhat = model(inputs)\n",
        "#             #print(yhat)\n",
        "#             # calculate loss\n",
        "#             loss = criterion(yhat, targets)\n",
        "#             # credit assignment\n",
        "#             loss.backward()\n",
        "#             # update model weights\n",
        "#             optimizer.step()\n",
        "\n",
        "# def evaluate_model(test_dl, model):\n",
        "#     predictions, actuals = list(), list()\n",
        "#     for i, (inputs, targets) in enumerate(test_dl):\n",
        "#         # evaluate the model on the test set\n",
        "#         yhat = model(inputs)\n",
        "#         # retrieve numpy array\n",
        "#         yhat = yhat.detach().numpy()\n",
        "#         actual = targets.numpy()\n",
        "#         # convert to class labels\n",
        "#         yhat = argmax(yhat, axis=1)\n",
        "#         # reshape for stacking\n",
        "#         actual = actual.reshape((len(actual), 1))\n",
        "#         yhat = yhat.reshape((len(yhat), 1))\n",
        "#         # store\n",
        "#         predictions.append(yhat)\n",
        "#         actuals.append(actual)\n",
        "#     predictions, actuals = vstack(predictions), vstack(actuals)\n",
        "#     # calculate accuracy\n",
        "#     acc = accuracy_score(actuals, predictions)\n",
        "#     return acc\n",
        "\n",
        "# def predict(row, model):\n",
        "#     # convert row to data\n",
        "#     row = Tensor([row])\n",
        "#     # make prediction\n",
        "#     yhat = model(row)\n",
        "#     # retrieve numpy array\n",
        "#     yhat = yhat.detach().numpy()\n",
        "#     return yhat"
      ],
      "execution_count": 7,
      "outputs": []
    },
    {
      "cell_type": "code",
      "metadata": {
        "colab": {
          "base_uri": "https://localhost:8080/"
        },
        "id": "K93DyQu42DyP",
        "outputId": "add68a1f-ddc7-46bd-c877-044d8d37efdb"
      },
      "source": [
        "train_dl, test_dl = prepare_data(IDS2017URL)"
      ],
      "execution_count": 8,
      "outputs": [
        {
          "output_type": "stream",
          "text": [
            "/usr/local/lib/python3.7/dist-packages/IPython/core/interactiveshell.py:2882: DtypeWarning: Columns (84) have mixed types.Specify dtype option on import or set low_memory=False.\n",
            "  exec(code_obj, self.user_global_ns, self.user_ns)\n"
          ],
          "name": "stderr"
        },
        {
          "output_type": "stream",
          "text": [
            "[ 4  6  2 ...  5 10  8]\n"
          ],
          "name": "stdout"
        }
      ]
    },
    {
      "cell_type": "code",
      "metadata": {
        "colab": {
          "base_uri": "https://localhost:8080/"
        },
        "id": "H9MC8dvBWxD0",
        "outputId": "f0afd894-99e1-4c3a-8b58-24a9fbcabc68"
      },
      "source": [
        "train_dl.dataset"
      ],
      "execution_count": 9,
      "outputs": [
        {
          "output_type": "execute_result",
          "data": {
            "text/plain": [
              "<torch.utils.data.dataset.Subset at 0x7fc9056a74d0>"
            ]
          },
          "metadata": {
            "tags": []
          },
          "execution_count": 9
        }
      ]
    },
    {
      "cell_type": "code",
      "metadata": {
        "colab": {
          "base_uri": "https://localhost:8080/"
        },
        "id": "hTmP4irw2VTu",
        "outputId": "7185f6cf-ee16-487b-fc03-9e01f2c20487"
      },
      "source": [
        "print(len(train_dl.dataset), len(test_dl.dataset))"
      ],
      "execution_count": 10,
      "outputs": [
        {
          "output_type": "stream",
          "text": [
            "1894678 933199\n"
          ],
          "name": "stdout"
        }
      ]
    },
    {
      "cell_type": "code",
      "metadata": {
        "id": "qE1Uy8t23IoV"
      },
      "source": [
        "model = MLP(19)"
      ],
      "execution_count": 11,
      "outputs": []
    },
    {
      "cell_type": "code",
      "metadata": {
        "id": "Ewrf7xFUTbXl"
      },
      "source": [
        ""
      ],
      "execution_count": 11,
      "outputs": []
    },
    {
      "cell_type": "code",
      "metadata": {
        "colab": {
          "base_uri": "https://localhost:8080/"
        },
        "id": "1YRRGIyH3LGW",
        "outputId": "68dfca15-eb2b-4873-9973-08892b113f22"
      },
      "source": [
        "train_model(train_dl, model)"
      ],
      "execution_count": 12,
      "outputs": [
        {
          "output_type": "stream",
          "text": [
            "OrderedDict([('hidden1.weight', tensor([[ 4.3708e-02, -2.6401e-01, -1.4147e-01, -3.5152e-01, -2.1487e-01,\n",
            "         -4.5043e-01, -2.8713e-01, -1.0456e-01, -1.9378e-01, -2.7206e-01,\n",
            "         -1.7781e-01, -1.0152e-01,  2.2577e-01,  2.3655e-01,  1.4220e-01,\n",
            "         -3.8710e-01,  2.5107e-01, -4.3265e-01, -4.4896e-01],\n",
            "        [-2.1098e-01, -1.0824e-01,  4.0096e-01,  2.4272e-01,  4.3802e-02,\n",
            "         -8.1274e-02, -4.8923e-01, -2.6946e-01,  1.1173e-02, -3.9400e-01,\n",
            "         -1.2877e-01, -2.7328e-01, -2.2684e-01,  2.1197e-01, -4.3739e-01,\n",
            "          1.3195e-01,  5.2679e-01, -3.5781e-01,  7.6137e-02],\n",
            "        [ 1.1418e-01, -3.5647e-01, -4.4265e-01, -5.3883e-01, -5.0165e-01,\n",
            "         -4.5182e-02,  1.0992e-01,  2.7490e-01,  1.1037e-01,  9.5280e-02,\n",
            "         -7.7786e-02,  3.0529e-01,  1.1635e-01,  5.0539e-01,  2.6515e-01,\n",
            "         -2.9331e-02, -8.1325e-02,  2.5729e-02, -1.6086e-01],\n",
            "        [ 2.5805e-01, -1.9802e-01,  2.9973e-01, -1.3390e-01, -5.4929e-01,\n",
            "         -2.1358e-01, -1.1801e-01,  3.4997e-01,  4.0312e-01,  2.1763e-01,\n",
            "         -3.9045e-01,  1.0449e-01,  3.2810e-01, -3.4257e-01, -3.2934e-01,\n",
            "          4.0365e-02, -4.3300e-01,  4.8602e-01,  2.6006e-01],\n",
            "        [-9.1607e-02, -4.0122e-01, -3.4428e-01, -9.5098e-02,  3.7610e-01,\n",
            "         -4.4259e-02,  4.4809e-01, -2.2416e-01, -3.5541e-01,  3.1209e-02,\n",
            "         -1.2355e-01, -2.5449e-01, -4.2020e-01, -2.5164e-01, -5.4058e-02,\n",
            "          1.4936e-01, -3.3894e-01,  1.5937e-01,  2.6869e-01],\n",
            "        [-1.1689e-01, -2.2276e-01, -2.7155e-01,  3.7261e-01, -4.6160e-01,\n",
            "          1.7366e-01,  4.7247e-01,  2.4048e-01, -2.0905e-01,  4.5765e-01,\n",
            "         -3.2873e-01, -5.8251e-02, -1.7900e-01,  3.9315e-01, -6.5258e-02,\n",
            "         -4.3946e-01,  2.4026e-01,  4.8395e-01, -8.9959e-02],\n",
            "        [ 6.7036e-02,  1.0320e-01,  2.2039e-01, -3.0256e-01, -4.6070e-01,\n",
            "          4.1891e-01, -2.2142e-01,  1.0656e-01, -4.9689e-01,  3.0078e-01,\n",
            "         -1.3363e-01, -2.8300e-02,  3.7811e-01, -2.9194e-01,  4.0767e-01,\n",
            "          5.1135e-01, -2.6580e-01, -2.7932e-02,  5.7417e-02],\n",
            "        [ 1.7384e-01, -5.4334e-02,  1.1161e-01, -5.0558e-01,  3.9672e-01,\n",
            "         -1.1098e-01, -1.3729e-01, -5.4376e-01, -5.1213e-01, -1.1043e-01,\n",
            "         -4.1147e-01,  2.5520e-01, -3.4137e-01,  4.8413e-01,  5.5390e-01,\n",
            "          8.7047e-02, -4.3371e-01, -7.9962e-02,  2.5800e-01],\n",
            "        [-3.4162e-01, -1.9012e-01, -3.1113e-02,  1.8991e-01, -5.8265e-02,\n",
            "          4.6536e-01, -3.4942e-01,  4.5028e-01, -3.2590e-01, -5.0410e-02,\n",
            "         -2.7781e-01, -4.1132e-01,  1.8622e-01, -9.6100e-03, -1.3584e-01,\n",
            "          3.7549e-01, -3.1232e-01, -2.7718e-01,  4.4711e-02],\n",
            "        [-5.0711e-01,  1.3984e-01, -3.2390e-01,  1.5372e-01, -5.3835e-01,\n",
            "          5.2351e-01, -2.1617e-01,  2.4160e-01, -9.2995e-02, -2.1597e-01,\n",
            "          5.2034e-01,  4.9284e-04,  2.2947e-01,  4.7535e-01, -5.0506e-01,\n",
            "          4.9061e-01, -4.4357e-01, -5.4441e-01, -5.2008e-01],\n",
            "        [-4.2241e-02, -1.5575e-01, -3.6277e-02, -2.7282e-02, -4.7552e-02,\n",
            "          1.6937e-01, -2.3619e-01,  4.6934e-01,  5.1109e-01, -1.1867e-01,\n",
            "         -2.6567e-01,  4.6832e-01,  1.6374e-01,  4.4083e-01, -5.4030e-01,\n",
            "         -1.5708e-01,  2.8875e-01,  1.2268e-01,  3.9924e-01],\n",
            "        [ 2.5283e-01, -5.5148e-01, -4.1608e-01,  5.1245e-01, -4.9415e-02,\n",
            "         -2.4634e-02, -3.5745e-01, -3.6161e-01, -3.9851e-01,  2.7011e-01,\n",
            "          1.5314e-01,  5.4753e-01,  4.2766e-01,  1.0010e-01,  4.6281e-01,\n",
            "          3.9440e-01,  2.7496e-01,  3.2301e-01,  2.0420e-01],\n",
            "        [-2.8314e-01,  1.6387e-01,  4.4689e-01,  2.3319e-02, -9.5817e-02,\n",
            "         -4.0209e-01, -1.3626e-04,  2.8730e-01,  8.7434e-03, -3.0688e-02,\n",
            "          2.1582e-01,  3.3754e-01,  4.7523e-01,  8.9123e-02, -1.8145e-01,\n",
            "         -1.6959e-01, -4.9419e-01, -3.8245e-01, -3.3976e-01],\n",
            "        [ 4.8208e-01,  3.5122e-01, -1.6467e-01,  4.7068e-01,  4.7993e-01,\n",
            "         -4.1881e-01, -1.5934e-01, -1.1916e-01, -4.2631e-01,  2.2479e-01,\n",
            "          9.6278e-02, -1.9190e-01,  4.8073e-01,  5.4343e-01, -3.7102e-01,\n",
            "          5.0168e-01,  4.7597e-01, -5.4419e-02, -2.9294e-01],\n",
            "        [-2.1386e-01,  1.1792e-01, -2.2913e-01, -2.7101e-01, -2.2685e-01,\n",
            "         -7.4887e-02, -1.3653e-01,  2.3060e-01,  4.2863e-01, -1.7836e-01,\n",
            "          3.8505e-01, -3.7995e-01,  1.2754e-03, -3.6086e-01,  4.9135e-01,\n",
            "          5.5068e-01,  1.0027e-01,  1.9229e-01,  1.3595e-01],\n",
            "        [ 2.6775e-01,  4.7409e-01,  1.1131e-01,  5.0952e-01,  8.2470e-02,\n",
            "          4.7001e-01,  9.8242e-02, -2.4474e-01, -3.5272e-01, -3.5571e-01,\n",
            "          1.7318e-01, -4.9541e-01,  4.8255e-01,  1.5551e-01, -5.0857e-01,\n",
            "          2.3183e-01, -2.2108e-01,  9.4659e-02,  1.4431e-01],\n",
            "        [ 2.6209e-02,  5.0665e-02,  2.7153e-01, -1.1710e-01,  2.2456e-01,\n",
            "         -4.1762e-02,  2.2483e-01,  5.4376e-01, -4.1186e-01,  5.2279e-01,\n",
            "          3.2347e-01, -5.5029e-01, -4.7469e-02, -2.8897e-01, -5.5141e-01,\n",
            "          2.2986e-01, -1.5655e-01, -1.9467e-01, -5.4643e-02],\n",
            "        [ 4.3974e-01,  1.8172e-02,  4.8274e-01,  3.8082e-01,  2.8526e-01,\n",
            "         -8.1098e-02, -4.2644e-01,  5.0623e-02,  1.9163e-01,  5.0099e-01,\n",
            "         -3.8695e-01, -1.1806e-01, -3.1124e-01, -2.8821e-01, -2.8135e-01,\n",
            "         -1.3904e-01,  1.8899e-01,  3.3591e-01, -7.9510e-02],\n",
            "        [ 2.9895e-01, -4.9716e-01,  1.2472e-01, -1.0175e-01, -3.3692e-01,\n",
            "         -1.7848e-01,  5.3466e-01,  3.1087e-01,  2.1355e-01, -3.8325e-02,\n",
            "          1.2396e-01,  3.8679e-01, -2.6195e-02, -1.6181e-01, -3.6950e-01,\n",
            "         -1.8365e-01, -5.9710e-02, -3.9079e-01, -9.1571e-02],\n",
            "        [ 5.8176e-02, -4.6248e-01,  5.3122e-01, -4.0459e-01,  4.2429e-01,\n",
            "         -3.1174e-01,  1.8254e-01, -7.5680e-02, -4.7487e-01, -2.6317e-01,\n",
            "         -1.5659e-01,  4.7895e-01,  3.9865e-02, -1.5300e-01, -5.3210e-01,\n",
            "         -5.3429e-01, -1.1275e-01, -3.3340e-01,  2.6929e-01]])), ('hidden1.bias', tensor([-0.1772, -0.0034, -0.1343,  0.0773, -0.2085, -0.2037, -0.0677,  0.1205,\n",
            "         0.1323, -0.1905,  0.2229, -0.1547,  0.0458,  0.1564, -0.2275,  0.1100,\n",
            "        -0.2185,  0.0733, -0.0662, -0.1117])), ('hidden2.weight', tensor([[ 0.1885, -0.3912,  0.1948,  0.0613,  0.1349,  0.1705,  0.2091,  0.3262,\n",
            "          0.0794, -0.3038, -0.0648,  0.3750,  0.5215, -0.0979,  0.4350,  0.1706,\n",
            "          0.1904,  0.2994, -0.5302, -0.0760],\n",
            "        [-0.1632,  0.4345,  0.1167,  0.4548, -0.3022,  0.3454, -0.2736,  0.1990,\n",
            "          0.2347, -0.4753,  0.1620,  0.1119, -0.1909, -0.5197,  0.0728, -0.1914,\n",
            "         -0.2612, -0.4014, -0.4153, -0.0124],\n",
            "        [ 0.3044,  0.5462,  0.2640, -0.2569,  0.0088, -0.0267,  0.0751, -0.0631,\n",
            "          0.1312, -0.0160, -0.0143, -0.0863,  0.1431, -0.3872, -0.4859, -0.3242,\n",
            "          0.3958,  0.3301, -0.3726,  0.0957],\n",
            "        [ 0.2534, -0.0235, -0.4526,  0.4031,  0.2981,  0.0244,  0.3862,  0.4281,\n",
            "         -0.4428,  0.4628, -0.2377,  0.2184, -0.3718, -0.5367,  0.1680, -0.4686,\n",
            "         -0.3866,  0.4074,  0.5274, -0.1845],\n",
            "        [-0.4925,  0.4405, -0.5153, -0.3203,  0.0047,  0.3868,  0.2414, -0.2164,\n",
            "         -0.0587,  0.1489, -0.3001,  0.3231,  0.2212, -0.3930,  0.4500, -0.1872,\n",
            "          0.4399,  0.2905,  0.4477,  0.1482],\n",
            "        [-0.0942,  0.3854, -0.3865,  0.0257,  0.0202,  0.1366, -0.4531, -0.2587,\n",
            "         -0.3174, -0.2170,  0.3298,  0.4053,  0.2101,  0.0623,  0.2017, -0.1903,\n",
            "          0.2395, -0.4485,  0.1981,  0.3220],\n",
            "        [-0.1483, -0.4697,  0.2263, -0.1090, -0.1186, -0.5144,  0.5195, -0.2205,\n",
            "          0.0054,  0.2818,  0.2785, -0.0479, -0.4328,  0.1336, -0.1799, -0.4736,\n",
            "          0.4277, -0.5046,  0.1400, -0.1004],\n",
            "        [ 0.1944,  0.1013, -0.5347,  0.0748,  0.1132,  0.1516,  0.0257,  0.0208,\n",
            "          0.1904, -0.3118, -0.5050,  0.3560, -0.4433, -0.4594,  0.4526, -0.4061,\n",
            "          0.2632,  0.4199,  0.4337,  0.3785],\n",
            "        [-0.1523,  0.0937, -0.3050, -0.4588,  0.0656,  0.1897,  0.3229,  0.5255,\n",
            "         -0.3216, -0.2315, -0.2282, -0.0237,  0.0997,  0.3080, -0.2928, -0.3477,\n",
            "         -0.2290,  0.0974,  0.5234,  0.3156],\n",
            "        [ 0.3315, -0.4634,  0.3616,  0.0088, -0.4272, -0.3813,  0.4837, -0.4541,\n",
            "          0.1803,  0.3108,  0.1767,  0.0241,  0.1569, -0.4669,  0.3218, -0.3323,\n",
            "         -0.5440, -0.0442,  0.0183,  0.2580],\n",
            "        [ 0.5421, -0.0585, -0.4711,  0.4883, -0.1411, -0.3692, -0.4030,  0.2318,\n",
            "         -0.0778,  0.1229, -0.4004, -0.5300, -0.3667,  0.3774, -0.3153,  0.1403,\n",
            "         -0.0585, -0.2426, -0.4470,  0.0674],\n",
            "        [-0.5453, -0.4754, -0.3373, -0.4746, -0.5314,  0.0559,  0.3901, -0.0322,\n",
            "         -0.0159,  0.3041, -0.1458,  0.3488,  0.3360, -0.2496,  0.4004,  0.5197,\n",
            "          0.3267,  0.0473, -0.3943, -0.2621],\n",
            "        [-0.2119,  0.2462, -0.4520,  0.3746,  0.0205, -0.3740, -0.3107, -0.3114,\n",
            "         -0.3294, -0.2479, -0.4229, -0.5242, -0.0499,  0.5453, -0.1806,  0.3331,\n",
            "          0.1639, -0.3518,  0.2652,  0.2204],\n",
            "        [-0.0752,  0.2411,  0.1656, -0.3461, -0.5368, -0.3189,  0.1267,  0.1197,\n",
            "         -0.3032, -0.0145,  0.1020, -0.1530, -0.0156,  0.1343,  0.0366,  0.4728,\n",
            "         -0.4951,  0.1458, -0.2299,  0.4718],\n",
            "        [ 0.1875, -0.0695, -0.3509, -0.0608, -0.3221,  0.4798,  0.2742,  0.2256,\n",
            "          0.4472,  0.4391, -0.1956,  0.2712,  0.1210, -0.4258,  0.1823,  0.2671,\n",
            "          0.0053, -0.0136, -0.3817, -0.1396],\n",
            "        [ 0.3721,  0.3084,  0.3812,  0.2401,  0.5160,  0.4439,  0.1242,  0.2381,\n",
            "          0.0076, -0.5096,  0.1842, -0.1450, -0.2485, -0.5164,  0.4651,  0.4257,\n",
            "          0.1021, -0.4412, -0.0566, -0.2083],\n",
            "        [ 0.1419, -0.4654, -0.4251, -0.3225,  0.2519, -0.3682,  0.1292,  0.2572,\n",
            "          0.1492, -0.4995, -0.1427,  0.2865, -0.0053,  0.0471,  0.2213, -0.4912,\n",
            "          0.4057,  0.5267, -0.4701, -0.4891],\n",
            "        [ 0.4524, -0.1232,  0.3264, -0.4226,  0.2758,  0.2922,  0.3179, -0.3470,\n",
            "         -0.5402,  0.0297, -0.3111, -0.2149, -0.2191, -0.0039, -0.3974, -0.1122,\n",
            "          0.3439, -0.5122, -0.3055,  0.2847],\n",
            "        [ 0.3061, -0.1315,  0.0407, -0.4467, -0.2981, -0.4381,  0.5068,  0.3624,\n",
            "         -0.1797, -0.3321, -0.1194,  0.2654,  0.0036, -0.2154, -0.4460, -0.2454,\n",
            "          0.4853,  0.3225,  0.4643, -0.1775],\n",
            "        [ 0.5061,  0.0984, -0.3079,  0.3996, -0.2676,  0.1191,  0.2346, -0.2492,\n",
            "         -0.2291, -0.0138,  0.0489, -0.1846, -0.1664, -0.1699,  0.4232, -0.0085,\n",
            "          0.3362,  0.3918, -0.3653, -0.0347]])), ('hidden2.bias', tensor([ 0.2230,  0.1478,  0.0144, -0.1339, -0.0045, -0.1698, -0.0490, -0.2206,\n",
            "         0.0262, -0.0582, -0.1030, -0.1247, -0.1944,  0.1436, -0.1718, -0.0371,\n",
            "        -0.0379,  0.0760, -0.0847,  0.1679])), ('hidden3.weight', tensor([[ 0.0653, -0.2329, -0.3259, -0.2322,  0.3970, -0.0384, -0.0480, -0.1138,\n",
            "          0.3655, -0.0347,  0.3346, -0.0683, -0.2748,  0.1589, -0.3596,  0.0303,\n",
            "         -0.2709, -0.2811,  0.1153,  0.1384],\n",
            "        [-0.2754,  0.0227,  0.2662, -0.1734,  0.0150,  0.2969, -0.3733, -0.4089,\n",
            "         -0.0600, -0.2512, -0.2042,  0.0415,  0.0737,  0.3543,  0.1467,  0.0865,\n",
            "         -0.1290, -0.0397,  0.3141, -0.2510],\n",
            "        [ 0.1380, -0.1959, -0.3162, -0.1754, -0.2280,  0.2801,  0.4116,  0.2379,\n",
            "          0.1220, -0.3247,  0.4102, -0.2515, -0.4107, -0.3791, -0.3120,  0.3110,\n",
            "          0.1898,  0.0054,  0.2635, -0.2994],\n",
            "        [-0.4177,  0.0172,  0.2919,  0.2622, -0.3044, -0.4238,  0.3476, -0.3124,\n",
            "          0.0765,  0.1441,  0.1547, -0.3295, -0.3992,  0.3674,  0.0071,  0.2541,\n",
            "          0.3350, -0.0017, -0.0697,  0.2805],\n",
            "        [ 0.3823, -0.0738, -0.2010, -0.3171,  0.2101, -0.3656,  0.1070, -0.1594,\n",
            "          0.3618, -0.0063,  0.2101,  0.2937, -0.3103, -0.4130, -0.0170, -0.3415,\n",
            "         -0.2865, -0.0039, -0.2039,  0.2739],\n",
            "        [-0.2800,  0.0632, -0.4107, -0.0274, -0.2530, -0.2036,  0.1657,  0.0278,\n",
            "          0.0407, -0.1363,  0.2447,  0.0642, -0.2459, -0.2743, -0.2935, -0.2239,\n",
            "         -0.2509,  0.1910,  0.1906,  0.0518],\n",
            "        [ 0.1022, -0.1089, -0.2109, -0.3895,  0.3226, -0.3939, -0.2832,  0.2751,\n",
            "          0.1050,  0.3030,  0.2964,  0.4068,  0.1596, -0.1444,  0.0931, -0.4230,\n",
            "          0.2469,  0.1775,  0.0901,  0.1404],\n",
            "        [-0.0554, -0.3368, -0.3557,  0.2233,  0.0647, -0.4244, -0.4239, -0.2574,\n",
            "         -0.1637, -0.4009,  0.3075,  0.2302,  0.2690, -0.1579,  0.2814,  0.1907,\n",
            "         -0.2054, -0.0953,  0.4050,  0.0955],\n",
            "        [ 0.0446,  0.1805, -0.0415,  0.3315, -0.1033, -0.0848, -0.0670, -0.1696,\n",
            "          0.4064,  0.1974,  0.1538,  0.2050, -0.1503, -0.0591,  0.1824,  0.1282,\n",
            "          0.1163,  0.0080,  0.0798,  0.3324],\n",
            "        [-0.3233, -0.0416,  0.4094,  0.2635,  0.1709,  0.1020, -0.2352,  0.0822,\n",
            "          0.0837, -0.1443, -0.3689, -0.2163,  0.1849, -0.1903, -0.2071, -0.0101,\n",
            "         -0.3986,  0.3229,  0.0550, -0.1671],\n",
            "        [ 0.2376,  0.1869,  0.0287, -0.2313, -0.0225,  0.3554,  0.0551, -0.0957,\n",
            "          0.3174,  0.0182, -0.2455,  0.3241,  0.1067, -0.2423, -0.0871,  0.3399,\n",
            "          0.1480,  0.3161, -0.0876, -0.0311],\n",
            "        [-0.0919, -0.1643, -0.0040, -0.2664,  0.1344,  0.2621, -0.0247,  0.0722,\n",
            "          0.4188,  0.3553,  0.1580,  0.1839,  0.1272,  0.0396, -0.2478, -0.4185,\n",
            "         -0.3377, -0.0621, -0.2664,  0.0384],\n",
            "        [ 0.0254,  0.3860, -0.0236,  0.0317, -0.1238, -0.0033,  0.1038,  0.3845,\n",
            "         -0.4246, -0.2131, -0.1190, -0.2351, -0.0014,  0.1230,  0.0997,  0.1782,\n",
            "          0.1765,  0.2603,  0.0992,  0.0152]])), ('hidden3.bias', tensor([-0.2054, -0.0218, -0.0425,  0.0107,  0.1703,  0.0868, -0.1791, -0.0306,\n",
            "         0.1465, -0.1807, -0.0778, -0.1979,  0.0996]))])\n",
            "Train Epoch: 0 [0/1894678 (0%)]\tLoss: 2.588486\n",
            "Train Epoch: 0 [100000/1894678 (5%)]\tLoss: 2.577439\n",
            "Train Epoch: 0 [200000/1894678 (11%)]\tLoss: 2.566659\n",
            "Train Epoch: 0 [300000/1894678 (16%)]\tLoss: 2.552203\n",
            "Train Epoch: 0 [400000/1894678 (21%)]\tLoss: 2.534164\n",
            "Train Epoch: 0 [500000/1894678 (26%)]\tLoss: 2.509577\n",
            "Train Epoch: 0 [600000/1894678 (32%)]\tLoss: 2.483924\n",
            "Train Epoch: 0 [700000/1894678 (37%)]\tLoss: 2.452648\n",
            "Train Epoch: 0 [800000/1894678 (42%)]\tLoss: 2.427696\n",
            "Train Epoch: 0 [900000/1894678 (47%)]\tLoss: 2.394635\n",
            "Train Epoch: 0 [1000000/1894678 (53%)]\tLoss: 2.380048\n",
            "Train Epoch: 0 [1100000/1894678 (58%)]\tLoss: 2.351486\n",
            "Train Epoch: 0 [1200000/1894678 (63%)]\tLoss: 2.330673\n",
            "Train Epoch: 0 [1300000/1894678 (68%)]\tLoss: 2.297933\n",
            "Train Epoch: 0 [1400000/1894678 (74%)]\tLoss: 2.281287\n",
            "Train Epoch: 0 [1500000/1894678 (79%)]\tLoss: 2.268814\n",
            "Train Epoch: 0 [1600000/1894678 (84%)]\tLoss: 2.252543\n",
            "Train Epoch: 0 [1700000/1894678 (89%)]\tLoss: 2.243305\n",
            "Train Epoch: 0 [1800000/1894678 (95%)]\tLoss: 2.234749\n",
            "OrderedDict([('hidden1.weight', tensor([[-0.1260, -0.4343, -0.2815, -0.4568, -0.3989, -0.5364, -0.3664, -0.2742,\n",
            "         -0.3323, -0.4210, -0.3615, -0.2658,  0.1248,  0.1085,  0.2075, -0.5405,\n",
            "          0.1072, -0.5566, -0.5985],\n",
            "        [-0.0650,  0.0659,  0.4991,  0.4081,  0.1413, -0.2129, -0.4275, -0.1235,\n",
            "          0.0890, -0.4845,  0.0311, -0.3801, -0.1575,  0.3258, -0.5658,  0.1125,\n",
            "          0.5843, -0.4636, -0.0039],\n",
            "        [-0.0569, -0.5166, -0.5354, -0.6907, -0.6601, -0.2154, -0.0520,  0.1038,\n",
            "         -0.0400,  0.1818, -0.2486,  0.3070, -0.0537,  0.3432,  0.1071, -0.0929,\n",
            "         -0.2164, -0.0885, -0.3230],\n",
            "        [ 0.1766, -0.4226,  0.3434, -0.2900, -0.7768, -0.2223, -0.2758,  0.2685,\n",
            "          0.5377,  0.4522, -0.5606,  0.3336,  0.2357, -0.4999, -0.5481,  0.1294,\n",
            "         -0.2981,  0.3641,  0.3747],\n",
            "        [-0.3007, -0.6056, -0.5480, -0.2483,  0.2304, -0.1940,  0.4349, -0.4333,\n",
            "         -0.5585, -0.1515, -0.3024, -0.4872, -0.5561, -0.3758, -0.0384, -0.0774,\n",
            "         -0.5359,  0.0442,  0.0681],\n",
            "        [-0.2363, -0.2586, -0.0338,  0.3304, -0.4116,  0.1383,  0.5235,  0.1211,\n",
            "         -0.0463,  0.6152, -0.3115,  0.2153, -0.1281,  0.4734, -0.0537, -0.1860,\n",
            "          0.4028,  0.3039, -0.2677],\n",
            "        [-0.0933, -0.0719,  0.3009, -0.4589, -0.6273,  0.3143, -0.3723, -0.0538,\n",
            "         -0.4374,  0.1092, -0.2948,  0.0802,  0.2709, -0.4494,  0.4041,  0.6351,\n",
            "         -0.2045, -0.2155, -0.0657],\n",
            "        [ 0.0433, -0.0841, -0.0371, -0.3862,  0.5027, -0.1665, -0.0129, -0.6743,\n",
            "         -0.3870, -0.2324, -0.2997,  0.0926, -0.2170,  0.6080,  0.6865, -0.0732,\n",
            "         -0.3208, -0.2359,  0.1378],\n",
            "        [-0.4679, -0.0665, -0.2339,  0.2925, -0.1390,  0.2429, -0.5092,  0.3240,\n",
            "         -0.5336, -0.2433, -0.4574, -0.5879, -0.0371,  0.0729, -0.3463,  0.1793,\n",
            "         -0.5172, -0.4459, -0.1727],\n",
            "        [-0.3633,  0.3240, -0.1668,  0.3470, -0.6365,  0.4766, -0.4074,  0.3854,\n",
            "         -0.1259, -0.2083,  0.4523,  0.1192,  0.0349,  0.5999, -0.6479,  0.6509,\n",
            "         -0.5085, -0.5954, -0.5511],\n",
            "        [-0.2066, -0.2786, -0.0835,  0.0658, -0.2025,  0.2908, -0.3759,  0.3049,\n",
            "          0.4062,  0.0830, -0.4323,  0.4974,  0.0228,  0.3556, -0.5201, -0.1804,\n",
            "          0.1837,  0.1742,  0.5061],\n",
            "        [ 0.1359, -0.7836, -0.3432,  0.3870, -0.2256,  0.1243, -0.4030, -0.4785,\n",
            "         -0.3613,  0.0696,  0.1002,  0.6189,  0.3507, -0.0252,  0.6872,  0.5578,\n",
            "          0.3358,  0.2083,  0.3278],\n",
            "        [-0.4072,  0.0821,  0.4350,  0.0432, -0.1745, -0.4022, -0.0072,  0.1633,\n",
            "         -0.1239, -0.2338,  0.1005,  0.2456,  0.4011,  0.1171, -0.1288, -0.1070,\n",
            "         -0.6055, -0.2631, -0.2501],\n",
            "        [ 0.3340,  0.2063, -0.2194,  0.6265,  0.5803, -0.4763, -0.0225, -0.2673,\n",
            "         -0.3581,  0.4103,  0.1838, -0.2338,  0.6201,  0.7079, -0.4420,  0.4555,\n",
            "          0.5434, -0.1692, -0.4621],\n",
            "        [-0.3020, -0.0764, -0.1559, -0.2211, -0.4230, -0.1223, -0.2512,  0.1424,\n",
            "          0.5634, -0.3837,  0.2481, -0.2352, -0.1804, -0.3191,  0.5683,  0.6688,\n",
            "          0.2426,  0.0601,  0.0025],\n",
            "        [ 0.1552,  0.5820, -0.0894,  0.6179, -0.0027,  0.3052,  0.0603, -0.3573,\n",
            "         -0.4823, -0.4601,  0.0306, -0.7533,  0.4254,  0.2179, -0.5957,  0.0079,\n",
            "         -0.3728,  0.0717, -0.0156],\n",
            "        [ 0.0858,  0.1385,  0.4358, -0.3002,  0.3148, -0.1777,  0.0554,  0.6034,\n",
            "         -0.3562,  0.3643,  0.3919, -0.7585, -0.0796, -0.4707, -0.6324,  0.1989,\n",
            "         -0.1215, -0.3661, -0.1392],\n",
            "        [ 0.5704,  0.1629,  0.6709,  0.5083,  0.4241, -0.2622, -0.4243,  0.1813,\n",
            "          0.3568,  0.3154, -0.2811,  0.0066, -0.3046, -0.1926, -0.4667,  0.0369,\n",
            "          0.3510,  0.1459, -0.1152],\n",
            "        [ 0.4650, -0.3679,  0.2633, -0.1564, -0.1736, -0.2587,  0.7117,  0.4769,\n",
            "          0.3903, -0.1838,  0.2489,  0.3937,  0.1592, -0.1194, -0.6254, -0.0732,\n",
            "          0.1142, -0.6061, -0.0069],\n",
            "        [ 0.2512, -0.2753,  0.6547, -0.3414,  0.5962, -0.3569,  0.2751,  0.1173,\n",
            "         -0.3256, -0.3850,  0.0410,  0.4837,  0.1423, -0.0397, -0.6745, -0.5075,\n",
            "          0.0321, -0.4595,  0.1904]])), ('hidden1.bias', tensor([-6.5573e-02,  1.2526e-01,  7.7880e-05,  2.2865e-01, -6.2156e-02,\n",
            "        -2.1913e-01,  8.5791e-02,  2.7349e-01,  3.0517e-01, -1.7564e-01,\n",
            "         2.0867e-01, -8.4601e-02, -3.4242e-02,  2.2746e-01, -1.1222e-01,\n",
            "         1.9657e-01, -5.2876e-02,  2.5868e-01,  1.1861e-01,  1.8350e-02])), ('hidden2.weight', tensor([[ 3.8372e-01, -4.0249e-01,  3.1895e-01, -5.6431e-02,  3.5574e-01,\n",
            "          5.8828e-02,  4.0134e-01,  5.2586e-01,  1.9926e-01, -3.1708e-01,\n",
            "         -1.2115e-01,  4.0417e-01,  5.6405e-01, -1.5213e-01,  5.0371e-01,\n",
            "          1.2887e-01,  6.7153e-02,  1.8740e-01, -6.4363e-01, -1.3904e-01],\n",
            "        [-2.0471e-01,  3.6153e-01,  1.9581e-01,  5.1486e-01, -4.1088e-01,\n",
            "          3.3168e-01, -2.0236e-01,  1.5672e-01,  1.7630e-01, -5.9178e-01,\n",
            "          3.0755e-01,  2.2130e-01, -6.2393e-02, -6.4157e-01,  1.8257e-03,\n",
            "         -2.7322e-01, -1.8060e-01, -3.9518e-01, -2.8849e-01,  1.3058e-01],\n",
            "        [ 4.2389e-01,  6.0276e-01,  1.2634e-01, -4.2516e-01,  2.1068e-01,\n",
            "          1.2899e-01, -1.4145e-01, -1.0525e-01,  3.7387e-01, -5.6083e-02,\n",
            "         -1.5445e-01, -2.4126e-01,  3.2420e-01, -2.4352e-01, -4.8780e-01,\n",
            "         -1.2014e-01,  5.9663e-01,  5.2793e-01, -3.3152e-01,  2.7941e-01],\n",
            "        [ 3.1585e-01, -2.1577e-01, -3.2182e-01,  3.9578e-01,  1.9519e-01,\n",
            "          9.6048e-02,  4.1941e-01,  5.2609e-01, -4.9012e-01,  3.7636e-01,\n",
            "         -3.6405e-01,  1.8731e-01, -4.0391e-01, -5.3761e-01,  1.4369e-01,\n",
            "         -5.5252e-01, -1.8309e-01,  3.7900e-01,  4.9866e-01, -5.0955e-02],\n",
            "        [-4.9173e-01,  6.0982e-01, -6.9847e-01, -3.9454e-01,  9.4450e-03,\n",
            "          1.9737e-01,  2.1695e-01, -3.2754e-01, -2.3987e-01,  2.2666e-01,\n",
            "         -2.3119e-01,  3.4308e-01,  2.4244e-01, -3.4790e-01,  5.8143e-01,\n",
            "         -3.6447e-01,  5.2726e-01,  4.6190e-01,  5.4092e-01, -7.3898e-03],\n",
            "        [-1.4155e-01,  3.1860e-01, -3.7206e-01, -8.7510e-02, -8.0736e-02,\n",
            "          1.8260e-01, -5.1395e-01, -2.0505e-01, -3.6209e-01, -2.1680e-01,\n",
            "          2.7253e-01,  3.5512e-01,  1.8120e-01,  6.3008e-02,  1.4673e-01,\n",
            "         -1.8868e-01,  3.8291e-01, -5.7314e-01,  1.5272e-01,  3.2476e-01],\n",
            "        [-1.8273e-01, -5.5323e-01,  2.8690e-01, -3.7804e-02, -1.1414e-01,\n",
            "         -3.8374e-01,  5.5695e-01, -2.0257e-01,  2.1649e-03,  3.5633e-01,\n",
            "          2.7350e-01, -1.4455e-01, -3.3732e-01,  2.0461e-01, -1.7608e-01,\n",
            "         -5.5244e-01,  4.7851e-01, -6.1347e-01,  2.0438e-01,  5.5267e-02],\n",
            "        [ 3.7535e-02,  1.0871e-01, -6.4043e-01,  2.1592e-01, -4.0802e-02,\n",
            "         -5.0491e-02,  7.6721e-02, -1.4657e-01,  1.4557e-01, -3.8716e-01,\n",
            "         -4.1619e-01,  4.0235e-01, -4.1296e-01, -5.6382e-01,  5.8296e-01,\n",
            "         -3.7534e-01,  3.1012e-01,  4.8024e-01,  5.9038e-01,  5.7499e-01],\n",
            "        [-3.0034e-01,  2.6576e-01, -2.9250e-01, -5.6140e-01, -7.6140e-02,\n",
            "          3.2326e-01,  2.1927e-01,  6.1851e-01, -5.2076e-01, -2.3470e-01,\n",
            "         -1.0573e-01, -1.1334e-01, -1.2038e-04,  4.3817e-01, -4.1884e-01,\n",
            "         -3.4498e-01, -1.2322e-01,  2.5981e-01,  5.9928e-01,  4.0862e-01],\n",
            "        [ 1.9935e-01, -2.8033e-01,  2.5227e-01,  2.3270e-01, -5.6890e-01,\n",
            "         -3.9590e-01,  4.6954e-01, -6.0836e-01,  1.0120e-01,  3.2243e-01,\n",
            "          3.7655e-01,  8.7093e-02,  1.4325e-01, -4.9884e-01,  4.6056e-01,\n",
            "         -3.7572e-01, -6.1739e-01,  1.4313e-01,  1.9263e-01,  3.3184e-01],\n",
            "        [ 3.9189e-01,  1.4329e-01, -4.7490e-01,  7.5593e-01, -2.1582e-01,\n",
            "         -2.0748e-01, -5.5976e-01,  3.8730e-01,  1.1295e-01,  3.3388e-01,\n",
            "         -2.2819e-01, -3.8263e-01, -2.0504e-01,  5.4382e-01, -1.1695e-01,\n",
            "          3.2522e-01, -2.1432e-01, -2.1371e-02, -3.0679e-01,  1.5937e-01],\n",
            "        [-4.9949e-01, -5.3781e-01, -2.8615e-01, -4.6282e-01, -5.1346e-01,\n",
            "          5.7617e-03,  4.7031e-01, -6.4255e-02, -6.3392e-02,  2.0951e-01,\n",
            "         -1.8787e-01,  2.8075e-01,  2.4633e-01, -3.2159e-01,  2.7471e-01,\n",
            "          4.6198e-01,  1.7972e-01, -6.1540e-03, -5.5210e-01, -3.7452e-01],\n",
            "        [-8.2070e-02,  2.4682e-01, -3.7048e-01,  3.6776e-01, -8.7647e-02,\n",
            "         -3.1096e-01, -3.3246e-01, -2.1064e-01, -5.1020e-01, -3.6910e-01,\n",
            "         -4.4905e-01, -6.2256e-01, -1.6414e-01,  5.5768e-01, -7.8595e-03,\n",
            "          2.5948e-01,  3.7829e-01, -2.9039e-01,  4.6971e-01,  4.5169e-01],\n",
            "        [-1.9907e-01,  2.4080e-01,  1.8792e-01, -4.7731e-01, -6.4359e-01,\n",
            "         -1.8425e-01,  1.2873e-02,  2.0689e-01, -8.4656e-02,  1.9607e-01,\n",
            "          7.0795e-02, -2.0077e-01,  1.8248e-01,  2.4746e-01, -9.4168e-02,\n",
            "          6.5848e-01, -3.9739e-01,  4.6134e-02, -3.7860e-01,  3.9477e-01],\n",
            "        [ 3.8123e-01, -3.3187e-02, -1.4971e-01, -1.1670e-01, -2.1912e-01,\n",
            "          5.8611e-01,  4.4908e-01,  4.0457e-01,  6.5565e-01,  5.2232e-01,\n",
            "         -1.3468e-01,  3.6255e-01,  2.4972e-01, -3.3884e-01,  1.6246e-01,\n",
            "          3.5607e-01,  4.3408e-02,  3.6651e-02, -3.4253e-01, -1.3434e-01],\n",
            "        [ 5.5484e-01,  3.4458e-01,  5.8096e-01,  1.6484e-01,  7.2074e-01,\n",
            "          6.5967e-01,  2.4183e-01,  4.2049e-01,  1.7366e-01, -4.1116e-01,\n",
            "          1.7667e-01, -1.5771e-01, -1.5404e-01, -3.4024e-01,  4.2635e-01,\n",
            "          5.9558e-01,  1.4147e-01, -4.5927e-01, -1.4677e-01, -3.0772e-01],\n",
            "        [ 2.6447e-01, -5.5216e-01, -3.3510e-01, -4.7560e-01,  4.1426e-01,\n",
            "         -4.1747e-01,  1.3771e-01,  2.3371e-01,  2.9440e-01, -6.2367e-01,\n",
            "         -2.0507e-01,  8.0042e-02,  1.0774e-01, -3.1764e-02,  7.9561e-02,\n",
            "         -5.1575e-01,  2.8879e-01,  4.4542e-01, -6.6074e-01, -7.3857e-01],\n",
            "        [ 6.5422e-01, -3.0598e-01,  5.0145e-01, -5.3438e-01,  4.7927e-01,\n",
            "          2.3596e-01,  5.2340e-01, -1.7724e-01, -3.5286e-01, -2.7491e-02,\n",
            "         -4.7979e-01, -4.7699e-01, -5.8787e-02, -7.7866e-02, -6.4348e-01,\n",
            "         -2.8962e-01,  3.4978e-01, -7.4687e-01, -4.7296e-01,  2.7622e-01],\n",
            "        [ 5.0508e-01, -1.4660e-01,  1.9008e-01, -2.4438e-01, -1.4422e-01,\n",
            "         -5.9660e-01,  7.1241e-01,  5.4187e-01, -1.1058e-02, -3.4785e-01,\n",
            "          1.4245e-02,  4.1866e-01,  1.2784e-01, -3.0269e-01, -2.3281e-01,\n",
            "         -1.1861e-01,  6.9646e-01,  3.4447e-01,  6.7177e-01,  6.4291e-02],\n",
            "        [ 3.4243e-01,  3.1614e-01, -1.1013e-01,  6.7977e-01, -4.5529e-01,\n",
            "          3.0581e-01,  4.1466e-01, -2.1158e-01, -2.5298e-01,  1.2531e-01,\n",
            "          2.8651e-01,  1.9114e-02, -9.3327e-02,  4.6416e-04,  4.9234e-01,\n",
            "          1.5980e-01,  1.4294e-01,  5.5647e-01, -1.9623e-01, -1.1685e-01]])), ('hidden2.bias', tensor([ 0.2906,  0.1904,  0.1625, -0.0724,  0.0316, -0.2121,  0.0382, -0.1011,\n",
            "         0.0175, -0.0093,  0.0822, -0.1841, -0.2018,  0.3074, -0.0399,  0.0677,\n",
            "        -0.0098,  0.1976,  0.1101,  0.2806])), ('hidden3.weight', tensor([[ 2.7291e-01, -1.0248e-01, -4.9896e-01, -3.2853e-01,  2.1902e-01,\n",
            "         -1.2985e-01, -2.3789e-01, -2.5024e-01,  2.1286e-01, -1.9824e-01,\n",
            "          1.9551e-01, -1.7795e-04, -4.0142e-01,  9.0482e-03, -5.2375e-01,\n",
            "          2.5276e-01, -3.3111e-01, -4.1468e-01, -1.3760e-02, -7.4579e-04],\n",
            "        [-1.3113e-01, -1.2420e-01,  5.0824e-01, -4.0371e-01, -1.1655e-01,\n",
            "          2.5474e-01, -6.5794e-01, -5.6790e-01, -1.8535e-01, -4.6526e-01,\n",
            "         -3.4019e-01,  1.0219e-02,  7.2306e-03,  2.4190e-01,  2.9013e-01,\n",
            "          2.6526e-01, -2.2892e-01,  1.2868e-01,  4.3992e-01, -4.8228e-01],\n",
            "        [-2.4718e-02, -3.4759e-01, -4.7057e-01, -2.7847e-01, -2.8184e-01,\n",
            "          2.8601e-01,  4.6725e-01,  8.2287e-02,  3.3126e-02, -3.8640e-01,\n",
            "          2.8402e-01, -2.1514e-01, -5.2192e-01, -3.9611e-01, -3.0800e-01,\n",
            "          1.2934e-01, -2.8850e-03, -1.9031e-01,  1.0135e-01, -4.7583e-01],\n",
            "        [-5.4142e-01,  5.0245e-02,  1.3441e-01,  2.2938e-01, -5.2012e-01,\n",
            "         -5.9754e-01,  1.8606e-01, -4.3372e-01, -6.4141e-02,  8.1742e-02,\n",
            "          3.7959e-01, -2.9479e-01, -5.8504e-01,  5.7457e-01,  2.4004e-01,\n",
            "          1.1620e-01,  1.3322e-01, -2.2601e-01, -2.8210e-01,  3.8630e-01],\n",
            "        [ 2.7407e-01, -3.1221e-01, -4.4032e-03, -4.6678e-01,  3.6666e-01,\n",
            "         -3.7961e-01,  1.0468e-01, -3.2544e-01,  5.5643e-01, -2.4282e-01,\n",
            "          6.1723e-02,  3.0481e-01, -4.9417e-01, -2.5104e-01, -8.4373e-02,\n",
            "         -4.9815e-01, -3.0041e-01, -2.1048e-01, -3.9529e-01,  4.5749e-01],\n",
            "        [-4.9557e-01,  2.8368e-01, -6.4556e-01,  1.9878e-01, -5.1952e-02,\n",
            "         -5.6635e-02,  4.3253e-01,  2.8876e-01,  5.7331e-02,  7.4894e-02,\n",
            "          6.5519e-02,  4.6041e-02, -4.6961e-01, -4.0711e-01, -5.4461e-01,\n",
            "         -2.5414e-01, -4.2314e-01, -5.2261e-03,  4.4817e-01,  3.0585e-01],\n",
            "        [ 1.2286e-01, -3.6912e-01, -4.2600e-01, -2.4025e-01,  3.1205e-01,\n",
            "         -4.1060e-01, -3.6996e-01,  3.8446e-01, -6.1441e-02,  4.5341e-01,\n",
            "          1.4283e-01,  3.5686e-01,  2.7764e-02, -3.1162e-01,  2.5109e-02,\n",
            "         -6.2057e-01,  1.2091e-01,  2.3976e-02,  8.8974e-02,  9.8412e-02],\n",
            "        [ 7.7856e-02, -5.3286e-01, -2.9077e-01,  3.8095e-01, -1.1618e-01,\n",
            "         -4.9483e-01, -6.3977e-01, -4.0910e-01, -2.9597e-01, -5.3872e-01,\n",
            "          1.1110e-01,  2.5612e-01,  1.4949e-01, -3.3697e-01,  3.9247e-01,\n",
            "          3.2982e-01, -2.2043e-01,  3.5864e-02,  6.0071e-01, -9.6212e-02],\n",
            "        [-1.2195e-01, -2.1440e-02, -2.3841e-01,  1.7793e-01, -2.9055e-01,\n",
            "          1.9640e-02, -2.5867e-01, -3.6926e-01,  5.4769e-01,  2.3466e-02,\n",
            "          2.6815e-01,  1.5747e-01, -1.8408e-02,  3.6447e-02, -3.6525e-02,\n",
            "         -6.2095e-02, -1.5224e-02, -1.9952e-01, -9.8562e-02,  9.7609e-02],\n",
            "        [-4.9449e-01, -2.5658e-01,  6.0764e-01,  8.3341e-02,  3.1194e-01,\n",
            "          1.1846e-01, -6.7152e-02,  2.1787e-01,  1.4922e-01, -4.0315e-01,\n",
            "         -5.8627e-01, -5.4570e-02,  3.2734e-01, -3.6992e-01, -2.9644e-01,\n",
            "         -2.3305e-01, -3.9214e-01,  9.9367e-02,  2.3073e-01, -1.3122e-01],\n",
            "        [ 4.0888e-01, -2.5541e-02,  2.0468e-01, -4.8693e-01, -1.7385e-01,\n",
            "          2.7321e-01, -2.1142e-01, -2.9302e-01,  1.8474e-01, -1.7485e-01,\n",
            "         -4.2189e-01,  2.4561e-01, -4.4040e-03, -3.6127e-01,  1.8796e-02,\n",
            "          5.2825e-01,  3.5756e-01,  5.2373e-01, -1.1756e-01, -2.9557e-01],\n",
            "        [ 4.5625e-02, -3.3821e-01, -5.1550e-02, -4.1248e-01, -2.1453e-02,\n",
            "          1.8887e-01, -2.0523e-01, -1.0214e-01,  2.8037e-01,  1.6911e-01,\n",
            "          2.6663e-02,  1.4337e-01,  1.1306e-02, -8.5048e-02, -3.5252e-01,\n",
            "         -4.6468e-01, -4.2405e-01, -6.2961e-02, -2.9097e-01, -1.5104e-01],\n",
            "        [ 7.2423e-02,  1.6394e-01,  1.3348e-01, -1.8999e-02, -2.7041e-01,\n",
            "         -1.0610e-01,  4.1514e-01,  1.5866e-01, -5.3664e-01, -1.2631e-01,\n",
            "         -3.3911e-01, -2.1437e-01, -8.1568e-02, -2.2636e-02,  2.8429e-01,\n",
            "          8.0641e-02, -1.2081e-01,  4.0931e-01,  1.8820e-01, -1.8920e-01]])), ('hidden3.bias', tensor([-0.2657, -0.0174, -0.1976,  0.2230,  0.1458,  0.3432, -0.2699, -0.0330,\n",
            "         0.1021, -0.3257, -0.0310, -0.3011,  0.3239]))])\n",
            "Train Epoch: 1 [0/1894678 (0%)]\tLoss: 2.220964\n",
            "Train Epoch: 1 [100000/1894678 (5%)]\tLoss: 2.214068\n",
            "Train Epoch: 1 [200000/1894678 (11%)]\tLoss: 2.203660\n",
            "Train Epoch: 1 [300000/1894678 (16%)]\tLoss: 2.192916\n",
            "Train Epoch: 1 [400000/1894678 (21%)]\tLoss: 2.185491\n",
            "Train Epoch: 1 [500000/1894678 (26%)]\tLoss: 2.184243\n",
            "Train Epoch: 1 [600000/1894678 (32%)]\tLoss: 2.163975\n",
            "Train Epoch: 1 [700000/1894678 (37%)]\tLoss: 2.153289\n",
            "Train Epoch: 1 [800000/1894678 (42%)]\tLoss: 2.144262\n",
            "Train Epoch: 1 [900000/1894678 (47%)]\tLoss: 2.143042\n",
            "Train Epoch: 1 [1000000/1894678 (53%)]\tLoss: 2.131999\n",
            "Train Epoch: 1 [1100000/1894678 (58%)]\tLoss: 2.129501\n",
            "Train Epoch: 1 [1200000/1894678 (63%)]\tLoss: 2.123569\n",
            "Train Epoch: 1 [1300000/1894678 (68%)]\tLoss: 2.114358\n",
            "Train Epoch: 1 [1400000/1894678 (74%)]\tLoss: 2.104206\n",
            "Train Epoch: 1 [1500000/1894678 (79%)]\tLoss: 2.099733\n",
            "Train Epoch: 1 [1600000/1894678 (84%)]\tLoss: 2.093740\n",
            "Train Epoch: 1 [1700000/1894678 (89%)]\tLoss: 2.082189\n",
            "Train Epoch: 1 [1800000/1894678 (95%)]\tLoss: 2.077541\n",
            "OrderedDict([('hidden1.weight', tensor([[-2.6264e-01, -5.5296e-01, -3.3145e-01, -5.5636e-01, -5.4722e-01,\n",
            "         -6.7962e-01, -3.7975e-01, -4.1091e-01, -3.6276e-01, -5.4386e-01,\n",
            "         -5.1354e-01, -3.4138e-01,  1.0596e-01, -1.0957e-02,  2.0353e-01,\n",
            "         -6.0021e-01,  5.0973e-02, -7.4165e-01, -7.8773e-01],\n",
            "        [ 2.4302e-02,  1.1261e-01,  5.5693e-01,  4.3704e-01,  1.6477e-01,\n",
            "         -3.0564e-01, -4.4349e-01, -3.4173e-02,  2.1830e-01, -3.8000e-01,\n",
            "          3.5187e-02, -4.0140e-01, -1.5996e-01,  3.3817e-01, -6.5601e-01,\n",
            "          5.7129e-02,  7.0099e-01, -5.5119e-01, -8.9511e-02],\n",
            "        [-2.6268e-01, -7.3155e-01, -5.9384e-01, -7.9162e-01, -8.2822e-01,\n",
            "         -3.5868e-01, -5.6250e-02, -1.0195e-01, -1.9167e-01,  1.1426e-01,\n",
            "         -3.7490e-01,  3.4714e-01, -1.2629e-01,  2.8106e-01,  4.3222e-02,\n",
            "         -3.1674e-02, -3.1462e-01,  9.3686e-03, -4.0708e-01],\n",
            "        [ 2.4618e-01, -6.6885e-01,  2.2003e-01, -4.3898e-01, -1.0083e+00,\n",
            "         -2.1339e-01, -4.4092e-01,  3.3810e-01,  6.3762e-01,  5.1231e-01,\n",
            "         -7.2290e-01,  3.7203e-01,  4.7029e-01, -6.3300e-01, -8.0064e-01,\n",
            "         -1.3079e-02, -2.2496e-01,  6.0863e-01,  5.8695e-01],\n",
            "        [-4.1912e-01, -7.7995e-01, -7.3680e-01, -2.5882e-01,  7.9959e-02,\n",
            "         -2.6972e-01,  4.4289e-01, -5.5167e-01, -6.9538e-01, -1.5870e-01,\n",
            "         -4.1453e-01, -7.3463e-01, -6.2378e-01, -3.8146e-01,  1.3367e-01,\n",
            "         -3.2221e-01, -6.8240e-01,  2.5319e-01,  6.0683e-02],\n",
            "        [-3.9662e-01, -4.4077e-01,  9.2840e-04,  3.8936e-01, -4.5714e-01,\n",
            "          2.1422e-02,  5.1676e-01, -3.9240e-02, -8.7600e-02,  7.1784e-01,\n",
            "         -4.0674e-01,  3.4418e-01, -1.3544e-01,  5.1486e-01, -1.8746e-01,\n",
            "         -1.0306e-01,  3.6230e-01,  2.6717e-01, -3.9899e-01],\n",
            "        [-3.5923e-01, -3.1364e-01,  4.6540e-01, -6.1011e-01, -8.4881e-01,\n",
            "          1.6777e-01, -4.9159e-01, -3.1971e-01, -5.5583e-01,  5.9781e-02,\n",
            "         -5.4974e-01,  2.6520e-01, -4.1231e-02, -5.9565e-01,  4.1730e-01,\n",
            "          8.4641e-01, -3.0076e-01, -3.9524e-01, -2.7525e-01],\n",
            "        [ 1.0324e-01, -9.7336e-02, -1.9863e-01, -4.2714e-01,  5.1294e-01,\n",
            "         -1.8449e-01,  2.2759e-03, -6.1437e-01, -3.4876e-01, -2.7607e-01,\n",
            "         -2.9052e-01, -1.1606e-01, -1.9161e-01,  6.0375e-01,  7.3562e-01,\n",
            "         -2.7862e-01, -3.4426e-01, -2.4250e-01,  1.5566e-01],\n",
            "        [-3.4509e-01,  2.0347e-01, -4.6878e-01,  3.6586e-01, -1.8582e-01,\n",
            "          1.7173e-01, -5.8674e-01,  4.4682e-01, -7.8124e-01, -1.8884e-01,\n",
            "         -6.6080e-01, -8.6801e-01, -2.8456e-01,  1.1329e-01, -4.8910e-01,\n",
            "         -9.5392e-02, -7.4760e-01, -3.8584e-01, -2.1068e-01],\n",
            "        [-2.6126e-01,  4.3766e-01, -8.0967e-02,  4.0794e-01, -6.8019e-01,\n",
            "          4.4920e-01, -4.3212e-01,  4.8746e-01, -2.0966e-01, -4.1013e-01,\n",
            "          4.5229e-01,  2.5677e-01,  1.1599e-02,  6.5615e-01, -8.7862e-01,\n",
            "          8.3184e-01, -5.8834e-01, -7.4558e-01, -6.0672e-01],\n",
            "        [-2.7582e-01, -3.6351e-01, -1.1251e-01,  7.3089e-02, -2.2721e-01,\n",
            "          4.1291e-01, -3.8484e-01,  2.3576e-01,  3.5290e-01,  1.0445e-01,\n",
            "         -4.7397e-01,  5.3017e-01,  1.0341e-02,  3.4226e-01, -6.6947e-01,\n",
            "         -1.8366e-01,  1.3426e-01,  3.2490e-01,  6.7752e-01],\n",
            "        [-6.4801e-03, -8.0058e-01, -2.1535e-01,  3.7326e-01, -2.2264e-01,\n",
            "          1.8943e-01, -4.0844e-01, -6.2092e-01, -3.7704e-01,  6.1823e-02,\n",
            "          9.1886e-02,  7.1638e-01,  3.3932e-01, -4.0662e-02,  8.7239e-01,\n",
            "          7.0404e-01,  3.2105e-01,  1.9988e-01,  4.5832e-01],\n",
            "        [-5.2068e-01,  4.2210e-02,  4.0982e-01,  5.3246e-02, -2.3405e-01,\n",
            "         -5.5075e-01, -8.4864e-03,  4.9756e-02, -2.4947e-01, -3.0432e-01,\n",
            "          9.9918e-02,  3.4710e-01,  3.6746e-01,  1.2383e-01, -1.3447e-01,\n",
            "         -1.1431e-02, -7.0664e-01, -2.1880e-01, -3.2128e-01],\n",
            "        [ 3.7367e-01,  2.2875e-01, -2.2545e-01,  6.6639e-01,  6.3834e-01,\n",
            "         -5.6737e-01,  4.5285e-03, -2.2758e-01, -2.9440e-01,  3.9692e-01,\n",
            "          1.9640e-01, -3.1212e-01,  6.4870e-01,  7.4847e-01, -5.3449e-01,\n",
            "          4.0250e-01,  6.0352e-01, -2.6487e-01, -5.6817e-01],\n",
            "        [-3.1025e-01, -1.6363e-01, -2.0093e-01, -2.4695e-01, -4.9874e-01,\n",
            "         -3.6968e-02, -2.3408e-01,  1.3421e-01,  5.8059e-01, -4.8543e-01,\n",
            "          2.4746e-01, -1.5866e-01, -1.9042e-01, -3.3890e-01,  7.8472e-01,\n",
            "          7.0538e-01,  2.6345e-01,  3.2335e-02, -1.9513e-02],\n",
            "        [ 2.7261e-01,  7.6302e-01, -2.7248e-01,  6.4315e-01, -2.0756e-02,\n",
            "          1.7409e-01,  5.4177e-02, -2.3988e-01, -5.7982e-01, -4.0822e-01,\n",
            "          2.9237e-02, -1.0417e+00,  4.3301e-01,  2.2140e-01, -7.7901e-01,\n",
            "         -2.5025e-01, -5.0641e-01,  2.6461e-01, -1.5405e-02],\n",
            "        [ 1.3908e-01,  2.9979e-01,  5.5112e-01, -3.8937e-01,  4.7347e-01,\n",
            "         -2.5183e-01, -1.3766e-02,  6.5663e-01, -3.4196e-01,  2.7108e-01,\n",
            "          3.9398e-01, -7.8161e-01, -8.1438e-02, -5.5077e-01, -7.8365e-01,\n",
            "          3.1861e-01, -1.0331e-01, -5.2460e-01, -2.1052e-01],\n",
            "        [ 6.2059e-01,  2.2372e-01,  7.1806e-01,  5.1320e-01,  4.9798e-01,\n",
            "         -3.7371e-01, -4.8408e-01,  2.3147e-01,  3.7173e-01,  3.0061e-01,\n",
            "         -2.6088e-01,  6.1026e-02, -3.4135e-01, -1.9337e-01, -5.7125e-01,\n",
            "          1.0432e-01,  3.6055e-01,  3.1194e-02, -1.8708e-01],\n",
            "        [ 5.5003e-01, -2.6558e-01,  3.0537e-01, -2.7134e-01, -9.6880e-02,\n",
            "         -2.9000e-01,  7.4734e-01,  5.6194e-01,  4.5999e-01, -2.0744e-01,\n",
            "          2.5058e-01,  4.1794e-01,  1.9905e-01, -1.9670e-01, -8.7894e-01,\n",
            "         -1.9840e-02,  1.7861e-01, -8.1783e-01, -2.6531e-03],\n",
            "        [ 3.9163e-01, -1.5276e-01,  5.8843e-01, -4.5537e-01,  6.6869e-01,\n",
            "         -5.5509e-01,  2.7891e-01,  2.5778e-01, -2.8251e-01, -5.0825e-01,\n",
            "          4.7480e-02,  5.4222e-01,  1.5180e-01, -6.0487e-02, -9.6956e-01,\n",
            "         -5.4224e-01,  8.3324e-02, -7.0928e-01,  9.5689e-02]])), ('hidden1.bias', tensor([ 0.0053,  0.2157,  0.1089,  0.4032, -0.0572, -0.0851,  0.2008,  0.4042,\n",
            "         0.3457, -0.1362,  0.3846,  0.0026, -0.0324,  0.3198, -0.1011,  0.3281,\n",
            "        -0.0085,  0.3631,  0.2519,  0.2390])), ('hidden2.weight', tensor([[ 5.1991e-01, -4.5363e-01,  4.0186e-01,  3.3633e-02,  5.8850e-01,\n",
            "          1.5245e-02,  4.9325e-01,  7.0254e-01,  3.6710e-01, -3.8968e-01,\n",
            "         -1.3116e-01,  4.5541e-01,  6.1511e-01, -1.1642e-01,  5.0859e-01,\n",
            "          3.4639e-01,  2.0093e-02,  1.6341e-01, -7.7798e-01, -2.9418e-01],\n",
            "        [-4.3261e-01,  3.4589e-01,  3.3859e-01,  6.6445e-01, -9.7498e-02,\n",
            "          3.8641e-01, -1.7433e-01,  2.0212e-01,  3.3437e-01, -7.3437e-01,\n",
            "          4.4434e-01,  2.4992e-01, -2.0197e-01, -7.4758e-01, -1.8526e-02,\n",
            "          7.3478e-02, -4.4057e-01, -4.0833e-01, -2.9772e-01,  1.3792e-01],\n",
            "        [ 5.5936e-01,  6.3536e-01, -6.5107e-02, -6.3033e-01,  2.3099e-01,\n",
            "         -1.2532e-02, -3.5036e-01, -1.2126e-01,  6.1842e-01,  6.3995e-02,\n",
            "         -2.2095e-01, -4.0216e-01,  4.9647e-01, -2.7762e-01, -5.1533e-01,\n",
            "          6.3883e-02,  6.9910e-01,  5.8978e-01, -2.4857e-01,  4.2273e-01],\n",
            "        [ 4.7778e-01, -2.1754e-01, -1.3234e-01,  5.4867e-01,  4.8907e-02,\n",
            "          1.2857e-01,  6.3659e-01,  5.6377e-01, -5.4065e-01,  4.0990e-01,\n",
            "         -4.1512e-01,  2.7071e-01, -3.9634e-01, -5.4279e-01,  1.6826e-01,\n",
            "         -7.6651e-01, -1.3912e-01,  3.7384e-01,  6.1221e-01,  1.3618e-01],\n",
            "        [-3.8463e-01,  6.2389e-01, -7.0639e-01, -3.4555e-01,  4.2746e-02,\n",
            "          1.8724e-01,  1.5791e-01, -3.4456e-01, -3.1016e-01,  2.1729e-01,\n",
            "         -1.9068e-01,  3.8658e-01,  3.6479e-01, -4.5745e-01,  6.6174e-01,\n",
            "         -4.3795e-01,  6.0315e-01,  4.8864e-01,  6.2316e-01,  1.2804e-01],\n",
            "        [-1.5670e-01,  2.8787e-01, -3.0639e-01, -1.1160e-01, -8.7437e-02,\n",
            "          2.3512e-01, -4.4787e-01, -1.8471e-01, -3.6508e-01, -2.1905e-01,\n",
            "          2.7732e-01,  3.9360e-01,  1.7709e-01,  6.8281e-02,  1.1173e-01,\n",
            "         -1.7563e-01,  3.9445e-01, -6.1774e-01,  1.2259e-01,  3.0754e-01],\n",
            "        [-2.1567e-01, -8.0117e-01,  5.0930e-01,  8.2028e-02, -2.8986e-01,\n",
            "         -7.1778e-01,  8.0814e-01, -2.5266e-01, -1.4644e-01,  5.0946e-01,\n",
            "          1.8506e-01, -3.1642e-01, -1.1598e-01,  1.8143e-01, -2.9950e-01,\n",
            "         -8.1995e-01,  3.3787e-01, -7.7810e-01,  2.5964e-01,  1.5864e-01],\n",
            "        [-1.4060e-01,  1.3137e-01, -7.3142e-01,  2.4257e-01, -3.4163e-01,\n",
            "         -8.3892e-02, -2.5175e-02, -5.5155e-02,  2.7026e-01, -3.8458e-01,\n",
            "         -3.9738e-01,  3.9107e-01, -4.3704e-01, -5.2914e-01,  5.9375e-01,\n",
            "         -1.8898e-01,  3.7384e-01,  4.8631e-01,  6.5827e-01,  7.5068e-01],\n",
            "        [-2.6478e-01,  3.1696e-01, -3.0003e-01, -5.6246e-01, -1.7660e-01,\n",
            "          3.4753e-01,  2.8128e-01,  6.7857e-01, -4.9415e-01, -1.9380e-01,\n",
            "         -9.9393e-02, -2.2701e-02, -2.4271e-02,  4.6547e-01, -4.3629e-01,\n",
            "         -3.1718e-01,  1.2714e-01,  3.0175e-01,  6.7483e-01,  5.7572e-01],\n",
            "        [ 2.4378e-01, -3.1037e-01,  4.3916e-01,  3.7409e-01, -5.4820e-01,\n",
            "         -3.3704e-01,  6.7574e-01, -6.3934e-01,  1.7586e-01,  3.7983e-01,\n",
            "          4.6711e-01,  7.6176e-02,  3.0798e-01, -5.7811e-01,  4.7718e-01,\n",
            "         -6.2576e-01, -6.7327e-01,  1.3285e-01,  2.5408e-01,  4.5621e-01],\n",
            "        [ 3.5085e-01,  2.1641e-01, -4.9498e-01,  1.0225e+00, -2.8391e-03,\n",
            "         -1.8320e-01, -8.8319e-01,  4.2654e-01,  3.7815e-01,  3.7945e-01,\n",
            "         -1.3330e-01, -5.3778e-01, -3.6988e-01,  5.8259e-01,  8.0348e-04,\n",
            "          4.9196e-01, -1.8574e-01, -1.8437e-03, -1.2899e-01,  3.7695e-01],\n",
            "        [-5.0175e-01, -5.2067e-01, -1.6176e-01, -2.0660e-01, -5.7020e-01,\n",
            "          2.1046e-02,  7.2895e-01, -7.2569e-02, -6.2977e-02,  2.1734e-01,\n",
            "         -1.3625e-01,  3.3482e-01,  2.5870e-01, -3.2088e-01,  2.8727e-01,\n",
            "          4.6327e-01,  1.7972e-01,  8.9384e-02, -5.3330e-01, -2.9362e-01],\n",
            "        [ 2.1218e-01,  3.1770e-01, -3.8126e-01,  4.7753e-01, -1.3180e-01,\n",
            "         -3.0128e-01, -5.3200e-01, -1.2941e-01, -5.3288e-01, -4.1344e-01,\n",
            "         -4.1985e-01, -7.6581e-01, -1.8216e-01,  5.6360e-01,  1.5828e-02,\n",
            "          2.5745e-01,  4.0846e-01, -2.4484e-01,  5.5495e-01,  5.8433e-01],\n",
            "        [-3.6204e-01,  2.9454e-01,  1.7710e-01, -5.1324e-01, -8.4282e-01,\n",
            "         -1.7602e-01, -5.6788e-03,  2.1241e-01, -2.7393e-02,  2.4114e-01,\n",
            "          7.2549e-02, -2.6290e-01,  2.2687e-01,  2.7630e-01, -9.0967e-02,\n",
            "          6.9067e-01, -4.1404e-01,  8.3459e-02, -3.5982e-01,  3.8123e-01],\n",
            "        [ 4.5830e-01, -1.6535e-01, -1.3596e-01, -1.8502e-01, -4.4088e-01,\n",
            "          7.0223e-01,  5.0923e-01,  3.2202e-01,  6.5696e-01,  6.0013e-01,\n",
            "         -2.1262e-01,  4.1186e-01,  3.6205e-01, -3.7784e-01,  1.1883e-01,\n",
            "          2.3788e-01,  7.6283e-02, -6.8870e-02, -3.5724e-01, -1.8342e-01],\n",
            "        [ 6.4767e-01,  3.3072e-01,  7.3408e-01,  3.1705e-01,  9.2593e-01,\n",
            "          7.1835e-01,  2.0609e-01,  4.6799e-01,  2.7033e-01, -6.4648e-01,\n",
            "          2.5903e-01, -8.2985e-02, -2.0151e-01, -4.5427e-01,  5.3879e-01,\n",
            "          8.4305e-01, -5.0495e-02, -4.2145e-01, -3.3162e-01, -5.2549e-01],\n",
            "        [ 4.8826e-01, -5.6656e-01, -8.6030e-02, -6.8650e-01,  6.2422e-01,\n",
            "         -1.6004e-01,  3.7076e-01,  3.9499e-01,  4.1223e-01, -9.4409e-01,\n",
            "         -2.9365e-01, -1.0041e-01,  2.8448e-01, -4.7711e-02, -5.7819e-02,\n",
            "         -6.8221e-01,  4.0250e-02,  4.4539e-01, -9.2783e-01, -1.0579e+00],\n",
            "        [ 7.1519e-01, -5.8990e-01,  6.7602e-01, -6.4626e-01,  4.5148e-01,\n",
            "          7.1315e-02,  8.0343e-01, -2.4332e-01, -4.0254e-01,  1.2784e-01,\n",
            "         -7.0347e-01, -6.8233e-01,  1.3013e-01, -1.2218e-01, -8.5147e-01,\n",
            "         -6.4638e-01,  6.6440e-02, -8.3990e-01, -6.2847e-01,  7.2995e-02],\n",
            "        [ 6.3638e-01, -2.0873e-01,  1.4099e-01, -2.4759e-01, -2.3813e-01,\n",
            "         -6.7187e-01,  8.2902e-01,  5.6397e-01,  1.3734e-01, -3.0248e-01,\n",
            "         -1.4338e-02,  4.9300e-01,  1.1787e-01, -3.7427e-01, -1.9946e-01,\n",
            "          1.5185e-03,  7.9361e-01,  2.8784e-01,  7.5344e-01,  2.3239e-01],\n",
            "        [ 2.0448e-01,  3.5561e-01,  3.9381e-02,  8.2446e-01, -5.0851e-01,\n",
            "          3.8275e-01,  6.3207e-01, -2.1446e-01, -3.3847e-01,  1.8034e-01,\n",
            "          3.4745e-01,  1.2152e-01, -7.8994e-02,  4.7951e-02,  5.2725e-01,\n",
            "          1.7079e-01,  9.7910e-02,  6.0125e-01, -1.4160e-01, -7.5535e-02]])), ('hidden2.bias', tensor([ 0.4171,  0.3324,  0.2325,  0.0780,  0.0602, -0.2146,  0.1406,  0.0073,\n",
            "         0.1192,  0.0934,  0.2889, -0.1711, -0.0617,  0.3567, -0.1429,  0.1045,\n",
            "         0.0046,  0.1414,  0.1689,  0.3906])), ('hidden3.weight', tensor([[ 0.5731,  0.2401, -0.5139, -0.4481,  0.2254, -0.2132, -0.6009, -0.2563,\n",
            "          0.1996, -0.3923,  0.3335, -0.0089, -0.4189, -0.0021, -0.5910,  0.5529,\n",
            "         -0.3120, -0.5735, -0.0848,  0.1379],\n",
            "        [-0.0819, -0.4288,  0.7277, -0.7249, -0.1669,  0.2540, -0.9654, -0.7915,\n",
            "         -0.3118, -0.8108, -0.4074,  0.0101, -0.1761,  0.1007,  0.5332,  0.3760,\n",
            "         -0.5263, -0.0563,  0.5713, -0.7729],\n",
            "        [-0.0914, -0.5811, -0.5497, -0.2932, -0.2935,  0.2846,  0.3797,  0.0662,\n",
            "          0.0198, -0.4355,  0.1626, -0.2151, -0.5479, -0.4332, -0.3842,  0.0320,\n",
            "         -0.0471, -0.2530,  0.0296, -0.5771],\n",
            "        [-0.6186,  0.0984,  0.1371,  0.2775, -0.5615, -0.6611, -0.0187, -0.5178,\n",
            "         -0.1277,  0.1801,  0.3908, -0.2956, -0.6668,  0.6110,  0.2799,  0.0567,\n",
            "          0.0318, -0.3742, -0.4888,  0.4492],\n",
            "        [ 0.2140, -0.3993, -0.0117, -0.4673,  0.3871, -0.3905,  0.0984, -0.3382,\n",
            "          0.5652, -0.2857, -0.0049,  0.3047, -0.5632, -0.2772, -0.1141, -0.5890,\n",
            "         -0.3278, -0.2654, -0.4484,  0.4764],\n",
            "        [-0.6587,  0.3909, -0.8361,  0.2522, -0.0623, -0.0026,  0.6040,  0.3068,\n",
            "          0.0621,  0.1290, -0.1748, -0.0289, -0.6772, -0.4306, -0.6995, -0.3409,\n",
            "         -0.4606, -0.2412,  0.5163,  0.3390],\n",
            "        [ 0.2407, -0.5229, -0.5021, -0.2202,  0.3177, -0.4215, -0.3806,  0.4169,\n",
            "         -0.1251,  0.5315,  0.2444,  0.3701,  0.1586, -0.3627,  0.1011, -0.7798,\n",
            "          0.1162, -0.1503,  0.0059,  0.0842],\n",
            "        [ 0.0829, -0.7542, -0.4041,  0.6427, -0.1370, -0.4972, -0.8255, -0.4707,\n",
            "         -0.3518, -0.5704,  0.0666,  0.2374,  0.0402, -0.3911,  0.3771,  0.3473,\n",
            "         -0.2895, -0.0660,  0.7478, -0.0602],\n",
            "        [-0.1841, -0.1039, -0.3479,  0.1391, -0.3099,  0.0674, -0.4251, -0.4324,\n",
            "          0.5681, -0.0372,  0.2742,  0.1570,  0.0039,  0.0452, -0.0792, -0.1493,\n",
            "         -0.0436, -0.2567, -0.1989,  0.0762],\n",
            "        [-0.5703, -0.2910,  0.6220,  0.0441,  0.3211,  0.1243, -0.0745,  0.2241,\n",
            "          0.1787, -0.4845, -0.8377, -0.0545,  0.3373, -0.4664, -0.3139, -0.3085,\n",
            "         -0.4175,  0.0198,  0.2151, -0.1694],\n",
            "        [ 0.4777, -0.2872,  0.1966, -0.6829, -0.1785,  0.2719, -0.4636, -0.3178,\n",
            "          0.1755, -0.4303, -0.6878,  0.2449, -0.0300, -0.3757, -0.0761,  0.5728,\n",
            "          0.6208,  0.6765, -0.3248, -0.4943],\n",
            "        [ 0.0716, -0.5053,  0.3670, -0.5628, -0.0275,  0.1412, -0.5035,  0.1705,\n",
            "          0.3063,  0.0127,  0.1377,  0.1428,  0.1019, -0.0162, -0.0366, -0.3619,\n",
            "         -0.5410, -0.3454,  0.1390, -0.0995],\n",
            "        [-0.1368,  0.0049, -0.1101,  0.2257, -0.3774, -0.1300,  0.6895,  0.0497,\n",
            "         -0.5984,  0.1599, -0.6659, -0.4111, -0.1876, -0.0553,  0.2904, -0.2117,\n",
            "         -0.3601,  0.6350,  0.3055, -0.0738]])), ('hidden3.bias', tensor([-0.0766, -0.0333, -0.2498,  0.2154,  0.0708,  0.3392, -0.3157, -0.1397,\n",
            "         0.0396, -0.4394, -0.1946, -0.1014,  0.3783]))])\n",
            "Train Epoch: 2 [0/1894678 (0%)]\tLoss: 2.072617\n",
            "Train Epoch: 2 [100000/1894678 (5%)]\tLoss: 2.054341\n",
            "Train Epoch: 2 [200000/1894678 (11%)]\tLoss: 2.049664\n",
            "Train Epoch: 2 [300000/1894678 (16%)]\tLoss: 2.053387\n",
            "Train Epoch: 2 [400000/1894678 (21%)]\tLoss: 2.047279\n",
            "Train Epoch: 2 [500000/1894678 (26%)]\tLoss: 2.041680\n",
            "Train Epoch: 2 [600000/1894678 (32%)]\tLoss: 2.042057\n",
            "Train Epoch: 2 [700000/1894678 (37%)]\tLoss: 2.038966\n",
            "Train Epoch: 2 [800000/1894678 (42%)]\tLoss: 2.042582\n",
            "Train Epoch: 2 [900000/1894678 (47%)]\tLoss: 2.038138\n",
            "Train Epoch: 2 [1000000/1894678 (53%)]\tLoss: 2.039844\n",
            "Train Epoch: 2 [1100000/1894678 (58%)]\tLoss: 2.027974\n",
            "Train Epoch: 2 [1200000/1894678 (63%)]\tLoss: 2.029240\n",
            "Train Epoch: 2 [1300000/1894678 (68%)]\tLoss: 2.035780\n",
            "Train Epoch: 2 [1400000/1894678 (74%)]\tLoss: 2.040927\n",
            "Train Epoch: 2 [1500000/1894678 (79%)]\tLoss: 2.028878\n",
            "Train Epoch: 2 [1600000/1894678 (84%)]\tLoss: 2.022729\n",
            "Train Epoch: 2 [1700000/1894678 (89%)]\tLoss: 2.024015\n",
            "Train Epoch: 2 [1800000/1894678 (95%)]\tLoss: 2.024121\n",
            "OrderedDict([('hidden1.weight', tensor([[-0.2684, -0.5614, -0.3980, -0.6197, -0.5501, -0.7614, -0.3889, -0.4167,\n",
            "         -0.2759, -0.6530, -0.4867, -0.5127,  0.2421, -0.0527,  0.1607, -0.7389,\n",
            "          0.0706, -0.9071, -0.9170],\n",
            "        [ 0.1239,  0.2037,  0.5542,  0.4618,  0.1992, -0.3660, -0.4596,  0.0654,\n",
            "          0.2780, -0.3748,  0.0386, -0.5308, -0.1549,  0.3484, -0.7148, -0.0620,\n",
            "          0.7343, -0.6131, -0.1697],\n",
            "        [-0.4103, -0.8611, -0.6300, -0.8460, -0.9233, -0.4720, -0.0593, -0.2496,\n",
            "         -0.3168,  0.0519, -0.4650,  0.4229, -0.1953,  0.2447,  0.0666,  0.0676,\n",
            "         -0.4006,  0.1157, -0.4722],\n",
            "        [ 0.3306, -0.8071,  0.2435, -0.5014, -1.1414, -0.2219, -0.4424,  0.4225,\n",
            "          0.7686,  0.5338, -0.7196,  0.3715,  0.6658, -0.6793, -0.9546, -0.0619,\n",
            "         -0.1293,  0.5735,  0.6402],\n",
            "        [-0.4823, -0.8608, -0.8116, -0.2244,  0.0342, -0.3602,  0.4684, -0.6148,\n",
            "         -0.7322, -0.1137, -0.4438, -0.8324, -0.5501, -0.3448,  0.1546, -0.4202,\n",
            "         -0.7323,  0.4045,  0.0867],\n",
            "        [-0.4231, -0.3715,  0.0246,  0.4963, -0.3962, -0.0797,  0.5339, -0.0657,\n",
            "         -0.0688,  0.7829, -0.4039,  0.3977, -0.1180,  0.6270, -0.3024, -0.0787,\n",
            "          0.3765,  0.1623, -0.5356],\n",
            "        [-0.4790, -0.4661,  0.5090, -0.6658, -0.9843,  0.1173, -0.5069, -0.4395,\n",
            "         -0.6276,  0.0028, -0.6361,  0.3404, -0.2389, -0.6440,  0.5926,  0.9210,\n",
            "         -0.3385, -0.4627, -0.3548],\n",
            "        [ 0.2028, -0.0642, -0.2845, -0.4539,  0.5402, -0.1739,  0.0107, -0.5148,\n",
            "         -0.2503, -0.2321, -0.2491, -0.2573, -0.1680,  0.6089,  0.6837, -0.4121,\n",
            "         -0.3047, -0.3510,  0.0880],\n",
            "        [-0.2120,  0.3592, -0.6444,  0.3740, -0.1536,  0.1339, -0.9226,  0.5799,\n",
            "         -0.8861, -0.0417, -0.7557, -1.0543, -0.3757,  0.0824, -0.6237, -0.2835,\n",
            "         -0.8717, -0.3453, -0.2534],\n",
            "        [-0.1323,  0.5589, -0.0560,  0.4517, -0.6896,  0.4430, -0.4383,  0.6164,\n",
            "         -0.2405, -0.4913,  0.4512,  0.3098, -0.0040,  0.7017, -1.0467,  0.8870,\n",
            "         -0.6150, -0.9265, -0.6928],\n",
            "        [-0.2843, -0.3764, -0.1338,  0.0961, -0.2213,  0.4266, -0.3784,  0.2272,\n",
            "          0.3292,  0.1070, -0.4800,  0.5540,  0.0118,  0.3624, -0.8013, -0.1847,\n",
            "          0.1151,  0.2912,  0.6919],\n",
            "        [-0.0197, -0.8217, -0.1956,  0.3838, -0.2262,  0.2608, -0.4107, -0.6342,\n",
            "         -0.3976,  0.0771,  0.0891,  0.7518,  0.3330, -0.0313,  1.0095,  0.7297,\n",
            "          0.2993,  0.1658,  0.5433],\n",
            "        [-0.5909,  0.1353,  0.4233,  0.0534, -0.1515, -0.7053, -0.0191, -0.0205,\n",
            "         -0.3602, -0.3315,  0.0991,  0.4225,  0.3158,  0.1190, -0.0940,  0.0716,\n",
            "         -0.7727, -0.1073, -0.4197],\n",
            "        [ 0.3387,  0.2054, -0.2544,  0.6967,  0.6650, -0.6661,  0.0219, -0.2625,\n",
            "         -0.3032,  0.3926,  0.1912, -0.3307,  0.6650,  0.7745, -0.6336,  0.3799,\n",
            "          0.5955, -0.3718, -0.6776],\n",
            "        [-0.2658, -0.1742, -0.1942, -0.2788, -0.5118,  0.0140, -0.2303,  0.1787,\n",
            "          0.6014, -0.5159,  0.2479, -0.1328, -0.1939, -0.3601,  0.9542,  0.7236,\n",
            "          0.2814, -0.0054, -0.0468],\n",
            "        [ 0.3793,  0.9092, -0.3753,  0.6617,  0.0031,  0.1425,  0.0433, -0.1332,\n",
            "         -0.5526, -0.2582,  0.0261, -1.1848,  0.4516,  0.2298, -0.9521, -0.3849,\n",
            "         -0.5485,  0.2639, -0.0373],\n",
            "        [ 0.2824,  0.4453,  0.5783, -0.4752,  0.6117, -0.2565, -0.1897,  0.8000,\n",
            "         -0.2885,  0.1983,  0.4015, -0.8823, -0.0473, -0.6108, -0.9334,  0.2862,\n",
            "         -0.0496, -0.5957, -0.2111],\n",
            "        [ 0.6658,  0.2683,  0.7380,  0.4615,  0.5454, -0.4472, -0.5366,  0.2767,\n",
            "          0.3745,  0.3125, -0.1975,  0.0930, -0.3714, -0.2436, -0.6403,  0.1281,\n",
            "          0.3603, -0.0397, -0.2599],\n",
            "        [ 0.6602, -0.1841,  0.3500, -0.3217, -0.0410, -0.2824,  0.7635,  0.6721,\n",
            "          0.5192, -0.2115,  0.2543,  0.4149,  0.2271, -0.2201, -1.0256,  0.0048,\n",
            "          0.2292, -0.9637,  0.0579],\n",
            "        [ 0.4990, -0.0588,  0.5517, -0.5498,  0.7231, -0.6341,  0.2649,  0.3652,\n",
            "         -0.2802, -0.5532,  0.0523,  0.5684,  0.1502, -0.0823, -1.1405, -0.5417,\n",
            "          0.0856, -0.8603,  0.1103]])), ('hidden1.bias', tensor([ 0.0662,  0.2748,  0.1826,  0.4097, -0.0530,  0.0297,  0.2106,  0.4520,\n",
            "         0.4664, -0.1229,  0.5249,  0.0404,  0.0166,  0.4212, -0.0660,  0.3875,\n",
            "        -0.0335,  0.4319,  0.1961,  0.3023])), ('hidden2.weight', tensor([[ 0.5814, -0.4306,  0.4128,  0.0526,  0.6493, -0.0016,  0.4721,  0.7747,\n",
            "          0.4366, -0.5339, -0.1466,  0.4601,  0.5484, -0.1336,  0.5180,  0.3990,\n",
            "          0.0373,  0.1835, -0.8217, -0.3515],\n",
            "        [-0.5449,  0.3573,  0.4485,  0.7584,  0.0250,  0.4331, -0.1073,  0.1839,\n",
            "          0.3059, -0.8885,  0.5215,  0.2711, -0.1873, -0.7389, -0.0175,  0.1056,\n",
            "         -0.7021, -0.3707, -0.3558,  0.0241],\n",
            "        [ 0.5566,  0.6038, -0.1857, -0.7466,  0.2522, -0.1658, -0.4415, -0.0982,\n",
            "          0.7469,  0.0751, -0.2658, -0.4200,  0.5432, -0.3279, -0.5266,  0.1689,\n",
            "          0.7663,  0.6039, -0.2529,  0.4816],\n",
            "        [ 0.6171, -0.1734, -0.0898,  0.6254, -0.0315,  0.1027,  0.6957,  0.5462,\n",
            "         -0.6121,  0.4416, -0.4484,  0.3163, -0.4325, -0.5980,  0.2001, -0.8520,\n",
            "         -0.0754,  0.4429,  0.7325,  0.2709],\n",
            "        [-0.4106,  0.6418, -0.6994, -0.3170,  0.0650,  0.2002,  0.1918, -0.4275,\n",
            "         -0.4592,  0.2231, -0.1712,  0.4352,  0.4092, -0.4834,  0.7037, -0.5027,\n",
            "          0.7543,  0.5220,  0.6806,  0.2186],\n",
            "        [-0.2272,  0.2882, -0.2994, -0.1158, -0.1263,  0.2587, -0.4489, -0.1779,\n",
            "         -0.3713, -0.2176,  0.2852,  0.4052,  0.1776,  0.0741,  0.1033, -0.1707,\n",
            "          0.3948, -0.6237,  0.1107,  0.2670],\n",
            "        [-0.2967, -0.9878,  0.6275,  0.0672, -0.3367, -0.9220,  0.9205, -0.3348,\n",
            "         -0.2829,  0.5640,  0.1978, -0.4021,  0.0059,  0.1054, -0.3758, -0.9366,\n",
            "          0.2079, -0.8735,  0.1691,  0.1113],\n",
            "        [-0.2247,  0.1379, -0.7945,  0.2754, -0.4878, -0.0953, -0.0873,  0.0426,\n",
            "          0.2254, -0.4129, -0.3837,  0.4023, -0.5020, -0.5147,  0.5890, -0.1591,\n",
            "          0.4433,  0.5053,  0.6944,  0.8498],\n",
            "        [-0.2599,  0.3501, -0.3469, -0.5793, -0.2864,  0.3680,  0.2981,  0.7362,\n",
            "         -0.4848, -0.1646, -0.0945,  0.0540, -0.0471,  0.4847, -0.4177, -0.2936,\n",
            "          0.2138,  0.3349,  0.7148,  0.6566],\n",
            "        [ 0.2958, -0.3497,  0.5905,  0.4310, -0.5146, -0.3318,  0.8474, -0.6355,\n",
            "          0.1508,  0.4149,  0.4983,  0.0661,  0.4102, -0.6204,  0.4728, -0.7735,\n",
            "         -0.6989,  0.1252,  0.2717,  0.5529],\n",
            "        [ 0.4400,  0.2595, -0.6612,  1.0962, -0.0224, -0.1815, -1.0523,  0.4798,\n",
            "          0.5317,  0.4219, -0.1229, -0.6527, -0.5238,  0.5993,  0.0199,  0.5843,\n",
            "         -0.1035, -0.0496, -0.0218,  0.5256],\n",
            "        [-0.2604, -0.5371, -0.1513, -0.1647, -0.4254,  0.0240,  0.8509, -0.0297,\n",
            "         -0.0652,  0.2249, -0.1166,  0.3752,  0.2764, -0.3245,  0.2952,  0.4631,\n",
            "          0.1786,  0.0796, -0.5259, -0.2588],\n",
            "        [ 0.3177,  0.3193, -0.4480,  0.5292, -0.2744, -0.3189, -0.5462, -0.1026,\n",
            "         -0.5963, -0.4446, -0.4310, -0.7965, -0.2027,  0.5532,  0.0233,  0.2307,\n",
            "          0.4416, -0.2371,  0.5889,  0.6631],\n",
            "        [-0.2278,  0.3309,  0.1552, -0.6778, -0.7862, -0.1764, -0.0265,  0.2747,\n",
            "          0.0724,  0.2769,  0.0702, -0.3259,  0.2662,  0.3020, -0.1108,  0.7317,\n",
            "         -0.2301,  0.0844, -0.3326,  0.5503],\n",
            "        [ 0.5146, -0.1844, -0.1971, -0.2382, -0.5278,  0.7393,  0.4408,  0.3153,\n",
            "          0.7224,  0.6359, -0.2510,  0.4092,  0.3708, -0.3607,  0.1043,  0.2893,\n",
            "          0.1378, -0.1017, -0.3274, -0.0694],\n",
            "        [ 0.6851,  0.3951,  0.7739,  0.3548,  0.9932,  0.7644,  0.1046,  0.4633,\n",
            "          0.3161, -0.7731,  0.2564, -0.0952, -0.2615, -0.4899,  0.5951,  0.9258,\n",
            "         -0.1569, -0.4118, -0.4165, -0.6388],\n",
            "        [ 0.5227, -0.6139,  0.0089, -0.7759,  0.7176,  0.2966,  0.4305,  0.4206,\n",
            "          0.4095, -1.1529, -0.3703, -0.2547,  0.3524, -0.0643, -0.2007, -0.7579,\n",
            "         -0.1429,  0.4454, -1.1119, -1.2335],\n",
            "        [ 0.6915, -0.8198,  0.8038, -0.7356,  0.4646, -0.2020,  0.9555, -0.3197,\n",
            "         -0.5134,  0.0259, -0.7606, -0.8199,  0.2511, -0.2535, -0.9966, -0.8087,\n",
            "         -0.1501, -1.1626, -0.8642, -0.1481],\n",
            "        [ 0.7696, -0.2388,  0.0423, -0.2702, -0.3296, -0.7238,  0.7778,  0.6173,\n",
            "          0.2108, -0.2741, -0.0439,  0.5441,  0.0398, -0.4384, -0.1704,  0.0853,\n",
            "          0.8908,  0.2251,  0.8400,  0.3572],\n",
            "        [ 0.2006,  0.3841,  0.1230,  0.8918, -0.5643,  0.4327,  0.7350, -0.2052,\n",
            "         -0.4200,  0.2302,  0.3732,  0.1685, -0.0616,  0.0774,  0.5574,  0.1568,\n",
            "          0.0777,  0.6378, -0.0867,  0.0081]])), ('hidden2.bias', tensor([ 0.4552,  0.3769,  0.2852,  0.0974,  0.0567, -0.2230,  0.1415,  0.0560,\n",
            "         0.1585,  0.1516,  0.3481, -0.1664, -0.0323,  0.4211, -0.1586,  0.1076,\n",
            "         0.0026,  0.1128,  0.1679,  0.4292])), ('hidden3.weight', tensor([[ 6.4264e-01,  3.2270e-01, -5.2924e-01, -4.8928e-01,  2.4649e-01,\n",
            "         -2.2851e-01, -6.1622e-01, -2.4771e-01,  1.9989e-01, -4.2445e-01,\n",
            "          3.7704e-01,  3.8906e-02, -4.1704e-01,  8.1081e-04, -6.1089e-01,\n",
            "          6.0724e-01, -2.1401e-01, -6.8234e-01, -1.3891e-01,  1.7832e-01],\n",
            "        [-8.9118e-02, -3.8448e-01,  8.2127e-01, -9.1106e-01, -2.1378e-01,\n",
            "          2.5401e-01, -1.0253e+00, -9.5274e-01, -4.0640e-01, -9.7792e-01,\n",
            "         -3.0634e-01,  9.7454e-03, -2.8825e-01,  1.1591e-01,  6.0955e-01,\n",
            "          3.5604e-01, -7.0656e-01, -2.9037e-01,  5.8768e-01, -8.9467e-01],\n",
            "        [-9.9096e-02, -5.9264e-01, -5.6533e-01, -3.0087e-01, -2.9699e-01,\n",
            "          2.8456e-01,  3.6401e-01,  5.5024e-02,  1.4629e-02, -4.6285e-01,\n",
            "          1.4187e-01, -2.1513e-01, -5.5689e-01, -4.4324e-01, -3.9354e-01,\n",
            "          2.4236e-02, -5.0556e-02, -2.5852e-01,  1.3314e-02, -5.8973e-01],\n",
            "        [-6.2918e-01,  1.3083e-01,  2.3135e-01,  3.1132e-01, -5.9159e-01,\n",
            "         -6.9851e-01,  4.2172e-02, -5.8572e-01, -1.3022e-01,  2.9879e-01,\n",
            "          4.1091e-01, -2.7564e-01, -6.9381e-01,  6.3825e-01,  3.0288e-01,\n",
            "          6.5028e-02,  6.9431e-03, -4.1292e-01, -5.6609e-01,  4.8734e-01],\n",
            "        [ 1.9695e-01, -4.0565e-01, -1.9843e-02, -4.0556e-01,  4.0271e-01,\n",
            "         -3.9571e-01,  9.7605e-02, -3.2685e-01,  5.7721e-01, -2.6790e-01,\n",
            "         -3.0797e-02,  3.0463e-01, -6.0367e-01, -2.8156e-01, -1.1653e-01,\n",
            "         -6.0029e-01, -3.3018e-01, -2.7070e-01, -4.6660e-01,  5.0076e-01],\n",
            "        [-7.0112e-01,  4.1594e-01, -8.9924e-01,  2.7510e-01, -6.7453e-02,\n",
            "          1.7469e-02,  7.3610e-01,  3.0638e-01,  4.1636e-02,  1.5981e-01,\n",
            "         -2.2927e-01, -1.2254e-01, -7.3181e-01, -4.4432e-01, -7.2439e-01,\n",
            "         -4.2570e-01, -4.6772e-01, -3.0557e-01,  5.3233e-01,  3.4789e-01],\n",
            "        [ 2.4281e-01, -5.6093e-01, -5.5215e-01, -2.0148e-01,  3.2331e-01,\n",
            "         -4.2358e-01, -3.9290e-01,  4.3289e-01, -1.5530e-01,  5.5364e-01,\n",
            "          2.5038e-01,  3.9915e-01,  1.9442e-01, -4.1421e-01,  1.1021e-01,\n",
            "         -7.9562e-01,  1.3648e-01, -1.7504e-01, -1.4419e-02,  7.9870e-02],\n",
            "        [ 3.3138e-02, -1.0746e+00, -3.4866e-01,  8.3544e-01, -1.5233e-01,\n",
            "         -4.9950e-01, -1.1275e+00, -5.6071e-01, -4.2124e-01, -6.0877e-01,\n",
            "          1.9610e-01,  3.6059e-01, -5.6774e-02, -5.5226e-01,  4.1177e-01,\n",
            "          3.7529e-01, -5.2889e-01, -2.5023e-01,  8.7164e-01, -1.1353e-02],\n",
            "        [-1.9336e-01, -1.1593e-01, -4.1311e-01,  1.2709e-01, -3.2438e-01,\n",
            "          8.9565e-02, -4.4776e-01, -4.9400e-01,  5.8555e-01, -5.0046e-02,\n",
            "          2.9118e-01,  1.5536e-01,  2.3597e-02,  6.4167e-02, -9.7346e-02,\n",
            "         -1.5825e-01, -4.7987e-02, -2.6475e-01, -2.6812e-01,  9.4098e-02],\n",
            "        [-6.1376e-01, -2.9200e-01,  6.6972e-01,  3.9867e-02,  3.4665e-01,\n",
            "          1.3920e-01, -7.5036e-02,  2.6152e-01,  3.1209e-01, -5.2096e-01,\n",
            "         -9.4443e-01, -5.4416e-02,  3.8763e-01, -5.0803e-01, -3.2347e-01,\n",
            "         -3.1715e-01, -4.1928e-01,  1.2669e-02,  2.3681e-01, -1.6455e-01],\n",
            "        [ 5.2433e-01, -1.1277e-01,  1.1542e-01, -7.6887e-01, -1.7932e-01,\n",
            "          2.7167e-01, -5.1798e-01, -3.2585e-01,  1.7281e-01, -5.0266e-01,\n",
            "         -8.5670e-01,  5.3033e-02, -3.5657e-02, -3.9824e-01, -1.7718e-01,\n",
            "          6.2893e-01,  7.5568e-01,  8.0962e-01, -4.4953e-01, -5.6084e-01],\n",
            "        [ 1.8244e-01, -5.3536e-01,  4.4309e-01, -7.4889e-01, -1.7125e-01,\n",
            "          8.1579e-02, -6.0965e-01,  2.6689e-01,  2.9060e-01, -1.0931e-01,\n",
            "          1.7036e-01,  1.4156e-01,  1.0950e-01, -1.3858e-02,  3.5552e-02,\n",
            "         -6.0734e-01, -6.4116e-01, -4.9029e-01,  2.3298e-01, -2.5438e-01],\n",
            "        [-2.0352e-01, -6.8555e-02, -2.4661e-01,  3.0611e-01, -4.5291e-01,\n",
            "         -1.3228e-01,  7.9808e-01,  1.1715e-02, -6.7001e-01,  2.6163e-01,\n",
            "         -8.4254e-01, -6.8510e-01, -2.1964e-01, -6.3775e-02,  2.9148e-01,\n",
            "         -3.0813e-01, -3.9332e-01,  8.0439e-01,  3.0623e-01, -4.2513e-02]])), ('hidden3.bias', tensor([-0.0486, -0.0558, -0.2545,  0.2361,  0.0553,  0.3372, -0.3358, -0.1777,\n",
            "         0.0210, -0.4810, -0.2243, -0.0472,  0.3617]))])\n",
            "Train Epoch: 3 [0/1894678 (0%)]\tLoss: 2.026030\n",
            "Train Epoch: 3 [100000/1894678 (5%)]\tLoss: 2.024010\n",
            "Train Epoch: 3 [200000/1894678 (11%)]\tLoss: 2.027456\n",
            "Train Epoch: 3 [300000/1894678 (16%)]\tLoss: 2.021336\n",
            "Train Epoch: 3 [400000/1894678 (21%)]\tLoss: 2.026476\n",
            "Train Epoch: 3 [500000/1894678 (26%)]\tLoss: 2.014701\n",
            "Train Epoch: 3 [600000/1894678 (32%)]\tLoss: 2.018348\n",
            "Train Epoch: 3 [700000/1894678 (37%)]\tLoss: 2.008588\n",
            "Train Epoch: 3 [800000/1894678 (42%)]\tLoss: 2.019501\n",
            "Train Epoch: 3 [900000/1894678 (47%)]\tLoss: 2.015560\n",
            "Train Epoch: 3 [1000000/1894678 (53%)]\tLoss: 2.015690\n",
            "Train Epoch: 3 [1100000/1894678 (58%)]\tLoss: 2.012529\n",
            "Train Epoch: 3 [1200000/1894678 (63%)]\tLoss: 2.019490\n",
            "Train Epoch: 3 [1300000/1894678 (68%)]\tLoss: 2.008512\n",
            "Train Epoch: 3 [1400000/1894678 (74%)]\tLoss: 2.010628\n",
            "Train Epoch: 3 [1500000/1894678 (79%)]\tLoss: 2.010127\n",
            "Train Epoch: 3 [1600000/1894678 (84%)]\tLoss: 2.013649\n",
            "Train Epoch: 3 [1700000/1894678 (89%)]\tLoss: 2.008834\n",
            "Train Epoch: 3 [1800000/1894678 (95%)]\tLoss: 2.011084\n"
          ],
          "name": "stdout"
        }
      ]
    },
    {
      "cell_type": "code",
      "metadata": {
        "id": "VcRFCn7LKhbJ",
        "colab": {
          "base_uri": "https://localhost:8080/"
        },
        "outputId": "971d6903-de29-4a28-eac4-805f7d5d45ce"
      },
      "source": [
        "!pip install shap"
      ],
      "execution_count": 13,
      "outputs": [
        {
          "output_type": "stream",
          "text": [
            "Collecting shap\n",
            "\u001b[?25l  Downloading https://files.pythonhosted.org/packages/b9/f4/c5b95cddae15be80f8e58b25edceca105aa83c0b8c86a1edad24a6af80d3/shap-0.39.0.tar.gz (356kB)\n",
            "\r\u001b[K     |█                               | 10kB 13.7MB/s eta 0:00:01\r\u001b[K     |█▉                              | 20kB 19.2MB/s eta 0:00:01\r\u001b[K     |██▊                             | 30kB 12.3MB/s eta 0:00:01\r\u001b[K     |███▊                            | 40kB 10.2MB/s eta 0:00:01\r\u001b[K     |████▋                           | 51kB 9.7MB/s eta 0:00:01\r\u001b[K     |█████▌                          | 61kB 10.6MB/s eta 0:00:01\r\u001b[K     |██████▍                         | 71kB 8.9MB/s eta 0:00:01\r\u001b[K     |███████▍                        | 81kB 9.0MB/s eta 0:00:01\r\u001b[K     |████████▎                       | 92kB 9.3MB/s eta 0:00:01\r\u001b[K     |█████████▏                      | 102kB 9.6MB/s eta 0:00:01\r\u001b[K     |██████████▏                     | 112kB 9.6MB/s eta 0:00:01\r\u001b[K     |███████████                     | 122kB 9.6MB/s eta 0:00:01\r\u001b[K     |████████████                    | 133kB 9.6MB/s eta 0:00:01\r\u001b[K     |████████████▉                   | 143kB 9.6MB/s eta 0:00:01\r\u001b[K     |█████████████▉                  | 153kB 9.6MB/s eta 0:00:01\r\u001b[K     |██████████████▊                 | 163kB 9.6MB/s eta 0:00:01\r\u001b[K     |███████████████▋                | 174kB 9.6MB/s eta 0:00:01\r\u001b[K     |████████████████▋               | 184kB 9.6MB/s eta 0:00:01\r\u001b[K     |█████████████████▌              | 194kB 9.6MB/s eta 0:00:01\r\u001b[K     |██████████████████▍             | 204kB 9.6MB/s eta 0:00:01\r\u001b[K     |███████████████████▎            | 215kB 9.6MB/s eta 0:00:01\r\u001b[K     |████████████████████▎           | 225kB 9.6MB/s eta 0:00:01\r\u001b[K     |█████████████████████▏          | 235kB 9.6MB/s eta 0:00:01\r\u001b[K     |██████████████████████          | 245kB 9.6MB/s eta 0:00:01\r\u001b[K     |███████████████████████         | 256kB 9.6MB/s eta 0:00:01\r\u001b[K     |████████████████████████        | 266kB 9.6MB/s eta 0:00:01\r\u001b[K     |████████████████████████▉       | 276kB 9.6MB/s eta 0:00:01\r\u001b[K     |█████████████████████████▊      | 286kB 9.6MB/s eta 0:00:01\r\u001b[K     |██████████████████████████▊     | 296kB 9.6MB/s eta 0:00:01\r\u001b[K     |███████████████████████████▋    | 307kB 9.6MB/s eta 0:00:01\r\u001b[K     |████████████████████████████▌   | 317kB 9.6MB/s eta 0:00:01\r\u001b[K     |█████████████████████████████▍  | 327kB 9.6MB/s eta 0:00:01\r\u001b[K     |██████████████████████████████▍ | 337kB 9.6MB/s eta 0:00:01\r\u001b[K     |███████████████████████████████▎| 348kB 9.6MB/s eta 0:00:01\r\u001b[K     |████████████████████████████████| 358kB 9.6MB/s \n",
            "\u001b[?25hRequirement already satisfied: numpy in /usr/local/lib/python3.7/dist-packages (from shap) (1.19.5)\n",
            "Requirement already satisfied: scipy in /usr/local/lib/python3.7/dist-packages (from shap) (1.4.1)\n",
            "Requirement already satisfied: scikit-learn in /usr/local/lib/python3.7/dist-packages (from shap) (0.22.2.post1)\n",
            "Requirement already satisfied: pandas in /usr/local/lib/python3.7/dist-packages (from shap) (1.1.5)\n",
            "Requirement already satisfied: tqdm>4.25.0 in /usr/local/lib/python3.7/dist-packages (from shap) (4.41.1)\n",
            "Collecting slicer==0.0.7\n",
            "  Downloading https://files.pythonhosted.org/packages/78/c2/b3f55dfdb8af9812fdb9baf70cacf3b9e82e505b2bd4324d588888b81202/slicer-0.0.7-py3-none-any.whl\n",
            "Requirement already satisfied: numba in /usr/local/lib/python3.7/dist-packages (from shap) (0.51.2)\n",
            "Requirement already satisfied: cloudpickle in /usr/local/lib/python3.7/dist-packages (from shap) (1.3.0)\n",
            "Requirement already satisfied: joblib>=0.11 in /usr/local/lib/python3.7/dist-packages (from scikit-learn->shap) (1.0.1)\n",
            "Requirement already satisfied: pytz>=2017.2 in /usr/local/lib/python3.7/dist-packages (from pandas->shap) (2018.9)\n",
            "Requirement already satisfied: python-dateutil>=2.7.3 in /usr/local/lib/python3.7/dist-packages (from pandas->shap) (2.8.1)\n",
            "Requirement already satisfied: setuptools in /usr/local/lib/python3.7/dist-packages (from numba->shap) (54.2.0)\n",
            "Requirement already satisfied: llvmlite<0.35,>=0.34.0.dev0 in /usr/local/lib/python3.7/dist-packages (from numba->shap) (0.34.0)\n",
            "Requirement already satisfied: six>=1.5 in /usr/local/lib/python3.7/dist-packages (from python-dateutil>=2.7.3->pandas->shap) (1.15.0)\n",
            "Building wheels for collected packages: shap\n",
            "  Building wheel for shap (setup.py) ... \u001b[?25l\u001b[?25hdone\n",
            "  Created wheel for shap: filename=shap-0.39.0-cp37-cp37m-linux_x86_64.whl size=491619 sha256=e6bf158dcf6fb5dd9ba7844fd1bb072d8a116492b4f36cbc322ea0ceea0c788b\n",
            "  Stored in directory: /root/.cache/pip/wheels/15/27/f5/a8ab9da52fd159aae6477b5ede6eaaec69fd130fa0fa59f283\n",
            "Successfully built shap\n",
            "Installing collected packages: slicer, shap\n",
            "Successfully installed shap-0.39.0 slicer-0.0.7\n"
          ],
          "name": "stdout"
        }
      ]
    },
    {
      "cell_type": "code",
      "metadata": {
        "id": "QQdYZ_NJWVcz"
      },
      "source": [
        "import shap"
      ],
      "execution_count": 14,
      "outputs": []
    },
    {
      "cell_type": "code",
      "metadata": {
        "colab": {
          "base_uri": "https://localhost:8080/"
        },
        "id": "lip7ZGHsjakT",
        "outputId": "920d3101-7066-47e4-e7a6-fd037bca8d45"
      },
      "source": [
        "df = pd.read_csv(IDS2017URL)\n",
        "df.loc[df['Label'].isin([ 'Web Attack - Sql Injection','Web Attack - XSS', 'Web Attack - Brute Force']), 'Label'] = 'Web Attack'\n",
        "df = df[['Fwd Packet Length Mean', 'Fwd Packet Length Std', 'Flow IAT Max', 'Bwd Packet Length Std', 'Fwd Packet Length Max', 'Flow Bytes/s', 'Total Length of Bwd Packets', 'Fwd Packet Length Mean', 'Flow Duration', 'Flow IAT Min', 'Total Length of Fwd Packets', 'Flow IAT Mean', 'Total Backward Packets', 'Bwd Packet Length Max', 'Flow Packets/s', 'Flow IAT Std', 'Fwd IAT Total', 'Bwd Packet Length Min', 'Fwd Packet Length Min', 'Label']]\n",
        "#df = df[~df['Label'].isin(['Heartbleed', 'Web Attack - Sql Injection', 'Infiltration', 'Web Attack - XSS', 'Web Attack - Brute Force'])]\n",
        "df = df.replace([-np.inf, np.inf], np.nan)\n",
        "df = df.dropna()\n"
      ],
      "execution_count": 15,
      "outputs": [
        {
          "output_type": "stream",
          "text": [
            "Columns (84) have mixed types.Specify dtype option on import or set low_memory=False.\n"
          ],
          "name": "stderr"
        }
      ]
    },
    {
      "cell_type": "code",
      "metadata": {
        "colab": {
          "base_uri": "https://localhost:8080/"
        },
        "id": "bLoUX827m9Op",
        "outputId": "1ba86b82-f11b-4716-e5be-3ceb6b5e4bf1"
      },
      "source": [
        "train_dl"
      ],
      "execution_count": 16,
      "outputs": [
        {
          "output_type": "execute_result",
          "data": {
            "text/plain": [
              "<torch.utils.data.dataloader.DataLoader at 0x7fc90f26a990>"
            ]
          },
          "metadata": {
            "tags": []
          },
          "execution_count": 16
        }
      ]
    },
    {
      "cell_type": "code",
      "metadata": {
        "id": "vvZA4qe7iltZ"
      },
      "source": [
        "train_iter = iter(train_dl)"
      ],
      "execution_count": 17,
      "outputs": []
    },
    {
      "cell_type": "code",
      "metadata": {
        "id": "WDglR9z6jra4"
      },
      "source": [
        "images, labels = train_iter.next()"
      ],
      "execution_count": 18,
      "outputs": []
    },
    {
      "cell_type": "code",
      "metadata": {
        "id": "aqxZl_M2nvo9"
      },
      "source": [
        "px =images.numpy()\n",
        "#px = pd.DataFrame(px)"
      ],
      "execution_count": 19,
      "outputs": []
    },
    {
      "cell_type": "code",
      "metadata": {
        "colab": {
          "base_uri": "https://localhost:8080/"
        },
        "id": "QMvjsGCun_Dp",
        "outputId": "89e65721-7c4b-418f-c17d-60b7266ff5d7"
      },
      "source": [
        "px"
      ],
      "execution_count": 20,
      "outputs": [
        {
          "output_type": "execute_result",
          "data": {
            "text/plain": [
              "array([[-0.25203905, -0.21300471, -0.22273196, ..., -0.21935199,\n",
              "        -0.5965232 , -0.3103172 ],\n",
              "       [-0.30217156, -0.24519348, -0.37563038, ..., -0.43161044,\n",
              "        -0.5094167 , -0.2771801 ],\n",
              "       [-0.06516121,  0.21855125,  3.6455884 , ...,  2.5008402 ,\n",
              "        -0.5965232 , -0.3103172 ],\n",
              "       ...,\n",
              "       [-0.31291422, -0.24519348, -0.15316051, ..., -0.2695128 ,\n",
              "        -0.5965232 , -0.3103172 ],\n",
              "       [-0.2806862 , -0.24519348, -0.22884394, ..., -0.3245552 ,\n",
              "        -0.5965232 , -0.21090591],\n",
              "       [-0.24666771, -0.20951387, -0.24957325, ..., -0.24881847,\n",
              "        -0.5965232 , -0.3103172 ]], dtype=float32)"
            ]
          },
          "metadata": {
            "tags": []
          },
          "execution_count": 20
        }
      ]
    },
    {
      "cell_type": "code",
      "metadata": {
        "colab": {
          "base_uri": "https://localhost:8080/"
        },
        "id": "hVA9XCbioRId",
        "outputId": "9627755a-4477-443d-a902-bbc0813f84db"
      },
      "source": [
        "px[:1]"
      ],
      "execution_count": 21,
      "outputs": [
        {
          "output_type": "execute_result",
          "data": {
            "text/plain": [
              "array([[-0.25203905, -0.21300471, -0.22273196, -0.3822578 , -0.25616693,\n",
              "        -0.05750505, -0.00706244, -0.25203905, -0.14613862, -0.05506563,\n",
              "        -0.04479132, -0.19294222,  0.00460574, -0.43023267, -0.27848864,\n",
              "        -0.22304328, -0.21935199, -0.5965232 , -0.3103172 ]],\n",
              "      dtype=float32)"
            ]
          },
          "metadata": {
            "tags": []
          },
          "execution_count": 21
        }
      ]
    },
    {
      "cell_type": "code",
      "metadata": {
        "id": "ZrTPCIRC6o2m"
      },
      "source": [
        "e = shap.DeepExplainer(\n",
        "        model, \n",
        "        torch.from_numpy(\n",
        "            px[np.random.choice(np.arange(len(px)), 10000, replace=False)]\n",
        "        ))"
      ],
      "execution_count": 22,
      "outputs": []
    },
    {
      "cell_type": "code",
      "metadata": {
        "colab": {
          "base_uri": "https://localhost:8080/"
        },
        "id": "TLzBxh0XfwJK",
        "outputId": "07c4e1ec-b9d0-4caa-c844-55d3c62ffb79"
      },
      "source": [
        "shap_values[12]"
      ],
      "execution_count": 45,
      "outputs": [
        {
          "output_type": "execute_result",
          "data": {
            "text/plain": [
              "array([[-2.20159385e-02, -2.21774355e-02,  4.40779626e-02, ...,\n",
              "         7.84028769e-02,  6.86080800e-03, -1.15555502e-03],\n",
              "       [ 6.27596397e-04,  2.37998538e-04, -1.47335203e-02, ...,\n",
              "        -4.45185433e-04, -5.93723403e-03,  1.04306289e-03],\n",
              "       [ 1.04903360e-03,  5.46080002e-04, -1.24218464e-02, ...,\n",
              "         3.44496919e-03, -5.03901904e-03,  1.13192888e-03],\n",
              "       ...,\n",
              "       [-4.09106833e-05, -2.06253462e-04,  4.64951627e-05, ...,\n",
              "        -1.62055511e-02, -1.07491542e-05, -4.23524252e-05],\n",
              "       [ 1.49252184e-04,  4.04672319e-05, -4.54541150e-04, ...,\n",
              "        -1.19688213e-02,  7.49768969e-06,  3.56239161e-06],\n",
              "       [ 8.12757004e-04,  3.77269113e-04, -1.53241931e-02, ...,\n",
              "         8.46348848e-05, -3.40907827e-05,  1.06767693e-03]])"
            ]
          },
          "metadata": {
            "tags": []
          },
          "execution_count": 45
        }
      ]
    },
    {
      "cell_type": "code",
      "metadata": {
        "colab": {
          "base_uri": "https://localhost:8080/"
        },
        "id": "i27zT46T7XeD",
        "outputId": "dc6c4d4b-314d-4cc0-ffab-14d63dfabc42"
      },
      "source": [
        "x_samples = px[np.random.choice(np.arange(len(px)), 300, replace=False)]\n",
        "print(len(x_samples))\n",
        "shap_values = e.shap_values(\n",
        "    torch.from_numpy(x_samples)\n",
        ")"
      ],
      "execution_count": 24,
      "outputs": [
        {
          "output_type": "stream",
          "text": [
            "300\n"
          ],
          "name": "stdout"
        },
        {
          "output_type": "stream",
          "text": [
            "Using a non-full backward hook when the forward contains multiple autograd Nodes is deprecated and will be removed in future versions. This hook will be missing some grad_input. Please use register_full_backward_hook to get the documented behavior.\n"
          ],
          "name": "stderr"
        }
      ]
    },
    {
      "cell_type": "code",
      "metadata": {
        "colab": {
          "base_uri": "https://localhost:8080/"
        },
        "id": "t9eDXLTDjx59",
        "outputId": "9a2c0995-627e-495c-d475-8cfbd5e23891"
      },
      "source": [
        " np.mean(np.abs(shap_values), axis=0).shape"
      ],
      "execution_count": 38,
      "outputs": [
        {
          "output_type": "execute_result",
          "data": {
            "text/plain": [
              "(300, 19)"
            ]
          },
          "metadata": {
            "tags": []
          },
          "execution_count": 38
        }
      ]
    },
    {
      "cell_type": "code",
      "metadata": {
        "colab": {
          "base_uri": "https://localhost:8080/"
        },
        "id": "YxlfWFGLnDcD",
        "outputId": "c9513e08-1768-4cfe-d4d7-5ed9e58d55c7"
      },
      "source": [
        "len(shap_values) # class"
      ],
      "execution_count": 48,
      "outputs": [
        {
          "output_type": "execute_result",
          "data": {
            "text/plain": [
              "13"
            ]
          },
          "metadata": {
            "tags": []
          },
          "execution_count": 48
        }
      ]
    },
    {
      "cell_type": "code",
      "metadata": {
        "colab": {
          "base_uri": "https://localhost:8080/"
        },
        "id": "jA4kGv4Klg3Q",
        "outputId": "a2bb374a-15a6-4cb2-932f-9a8d91260b5d"
      },
      "source": [
        "len(shap_values[0]) #samples"
      ],
      "execution_count": 49,
      "outputs": [
        {
          "output_type": "execute_result",
          "data": {
            "text/plain": [
              "300"
            ]
          },
          "metadata": {
            "tags": []
          },
          "execution_count": 49
        }
      ]
    },
    {
      "cell_type": "code",
      "metadata": {
        "colab": {
          "base_uri": "https://localhost:8080/"
        },
        "id": "x8Dqy2R0m5lc",
        "outputId": "72178d98-6444-4820-a926-254932e8a12c"
      },
      "source": [
        "len(shap_values[0][0]) #fearures"
      ],
      "execution_count": 50,
      "outputs": [
        {
          "output_type": "execute_result",
          "data": {
            "text/plain": [
              "19"
            ]
          },
          "metadata": {
            "tags": []
          },
          "execution_count": 50
        }
      ]
    },
    {
      "cell_type": "code",
      "metadata": {
        "id": "_1PlHWQ2mcUf"
      },
      "source": [
        "test = np.abs(shap_values)"
      ],
      "execution_count": 51,
      "outputs": []
    },
    {
      "cell_type": "code",
      "metadata": {
        "colab": {
          "base_uri": "https://localhost:8080/"
        },
        "id": "BGIjcbEUpVt3",
        "outputId": "d0aba041-dc8f-4b02-ae4c-f9c2bb5f03a6"
      },
      "source": [
        "np.mean(np.abs(shap_values[0]), axis=0)"
      ],
      "execution_count": 54,
      "outputs": [
        {
          "output_type": "execute_result",
          "data": {
            "text/plain": [
              "array([0.01167525, 0.00992163, 0.03839032, 0.02784389, 0.03155392,\n",
              "       0.02172191, 0.01265483, 0.02618734, 0.06003693, 0.02380211,\n",
              "       0.01551474, 0.05568058, 0.00272051, 0.07516581, 0.03234024,\n",
              "       0.03888505, 0.06569242, 0.05068871, 0.02503202])"
            ]
          },
          "metadata": {
            "tags": []
          },
          "execution_count": 54
        }
      ]
    },
    {
      "cell_type": "code",
      "metadata": {
        "id": "UcypRZeZpjHs"
      },
      "source": [
        "test=np.abs(shap_values[0])"
      ],
      "execution_count": 56,
      "outputs": []
    },
    {
      "cell_type": "code",
      "metadata": {
        "colab": {
          "base_uri": "https://localhost:8080/"
        },
        "id": "fADlH5_4pmIM",
        "outputId": "616ba3b0-b461-4505-b02d-02e94750f3b9"
      },
      "source": [
        "test"
      ],
      "execution_count": 57,
      "outputs": [
        {
          "output_type": "execute_result",
          "data": {
            "text/plain": [
              "array([[1.24468002e-03, 8.12757295e-04, 2.08002492e-03, ...,\n",
              "        3.11319670e-03, 1.60297826e-02, 3.07628093e-03],\n",
              "       [1.21800054e-03, 1.50442100e-03, 4.90187667e-03, ...,\n",
              "        5.60043799e-03, 2.14712191e-02, 1.06274998e-02],\n",
              "       [5.04278345e-03, 1.27014183e-02, 2.70893145e-03, ...,\n",
              "        8.94279871e-03, 8.02187622e-02, 4.10138816e-02],\n",
              "       ...,\n",
              "       [6.85174949e-03, 1.16467914e-02, 3.88246551e-02, ...,\n",
              "        2.41601855e-01, 3.67936164e-01, 1.94760635e-01],\n",
              "       [2.49385345e-03, 1.57783565e-04, 6.39225915e-02, ...,\n",
              "        1.52303986e-02, 1.48619711e-01, 1.09592061e-02],\n",
              "       [1.32550322e-03, 1.34417671e-04, 1.38662262e-02, ...,\n",
              "        3.26001085e-02, 2.16704793e-02, 9.37474426e-03]])"
            ]
          },
          "metadata": {
            "tags": []
          },
          "execution_count": 57
        }
      ]
    },
    {
      "cell_type": "code",
      "metadata": {
        "colab": {
          "base_uri": "https://localhost:8080/"
        },
        "id": "bu6eEm2MntKT",
        "outputId": "41ffe56a-a2da-4816-c232-0f3170f3247d"
      },
      "source": [
        "np.mean(np.abs(shap_values), axis=0)"
      ],
      "execution_count": 52,
      "outputs": [
        {
          "output_type": "execute_result",
          "data": {
            "text/plain": [
              "[array([[ 1.24468002e-03, -8.12757295e-04, -2.08002492e-03, ...,\n",
              "         -3.11319670e-03, -1.60297826e-02, -3.07628093e-03],\n",
              "        [-1.21800054e-03,  1.50442100e-03,  4.90187667e-03, ...,\n",
              "         -5.60043799e-03, -2.14712191e-02, -1.06274998e-02],\n",
              "        [ 5.04278345e-03,  1.27014183e-02,  2.70893145e-03, ...,\n",
              "         -8.94279871e-03, -8.02187622e-02, -4.10138816e-02],\n",
              "        ...,\n",
              "        [ 6.85174949e-03, -1.16467914e-02, -3.88246551e-02, ...,\n",
              "          2.41601855e-01, -3.67936164e-01, -1.94760635e-01],\n",
              "        [-2.49385345e-03, -1.57783565e-04,  6.39225915e-02, ...,\n",
              "          1.52303986e-02,  1.48619711e-01,  1.09592061e-02],\n",
              "        [-1.32550322e-03,  1.34417671e-04,  1.38662262e-02, ...,\n",
              "         -3.26001085e-02, -2.16704793e-02, -9.37474426e-03]]),\n",
              " array([[ 6.08951144e-04, -6.41173101e-04, -3.12627712e-03, ...,\n",
              "         -1.42234552e-03,  5.02903422e-04, -1.00726658e-03],\n",
              "        [-2.55729328e-03, -1.24359773e-02,  5.19281020e-04, ...,\n",
              "          6.18577120e-04, -1.25965674e-03,  1.58456212e-04],\n",
              "        [-3.24233482e-03, -1.12942681e-02,  5.61819004e-04, ...,\n",
              "         -6.81280682e-04, -7.17593182e-04,  8.09924037e-04],\n",
              "        ...,\n",
              "        [ 5.00718714e-04, -1.06847692e-04, -3.85063264e-04, ...,\n",
              "         -1.28157353e-02, -6.28669841e-06,  6.25843597e-07],\n",
              "        [ 6.27922302e-04, -7.62896147e-04, -5.00064949e-03, ...,\n",
              "         -4.75307403e-04, -1.94516269e-06,  2.04454841e-06],\n",
              "        [-3.26886284e-03, -1.10042058e-02,  2.98164843e-04, ...,\n",
              "         -2.57823471e-04,  1.48661947e-03,  3.92022717e-04]]),\n",
              " array([[ 5.01296927e-05, -4.49255003e-06,  2.57311367e-05, ...,\n",
              "          1.88478066e-06,  3.77319557e-05,  3.59413207e-05],\n",
              "        [-6.69253723e-07, -1.26228116e-07,  9.86605187e-07, ...,\n",
              "         -2.95007817e-06, -4.30050022e-08, -2.21695075e-07],\n",
              "        [ 1.29538205e-06,  3.03493357e-06,  1.12966600e-05, ...,\n",
              "         -2.12931773e-05,  1.92403286e-06, -1.27244789e-07],\n",
              "        ...,\n",
              "        [ 3.31074332e-08, -2.78589134e-08, -8.75125465e-08, ...,\n",
              "         -6.26210010e-07, -6.12278797e-08, -3.59826764e-08],\n",
              "        [-1.37099185e-08, -2.56591672e-08, -4.65747490e-07, ...,\n",
              "          2.14031758e-07,  8.79205420e-09,  6.43500808e-09],\n",
              "        [-2.29826867e-07,  2.88945955e-07,  1.74360559e-06, ...,\n",
              "         -2.90410776e-06, -3.91314749e-08, -3.19170326e-08]]),\n",
              " array([[ 4.49491590e-02,  1.97888985e-02, -1.19018577e-01, ...,\n",
              "         -1.57635733e-01, -1.28233917e-02,  5.12378942e-03],\n",
              "        [-2.13231309e-03, -6.25367789e-03, -1.13500888e-03, ...,\n",
              "         -6.37650257e-04, -1.06985983e-03, -6.72610986e-05],\n",
              "        [-2.22620904e-03, -6.32062694e-03, -1.45330711e-03, ...,\n",
              "         -6.12783420e-04, -1.14319520e-03, -1.71102693e-05],\n",
              "        ...,\n",
              "        [-3.96795012e-03,  7.47246714e-03,  8.60618427e-04, ...,\n",
              "         -1.23317000e-02,  1.08832919e-05,  1.87004684e-04],\n",
              "        [ 1.32437805e-02,  7.55671598e-03, -6.00306643e-03, ...,\n",
              "          1.63225941e-02, -2.45560822e-03, -2.66138301e-03],\n",
              "        [-2.14323495e-03, -6.33011665e-03, -1.13453192e-03, ...,\n",
              "         -6.37442805e-04,  3.10446339e-05, -6.45754772e-05]]),\n",
              " array([[ 6.49869180e-05,  1.17322932e-04, -1.70431472e-02, ...,\n",
              "         -6.87745679e-03, -4.98852576e-04, -5.35482832e-04],\n",
              "        [-7.24097015e-04, -1.32189144e-03, -1.68942157e-02, ...,\n",
              "         -7.97396153e-03, -4.45742218e-04, -4.80629190e-08],\n",
              "        [-6.76480355e-04, -1.35374116e-03, -1.74150374e-02, ...,\n",
              "         -8.18249118e-03, -4.41972457e-04,  4.74122629e-07],\n",
              "        ...,\n",
              "        [-1.17799907e-03,  1.21080455e-04, -2.32833568e-02, ...,\n",
              "          1.59667071e-03, -5.11095834e-07, -2.84364177e-07],\n",
              "        [-8.87878065e-04, -2.15022243e-03, -8.07167776e-03, ...,\n",
              "         -3.63029749e-03,  5.92401534e-07,  4.87710054e-07],\n",
              "        [-6.98951539e-04, -1.28319592e-03, -1.70726236e-02, ...,\n",
              "         -8.28178972e-03,  2.87898246e-07, -7.65996901e-08]]),\n",
              " array([[-7.60385068e-03,  1.55037921e-02,  2.58005429e-02, ...,\n",
              "          1.86401866e-02,  1.82964932e-03, -1.50928618e-02],\n",
              "        [-1.97960041e-03,  8.74616730e-04, -1.14994748e-02, ...,\n",
              "         -5.88849094e-03, -4.34827554e-04, -7.11378921e-03],\n",
              "        [-1.87033520e-03,  9.50891117e-04, -1.18563110e-02, ...,\n",
              "         -5.05096186e-03, -4.43558733e-04, -7.43393181e-03],\n",
              "        ...,\n",
              "        [ 4.54123307e-04,  2.66281248e-04, -1.86975207e-03, ...,\n",
              "         -7.44753517e-04,  1.88388321e-06, -6.32413384e-03],\n",
              "        [-7.21771223e-03,  2.22563022e-03, -5.74951852e-03, ...,\n",
              "          2.28068605e-03,  1.14294200e-03, -8.69173929e-03],\n",
              "        [-1.91934523e-03,  8.69210518e-04, -1.15262400e-02, ...,\n",
              "         -5.76716615e-03,  1.02423452e-04, -7.19814980e-03]]),\n",
              " array([[ 6.16384577e-03, -3.88514437e-03,  4.31526481e-04, ...,\n",
              "         -1.76773779e-02,  7.95383938e-04, -2.13484582e-03],\n",
              "        [-3.79086332e-03,  1.21578552e-04, -1.10240029e-02, ...,\n",
              "          7.25844875e-03, -6.32410462e-04,  1.02807739e-04],\n",
              "        [-3.87698552e-03,  3.01642023e-04, -1.08297961e-02, ...,\n",
              "          6.86283968e-03, -1.08183722e-03,  1.84206743e-04],\n",
              "        ...,\n",
              "        [-2.17531319e-03, -1.43970276e-04, -4.17623343e-03, ...,\n",
              "         -1.34869525e-03,  8.08059340e-05,  2.62604826e-05],\n",
              "        [-3.30169825e-03, -6.30359049e-04, -4.29697381e-03, ...,\n",
              "          1.35444710e-03,  1.22819911e-04,  3.29548093e-05],\n",
              "        [-3.67076765e-03,  3.11014475e-04, -1.11352969e-02, ...,\n",
              "          6.88795699e-03,  1.98488776e-03,  5.93498698e-05]]),\n",
              " array([[-2.95946032e-01, -1.38536856e-01,  4.68217507e-02, ...,\n",
              "          2.72461940e-02,  1.57751124e-02,  2.06133947e-02],\n",
              "        [-1.12688011e-02, -2.06508394e-03, -2.76422803e-03, ...,\n",
              "         -9.50165151e-04, -4.11512107e-02,  5.71288029e-03],\n",
              "        [ 1.07495427e+00,  1.72513220e-02,  4.99865979e-01, ...,\n",
              "          2.14231372e-01,  4.62991667e+00, -1.23006785e+00],\n",
              "        ...,\n",
              "        [ 1.72236440e-04, -2.04608295e-04, -1.71579223e-03, ...,\n",
              "         -4.44116741e-02,  2.35622756e-05,  1.02821781e-04],\n",
              "        [-3.75971867e-04, -2.08758182e-04,  9.28561017e-03, ...,\n",
              "          4.90293745e-03,  3.21727042e-04,  1.56331182e-04],\n",
              "        [-1.77356098e-02, -1.04210374e-03, -1.04395032e-03, ...,\n",
              "         -1.99115481e-02,  1.35263339e-01,  1.71126109e-02]]),\n",
              " array([[ 2.39706622e-03, -2.14905565e-04,  4.13009693e-04, ...,\n",
              "         -9.99627169e-03, -3.57174955e-04, -6.18072663e-05],\n",
              "        [-1.21266901e-04, -1.42068029e-05, -8.03037328e-05, ...,\n",
              "         -1.14877867e-02, -4.08779277e-04, -4.27687200e-06],\n",
              "        [-1.23950667e-04,  7.76834349e-06, -4.42992896e-05, ...,\n",
              "         -1.13721360e-02, -4.12235881e-04, -3.17526337e-06],\n",
              "        ...,\n",
              "        [-7.97393452e-03, -1.71473355e-03,  1.01441443e-02, ...,\n",
              "          1.11500919e-01,  5.18929679e-03,  5.67928934e-03],\n",
              "        [-2.24644027e-05, -6.00822968e-04, -5.17416047e-04, ...,\n",
              "         -4.07039979e-03, -1.69507712e-06,  1.23212245e-04],\n",
              "        [-1.17608855e-04, -6.32797173e-06, -7.71030318e-05, ...,\n",
              "         -1.14853131e-02, -1.12693488e-06,  4.03506783e-06]]),\n",
              " array([[-6.44081645e-03, -1.99526525e-03, -1.38142640e-02, ...,\n",
              "         -6.79318700e-03, -1.51966786e-04,  3.64117077e-05],\n",
              "        [-6.61218632e-03, -2.25969963e-03, -1.37274750e-02, ...,\n",
              "         -5.60713978e-03, -1.28965505e-04,  1.56921487e-05],\n",
              "        [-6.64976938e-03, -2.31430284e-03, -1.37541136e-02, ...,\n",
              "         -5.83575992e-03, -1.30354572e-04,  1.94570312e-05],\n",
              "        ...,\n",
              "        [-3.42103536e-03,  2.80330563e-03, -6.16752543e-03, ...,\n",
              "          2.74561066e-03,  1.24336948e-04, -1.61073680e-04],\n",
              "        [-4.24242020e-03, -2.76404689e-03, -8.12085636e-04, ...,\n",
              "         -1.30969251e-03,  2.89485179e-04,  7.46478472e-05],\n",
              "        [-6.67488854e-03, -2.15974473e-03, -1.39282178e-02, ...,\n",
              "         -5.85313700e-03,  4.29648673e-04,  4.28851854e-06]]),\n",
              " array([[-2.55135689e-02, -8.58791173e-03, -1.28290523e-02, ...,\n",
              "         -4.45513194e-03,  3.38884769e-03, -6.98629767e-04],\n",
              "        [ 7.09741041e-02,  2.49365680e-02,  9.41458642e-02, ...,\n",
              "          2.55776215e-02,  2.66810637e-02,  3.17372754e-02],\n",
              "        [ 3.68096419e-02,  1.16702542e-02,  5.05359396e-02, ...,\n",
              "          1.91851556e-02, -1.07389003e-01,  3.13034165e-03],\n",
              "        ...,\n",
              "        [-9.93503272e-05, -1.24214019e-03, -1.37479242e-03, ...,\n",
              "          5.03296638e-03, -2.12531537e-03, -3.62389837e-04],\n",
              "        [ 4.21300268e-04, -4.94130154e-06, -3.64524126e-02, ...,\n",
              "         -9.99794528e-03, -1.51064969e-03,  6.43135281e-04],\n",
              "        [ 7.02124611e-02,  2.04460323e-02,  7.96259567e-02, ...,\n",
              "          2.07095016e-02, -9.04846564e-02,  4.11476605e-02]]),\n",
              " array([[-2.98626814e-03, -6.99354848e-03,  1.02098929e-04, ...,\n",
              "          4.28319501e-04, -8.26089003e-04, -9.60528050e-05],\n",
              "        [-6.93578087e-03, -1.20193288e-02, -5.85403817e-04, ...,\n",
              "          2.37138083e-04, -1.12276047e-03,  7.23062749e-06],\n",
              "        [-7.03026727e-03, -1.29733291e-02, -4.40412463e-04, ...,\n",
              "          2.80779554e-04, -1.02786708e-03, -7.58963915e-06],\n",
              "        ...,\n",
              "        [-6.34625275e-03, -1.51302712e-03,  2.74080201e-04, ...,\n",
              "         -1.22880917e-02,  1.72263808e-05,  1.99697388e-06],\n",
              "        [-1.27570739e-03, -2.63917795e-03, -1.67253311e-04, ...,\n",
              "          6.12515840e-04,  3.95786947e-06,  2.17570096e-06],\n",
              "        [-7.10155815e-03, -1.23302769e-02, -5.82260080e-04, ...,\n",
              "          2.43891220e-04,  3.63722684e-05,  5.98914130e-06]]),\n",
              " array([[-2.20159385e-02, -2.21774355e-02,  4.40779626e-02, ...,\n",
              "          7.84028769e-02,  6.86080800e-03, -1.15555502e-03],\n",
              "        [ 6.27596397e-04,  2.37998538e-04, -1.47335203e-02, ...,\n",
              "         -4.45185433e-04, -5.93723403e-03,  1.04306289e-03],\n",
              "        [ 1.04903360e-03,  5.46080002e-04, -1.24218464e-02, ...,\n",
              "          3.44496919e-03, -5.03901904e-03,  1.13192888e-03],\n",
              "        ...,\n",
              "        [-4.09106833e-05, -2.06253462e-04,  4.64951627e-05, ...,\n",
              "         -1.62055511e-02, -1.07491542e-05, -4.23524252e-05],\n",
              "        [ 1.49252184e-04,  4.04672319e-05, -4.54541150e-04, ...,\n",
              "         -1.19688213e-02,  7.49768969e-06,  3.56239161e-06],\n",
              "        [ 8.12757004e-04,  3.77269113e-04, -1.53241931e-02, ...,\n",
              "          8.46348848e-05, -3.40907827e-05,  1.06767693e-03]])]"
            ]
          },
          "metadata": {
            "tags": []
          },
          "execution_count": 52
        }
      ]
    },
    {
      "cell_type": "code",
      "metadata": {
        "colab": {
          "base_uri": "https://localhost:8080/"
        },
        "id": "4R7xLEnLrZJW",
        "outputId": "30757b13-bbcd-4bb1-974c-90353836683d"
      },
      "source": [
        "np.mean(np.abs(shap_values[0]), axis=0)"
      ],
      "execution_count": 66,
      "outputs": [
        {
          "output_type": "execute_result",
          "data": {
            "text/plain": [
              "array([0.01167525, 0.00992163, 0.03839032, 0.02784389, 0.03155392,\n",
              "       0.02172191, 0.01265483, 0.02618734, 0.06003693, 0.02380211,\n",
              "       0.01551474, 0.05568058, 0.00272051, 0.07516581, 0.03234024,\n",
              "       0.03888505, 0.06569242, 0.05068871, 0.02503202])"
            ]
          },
          "metadata": {
            "tags": []
          },
          "execution_count": 66
        }
      ]
    },
    {
      "cell_type": "code",
      "metadata": {
        "id": "cAtbFR2ajBhy"
      },
      "source": [
        "df = pd.DataFrame({\n",
        "    \"mean_abs_shap\":np.mean(np.abs(shap_values[0]), axis=0),\n",
        "    \"stdev_abs_shap\": np.std(np.abs(shap_values[0]), axis=0), \n",
        "    \"name\": features\n",
        "})\n",
        "#df.sort_values(\"mean_abs_shap\", ascending=False)[:10]"
      ],
      "execution_count": 63,
      "outputs": []
    },
    {
      "cell_type": "code",
      "metadata": {
        "id": "t0ZgBFcrNcAS"
      },
      "source": [
        "features = np.array(['Fwd Packet Length Mean', 'Fwd Packet Length Std', 'Flow IAT Max', 'Bwd Packet Length Std', 'Fwd Packet Length Max', 'Flow Bytes/s', 'Total Length of Bwd Packets', 'Fwd Packet Length Mean', 'Flow Duration', 'Flow IAT Min', 'Total Length of Fwd Packets', 'Flow IAT Mean', 'Total Backward Packets', 'Bwd Packet Length Max', 'Flow Packets/s', 'Flow IAT Std', 'Fwd IAT Total', 'Bwd Packet Length Min', 'Fwd Packet Length Min'])"
      ],
      "execution_count": 64,
      "outputs": []
    },
    {
      "cell_type": "code",
      "metadata": {
        "colab": {
          "base_uri": "https://localhost:8080/",
          "height": 638
        },
        "id": "NozenyEfrmC9",
        "outputId": "33d1dce8-be34-4e21-fae2-2c63e1bb8375"
      },
      "source": [
        "df"
      ],
      "execution_count": 67,
      "outputs": [
        {
          "output_type": "execute_result",
          "data": {
            "text/html": [
              "<div>\n",
              "<style scoped>\n",
              "    .dataframe tbody tr th:only-of-type {\n",
              "        vertical-align: middle;\n",
              "    }\n",
              "\n",
              "    .dataframe tbody tr th {\n",
              "        vertical-align: top;\n",
              "    }\n",
              "\n",
              "    .dataframe thead th {\n",
              "        text-align: right;\n",
              "    }\n",
              "</style>\n",
              "<table border=\"1\" class=\"dataframe\">\n",
              "  <thead>\n",
              "    <tr style=\"text-align: right;\">\n",
              "      <th></th>\n",
              "      <th>mean_abs_shap</th>\n",
              "      <th>stdev_abs_shap</th>\n",
              "      <th>name</th>\n",
              "    </tr>\n",
              "  </thead>\n",
              "  <tbody>\n",
              "    <tr>\n",
              "      <th>0</th>\n",
              "      <td>0.011675</td>\n",
              "      <td>0.075191</td>\n",
              "      <td>Fwd Packet Length Mean</td>\n",
              "    </tr>\n",
              "    <tr>\n",
              "      <th>1</th>\n",
              "      <td>0.009922</td>\n",
              "      <td>0.053097</td>\n",
              "      <td>Fwd Packet Length Std</td>\n",
              "    </tr>\n",
              "    <tr>\n",
              "      <th>2</th>\n",
              "      <td>0.038390</td>\n",
              "      <td>0.319145</td>\n",
              "      <td>Flow IAT Max</td>\n",
              "    </tr>\n",
              "    <tr>\n",
              "      <th>3</th>\n",
              "      <td>0.027844</td>\n",
              "      <td>0.099431</td>\n",
              "      <td>Bwd Packet Length Std</td>\n",
              "    </tr>\n",
              "    <tr>\n",
              "      <th>4</th>\n",
              "      <td>0.031554</td>\n",
              "      <td>0.134375</td>\n",
              "      <td>Fwd Packet Length Max</td>\n",
              "    </tr>\n",
              "    <tr>\n",
              "      <th>5</th>\n",
              "      <td>0.021722</td>\n",
              "      <td>0.222070</td>\n",
              "      <td>Flow Bytes/s</td>\n",
              "    </tr>\n",
              "    <tr>\n",
              "      <th>6</th>\n",
              "      <td>0.012655</td>\n",
              "      <td>0.054292</td>\n",
              "      <td>Total Length of Bwd Packets</td>\n",
              "    </tr>\n",
              "    <tr>\n",
              "      <th>7</th>\n",
              "      <td>0.026187</td>\n",
              "      <td>0.152070</td>\n",
              "      <td>Fwd Packet Length Mean</td>\n",
              "    </tr>\n",
              "    <tr>\n",
              "      <th>8</th>\n",
              "      <td>0.060037</td>\n",
              "      <td>0.442512</td>\n",
              "      <td>Flow Duration</td>\n",
              "    </tr>\n",
              "    <tr>\n",
              "      <th>9</th>\n",
              "      <td>0.023802</td>\n",
              "      <td>0.157259</td>\n",
              "      <td>Flow IAT Min</td>\n",
              "    </tr>\n",
              "    <tr>\n",
              "      <th>10</th>\n",
              "      <td>0.015515</td>\n",
              "      <td>0.052648</td>\n",
              "      <td>Total Length of Fwd Packets</td>\n",
              "    </tr>\n",
              "    <tr>\n",
              "      <th>11</th>\n",
              "      <td>0.055681</td>\n",
              "      <td>0.324131</td>\n",
              "      <td>Flow IAT Mean</td>\n",
              "    </tr>\n",
              "    <tr>\n",
              "      <th>12</th>\n",
              "      <td>0.002721</td>\n",
              "      <td>0.013618</td>\n",
              "      <td>Total Backward Packets</td>\n",
              "    </tr>\n",
              "    <tr>\n",
              "      <th>13</th>\n",
              "      <td>0.075166</td>\n",
              "      <td>0.301620</td>\n",
              "      <td>Bwd Packet Length Max</td>\n",
              "    </tr>\n",
              "    <tr>\n",
              "      <th>14</th>\n",
              "      <td>0.032340</td>\n",
              "      <td>0.260197</td>\n",
              "      <td>Flow Packets/s</td>\n",
              "    </tr>\n",
              "    <tr>\n",
              "      <th>15</th>\n",
              "      <td>0.038885</td>\n",
              "      <td>0.287367</td>\n",
              "      <td>Flow IAT Std</td>\n",
              "    </tr>\n",
              "    <tr>\n",
              "      <th>16</th>\n",
              "      <td>0.065692</td>\n",
              "      <td>0.487855</td>\n",
              "      <td>Fwd IAT Total</td>\n",
              "    </tr>\n",
              "    <tr>\n",
              "      <th>17</th>\n",
              "      <td>0.050689</td>\n",
              "      <td>0.139074</td>\n",
              "      <td>Bwd Packet Length Min</td>\n",
              "    </tr>\n",
              "    <tr>\n",
              "      <th>18</th>\n",
              "      <td>0.025032</td>\n",
              "      <td>0.123365</td>\n",
              "      <td>Fwd Packet Length Min</td>\n",
              "    </tr>\n",
              "  </tbody>\n",
              "</table>\n",
              "</div>"
            ],
            "text/plain": [
              "    mean_abs_shap  stdev_abs_shap                         name\n",
              "0        0.011675        0.075191       Fwd Packet Length Mean\n",
              "1        0.009922        0.053097        Fwd Packet Length Std\n",
              "2        0.038390        0.319145                 Flow IAT Max\n",
              "3        0.027844        0.099431        Bwd Packet Length Std\n",
              "4        0.031554        0.134375        Fwd Packet Length Max\n",
              "5        0.021722        0.222070                 Flow Bytes/s\n",
              "6        0.012655        0.054292  Total Length of Bwd Packets\n",
              "7        0.026187        0.152070       Fwd Packet Length Mean\n",
              "8        0.060037        0.442512                Flow Duration\n",
              "9        0.023802        0.157259                 Flow IAT Min\n",
              "10       0.015515        0.052648  Total Length of Fwd Packets\n",
              "11       0.055681        0.324131                Flow IAT Mean\n",
              "12       0.002721        0.013618       Total Backward Packets\n",
              "13       0.075166        0.301620        Bwd Packet Length Max\n",
              "14       0.032340        0.260197               Flow Packets/s\n",
              "15       0.038885        0.287367                 Flow IAT Std\n",
              "16       0.065692        0.487855                Fwd IAT Total\n",
              "17       0.050689        0.139074        Bwd Packet Length Min\n",
              "18       0.025032        0.123365        Fwd Packet Length Min"
            ]
          },
          "metadata": {
            "tags": []
          },
          "execution_count": 67
        }
      ]
    },
    {
      "cell_type": "code",
      "metadata": {
        "colab": {
          "base_uri": "https://localhost:8080/",
          "height": 560
        },
        "id": "GhQfkjdyq-0a",
        "outputId": "1757276e-03c6-4f75-ec92-bc5e9b596839"
      },
      "source": [
        "shap.summary_plot(shap_values, features=x_samples, feature_names=features)"
      ],
      "execution_count": 65,
      "outputs": [
        {
          "output_type": "display_data",
          "data": {
            "image/png": "[encoded data removed]",
            "text/plain": [
              "<Figure size 576x655.2 with 1 Axes>"
            ]
          },
          "metadata": {
            "tags": [],
            "needs_background": "light"
          }
        }
      ]
    }
  ]
}