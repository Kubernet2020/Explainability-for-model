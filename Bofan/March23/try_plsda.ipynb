{
  "nbformat": 4,
  "nbformat_minor": 0,
  "metadata": {
    "colab": {
      "name": "IDS_CNN_v1.ipynb",
      "provenance": [],
      "machine_shape": "hm"
    },
    "kernelspec": {
      "name": "python3",
      "display_name": "Python 3"
    },
    "accelerator": "GPU"
  },
  "cells": [
    {
      "cell_type": "code",
      "metadata": {
        "colab": {
          "base_uri": "https://localhost:8080/"
        },
        "id": "COWwEtZ8bEaa",
        "outputId": "166fc702-1566-4d08-cb82-6cd2469df5ad"
      },
      "source": [
        "from google.colab import drive\n",
        "drive.mount('/gdrive')"
      ],
      "execution_count": 1,
      "outputs": [
        {
          "output_type": "stream",
          "text": [
            "Mounted at /gdrive\n"
          ],
          "name": "stdout"
        }
      ]
    },
    {
      "cell_type": "code",
      "metadata": {
        "id": "8nK1sK5ObVIL"
      },
      "source": [
        "IDS2017URL = \"/gdrive/MyDrive/IDS2017/IDS2017.csv\""
      ],
      "execution_count": 2,
      "outputs": []
    },
    {
      "cell_type": "code",
      "metadata": {
        "id": "zfmbjEKT5BSR"
      },
      "source": [
        "import torch\n",
        "import pandas as pd\n",
        "import tensorflow as tf\n",
        "import numpy as np\n",
        "import torch.nn as nn\n",
        "import glob\n",
        "import time\n",
        "import os\n",
        "from os.path import join\n",
        "from numpy import vstack\n",
        "from numpy import argmax\n",
        "from pandas import read_csv\n",
        "from sklearn.preprocessing import LabelEncoder\n",
        "from sklearn.metrics import accuracy_score\n",
        "from torch import Tensor\n",
        "from torch.utils.data import Dataset\n",
        "from torch.utils.data import DataLoader\n",
        "from torch.utils.data import random_split\n",
        "from torch.nn import Linear\n",
        "from torch.nn import ReLU\n",
        "from torch.nn import Softmax\n",
        "from torch.nn import Module\n",
        "from torch.optim import SGD\n",
        "from torch.optim import Adam\n",
        "from torch.nn import CrossEntropyLoss\n",
        "from torch.nn.init import kaiming_uniform_\n",
        "from torch.nn.init import xavier_uniform_\n",
        "from torchvision import transforms"
      ],
      "execution_count": 3,
      "outputs": []
    },
    {
      "cell_type": "code",
      "metadata": {
        "id": "6TUNGAa8dA_9"
      },
      "source": [
        "seed_split = 40"
      ],
      "execution_count": 4,
      "outputs": []
    },
    {
      "cell_type": "code",
      "metadata": {
        "id": "icFf7lfpc7iw",
        "outputId": "4c301314-6592-4e6b-e435-0714ba5e67f1",
        "colab": {
          "base_uri": "https://localhost:8080/"
        }
      },
      "source": [
        "!pip install https://github.com/KevinMMendez/cimcb/archive/master.zip"
      ],
      "execution_count": 5,
      "outputs": [
        {
          "output_type": "stream",
          "text": [
            "Collecting https://github.com/KevinMMendez/cimcb/archive/master.zip\n",
            "\u001b[?25l  Downloading https://github.com/KevinMMendez/cimcb/archive/master.zip\n",
            "\u001b[K     / 983kB 6.3MB/s\n",
            "\u001b[?25hRequirement already satisfied: bokeh>=1.0.0 in /usr/local/lib/python3.7/dist-packages (from cimcb==2.1.0) (2.1.1)\n",
            "Requirement already satisfied: keras>=2.2.4 in /usr/local/lib/python3.7/dist-packages (from cimcb==2.1.0) (2.4.3)\n",
            "Requirement already satisfied: numpy>=1.12 in /usr/local/lib/python3.7/dist-packages (from cimcb==2.1.0) (1.19.5)\n",
            "Requirement already satisfied: pandas in /usr/local/lib/python3.7/dist-packages (from cimcb==2.1.0) (1.1.5)\n",
            "Requirement already satisfied: scipy in /usr/local/lib/python3.7/dist-packages (from cimcb==2.1.0) (1.4.1)\n",
            "Requirement already satisfied: scikit-learn in /usr/local/lib/python3.7/dist-packages (from cimcb==2.1.0) (0.22.2.post1)\n",
            "Requirement already satisfied: statsmodels in /usr/local/lib/python3.7/dist-packages (from cimcb==2.1.0) (0.10.2)\n",
            "Requirement already satisfied: theano in /usr/local/lib/python3.7/dist-packages (from cimcb==2.1.0) (1.0.5)\n",
            "Requirement already satisfied: tqdm in /usr/local/lib/python3.7/dist-packages (from cimcb==2.1.0) (4.41.1)\n",
            "Requirement already satisfied: xlrd in /usr/local/lib/python3.7/dist-packages (from cimcb==2.1.0) (1.1.0)\n",
            "Requirement already satisfied: joblib in /usr/local/lib/python3.7/dist-packages (from cimcb==2.1.0) (1.0.1)\n",
            "Requirement already satisfied: packaging>=16.8 in /usr/local/lib/python3.7/dist-packages (from bokeh>=1.0.0->cimcb==2.1.0) (20.9)\n",
            "Requirement already satisfied: python-dateutil>=2.1 in /usr/local/lib/python3.7/dist-packages (from bokeh>=1.0.0->cimcb==2.1.0) (2.8.1)\n",
            "Requirement already satisfied: tornado>=5.1 in /usr/local/lib/python3.7/dist-packages (from bokeh>=1.0.0->cimcb==2.1.0) (5.1.1)\n",
            "Requirement already satisfied: Jinja2>=2.7 in /usr/local/lib/python3.7/dist-packages (from bokeh>=1.0.0->cimcb==2.1.0) (2.11.3)\n",
            "Requirement already satisfied: PyYAML>=3.10 in /usr/local/lib/python3.7/dist-packages (from bokeh>=1.0.0->cimcb==2.1.0) (3.13)\n",
            "Requirement already satisfied: typing-extensions>=3.7.4 in /usr/local/lib/python3.7/dist-packages (from bokeh>=1.0.0->cimcb==2.1.0) (3.7.4.3)\n",
            "Requirement already satisfied: pillow>=4.0 in /usr/local/lib/python3.7/dist-packages (from bokeh>=1.0.0->cimcb==2.1.0) (7.0.0)\n",
            "Requirement already satisfied: h5py in /usr/local/lib/python3.7/dist-packages (from keras>=2.2.4->cimcb==2.1.0) (2.10.0)\n",
            "Requirement already satisfied: pytz>=2017.2 in /usr/local/lib/python3.7/dist-packages (from pandas->cimcb==2.1.0) (2018.9)\n",
            "Requirement already satisfied: patsy>=0.4.0 in /usr/local/lib/python3.7/dist-packages (from statsmodels->cimcb==2.1.0) (0.5.1)\n",
            "Requirement already satisfied: six>=1.9.0 in /usr/local/lib/python3.7/dist-packages (from theano->cimcb==2.1.0) (1.15.0)\n",
            "Requirement already satisfied: pyparsing>=2.0.2 in /usr/local/lib/python3.7/dist-packages (from packaging>=16.8->bokeh>=1.0.0->cimcb==2.1.0) (2.4.7)\n",
            "Requirement already satisfied: MarkupSafe>=0.23 in /usr/local/lib/python3.7/dist-packages (from Jinja2>=2.7->bokeh>=1.0.0->cimcb==2.1.0) (1.1.1)\n",
            "Building wheels for collected packages: cimcb\n",
            "  Building wheel for cimcb (setup.py) ... \u001b[?25l\u001b[?25hdone\n",
            "  Created wheel for cimcb: filename=cimcb-2.1.0-cp37-none-any.whl size=166774 sha256=66b70a89094b67e393e05d260e1d73b2433e0d24e07dad6665b792986aa78410\n",
            "  Stored in directory: /tmp/pip-ephem-wheel-cache-50o9c7bs/wheels/6b/15/b6/0bf9d1e5bbcace7b87c78d8bef68ae197bc4679dfb373a8f01\n",
            "Successfully built cimcb\n",
            "Installing collected packages: cimcb\n",
            "Successfully installed cimcb-2.1.0\n"
          ],
          "name": "stdout"
        }
      ]
    },
    {
      "cell_type": "code",
      "metadata": {
        "id": "2GpdOq1ifFgh",
        "outputId": "90fb5282-919d-4031-9ada-5066a62e9349",
        "colab": {
          "base_uri": "https://localhost:8080/"
        }
      },
      "source": [
        "import numpy as np\n",
        "import pandas as pd\n",
        "import cimcb as cb\n",
        "from sklearn.model_selection import train_test_split"
      ],
      "execution_count": 6,
      "outputs": [
        {
          "output_type": "stream",
          "text": [
            "/usr/local/lib/python3.7/dist-packages/statsmodels/tools/_testing.py:19: FutureWarning: pandas.util.testing is deprecated. Use the functions in the public API at pandas.testing instead.\n",
            "  import pandas.util.testing as tm\n"
          ],
          "name": "stderr"
        }
      ]
    },
    {
      "cell_type": "code",
      "metadata": {
        "colab": {
          "base_uri": "https://localhost:8080/"
        },
        "id": "HIKW158ScO6F",
        "outputId": "f7e4d082-4f64-4537-9213-738032edd68a"
      },
      "source": [
        "data = pd.read_csv(IDS2017URL)\n",
        "data.loc[data['Label'].isin([ 'Web Attack - Sql Injection','Web Attack - XSS', 'Web Attack - Brute Force']), 'Label'] = 'Web Attack'\n",
        "#data = data[['Fwd Packet Length Mean', 'Fwd Packet Length Std', 'Flow IAT Max', 'Bwd Packet Length Std', 'Fwd Packet Length Max', 'Flow Bytes/s', 'Total Length of Bwd Packets', 'Fwd Packet Length Mean', 'Flow Duration', 'Flow IAT Min', 'Total Length of Fwd Packets', 'Flow IAT Mean', 'Total Backward Packets', 'Bwd Packet Length Max', 'Flow Packets/s', 'Flow IAT Std', 'Fwd IAT Total', 'Bwd Packet Length Min', 'Fwd Packet Length Min', 'Label']]\n",
        "data = data[['Fwd Packet Length Mean', 'Fwd Packet Length Std', 'Label']]\n",
        "data = data.replace([-np.inf, np.inf], np.nan)\n",
        "data = data.dropna()"
      ],
      "execution_count": 7,
      "outputs": [
        {
          "output_type": "stream",
          "text": [
            "/usr/local/lib/python3.7/dist-packages/IPython/core/interactiveshell.py:2718: DtypeWarning: Columns (84) have mixed types.Specify dtype option on import or set low_memory=False.\n",
            "  interactivity=interactivity, compiler=compiler, result=result)\n"
          ],
          "name": "stderr"
        }
      ]
    },
    {
      "cell_type": "code",
      "metadata": {
        "id": "kHe_yR_afUvF"
      },
      "source": [
        "data.replace(to_replace=0, value=0.00001, inplace=True)"
      ],
      "execution_count": 8,
      "outputs": []
    },
    {
      "cell_type": "code",
      "metadata": {
        "id": "6NqBxjRpdl5b"
      },
      "source": [
        "num_records, num_features = data.shape"
      ],
      "execution_count": 9,
      "outputs": []
    },
    {
      "cell_type": "code",
      "metadata": {
        "id": "-mR-cGnaqQYN",
        "outputId": "92b6b771-72e0-4c55-a56e-f9d0bd269065",
        "colab": {
          "base_uri": "https://localhost:8080/"
        }
      },
      "source": [
        "data.shape"
      ],
      "execution_count": 10,
      "outputs": [
        {
          "output_type": "execute_result",
          "data": {
            "text/plain": [
              "(2830743, 3)"
            ]
          },
          "metadata": {
            "tags": []
          },
          "execution_count": 10
        }
      ]
    },
    {
      "cell_type": "code",
      "metadata": {
        "id": "OJClssq3lbR3"
      },
      "source": [
        "X = data.iloc[:,:-1].astype(float).apply(pd.to_numeric)"
      ],
      "execution_count": 11,
      "outputs": []
    },
    {
      "cell_type": "code",
      "metadata": {
        "id": "7Kwvi0AulzuS",
        "outputId": "1e5e53db-0685-4d3e-aa9c-27e62f4a19ec",
        "colab": {
          "base_uri": "https://localhost:8080/",
          "height": 419
        }
      },
      "source": [
        "X"
      ],
      "execution_count": 12,
      "outputs": [
        {
          "output_type": "execute_result",
          "data": {
            "text/html": [
              "<div>\n",
              "<style scoped>\n",
              "    .dataframe tbody tr th:only-of-type {\n",
              "        vertical-align: middle;\n",
              "    }\n",
              "\n",
              "    .dataframe tbody tr th {\n",
              "        vertical-align: top;\n",
              "    }\n",
              "\n",
              "    .dataframe thead th {\n",
              "        text-align: right;\n",
              "    }\n",
              "</style>\n",
              "<table border=\"1\" class=\"dataframe\">\n",
              "  <thead>\n",
              "    <tr style=\"text-align: right;\">\n",
              "      <th></th>\n",
              "      <th>Fwd Packet Length Mean</th>\n",
              "      <th>Fwd Packet Length Std</th>\n",
              "    </tr>\n",
              "  </thead>\n",
              "  <tbody>\n",
              "    <tr>\n",
              "      <th>0</th>\n",
              "      <td>6.000000</td>\n",
              "      <td>0.00001</td>\n",
              "    </tr>\n",
              "    <tr>\n",
              "      <th>1</th>\n",
              "      <td>6.000000</td>\n",
              "      <td>0.00001</td>\n",
              "    </tr>\n",
              "    <tr>\n",
              "      <th>2</th>\n",
              "      <td>6.000000</td>\n",
              "      <td>0.00001</td>\n",
              "    </tr>\n",
              "    <tr>\n",
              "      <th>3</th>\n",
              "      <td>6.000000</td>\n",
              "      <td>0.00001</td>\n",
              "    </tr>\n",
              "    <tr>\n",
              "      <th>4</th>\n",
              "      <td>6.000000</td>\n",
              "      <td>0.00001</td>\n",
              "    </tr>\n",
              "    <tr>\n",
              "      <th>...</th>\n",
              "      <td>...</td>\n",
              "      <td>...</td>\n",
              "    </tr>\n",
              "    <tr>\n",
              "      <th>2830738</th>\n",
              "      <td>0.000010</td>\n",
              "      <td>0.00001</td>\n",
              "    </tr>\n",
              "    <tr>\n",
              "      <th>2830739</th>\n",
              "      <td>6.000000</td>\n",
              "      <td>0.00001</td>\n",
              "    </tr>\n",
              "    <tr>\n",
              "      <th>2830740</th>\n",
              "      <td>0.000010</td>\n",
              "      <td>0.00001</td>\n",
              "    </tr>\n",
              "    <tr>\n",
              "      <th>2830741</th>\n",
              "      <td>49.333333</td>\n",
              "      <td>85.44784</td>\n",
              "    </tr>\n",
              "    <tr>\n",
              "      <th>2830742</th>\n",
              "      <td>0.000010</td>\n",
              "      <td>0.00001</td>\n",
              "    </tr>\n",
              "  </tbody>\n",
              "</table>\n",
              "<p>2830743 rows × 2 columns</p>\n",
              "</div>"
            ],
            "text/plain": [
              "         Fwd Packet Length Mean  Fwd Packet Length Std\n",
              "0                      6.000000                0.00001\n",
              "1                      6.000000                0.00001\n",
              "2                      6.000000                0.00001\n",
              "3                      6.000000                0.00001\n",
              "4                      6.000000                0.00001\n",
              "...                         ...                    ...\n",
              "2830738                0.000010                0.00001\n",
              "2830739                6.000000                0.00001\n",
              "2830740                0.000010                0.00001\n",
              "2830741               49.333333               85.44784\n",
              "2830742                0.000010                0.00001\n",
              "\n",
              "[2830743 rows x 2 columns]"
            ]
          },
          "metadata": {
            "tags": []
          },
          "execution_count": 12
        }
      ]
    },
    {
      "cell_type": "code",
      "metadata": {
        "id": "uBCNZ5SCfXHu"
      },
      "source": [
        "le = LabelEncoder()\n",
        "le.fit([\"BENIGN\", \"DoS Hulk\", \"PortScan\", \"DDoS\", \"DoS GoldenEye\",\"FTP-Patator\",\"SSH-Patator\",\"DoS slowloris\",\"DoS Slowhttptest\",\"Web Attack\",\"Bot\",\"Infiltration\",\"Heartbleed\"])\n",
        "Y = le.transform(data['Label'])"
      ],
      "execution_count": 13,
      "outputs": []
    },
    {
      "cell_type": "code",
      "metadata": {
        "id": "p-_ZIhrohkPV"
      },
      "source": [
        "Class = data['Label']"
      ],
      "execution_count": 14,
      "outputs": []
    },
    {
      "cell_type": "code",
      "metadata": {
        "id": "ubOCoJF_hjzk"
      },
      "source": [
        "XTrain, XTest, YTrain, YTest, ClassTrain, ClassTest = train_test_split(X,\n",
        "                                                                       Y,\n",
        "                                                                       Class,\n",
        "                                                                       test_size=1/3,\n",
        "                                                                       stratify=Y,\n",
        "                                                                       random_state=seed_split)"
      ],
      "execution_count": 15,
      "outputs": []
    },
    {
      "cell_type": "code",
      "metadata": {
        "id": "QhrRiFzMZPP2",
        "outputId": "5ce1374d-1ea5-4fd1-d5bf-10def989257f",
        "colab": {
          "base_uri": "https://localhost:8080/",
          "height": 419
        }
      },
      "source": [
        "XTrain"
      ],
      "execution_count": 16,
      "outputs": [
        {
          "output_type": "execute_result",
          "data": {
            "text/html": [
              "<div>\n",
              "<style scoped>\n",
              "    .dataframe tbody tr th:only-of-type {\n",
              "        vertical-align: middle;\n",
              "    }\n",
              "\n",
              "    .dataframe tbody tr th {\n",
              "        vertical-align: top;\n",
              "    }\n",
              "\n",
              "    .dataframe thead th {\n",
              "        text-align: right;\n",
              "    }\n",
              "</style>\n",
              "<table border=\"1\" class=\"dataframe\">\n",
              "  <thead>\n",
              "    <tr style=\"text-align: right;\">\n",
              "      <th></th>\n",
              "      <th>Fwd Packet Length Mean</th>\n",
              "      <th>Fwd Packet Length Std</th>\n",
              "    </tr>\n",
              "  </thead>\n",
              "  <tbody>\n",
              "    <tr>\n",
              "      <th>1781920</th>\n",
              "      <td>53.000000</td>\n",
              "      <td>0.000010</td>\n",
              "    </tr>\n",
              "    <tr>\n",
              "      <th>547912</th>\n",
              "      <td>11.222222</td>\n",
              "      <td>8.828615</td>\n",
              "    </tr>\n",
              "    <tr>\n",
              "      <th>1800450</th>\n",
              "      <td>12.815789</td>\n",
              "      <td>43.025985</td>\n",
              "    </tr>\n",
              "    <tr>\n",
              "      <th>2343779</th>\n",
              "      <td>26.000000</td>\n",
              "      <td>28.284271</td>\n",
              "    </tr>\n",
              "    <tr>\n",
              "      <th>1594355</th>\n",
              "      <td>40.000000</td>\n",
              "      <td>0.000010</td>\n",
              "    </tr>\n",
              "    <tr>\n",
              "      <th>...</th>\n",
              "      <td>...</td>\n",
              "      <td>...</td>\n",
              "    </tr>\n",
              "    <tr>\n",
              "      <th>2043289</th>\n",
              "      <td>2.000000</td>\n",
              "      <td>0.000010</td>\n",
              "    </tr>\n",
              "    <tr>\n",
              "      <th>1308697</th>\n",
              "      <td>53.000000</td>\n",
              "      <td>0.000010</td>\n",
              "    </tr>\n",
              "    <tr>\n",
              "      <th>141105</th>\n",
              "      <td>22.333333</td>\n",
              "      <td>16.010413</td>\n",
              "    </tr>\n",
              "    <tr>\n",
              "      <th>1405096</th>\n",
              "      <td>67.000000</td>\n",
              "      <td>0.000010</td>\n",
              "    </tr>\n",
              "    <tr>\n",
              "      <th>145853</th>\n",
              "      <td>0.000010</td>\n",
              "      <td>0.000010</td>\n",
              "    </tr>\n",
              "  </tbody>\n",
              "</table>\n",
              "<p>1887162 rows × 2 columns</p>\n",
              "</div>"
            ],
            "text/plain": [
              "         Fwd Packet Length Mean  Fwd Packet Length Std\n",
              "1781920               53.000000               0.000010\n",
              "547912                11.222222               8.828615\n",
              "1800450               12.815789              43.025985\n",
              "2343779               26.000000              28.284271\n",
              "1594355               40.000000               0.000010\n",
              "...                         ...                    ...\n",
              "2043289                2.000000               0.000010\n",
              "1308697               53.000000               0.000010\n",
              "141105                22.333333              16.010413\n",
              "1405096               67.000000               0.000010\n",
              "145853                 0.000010               0.000010\n",
              "\n",
              "[1887162 rows x 2 columns]"
            ]
          },
          "metadata": {
            "tags": []
          },
          "execution_count": 16
        }
      ]
    },
    {
      "cell_type": "code",
      "metadata": {
        "id": "AIK_12niiD-e"
      },
      "source": [
        "XTrainLog = np.log(XTrain)                                          \n",
        "XTrainScale, mu, sigma = cb.utils.scale(XTrainLog, method='auto', return_mu_sigma=True)              \n",
        "XTrainKnn = cb.utils.knnimpute(XTrainScale, k=3)    \n",
        "\n",
        "# Extract X Test Data\n",
        "XTestLog = np.log(XTest)                                          \n",
        "XTestScale = cb.utils.scale(XTestLog, method='auto', mu=mu, sigma=sigma)           \n",
        "XTestKnn = cb.utils.knnimpute(XTestScale, k=3)"
      ],
      "execution_count": null,
      "outputs": []
    }
  ]
}