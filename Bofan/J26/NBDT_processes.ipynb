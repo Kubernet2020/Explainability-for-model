{
  "nbformat": 4,
  "nbformat_minor": 0,
  "metadata": {
    "colab": {
      "name": "NBDT_processes.ipynb",
      "provenance": [],
      "collapsed_sections": [],
      "machine_shape": "hm"
    },
    "kernelspec": {
      "name": "python3",
      "display_name": "Python 3"
    },
    "accelerator": "GPU"
  },
  "cells": [
    {
      "cell_type": "code",
      "metadata": {
        "colab": {
          "base_uri": "https://localhost:8080/"
        },
        "id": "lV2U8aa2hLRI",
        "outputId": "1f2f4178-c068-4642-a58e-15d4c7199a3a"
      },
      "source": [
        "from google.colab import drive\n",
        "drive.mount('/gdrive')"
      ],
      "execution_count": 1,
      "outputs": [
        {
          "output_type": "stream",
          "text": [
            "Drive already mounted at /gdrive; to attempt to forcibly remount, call drive.mount(\"/gdrive\", force_remount=True).\n"
          ],
          "name": "stdout"
        }
      ]
    },
    {
      "cell_type": "code",
      "metadata": {
        "colab": {
          "base_uri": "https://localhost:8080/"
        },
        "id": "q3J9Kd0OohV_",
        "outputId": "ae09f4af-d4d3-41b2-a907-ec92128dd21a"
      },
      "source": [
        "!pip install pytorchcv"
      ],
      "execution_count": 2,
      "outputs": [
        {
          "output_type": "stream",
          "text": [
            "Requirement already satisfied: pytorchcv in /usr/local/lib/python3.6/dist-packages (0.0.62)\n",
            "Requirement already satisfied: numpy in /usr/local/lib/python3.6/dist-packages (from pytorchcv) (1.19.5)\n",
            "Requirement already satisfied: requests in /usr/local/lib/python3.6/dist-packages (from pytorchcv) (2.23.0)\n",
            "Requirement already satisfied: idna<3,>=2.5 in /usr/local/lib/python3.6/dist-packages (from requests->pytorchcv) (2.10)\n",
            "Requirement already satisfied: urllib3!=1.25.0,!=1.25.1,<1.26,>=1.21.1 in /usr/local/lib/python3.6/dist-packages (from requests->pytorchcv) (1.24.3)\n",
            "Requirement already satisfied: certifi>=2017.4.17 in /usr/local/lib/python3.6/dist-packages (from requests->pytorchcv) (2020.12.5)\n",
            "Requirement already satisfied: chardet<4,>=3.0.2 in /usr/local/lib/python3.6/dist-packages (from requests->pytorchcv) (3.0.4)\n"
          ],
          "name": "stdout"
        }
      ]
    },
    {
      "cell_type": "code",
      "metadata": {
        "id": "7NyxhJl8hQzp"
      },
      "source": [
        "IDS2017URL = \"/gdrive/MyDrive/IDS2017/IDS2017.csv\""
      ],
      "execution_count": 3,
      "outputs": []
    },
    {
      "cell_type": "code",
      "metadata": {
        "id": "1XTq1tmwhpC_"
      },
      "source": [
        "import os\n",
        "os.chdir(\"/gdrive/My Drive/NBDT_env\")"
      ],
      "execution_count": 4,
      "outputs": []
    },
    {
      "cell_type": "code",
      "metadata": {
        "colab": {
          "base_uri": "https://localhost:8080/"
        },
        "id": "_NOkA8KohsD1",
        "outputId": "0f050ba7-c453-4eef-a1a0-8e3b7e8f26f9"
      },
      "source": [
        "!git clone https://github.com/alvinwan/neural-backed-decision-trees.git"
      ],
      "execution_count": 5,
      "outputs": [
        {
          "output_type": "stream",
          "text": [
            "fatal: destination path 'neural-backed-decision-trees' already exists and is not an empty directory.\n"
          ],
          "name": "stdout"
        }
      ]
    },
    {
      "cell_type": "code",
      "metadata": {
        "id": "vIyBb00chy0J"
      },
      "source": [
        "import os \n",
        "os.chdir(\"/gdrive/My Drive/NBDT_env/neural-backed-decision-trees\")"
      ],
      "execution_count": 6,
      "outputs": []
    },
    {
      "cell_type": "code",
      "metadata": {
        "id": "skHKeIhimS_Y"
      },
      "source": [
        "import torch\n",
        "import pandas as pd\n",
        "import tensorflow as tf\n",
        "import numpy as np\n",
        "import torch.nn as nn\n",
        "import random\n",
        "\n",
        "from numpy import vstack\n",
        "from numpy import argmax\n",
        "from pandas import read_csv\n",
        "from sklearn.preprocessing import LabelEncoder\n",
        "from sklearn.metrics import accuracy_score\n",
        "from torch import Tensor\n",
        "from torch.utils.data import Dataset\n",
        "from torch.utils.data import DataLoader\n",
        "from torch.utils.data import random_split\n",
        "from torch.nn import Linear\n",
        "from torch.nn import ReLU\n",
        "from torch.nn import Softmax\n",
        "from torch.nn import Module\n",
        "from torch.optim import SGD\n",
        "from torch.optim import Adam\n",
        "from torch.nn import CrossEntropyLoss\n",
        "from torch.nn.init import kaiming_uniform_\n",
        "from torch.nn.init import xavier_uniform_\n",
        "from torchvision import transforms"
      ],
      "execution_count": 7,
      "outputs": []
    },
    {
      "cell_type": "code",
      "metadata": {
        "id": "WtS65hOlh9Od"
      },
      "source": [
        "class MLP(nn.Module):\n",
        "    # define model elements\n",
        "    def __init__(self, n_inputs):\n",
        "        super(MLP, self).__init__()\n",
        "        # input to first hidden layer\n",
        "        self.hidden1 = Linear(n_inputs, 20)\n",
        "        kaiming_uniform_(self.hidden1.weight, nonlinearity='relu')\n",
        "        self.act1 = ReLU()\n",
        "        # second hidden layer\n",
        "        self.hidden2 = Linear(20, 20)\n",
        "        kaiming_uniform_(self.hidden2.weight, nonlinearity='relu')\n",
        "        self.act2 = ReLU()\n",
        "        # third hidden layer and output\n",
        "        self.hidden3 = Linear(20, 13)\n",
        "        xavier_uniform_(self.hidden3.weight)\n",
        "        self.act3 = Softmax(dim=1)\n",
        "\n",
        "    def forward(self, X):\n",
        "        # input to first hidden layer\n",
        "        X = self.hidden1(X)\n",
        "        X = self.act1(X)\n",
        "\n",
        "        # second hidden layer\n",
        "        X = self.hidden2(X)\n",
        "        X = self.act2(X)\n",
        "\n",
        "        # output layer\n",
        "        X = self.hidden3(X)\n",
        "        X = self.act3(X)\n",
        "\n",
        "        return X"
      ],
      "execution_count": 8,
      "outputs": []
    },
    {
      "cell_type": "code",
      "metadata": {
        "id": "_jbfWGEImGvO"
      },
      "source": [
        "model19 = MLP(19)"
      ],
      "execution_count": 9,
      "outputs": []
    },
    {
      "cell_type": "markdown",
      "metadata": {
        "id": "23W7-igW-MdN"
      },
      "source": [
        "load model state_dict()"
      ]
    },
    {
      "cell_type": "code",
      "metadata": {
        "colab": {
          "base_uri": "https://localhost:8080/"
        },
        "id": "XTQsi-pMl7Wc",
        "outputId": "8181f8f9-a999-4c3a-d7ab-68ea390c4163"
      },
      "source": [
        "model19.load_state_dict(torch.load('/gdrive/MyDrive/IDS2017/feature19_classes13_lr001_batch10000.pth'))"
      ],
      "execution_count": 10,
      "outputs": [
        {
          "output_type": "execute_result",
          "data": {
            "text/plain": [
              "<All keys matched successfully>"
            ]
          },
          "metadata": {
            "tags": []
          },
          "execution_count": 10
        }
      ]
    },
    {
      "cell_type": "markdown",
      "metadata": {
        "id": "XiV3PDXsoV8o"
      },
      "source": [
        "#get wnid from txt"
      ]
    },
    {
      "cell_type": "code",
      "metadata": {
        "colab": {
          "base_uri": "https://localhost:8080/"
        },
        "id": "l0Oxh4pim0Nk",
        "outputId": "281b964e-9938-4de3-954f-c81ea4c4b451"
      },
      "source": [
        "#generate_fname,\n",
        "import pandas as pd\n",
        "import numpy as np\n",
        "import tensorflow as tf\n",
        "from nbdt.thirdparty.nx import write_graph, get_root, get_depth, read_graph, get_leaves\n",
        "from nbdt.thirdparty.wn import get_wnids_from_dataset, get_wnids,  wnid_to_name\n",
        "from nbdt.graph import build_minimal_wordnet_graph, build_random_graph, \\\n",
        "    prune_single_successor_nodes,  \\\n",
        "    get_parser,  get_directory, get_graph_path_from_args, \\\n",
        "    augment_graph, build_induced_graph,  \\\n",
        "    get_roots, synset_to_wnid\n",
        "from nbdt.hierarchy import print_graph_stats, assert_all_wnids_in_graph\n",
        "from nbdt.utils import DATASETS, METHODS, Colors, fwd\n",
        "from nbdt.hierarchy import generate_hierarchy_vis,generate_hierarchy_vis_from\n",
        "\n",
        "import torch\n",
        "import os\n"
      ],
      "execution_count": 11,
      "outputs": [
        {
          "output_type": "stream",
          "text": [
            "not enough values to unpack (expected 2, got 0)\n"
          ],
          "name": "stdout"
        }
      ]
    },
    {
      "cell_type": "code",
      "metadata": {
        "id": "UnxM2vQOqww8"
      },
      "source": [
        "wnids = get_wnids_from_dataset('IDS2017')"
      ],
      "execution_count": 12,
      "outputs": []
    },
    {
      "cell_type": "code",
      "metadata": {
        "colab": {
          "base_uri": "https://localhost:8080/"
        },
        "id": "dQ3WxJ0It5Xa",
        "outputId": "c3988cdc-8e6d-4c41-8f30-dc00c28738dc"
      },
      "source": [
        "wnids"
      ],
      "execution_count": 13,
      "outputs": [
        {
          "output_type": "execute_result",
          "data": {
            "text/plain": [
              "['f05933834',\n",
              " 'f03497657',\n",
              " 'f05254795',\n",
              " 'f03441112',\n",
              " 'f04356056',\n",
              " 'f04453666',\n",
              " 'f03236735',\n",
              " 'f03057021',\n",
              " 'f04254777',\n",
              " 'f03605598',\n",
              " 'f02854739',\n",
              " 'f04231272',\n",
              " 'f05563770']"
            ]
          },
          "metadata": {
            "tags": []
          },
          "execution_count": 13
        }
      ]
    },
    {
      "cell_type": "code",
      "metadata": {
        "id": "9g99JTect57W"
      },
      "source": [
        "G = build_induced_graph(wnids,\n",
        "            dataset='IDS2017',\n",
        "            checkpoint=None,\n",
        "            model=None,\n",
        "            linkage=\"ward\",\n",
        "            affinity=\"euclidean\",\n",
        "            branching_factor=2,\n",
        "            state_dict=model19.state_dict())"
      ],
      "execution_count": 14,
      "outputs": []
    },
    {
      "cell_type": "code",
      "metadata": {
        "colab": {
          "base_uri": "https://localhost:8080/"
        },
        "id": "KIQ4CHyFvV-q",
        "outputId": "6be934a4-3b7c-4ec0-df93-159d709bc705"
      },
      "source": [
        "print_graph_stats(G, 'matched')"
      ],
      "execution_count": 15,
      "outputs": [
        {
          "output_type": "stream",
          "text": [
            "[matched] \t Nodes: 25 \t Depth: 9 \t Max Children: 9\n"
          ],
          "name": "stdout"
        }
      ]
    },
    {
      "cell_type": "code",
      "metadata": {
        "id": "QHr8ZYfKvZzN"
      },
      "source": [
        "assert_all_wnids_in_graph(G, wnids)"
      ],
      "execution_count": 16,
      "outputs": []
    },
    {
      "cell_type": "code",
      "metadata": {
        "id": "oUycpZIbuFzU"
      },
      "source": [
        "no_prune=False"
      ],
      "execution_count": 17,
      "outputs": []
    },
    {
      "cell_type": "code",
      "metadata": {
        "colab": {
          "base_uri": "https://localhost:8080/"
        },
        "id": "z21f6_ZJuEr3",
        "outputId": "3dfbb763-2bb7-46ac-d77d-4c1f34a5009f"
      },
      "source": [
        "if not no_prune:\n",
        "    G = prune_single_successor_nodes(G)\n",
        "    print_graph_stats(G, 'pruned')\n",
        "    assert_all_wnids_in_graph(G, wnids)"
      ],
      "execution_count": 18,
      "outputs": [
        {
          "output_type": "stream",
          "text": [
            "[pruned] \t Nodes: 25 \t Depth: 9 \t Max Children: 9\n"
          ],
          "name": "stdout"
        }
      ]
    },
    {
      "cell_type": "code",
      "metadata": {
        "id": "z9zscnI2vc3N"
      },
      "source": [
        "path = get_graph_path_from_args(\n",
        "    dataset=\"IDS2017\",\n",
        "    method='induced',\n",
        "    seed=0,\n",
        "    branching_factor=2,\n",
        "    extra=0,\n",
        "    no_prune=False,\n",
        "    fname='',\n",
        "    path='',\n",
        "    single_path=False,\n",
        "    induced_linkage='ward',\n",
        "    induced_affinity='euclidean',\n",
        "    checkpoint=None,\n",
        "    arch='MLP19'\n",
        ")\n",
        "write_graph(G, path)"
      ],
      "execution_count": 19,
      "outputs": []
    },
    {
      "cell_type": "code",
      "metadata": {
        "colab": {
          "base_uri": "https://localhost:8080/",
          "height": 35
        },
        "id": "-dQS8Etl2OIH",
        "outputId": "6b52e9cd-ae81-4d5e-c138-529b6fdc99b1"
      },
      "source": [
        "path"
      ],
      "execution_count": 20,
      "outputs": [
        {
          "output_type": "execute_result",
          "data": {
            "application/vnd.google.colaboratory.intrinsic+json": {
              "type": "string"
            },
            "text/plain": [
              "'./nbdt/hierarchies/IDS2017/graph-induced-MLP19.json'"
            ]
          },
          "metadata": {
            "tags": []
          },
          "execution_count": 20
        }
      ]
    },
    {
      "cell_type": "code",
      "metadata": {
        "colab": {
          "base_uri": "https://localhost:8080/"
        },
        "id": "VNkS4ryVmxB_",
        "outputId": "92379414-9c0b-437e-cb4f-8e16b967d024"
      },
      "source": [
        "from nbdt.graph import get_parser\n",
        "\n",
        "parser = get_parser()\n",
        "args = parser.parse_args('--vis-sublabels --vis-zoom=1.25 --dataset=IDS2017 --arch=MLP19'.split())\n",
        "\n",
        "generate_hierarchy_vis(args)\n",
        "\n",
        "Colors.green('==> Wrote tree to {}'.format(path))"
      ],
      "execution_count": 21,
      "outputs": [
        {
          "output_type": "stream",
          "text": [
            "==> Reading from ./nbdt/hierarchies/IDS2017/graph-induced-MLP19.json\n",
            "Found just 1 root.\n",
            "\u001b[32m==> Wrote HTML to ./IDS2017-induced-MLP19.html \u001b[0m\n",
            "\u001b[32m==> Wrote tree to ./nbdt/hierarchies/IDS2017/graph-induced-MLP19.json \u001b[0m\n"
          ],
          "name": "stdout"
        }
      ]
    },
    {
      "cell_type": "code",
      "metadata": {
        "id": "wQA2YNs9wRdt"
      },
      "source": [
        "#G = read_graph(path)\n",
        "# path_html = \"./nbdt/hierarchies/IDS2017/graph-induced-MLP19-noprune.html\"\n",
        "# generate_hierarchy_vis_from(G,None,path_html,verbose=True)\n",
        "# Colors.green('==> Wrote tree to {}'.format(path))"
      ],
      "execution_count": 22,
      "outputs": []
    },
    {
      "cell_type": "markdown",
      "metadata": {
        "id": "Rw3RqB9G6wDe"
      },
      "source": [
        "first stup\n",
        "creat a graph ./nbdt/hierarchies/IDS2017/graph-induced-MLP19-noprune.json \n",
        "\n",
        "step 2\n"
      ]
    },
    {
      "cell_type": "markdown",
      "metadata": {
        "id": "ZU1QVc_hANym"
      },
      "source": [
        "read data\n",
        "select features\n",
        "combine lable"
      ]
    },
    {
      "cell_type": "code",
      "metadata": {
        "colab": {
          "base_uri": "https://localhost:8080/"
        },
        "id": "F_lYUn2Vy2lt",
        "outputId": "935d5990-afcc-403d-a399-69234adec823"
      },
      "source": [
        "df = pd.read_csv(IDS2017URL)\n",
        "df.loc[df['Label'].isin([ 'Web Attack - Sql Injection','Web Attack - XSS', 'Web Attack - Brute Force']), 'Label'] = 'Web Attack'\n",
        "df = df[['Fwd Packet Length Mean', 'Fwd Packet Length Std', 'Flow IAT Max', 'Bwd Packet Length Std', 'Fwd Packet Length Max', 'Flow Bytes/s', 'Total Length of Bwd Packets', 'Fwd Packet Length Mean', 'Flow Duration', 'Flow IAT Min', 'Total Length of Fwd Packets', 'Flow IAT Mean', 'Total Backward Packets', 'Bwd Packet Length Max', 'Flow Packets/s', 'Flow IAT Std', 'Fwd IAT Total', 'Bwd Packet Length Min', 'Fwd Packet Length Min', 'Label']]"
      ],
      "execution_count": 23,
      "outputs": [
        {
          "output_type": "stream",
          "text": [
            "/usr/local/lib/python3.6/dist-packages/IPython/core/interactiveshell.py:2718: DtypeWarning: Columns (84) have mixed types.Specify dtype option on import or set low_memory=False.\n",
            "  interactivity=interactivity, compiler=compiler, result=result)\n"
          ],
          "name": "stderr"
        }
      ]
    },
    {
      "cell_type": "markdown",
      "metadata": {
        "id": "JRUr1WBuiuxA"
      },
      "source": [
        "prepare data"
      ]
    },
    {
      "cell_type": "code",
      "metadata": {
        "id": "PtNAPbuCANDf"
      },
      "source": [
        "df = df.replace([-np.inf, np.inf], np.nan)\n",
        "df = df.dropna()"
      ],
      "execution_count": 24,
      "outputs": []
    },
    {
      "cell_type": "code",
      "metadata": {
        "id": "QQVgtxI6Adc0"
      },
      "source": [
        "X = df.iloc[:, :-1].apply(lambda x: (x-np.mean(x))/np.std(x)).values\n",
        "y = df.values[:, -1]\n",
        "X = X.astype('float32')\n",
        "le = LabelEncoder()\n",
        "le.fit([\"BENIGN\", \"DoS Hulk\", \"PortScan\", \"DDoS\", \"DoS GoldenEye\",\"FTP-Patator\",\"SSH-Patator\",\"DoS slowloris\",\"DoS Slowhttptest\",\"Web Attack\",\"Bot\",\"Infiltration\",\"Heartbleed\"])\n",
        "y = le.transform(y)"
      ],
      "execution_count": 25,
      "outputs": []
    },
    {
      "cell_type": "code",
      "metadata": {
        "colab": {
          "base_uri": "https://localhost:8080/"
        },
        "id": "rbO3vIF9Ap3e",
        "outputId": "ccfa9156-131b-42db-e973-0ed439f547d7"
      },
      "source": [
        "X.shape"
      ],
      "execution_count": 26,
      "outputs": [
        {
          "output_type": "execute_result",
          "data": {
            "text/plain": [
              "(2827876, 19)"
            ]
          },
          "metadata": {
            "tags": []
          },
          "execution_count": 26
        }
      ]
    },
    {
      "cell_type": "code",
      "metadata": {
        "colab": {
          "base_uri": "https://localhost:8080/"
        },
        "id": "kyyxrkuoA1nX",
        "outputId": "991143e4-980d-4a4e-8250-a802205c8be4"
      },
      "source": [
        "y"
      ],
      "execution_count": 27,
      "outputs": [
        {
          "output_type": "execute_result",
          "data": {
            "text/plain": [
              "array([0, 0, 0, ..., 0, 0, 0])"
            ]
          },
          "metadata": {
            "tags": []
          },
          "execution_count": 27
        }
      ]
    },
    {
      "cell_type": "code",
      "metadata": {
        "id": "RkbX6aplBgbr"
      },
      "source": [
        "data1 = np.c_[X,y]"
      ],
      "execution_count": 28,
      "outputs": []
    },
    {
      "cell_type": "code",
      "metadata": {
        "id": "79muZxdXCxou"
      },
      "source": [
        "tv_rate = 0.33\n",
        "train_ds, val_ds = random_split(data1, [len(X) - round(tv_rate * len(X)),round(tv_rate * len(X))])"
      ],
      "execution_count": 29,
      "outputs": []
    },
    {
      "cell_type": "code",
      "metadata": {
        "id": "dNa-TWSkESww"
      },
      "source": [
        "from torch.utils.data import DataLoader\n",
        "batch_size = 10000\n",
        "\n",
        "trainloader = DataLoader(train_ds, batch_size, shuffle=True)\n",
        "testloader = DataLoader(val_ds, batch_size)"
      ],
      "execution_count": 30,
      "outputs": []
    },
    {
      "cell_type": "code",
      "metadata": {
        "id": "8GRgsQdhJvJ_"
      },
      "source": [
        "import os\n",
        "import argparse\n",
        "import numpy as np\n",
        "import torch\n",
        "from torch import nn, optim\n",
        "import torch.nn.functional as F\n",
        "import torch.backends.cudnn as cudnn\n",
        "import torchvision\n",
        "import torchvision.transforms as transforms\n",
        "\n",
        "from nbdt import data, analysis, loss, models, metrics, tree as T\n",
        "from nbdt.utils import progress_bar, generate_checkpoint_fname, generate_kwargs, Colors\n",
        "from nbdt.thirdparty.wn import maybe_install_wordnet\n",
        "from nbdt.models.utils import load_state_dict, make_kwarg_optional\n",
        "from nbdt.tree import Tree"
      ],
      "execution_count": 31,
      "outputs": []
    },
    {
      "cell_type": "code",
      "metadata": {
        "id": "86kECrcNNsAB"
      },
      "source": [
        "datasets = data.myData.names\n",
        "parser = argparse.ArgumentParser(description=\"PyTorch CIFAR Training\")\n",
        "parser.add_argument(\n",
        "    \"--batch-size\", default=512, type=int, help=\"Batch size used for training\"\n",
        ")\n",
        "parser.add_argument(\n",
        "    \"--epochs\",\n",
        "    \"-e\",\n",
        "    default=200,\n",
        "    type=int,\n",
        "    help=\"By default, lr schedule is scaled accordingly\",\n",
        ")\n",
        "parser.add_argument(\"--dataset\", default=\"CIFAR10\", choices=datasets)\n",
        "parser.add_argument(\n",
        "    \"--arch\", default=\"ResNet18\", choices=list(models.get_model_choices())\n",
        ")\n",
        "parser.add_argument(\"--lr\", default=0.1, type=float, help=\"learning rate\")\n",
        "parser.add_argument(\n",
        "    \"--resume\", \"-r\", action=\"store_true\", help=\"resume from checkpoint\"\n",
        ")\n",
        "\n",
        "# extra general options for main script\n",
        "parser.add_argument(\n",
        "    \"--path-resume\", default=\"\", help=\"Overrides checkpoint path generation\"\n",
        ")\n",
        "parser.add_argument(\n",
        "    \"--name\", default=\"\", help=\"Name of experiment. Used for checkpoint filename\"\n",
        ")\n",
        "parser.add_argument(\n",
        "    \"--pretrained\",\n",
        "    action=\"store_true\",\n",
        "    help=\"Download pretrained model. Not all models support this.\",\n",
        ")\n",
        "parser.add_argument(\"--eval\", help=\"eval only\", action=\"store_true\")\n",
        "parser.add_argument(\n",
        "    \"--dataset-test\",\n",
        "    choices=datasets,\n",
        "    help=\"If not set, automatically set to train dataset\",\n",
        ")\n",
        "parser.add_argument(\n",
        "    \"--disable-test-eval\",\n",
        "    help=\"Allows you to run model inference on a test dataset \"\n",
        "    \" different from train dataset. Use an anlayzer to define \"\n",
        "    \"a metric.\",\n",
        "    action=\"store_true\",\n",
        ")\n",
        "\n",
        "# options specific to this project and its dataloaders\n",
        "parser.add_argument(\n",
        "    \"--loss\", choices=loss.names, default=[\"CrossEntropyLoss\"], nargs=\"+\"\n",
        ")\n",
        "parser.add_argument(\"--metric\", choices=metrics.names, default=\"top1\")\n",
        "parser.add_argument(\n",
        "    \"--analysis\", choices=analysis.names, help=\"Run analysis after each epoch\"\n",
        ")\n",
        "\n",
        "# other dataset, loss or analysis specific options\n",
        "data.custom.add_arguments(parser)\n",
        "T.add_arguments(parser)\n",
        "loss.add_arguments(parser)\n",
        "analysis.add_arguments(parser)\n"
      ],
      "execution_count": 32,
      "outputs": []
    },
    {
      "cell_type": "code",
      "metadata": {
        "colab": {
          "base_uri": "https://localhost:8080/"
        },
        "id": "nHridrfb338b",
        "outputId": "e17b5770-8b27-4c15-8540-024deaf7cb51"
      },
      "source": [
        "datasets"
      ],
      "execution_count": 33,
      "outputs": [
        {
          "output_type": "execute_result",
          "data": {
            "text/plain": [
              "('IDS2017',)"
            ]
          },
          "metadata": {
            "tags": []
          },
          "execution_count": 33
        }
      ]
    },
    {
      "cell_type": "code",
      "metadata": {
        "id": "zAoxXg7aUe38"
      },
      "source": [
        "args = parser.parse_args(\"--lr=0.01 --dataset=IDS2017 --arch=MLP19 --hierarchy=induced-MLP19 --pretrained --loss=SoftTreeSupLoss\".split())"
      ],
      "execution_count": 34,
      "outputs": []
    },
    {
      "cell_type": "code",
      "metadata": {
        "colab": {
          "base_uri": "https://localhost:8080/"
        },
        "id": "VDsrfg_CXI3Z",
        "outputId": "7728f382-e3b2-4e49-8831-39b178e68810"
      },
      "source": [
        "loss.set_default_values(args)\n",
        "\n",
        "device = \"cuda\" if torch.cuda.is_available() else \"cpu\"\n",
        "best_acc = 0  # best test accuracy\n",
        "start_epoch = 0  # start from epoch 0 or last checkpoint epoch\n",
        "\n",
        "# Data\n",
        "print(\"==> Preparing data..\")\n",
        "dataset_train = getattr(data, args.dataset)\n",
        "dataset_test = getattr(data, args.dataset_test or args.dataset)"
      ],
      "execution_count": 35,
      "outputs": [
        {
          "output_type": "stream",
          "text": [
            "==> Preparing data..\n"
          ],
          "name": "stdout"
        }
      ]
    },
    {
      "cell_type": "code",
      "metadata": {
        "colab": {
          "base_uri": "https://localhost:8080/"
        },
        "id": "w-OHx10HXTlY",
        "outputId": "420ee947-d969-413d-c778-6d045ea11e91"
      },
      "source": [
        "dataset_train"
      ],
      "execution_count": 36,
      "outputs": [
        {
          "output_type": "execute_result",
          "data": {
            "text/plain": [
              "nbdt.data.myData.IDS2017"
            ]
          },
          "metadata": {
            "tags": []
          },
          "execution_count": 36
        }
      ]
    },
    {
      "cell_type": "code",
      "metadata": {
        "colab": {
          "base_uri": "https://localhost:8080/"
        },
        "id": "OhRRY0tuXW-V",
        "outputId": "b03562f8-1f0b-4631-d1d7-ecd01b5d4bb6"
      },
      "source": [
        "dataset_test"
      ],
      "execution_count": 37,
      "outputs": [
        {
          "output_type": "execute_result",
          "data": {
            "text/plain": [
              "nbdt.data.myData.IDS2017"
            ]
          },
          "metadata": {
            "tags": []
          },
          "execution_count": 37
        }
      ]
    },
    {
      "cell_type": "code",
      "metadata": {
        "id": "GWzzzjN8XcIL"
      },
      "source": [
        "transform_train = dataset_train.transform_train()\n",
        "transform_test = dataset_test.transform_val()"
      ],
      "execution_count": 38,
      "outputs": []
    },
    {
      "cell_type": "code",
      "metadata": {
        "colab": {
          "base_uri": "https://localhost:8080/"
        },
        "id": "iSswcfuQZ2Qa",
        "outputId": "60e4e868-7bed-4700-860d-86fefcfa83f5"
      },
      "source": [
        "dataset_train_kwargs = generate_kwargs(\n",
        "    args,\n",
        "    dataset_train,\n",
        "    name=f\"Dataset {dataset_train.__class__.__name__}\",\n",
        "    globals=locals(),\n",
        ")\n",
        "dataset_test_kwargs = generate_kwargs(\n",
        "    args,\n",
        "    dataset_test,\n",
        "    name=f\"Dataset {dataset_test.__class__.__name__}\",\n",
        "    globals=locals(),\n",
        ")\n",
        "trainset = dataset_train(\n",
        "    **dataset_train_kwargs,\n",
        "    transform=True,\n",
        ")\n",
        "testset = dataset_test(\n",
        "    **dataset_test_kwargs,\n",
        "    transform=True,\n",
        ")"
      ],
      "execution_count": 39,
      "outputs": [
        {
          "output_type": "stream",
          "text": [
            "/usr/local/lib/python3.6/dist-packages/IPython/core/interactiveshell.py:2822: DtypeWarning: Columns (84) have mixed types.Specify dtype option on import or set low_memory=False.\n",
            "  if self.run_code(code, result):\n",
            "/usr/local/lib/python3.6/dist-packages/IPython/core/interactiveshell.py:2822: DtypeWarning: Columns (84) have mixed types.Specify dtype option on import or set low_memory=False.\n",
            "  if self.run_code(code, result):\n"
          ],
          "name": "stderr"
        }
      ]
    },
    {
      "cell_type": "code",
      "metadata": {
        "id": "u91k7ULuiLtC"
      },
      "source": [
        "assert trainset.classes == testset.classes or args.disable_test_eval, (\n",
        "    trainset.classes,\n",
        "    testset.classes,\n",
        ")"
      ],
      "execution_count": 40,
      "outputs": []
    },
    {
      "cell_type": "code",
      "metadata": {
        "colab": {
          "base_uri": "https://localhost:8080/"
        },
        "id": "-mAQ7HI8iOW_",
        "outputId": "0ae58fdb-3a27-41ba-a2b1-afa3b771c5de"
      },
      "source": [
        "trainset.classes"
      ],
      "execution_count": 41,
      "outputs": [
        {
          "output_type": "execute_result",
          "data": {
            "text/plain": [
              "['BENIGN',\n",
              " 'DoS Hulk',\n",
              " 'PortScan',\n",
              " 'DDoS',\n",
              " 'DoS GoldenEye',\n",
              " 'FTP-Patator',\n",
              " 'SSH-Patator',\n",
              " 'DoS slowloris',\n",
              " 'DoS Slowhttptest',\n",
              " 'Bot']"
            ]
          },
          "metadata": {
            "tags": []
          },
          "execution_count": 41
        }
      ]
    },
    {
      "cell_type": "code",
      "metadata": {
        "id": "7GKxmqZdiP4z"
      },
      "source": [
        "trainloader = torch.utils.data.DataLoader(\n",
        "        trainset, batch_size=args.batch_size, shuffle=True, num_workers=2\n",
        "    )\n",
        "testloader = torch.utils.data.DataLoader(\n",
        "        testset, batch_size=100, shuffle=False, num_workers=2\n",
        "    )\n"
      ],
      "execution_count": 42,
      "outputs": []
    },
    {
      "cell_type": "code",
      "metadata": {
        "id": "Boh1DTJAiWS7"
      },
      "source": [
        "model = getattr(models, args.arch)"
      ],
      "execution_count": 43,
      "outputs": []
    },
    {
      "cell_type": "code",
      "metadata": {
        "id": "lchzhy0rifiW"
      },
      "source": [
        "net = model()"
      ],
      "execution_count": 44,
      "outputs": []
    },
    {
      "cell_type": "code",
      "metadata": {
        "colab": {
          "base_uri": "https://localhost:8080/"
        },
        "id": "C-wcEMrTkFSF",
        "outputId": "a45721a2-a5e1-46f7-d4bc-d69b8c984266"
      },
      "source": [
        "args"
      ],
      "execution_count": 48,
      "outputs": [
        {
          "output_type": "execute_result",
          "data": {
            "text/plain": [
              "Namespace(analysis=None, arch='MLP19', batch_size=512, dataset='IDS2017', dataset_test=None, disable_test_eval=False, epochs=200, eval=False, exclude_labels=None, hierarchy='induced-MLP19', include_classes=None, include_labels=None, loss=['SoftTreeSupLoss'], lr=0.01, metric='top1', name='', path_graph='/gdrive/MyDrive/NBDT_env/neural-backed-decision-trees/nbdt/hierarchies/IDS2017/graph-induced-MLP19.json', path_resume='', path_wnids='/gdrive/MyDrive/NBDT_env/neural-backed-decision-trees/nbdt/wnids/IDS2017.txt', pretrained=True, probability_labels=None, resume=False, save_k=20, superclass_wnids=None, tree_start_epochs=None, tree_supervision_weight=1, tree_supervision_weight_end=None, tree_supervision_weight_power=None, tree_update_end_epochs=None, tree_update_every_epochs=None, visualize_decision_node_wnid=None, xent_weight=None, xent_weight_end=None, xent_weight_power=None)"
            ]
          },
          "metadata": {
            "tags": []
          },
          "execution_count": 48
        }
      ]
    },
    {
      "cell_type": "code",
      "metadata": {
        "colab": {
          "base_uri": "https://localhost:8080/",
          "height": 341
        },
        "id": "4fApA8KQj65Y",
        "outputId": "b20a7bcc-4804-47a7-8677-93b18a181245"
      },
      "source": [
        "tree = Tree.create_from_args(args, classes=trainset.classes)"
      ],
      "execution_count": 51,
      "outputs": [
        {
          "output_type": "error",
          "ename": "IndexError",
          "evalue": "ignored",
          "traceback": [
            "\u001b[0;31m---------------------------------------------------------------------------\u001b[0m",
            "\u001b[0;31mIndexError\u001b[0m                                Traceback (most recent call last)",
            "\u001b[0;32m<ipython-input-51-125a56acad94>\u001b[0m in \u001b[0;36m<module>\u001b[0;34m()\u001b[0m\n\u001b[0;32m----> 1\u001b[0;31m \u001b[0mtree\u001b[0m \u001b[0;34m=\u001b[0m \u001b[0mTree\u001b[0m\u001b[0;34m.\u001b[0m\u001b[0mcreate_from_args\u001b[0m\u001b[0;34m(\u001b[0m\u001b[0margs\u001b[0m\u001b[0;34m,\u001b[0m \u001b[0mclasses\u001b[0m\u001b[0;34m=\u001b[0m\u001b[0mtrainset\u001b[0m\u001b[0;34m.\u001b[0m\u001b[0mclasses\u001b[0m\u001b[0;34m)\u001b[0m\u001b[0;34m\u001b[0m\u001b[0;34m\u001b[0m\u001b[0m\n\u001b[0m",
            "\u001b[0;32m/gdrive/MyDrive/NBDT_env/neural-backed-decision-trees/nbdt/tree.py\u001b[0m in \u001b[0;36mcreate_from_args\u001b[0;34m(cls, args, classes)\u001b[0m\n\u001b[1;32m    197\u001b[0m             \u001b[0margs\u001b[0m\u001b[0;34m.\u001b[0m\u001b[0mpath_wnids\u001b[0m\u001b[0;34m,\u001b[0m\u001b[0;34m\u001b[0m\u001b[0;34m\u001b[0m\u001b[0m\n\u001b[1;32m    198\u001b[0m             \u001b[0mclasses\u001b[0m\u001b[0;34m=\u001b[0m\u001b[0mclasses\u001b[0m\u001b[0;34m,\u001b[0m\u001b[0;34m\u001b[0m\u001b[0;34m\u001b[0m\u001b[0m\n\u001b[0;32m--> 199\u001b[0;31m             \u001b[0mhierarchy\u001b[0m\u001b[0;34m=\u001b[0m\u001b[0margs\u001b[0m\u001b[0;34m.\u001b[0m\u001b[0mhierarchy\u001b[0m\u001b[0;34m,\u001b[0m\u001b[0;34m\u001b[0m\u001b[0;34m\u001b[0m\u001b[0m\n\u001b[0m\u001b[1;32m    200\u001b[0m         )\n\u001b[1;32m    201\u001b[0m \u001b[0;34m\u001b[0m\u001b[0m\n",
            "\u001b[0;32m/gdrive/MyDrive/NBDT_env/neural-backed-decision-trees/nbdt/tree.py\u001b[0m in \u001b[0;36m__init__\u001b[0;34m(self, dataset, path_graph, path_wnids, classes, hierarchy)\u001b[0m\n\u001b[1;32m    156\u001b[0m             \u001b[0mclasses\u001b[0m \u001b[0;34m=\u001b[0m \u001b[0mdataset_to_dummy_classes\u001b[0m\u001b[0;34m(\u001b[0m\u001b[0mdataset\u001b[0m\u001b[0;34m)\u001b[0m\u001b[0;34m\u001b[0m\u001b[0;34m\u001b[0m\u001b[0m\n\u001b[1;32m    157\u001b[0m \u001b[0;34m\u001b[0m\u001b[0m\n\u001b[0;32m--> 158\u001b[0;31m         \u001b[0mself\u001b[0m\u001b[0;34m.\u001b[0m\u001b[0mload_hierarchy\u001b[0m\u001b[0;34m(\u001b[0m\u001b[0mdataset\u001b[0m\u001b[0;34m,\u001b[0m \u001b[0mpath_graph\u001b[0m\u001b[0;34m,\u001b[0m \u001b[0mpath_wnids\u001b[0m\u001b[0;34m,\u001b[0m \u001b[0mclasses\u001b[0m\u001b[0;34m)\u001b[0m\u001b[0;34m\u001b[0m\u001b[0;34m\u001b[0m\u001b[0m\n\u001b[0m\u001b[1;32m    159\u001b[0m \u001b[0;34m\u001b[0m\u001b[0m\n\u001b[1;32m    160\u001b[0m     \u001b[0;32mdef\u001b[0m \u001b[0mload_hierarchy\u001b[0m\u001b[0;34m(\u001b[0m\u001b[0mself\u001b[0m\u001b[0;34m,\u001b[0m \u001b[0mdataset\u001b[0m\u001b[0;34m,\u001b[0m \u001b[0mpath_graph\u001b[0m\u001b[0;34m,\u001b[0m \u001b[0mpath_wnids\u001b[0m\u001b[0;34m,\u001b[0m \u001b[0mclasses\u001b[0m\u001b[0;34m)\u001b[0m\u001b[0;34m:\u001b[0m\u001b[0;34m\u001b[0m\u001b[0;34m\u001b[0m\u001b[0m\n",
            "\u001b[0;32m/gdrive/MyDrive/NBDT_env/neural-backed-decision-trees/nbdt/tree.py\u001b[0m in \u001b[0;36mload_hierarchy\u001b[0;34m(self, dataset, path_graph, path_wnids, classes)\u001b[0m\n\u001b[1;32m    169\u001b[0m         }\n\u001b[1;32m    170\u001b[0m         \u001b[0mself\u001b[0m\u001b[0;34m.\u001b[0m\u001b[0mwnid_to_class_index\u001b[0m \u001b[0;34m=\u001b[0m \u001b[0;34m{\u001b[0m\u001b[0mwnid\u001b[0m\u001b[0;34m:\u001b[0m \u001b[0mi\u001b[0m \u001b[0;32mfor\u001b[0m \u001b[0mi\u001b[0m\u001b[0;34m,\u001b[0m \u001b[0mwnid\u001b[0m \u001b[0;32min\u001b[0m \u001b[0menumerate\u001b[0m\u001b[0;34m(\u001b[0m\u001b[0mself\u001b[0m\u001b[0;34m.\u001b[0m\u001b[0mwnids_leaves\u001b[0m\u001b[0;34m)\u001b[0m\u001b[0;34m}\u001b[0m\u001b[0;34m\u001b[0m\u001b[0;34m\u001b[0m\u001b[0m\n\u001b[0;32m--> 171\u001b[0;31m         \u001b[0mself\u001b[0m\u001b[0;34m.\u001b[0m\u001b[0mwnid_to_node\u001b[0m \u001b[0;34m=\u001b[0m \u001b[0mself\u001b[0m\u001b[0;34m.\u001b[0m\u001b[0mget_wnid_to_node\u001b[0m\u001b[0;34m(\u001b[0m\u001b[0;34m)\u001b[0m\u001b[0;34m\u001b[0m\u001b[0;34m\u001b[0m\u001b[0m\n\u001b[0m\u001b[1;32m    172\u001b[0m         \u001b[0mself\u001b[0m\u001b[0;34m.\u001b[0m\u001b[0mnodes\u001b[0m \u001b[0;34m=\u001b[0m \u001b[0;34m[\u001b[0m\u001b[0mself\u001b[0m\u001b[0;34m.\u001b[0m\u001b[0mwnid_to_node\u001b[0m\u001b[0;34m[\u001b[0m\u001b[0mwnid\u001b[0m\u001b[0;34m]\u001b[0m \u001b[0;32mfor\u001b[0m \u001b[0mwnid\u001b[0m \u001b[0;32min\u001b[0m \u001b[0msorted\u001b[0m\u001b[0;34m(\u001b[0m\u001b[0mself\u001b[0m\u001b[0;34m.\u001b[0m\u001b[0mwnid_to_node\u001b[0m\u001b[0;34m)\u001b[0m\u001b[0;34m]\u001b[0m\u001b[0;34m\u001b[0m\u001b[0;34m\u001b[0m\u001b[0m\n\u001b[1;32m    173\u001b[0m         \u001b[0mself\u001b[0m\u001b[0;34m.\u001b[0m\u001b[0minodes\u001b[0m \u001b[0;34m=\u001b[0m \u001b[0;34m[\u001b[0m\u001b[0mnode\u001b[0m \u001b[0;32mfor\u001b[0m \u001b[0mnode\u001b[0m \u001b[0;32min\u001b[0m \u001b[0mself\u001b[0m\u001b[0;34m.\u001b[0m\u001b[0mnodes\u001b[0m \u001b[0;32mif\u001b[0m \u001b[0;32mnot\u001b[0m \u001b[0mnode\u001b[0m\u001b[0;34m.\u001b[0m\u001b[0mis_leaf\u001b[0m\u001b[0;34m(\u001b[0m\u001b[0;34m)\u001b[0m\u001b[0;34m]\u001b[0m\u001b[0;34m\u001b[0m\u001b[0;34m\u001b[0m\u001b[0m\n",
            "\u001b[0;32m/gdrive/MyDrive/NBDT_env/neural-backed-decision-trees/nbdt/tree.py\u001b[0m in \u001b[0;36mget_wnid_to_node\u001b[0;34m(self)\u001b[0m\n\u001b[1;32m    210\u001b[0m         \u001b[0mwnid_to_node\u001b[0m \u001b[0;34m=\u001b[0m \u001b[0;34m{\u001b[0m\u001b[0;34m}\u001b[0m\u001b[0;34m\u001b[0m\u001b[0;34m\u001b[0m\u001b[0m\n\u001b[1;32m    211\u001b[0m         \u001b[0;32mfor\u001b[0m \u001b[0mwnid\u001b[0m \u001b[0;32min\u001b[0m \u001b[0mself\u001b[0m\u001b[0;34m.\u001b[0m\u001b[0mG\u001b[0m\u001b[0;34m:\u001b[0m\u001b[0;34m\u001b[0m\u001b[0;34m\u001b[0m\u001b[0m\n\u001b[0;32m--> 212\u001b[0;31m             \u001b[0mwnid_to_node\u001b[0m\u001b[0;34m[\u001b[0m\u001b[0mwnid\u001b[0m\u001b[0;34m]\u001b[0m \u001b[0;34m=\u001b[0m \u001b[0mNode\u001b[0m\u001b[0;34m(\u001b[0m\u001b[0mself\u001b[0m\u001b[0;34m,\u001b[0m \u001b[0mwnid\u001b[0m\u001b[0;34m)\u001b[0m\u001b[0;34m\u001b[0m\u001b[0;34m\u001b[0m\u001b[0m\n\u001b[0m\u001b[1;32m    213\u001b[0m         \u001b[0;32mreturn\u001b[0m \u001b[0mwnid_to_node\u001b[0m\u001b[0;34m\u001b[0m\u001b[0;34m\u001b[0m\u001b[0m\n\u001b[1;32m    214\u001b[0m \u001b[0;34m\u001b[0m\u001b[0m\n",
            "\u001b[0;32m/gdrive/MyDrive/NBDT_env/neural-backed-decision-trees/nbdt/tree.py\u001b[0m in \u001b[0;36m__init__\u001b[0;34m(self, tree, wnid, other_class)\u001b[0m\n\u001b[1;32m     56\u001b[0m             \u001b[0mself\u001b[0m\u001b[0;34m.\u001b[0m\u001b[0mchild_index_to_class_index\u001b[0m\u001b[0;34m,\u001b[0m\u001b[0;34m\u001b[0m\u001b[0;34m\u001b[0m\u001b[0m\n\u001b[1;32m     57\u001b[0m         ) = self.build_class_mappings()\n\u001b[0;32m---> 58\u001b[0;31m         \u001b[0mself\u001b[0m\u001b[0;34m.\u001b[0m\u001b[0mclasses\u001b[0m \u001b[0;34m=\u001b[0m \u001b[0mself\u001b[0m\u001b[0;34m.\u001b[0m\u001b[0mbuild_classes\u001b[0m\u001b[0;34m(\u001b[0m\u001b[0;34m)\u001b[0m\u001b[0;34m\u001b[0m\u001b[0;34m\u001b[0m\u001b[0m\n\u001b[0m\u001b[1;32m     59\u001b[0m \u001b[0;34m\u001b[0m\u001b[0m\n\u001b[1;32m     60\u001b[0m         assert len(self.classes) == self.num_classes, (\n",
            "\u001b[0;32m/gdrive/MyDrive/NBDT_env/neural-backed-decision-trees/nbdt/tree.py\u001b[0m in \u001b[0;36mbuild_classes\u001b[0;34m(self)\u001b[0m\n\u001b[1;32m    129\u001b[0m             \u001b[0;34m\",\"\u001b[0m\u001b[0;34m.\u001b[0m\u001b[0mjoin\u001b[0m\u001b[0;34m(\u001b[0m\u001b[0;34m[\u001b[0m\u001b[0mself\u001b[0m\u001b[0;34m.\u001b[0m\u001b[0moriginal_classes\u001b[0m\u001b[0;34m[\u001b[0m\u001b[0mold\u001b[0m\u001b[0;34m]\u001b[0m \u001b[0;32mfor\u001b[0m \u001b[0mold\u001b[0m \u001b[0;32min\u001b[0m \u001b[0mold_indices\u001b[0m\u001b[0;34m]\u001b[0m\u001b[0;34m)\u001b[0m\u001b[0;34m\u001b[0m\u001b[0;34m\u001b[0m\u001b[0m\n\u001b[1;32m    130\u001b[0m             for new_index, old_indices in sorted(\n\u001b[0;32m--> 131\u001b[0;31m                 \u001b[0mself\u001b[0m\u001b[0;34m.\u001b[0m\u001b[0mchild_index_to_class_index\u001b[0m\u001b[0;34m.\u001b[0m\u001b[0mitems\u001b[0m\u001b[0;34m(\u001b[0m\u001b[0;34m)\u001b[0m\u001b[0;34m,\u001b[0m \u001b[0mkey\u001b[0m\u001b[0;34m=\u001b[0m\u001b[0;32mlambda\u001b[0m \u001b[0mt\u001b[0m\u001b[0;34m:\u001b[0m \u001b[0mt\u001b[0m\u001b[0;34m[\u001b[0m\u001b[0;36m0\u001b[0m\u001b[0;34m]\u001b[0m\u001b[0;34m\u001b[0m\u001b[0;34m\u001b[0m\u001b[0m\n\u001b[0m\u001b[1;32m    132\u001b[0m             )\n\u001b[1;32m    133\u001b[0m         ]\n",
            "\u001b[0;32m/gdrive/MyDrive/NBDT_env/neural-backed-decision-trees/nbdt/tree.py\u001b[0m in \u001b[0;36m<listcomp>\u001b[0;34m(.0)\u001b[0m\n\u001b[1;32m    128\u001b[0m         return [\n\u001b[1;32m    129\u001b[0m             \u001b[0;34m\",\"\u001b[0m\u001b[0;34m.\u001b[0m\u001b[0mjoin\u001b[0m\u001b[0;34m(\u001b[0m\u001b[0;34m[\u001b[0m\u001b[0mself\u001b[0m\u001b[0;34m.\u001b[0m\u001b[0moriginal_classes\u001b[0m\u001b[0;34m[\u001b[0m\u001b[0mold\u001b[0m\u001b[0;34m]\u001b[0m \u001b[0;32mfor\u001b[0m \u001b[0mold\u001b[0m \u001b[0;32min\u001b[0m \u001b[0mold_indices\u001b[0m\u001b[0;34m]\u001b[0m\u001b[0;34m)\u001b[0m\u001b[0;34m\u001b[0m\u001b[0;34m\u001b[0m\u001b[0m\n\u001b[0;32m--> 130\u001b[0;31m             for new_index, old_indices in sorted(\n\u001b[0m\u001b[1;32m    131\u001b[0m                 \u001b[0mself\u001b[0m\u001b[0;34m.\u001b[0m\u001b[0mchild_index_to_class_index\u001b[0m\u001b[0;34m.\u001b[0m\u001b[0mitems\u001b[0m\u001b[0;34m(\u001b[0m\u001b[0;34m)\u001b[0m\u001b[0;34m,\u001b[0m \u001b[0mkey\u001b[0m\u001b[0;34m=\u001b[0m\u001b[0;32mlambda\u001b[0m \u001b[0mt\u001b[0m\u001b[0;34m:\u001b[0m \u001b[0mt\u001b[0m\u001b[0;34m[\u001b[0m\u001b[0;36m0\u001b[0m\u001b[0;34m]\u001b[0m\u001b[0;34m\u001b[0m\u001b[0;34m\u001b[0m\u001b[0m\n\u001b[1;32m    132\u001b[0m             )\n",
            "\u001b[0;32m/gdrive/MyDrive/NBDT_env/neural-backed-decision-trees/nbdt/tree.py\u001b[0m in \u001b[0;36m<listcomp>\u001b[0;34m(.0)\u001b[0m\n\u001b[1;32m    127\u001b[0m     \u001b[0;32mdef\u001b[0m \u001b[0mbuild_classes\u001b[0m\u001b[0;34m(\u001b[0m\u001b[0mself\u001b[0m\u001b[0;34m)\u001b[0m\u001b[0;34m:\u001b[0m\u001b[0;34m\u001b[0m\u001b[0;34m\u001b[0m\u001b[0m\n\u001b[1;32m    128\u001b[0m         return [\n\u001b[0;32m--> 129\u001b[0;31m             \u001b[0;34m\",\"\u001b[0m\u001b[0;34m.\u001b[0m\u001b[0mjoin\u001b[0m\u001b[0;34m(\u001b[0m\u001b[0;34m[\u001b[0m\u001b[0mself\u001b[0m\u001b[0;34m.\u001b[0m\u001b[0moriginal_classes\u001b[0m\u001b[0;34m[\u001b[0m\u001b[0mold\u001b[0m\u001b[0;34m]\u001b[0m \u001b[0;32mfor\u001b[0m \u001b[0mold\u001b[0m \u001b[0;32min\u001b[0m \u001b[0mold_indices\u001b[0m\u001b[0;34m]\u001b[0m\u001b[0;34m)\u001b[0m\u001b[0;34m\u001b[0m\u001b[0;34m\u001b[0m\u001b[0m\n\u001b[0m\u001b[1;32m    130\u001b[0m             for new_index, old_indices in sorted(\n\u001b[1;32m    131\u001b[0m                 \u001b[0mself\u001b[0m\u001b[0;34m.\u001b[0m\u001b[0mchild_index_to_class_index\u001b[0m\u001b[0;34m.\u001b[0m\u001b[0mitems\u001b[0m\u001b[0;34m(\u001b[0m\u001b[0;34m)\u001b[0m\u001b[0;34m,\u001b[0m \u001b[0mkey\u001b[0m\u001b[0;34m=\u001b[0m\u001b[0;32mlambda\u001b[0m \u001b[0mt\u001b[0m\u001b[0;34m:\u001b[0m \u001b[0mt\u001b[0m\u001b[0;34m[\u001b[0m\u001b[0;36m0\u001b[0m\u001b[0;34m]\u001b[0m\u001b[0;34m\u001b[0m\u001b[0;34m\u001b[0m\u001b[0m\n",
            "\u001b[0;31mIndexError\u001b[0m: list index out of range"
          ]
        }
      ]
    },
    {
      "cell_type": "code",
      "metadata": {
        "colab": {
          "base_uri": "https://localhost:8080/",
          "height": 490
        },
        "id": "biosJ2Ibjzcf",
        "outputId": "f6a95383-8989-40d5-a550-e3591afd4800"
      },
      "source": [
        "criterion = None\n",
        "for _loss in args.loss:\n",
        "    if criterion is None and not hasattr(nn, _loss):\n",
        "        criterion = nn.CrossEntropyLoss()\n",
        "    class_criterion = getattr(loss, _loss)\n",
        "    loss_kwargs = generate_kwargs(\n",
        "        args,\n",
        "        class_criterion,\n",
        "        name=f\"Loss {args.loss}\",\n",
        "        globals=locals(),\n",
        "    )\n",
        "criterion = class_criterion(**loss_kwargs)\n",
        "\n"
      ],
      "execution_count": 50,
      "outputs": [
        {
          "output_type": "stream",
          "text": [
            "\u001b[36mclasses:\t(callable) \u001b[0m\n",
            "\u001b[36mcriterion:\t(callable) \u001b[0m\n",
            "\u001b[36mdataset:\t(callable) \u001b[0m\n",
            "\u001b[36mhierarchy:\tinduced-MLP19 \u001b[0m\n",
            "\u001b[36mpath_graph:\t/gdrive/MyDrive/NBDT_env/neural-backed-decision-trees/nbdt/hierarchies/IDS2017/graph-induced-MLP19.json \u001b[0m\n",
            "\u001b[36mpath_wnids:\t/gdrive/MyDrive/NBDT_env/neural-backed-decision-trees/nbdt/wnids/IDS2017.txt \u001b[0m\n"
          ],
          "name": "stdout"
        },
        {
          "output_type": "error",
          "ename": "TypeError",
          "evalue": "ignored",
          "traceback": [
            "\u001b[0;31m---------------------------------------------------------------------------\u001b[0m",
            "\u001b[0;31mTypeError\u001b[0m                                 Traceback (most recent call last)",
            "\u001b[0;32m<ipython-input-50-4ede417584c5>\u001b[0m in \u001b[0;36m<module>\u001b[0;34m()\u001b[0m\n\u001b[1;32m      8\u001b[0m         \u001b[0mclass_criterion\u001b[0m\u001b[0;34m,\u001b[0m\u001b[0;34m\u001b[0m\u001b[0;34m\u001b[0m\u001b[0m\n\u001b[1;32m      9\u001b[0m         \u001b[0mname\u001b[0m\u001b[0;34m=\u001b[0m\u001b[0;34mf\"Loss {args.loss}\"\u001b[0m\u001b[0;34m,\u001b[0m\u001b[0;34m\u001b[0m\u001b[0;34m\u001b[0m\u001b[0m\n\u001b[0;32m---> 10\u001b[0;31m         \u001b[0mglobals\u001b[0m\u001b[0;34m=\u001b[0m\u001b[0mlocals\u001b[0m\u001b[0;34m(\u001b[0m\u001b[0;34m)\u001b[0m\u001b[0;34m,\u001b[0m\u001b[0;34m\u001b[0m\u001b[0;34m\u001b[0m\u001b[0m\n\u001b[0m\u001b[1;32m     11\u001b[0m     )\n\u001b[1;32m     12\u001b[0m \u001b[0mcriterion\u001b[0m \u001b[0;34m=\u001b[0m \u001b[0mclass_criterion\u001b[0m\u001b[0;34m(\u001b[0m\u001b[0;34m**\u001b[0m\u001b[0mloss_kwargs\u001b[0m\u001b[0;34m)\u001b[0m\u001b[0;34m\u001b[0m\u001b[0;34m\u001b[0m\u001b[0m\n",
            "\u001b[0;32m/gdrive/MyDrive/NBDT_env/neural-backed-decision-trees/nbdt/utils.py\u001b[0m in \u001b[0;36mgenerate_kwargs\u001b[0;34m(args, object, name, globals, kwargs)\u001b[0m\n\u001b[1;32m     91\u001b[0m         \u001b[0mvalue\u001b[0m \u001b[0;34m=\u001b[0m \u001b[0mgetattr\u001b[0m\u001b[0;34m(\u001b[0m\u001b[0margs\u001b[0m\u001b[0;34m,\u001b[0m \u001b[0mkey\u001b[0m\u001b[0;34m,\u001b[0m \u001b[0;32mNone\u001b[0m\u001b[0;34m)\u001b[0m\u001b[0;34m\u001b[0m\u001b[0;34m\u001b[0m\u001b[0m\n\u001b[1;32m     92\u001b[0m         \u001b[0;32mif\u001b[0m \u001b[0mcallable\u001b[0m\u001b[0;34m(\u001b[0m\u001b[0maccepts_key\u001b[0m\u001b[0;34m)\u001b[0m\u001b[0;34m:\u001b[0m\u001b[0;34m\u001b[0m\u001b[0;34m\u001b[0m\u001b[0m\n\u001b[0;32m---> 93\u001b[0;31m             \u001b[0mkwargs\u001b[0m\u001b[0;34m[\u001b[0m\u001b[0mkey\u001b[0m\u001b[0;34m]\u001b[0m \u001b[0;34m=\u001b[0m \u001b[0maccepts_key\u001b[0m\u001b[0;34m(\u001b[0m\u001b[0;34m**\u001b[0m\u001b[0mglobals\u001b[0m\u001b[0;34m)\u001b[0m\u001b[0;34m\u001b[0m\u001b[0;34m\u001b[0m\u001b[0m\n\u001b[0m\u001b[1;32m     94\u001b[0m             \u001b[0mColors\u001b[0m\u001b[0;34m.\u001b[0m\u001b[0mcyan\u001b[0m\u001b[0;34m(\u001b[0m\u001b[0;34mf\"{key}:\\t(callable)\"\u001b[0m\u001b[0;34m)\u001b[0m\u001b[0;34m\u001b[0m\u001b[0;34m\u001b[0m\u001b[0m\n\u001b[1;32m     95\u001b[0m         \u001b[0;32melif\u001b[0m \u001b[0maccepts_key\u001b[0m \u001b[0;32mand\u001b[0m \u001b[0mvalue\u001b[0m \u001b[0;32mis\u001b[0m \u001b[0;32mnot\u001b[0m \u001b[0;32mNone\u001b[0m\u001b[0;34m:\u001b[0m\u001b[0;34m\u001b[0m\u001b[0;34m\u001b[0m\u001b[0m\n",
            "\u001b[0;31mTypeError\u001b[0m: <lambda>() missing 1 required positional argument: 'tree'"
          ]
        }
      ]
    }
  ]
}